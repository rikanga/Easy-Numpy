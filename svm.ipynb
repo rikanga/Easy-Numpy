{
  "nbformat": 4,
  "nbformat_minor": 0,
  "metadata": {
    "colab": {
      "name": "svm",
      "provenance": [],
      "authorship_tag": "ABX9TyN7l+679yeN3v5PMqnUH5wo",
      "include_colab_link": true
    },
    "kernelspec": {
      "name": "python3",
      "display_name": "Python 3"
    },
    "language_info": {
      "name": "python"
    }
  },
  "cells": [
    {
      "cell_type": "markdown",
      "metadata": {
        "id": "view-in-github",
        "colab_type": "text"
      },
      "source": [
        "<a href=\"https://colab.research.google.com/github/rikanga/Easy-Numpy/blob/main/svm.ipynb\" target=\"_parent\"><img src=\"https://colab.research.google.com/assets/colab-badge.svg\" alt=\"Open In Colab\"/></a>"
      ]
    },
    {
      "cell_type": "code",
      "execution_count": 2,
      "metadata": {
        "colab": {
          "base_uri": "https://localhost:8080/"
        },
        "id": "9BpAKzaJGEGm",
        "outputId": "e5137598-d7c0-4f2d-fde7-c5de62f2fea3"
      },
      "outputs": [
        {
          "output_type": "stream",
          "name": "stdout",
          "text": [
            "Collecting mglearn\n",
            "  Downloading mglearn-0.1.9.tar.gz (540 kB)\n",
            "\u001b[?25l\r\u001b[K     |▋                               | 10 kB 18.5 MB/s eta 0:00:01\r\u001b[K     |█▏                              | 20 kB 25.5 MB/s eta 0:00:01\r\u001b[K     |█▉                              | 30 kB 19.7 MB/s eta 0:00:01\r\u001b[K     |██▍                             | 40 kB 12.9 MB/s eta 0:00:01\r\u001b[K     |███                             | 51 kB 9.3 MB/s eta 0:00:01\r\u001b[K     |███▋                            | 61 kB 9.8 MB/s eta 0:00:01\r\u001b[K     |████▎                           | 71 kB 9.1 MB/s eta 0:00:01\r\u001b[K     |████▉                           | 81 kB 10.0 MB/s eta 0:00:01\r\u001b[K     |█████▌                          | 92 kB 10.8 MB/s eta 0:00:01\r\u001b[K     |██████                          | 102 kB 8.8 MB/s eta 0:00:01\r\u001b[K     |██████▊                         | 112 kB 8.8 MB/s eta 0:00:01\r\u001b[K     |███████▎                        | 122 kB 8.8 MB/s eta 0:00:01\r\u001b[K     |███████▉                        | 133 kB 8.8 MB/s eta 0:00:01\r\u001b[K     |████████▌                       | 143 kB 8.8 MB/s eta 0:00:01\r\u001b[K     |█████████                       | 153 kB 8.8 MB/s eta 0:00:01\r\u001b[K     |█████████▊                      | 163 kB 8.8 MB/s eta 0:00:01\r\u001b[K     |██████████▎                     | 174 kB 8.8 MB/s eta 0:00:01\r\u001b[K     |███████████                     | 184 kB 8.8 MB/s eta 0:00:01\r\u001b[K     |███████████▌                    | 194 kB 8.8 MB/s eta 0:00:01\r\u001b[K     |████████████▏                   | 204 kB 8.8 MB/s eta 0:00:01\r\u001b[K     |████████████▊                   | 215 kB 8.8 MB/s eta 0:00:01\r\u001b[K     |█████████████▍                  | 225 kB 8.8 MB/s eta 0:00:01\r\u001b[K     |██████████████                  | 235 kB 8.8 MB/s eta 0:00:01\r\u001b[K     |██████████████▋                 | 245 kB 8.8 MB/s eta 0:00:01\r\u001b[K     |███████████████▏                | 256 kB 8.8 MB/s eta 0:00:01\r\u001b[K     |███████████████▊                | 266 kB 8.8 MB/s eta 0:00:01\r\u001b[K     |████████████████▍               | 276 kB 8.8 MB/s eta 0:00:01\r\u001b[K     |█████████████████               | 286 kB 8.8 MB/s eta 0:00:01\r\u001b[K     |█████████████████▋              | 296 kB 8.8 MB/s eta 0:00:01\r\u001b[K     |██████████████████▏             | 307 kB 8.8 MB/s eta 0:00:01\r\u001b[K     |██████████████████▉             | 317 kB 8.8 MB/s eta 0:00:01\r\u001b[K     |███████████████████▍            | 327 kB 8.8 MB/s eta 0:00:01\r\u001b[K     |████████████████████            | 337 kB 8.8 MB/s eta 0:00:01\r\u001b[K     |████████████████████▋           | 348 kB 8.8 MB/s eta 0:00:01\r\u001b[K     |█████████████████████▎          | 358 kB 8.8 MB/s eta 0:00:01\r\u001b[K     |█████████████████████▉          | 368 kB 8.8 MB/s eta 0:00:01\r\u001b[K     |██████████████████████▌         | 378 kB 8.8 MB/s eta 0:00:01\r\u001b[K     |███████████████████████         | 389 kB 8.8 MB/s eta 0:00:01\r\u001b[K     |███████████████████████▋        | 399 kB 8.8 MB/s eta 0:00:01\r\u001b[K     |████████████████████████▎       | 409 kB 8.8 MB/s eta 0:00:01\r\u001b[K     |████████████████████████▉       | 419 kB 8.8 MB/s eta 0:00:01\r\u001b[K     |█████████████████████████▌      | 430 kB 8.8 MB/s eta 0:00:01\r\u001b[K     |██████████████████████████      | 440 kB 8.8 MB/s eta 0:00:01\r\u001b[K     |██████████████████████████▊     | 450 kB 8.8 MB/s eta 0:00:01\r\u001b[K     |███████████████████████████▎    | 460 kB 8.8 MB/s eta 0:00:01\r\u001b[K     |████████████████████████████    | 471 kB 8.8 MB/s eta 0:00:01\r\u001b[K     |████████████████████████████▌   | 481 kB 8.8 MB/s eta 0:00:01\r\u001b[K     |█████████████████████████████▏  | 491 kB 8.8 MB/s eta 0:00:01\r\u001b[K     |█████████████████████████████▊  | 501 kB 8.8 MB/s eta 0:00:01\r\u001b[K     |██████████████████████████████▍ | 512 kB 8.8 MB/s eta 0:00:01\r\u001b[K     |███████████████████████████████ | 522 kB 8.8 MB/s eta 0:00:01\r\u001b[K     |███████████████████████████████▌| 532 kB 8.8 MB/s eta 0:00:01\r\u001b[K     |████████████████████████████████| 540 kB 8.8 MB/s \n",
            "\u001b[?25hRequirement already satisfied: numpy in /usr/local/lib/python3.7/dist-packages (from mglearn) (1.19.5)\n",
            "Requirement already satisfied: matplotlib in /usr/local/lib/python3.7/dist-packages (from mglearn) (3.2.2)\n",
            "Requirement already satisfied: scikit-learn in /usr/local/lib/python3.7/dist-packages (from mglearn) (1.0.2)\n",
            "Requirement already satisfied: pandas in /usr/local/lib/python3.7/dist-packages (from mglearn) (1.3.5)\n",
            "Requirement already satisfied: pillow in /usr/local/lib/python3.7/dist-packages (from mglearn) (7.1.2)\n",
            "Requirement already satisfied: cycler in /usr/local/lib/python3.7/dist-packages (from mglearn) (0.11.0)\n",
            "Requirement already satisfied: imageio in /usr/local/lib/python3.7/dist-packages (from mglearn) (2.4.1)\n",
            "Requirement already satisfied: joblib in /usr/local/lib/python3.7/dist-packages (from mglearn) (1.1.0)\n",
            "Requirement already satisfied: python-dateutil>=2.1 in /usr/local/lib/python3.7/dist-packages (from matplotlib->mglearn) (2.8.2)\n",
            "Requirement already satisfied: kiwisolver>=1.0.1 in /usr/local/lib/python3.7/dist-packages (from matplotlib->mglearn) (1.3.2)\n",
            "Requirement already satisfied: pyparsing!=2.0.4,!=2.1.2,!=2.1.6,>=2.0.1 in /usr/local/lib/python3.7/dist-packages (from matplotlib->mglearn) (3.0.7)\n",
            "Requirement already satisfied: six>=1.5 in /usr/local/lib/python3.7/dist-packages (from python-dateutil>=2.1->matplotlib->mglearn) (1.15.0)\n",
            "Requirement already satisfied: pytz>=2017.3 in /usr/local/lib/python3.7/dist-packages (from pandas->mglearn) (2018.9)\n",
            "Requirement already satisfied: threadpoolctl>=2.0.0 in /usr/local/lib/python3.7/dist-packages (from scikit-learn->mglearn) (3.1.0)\n",
            "Requirement already satisfied: scipy>=1.1.0 in /usr/local/lib/python3.7/dist-packages (from scikit-learn->mglearn) (1.4.1)\n",
            "Building wheels for collected packages: mglearn\n",
            "  Building wheel for mglearn (setup.py) ... \u001b[?25l\u001b[?25hdone\n",
            "  Created wheel for mglearn: filename=mglearn-0.1.9-py2.py3-none-any.whl size=582639 sha256=c4635a8faa7e62b49cfc9b0064c9612077bc49e28c9dfb258db6dc66050b39b6\n",
            "  Stored in directory: /root/.cache/pip/wheels/f1/17/e1/1720d6dcd70187b6b6c3750cb3508798f2b1d57c9d3214b08b\n",
            "Successfully built mglearn\n",
            "Installing collected packages: mglearn\n",
            "Successfully installed mglearn-0.1.9\n"
          ]
        }
      ],
      "source": [
        "!pip install mglearn"
      ]
    },
    {
      "cell_type": "code",
      "source": [
        "from sklearn.datasets import make_blobs"
      ],
      "metadata": {
        "id": "BxRTkRTuGIAS"
      },
      "execution_count": 3,
      "outputs": []
    },
    {
      "cell_type": "code",
      "source": [
        "X, y = make_blobs(centers=4, random_state=8)"
      ],
      "metadata": {
        "id": "0E2Lbd7AGTEO"
      },
      "execution_count": 29,
      "outputs": []
    },
    {
      "cell_type": "code",
      "source": [
        "import numpy as np, matplotlib.pyplot as plt, pandas as pd, mglearn"
      ],
      "metadata": {
        "id": "nMcVg8MuGYNS"
      },
      "execution_count": 30,
      "outputs": []
    },
    {
      "cell_type": "code",
      "source": [
        "np.unique(y)"
      ],
      "metadata": {
        "colab": {
          "base_uri": "https://localhost:8080/"
        },
        "id": "QGM1_Wb5GZPX",
        "outputId": "edf1dac4-2062-497e-8989-7d02c87953dd"
      },
      "execution_count": 31,
      "outputs": [
        {
          "output_type": "execute_result",
          "data": {
            "text/plain": [
              "array([0, 1, 2, 3])"
            ]
          },
          "metadata": {},
          "execution_count": 31
        }
      ]
    },
    {
      "cell_type": "code",
      "source": [
        "y = y % 2"
      ],
      "metadata": {
        "id": "K3b3Xt6yGj0T"
      },
      "execution_count": 32,
      "outputs": []
    },
    {
      "cell_type": "code",
      "source": [
        "mglearn.discrete_scatter(X[:, 0], X[:, 1], y)\n",
        "plt.xlabel('Feature 0')\n",
        "plt.ylabel('Feature 1')"
      ],
      "metadata": {
        "colab": {
          "base_uri": "https://localhost:8080/",
          "height": 296
        },
        "id": "31dCxq9wGmyH",
        "outputId": "1c406f74-ca2c-414b-e093-31544d36f6c3"
      },
      "execution_count": 34,
      "outputs": [
        {
          "output_type": "execute_result",
          "data": {
            "text/plain": [
              "Text(0, 0.5, 'Feature 1')"
            ]
          },
          "metadata": {},
          "execution_count": 34
        },
        {
          "output_type": "display_data",
          "data": {
            "image/png": "[encoded data removed]",
            "text/plain": [
              "<Figure size 432x288 with 1 Axes>"
            ]
          },
          "metadata": {
            "needs_background": "light"
          }
        }
      ]
    },
    {
      "cell_type": "code",
      "source": [
        "from sklearn.svm import LinearSVC"
      ],
      "metadata": {
        "id": "VH-Y6IpvGrez"
      },
      "execution_count": 35,
      "outputs": []
    },
    {
      "cell_type": "code",
      "source": [
        "linear_svm = LinearSVC().fit(X, y)"
      ],
      "metadata": {
        "colab": {
          "base_uri": "https://localhost:8080/"
        },
        "id": "aq-xKEL2IVt1",
        "outputId": "9c6f3d73-ece4-4ced-9778-2b656f247f9f"
      },
      "execution_count": 36,
      "outputs": [
        {
          "output_type": "stream",
          "name": "stderr",
          "text": [
            "/usr/local/lib/python3.7/dist-packages/sklearn/svm/_base.py:1208: ConvergenceWarning: Liblinear failed to converge, increase the number of iterations.\n",
            "  ConvergenceWarning,\n"
          ]
        }
      ]
    },
    {
      "cell_type": "code",
      "source": [
        "mglearn.plots.plot_2d_separator(linear_svm, X)\n",
        "mglearn.discrete_scatter(X[:, 0], X[:, 1], y)\n",
        "plt.ylabel('Feature 1')\n",
        "plt.xlabel('Feature 0')"
      ],
      "metadata": {
        "colab": {
          "base_uri": "https://localhost:8080/",
          "height": 279
        },
        "id": "fRUQUo92IbAA",
        "outputId": "908e2703-b7c9-4259-a4ba-ca796d866cb9"
      },
      "execution_count": 37,
      "outputs": [
        {
          "output_type": "execute_result",
          "data": {
            "text/plain": [
              "Text(0.5, 0, 'Feature 0')"
            ]
          },
          "metadata": {},
          "execution_count": 37
        },
        {
          "output_type": "display_data",
          "data": {
            "image/png": "[encoded data removed]",
            "text/plain": [
              "<Figure size 432x288 with 1 Axes>"
            ]
          },
          "metadata": {}
        }
      ]
    },
    {
      "cell_type": "code",
      "source": [
        ""
      ],
      "metadata": {
        "id": "k1-WlFg7Iwtc"
      },
      "execution_count": null,
      "outputs": []
    }
  ]
}