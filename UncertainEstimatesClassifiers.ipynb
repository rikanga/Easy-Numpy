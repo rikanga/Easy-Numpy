{
  "nbformat": 4,
  "nbformat_minor": 0,
  "metadata": {
    "colab": {
      "name": "UncertainEstimatesClassifiers",
      "provenance": [],
      "authorship_tag": "ABX9TyPeC1gjRtLUzv09Fm5aXsUu",
      "include_colab_link": true
    },
    "kernelspec": {
      "name": "python3",
      "display_name": "Python 3"
    },
    "language_info": {
      "name": "python"
    }
  },
  "cells": [
    {
      "cell_type": "markdown",
      "metadata": {
        "id": "view-in-github",
        "colab_type": "text"
      },
      "source": [
        "<a href=\"https://colab.research.google.com/github/rikanga/Easy-Numpy/blob/main/UncertainEstimatesClassifiers.ipynb\" target=\"_parent\"><img src=\"https://colab.research.google.com/assets/colab-badge.svg\" alt=\"Open In Colab\"/></a>"
      ]
    },
    {
      "cell_type": "markdown",
      "source": [
        "# **Estimaton de l'incertitude dans le modèle**"
      ],
      "metadata": {
        "id": "lbNBj6tG-zD_"
      }
    },
    {
      "cell_type": "code",
      "execution_count": 1,
      "metadata": {
        "id": "ahrGKdHM-qR1"
      },
      "outputs": [],
      "source": [
        "from sklearn.ensemble import GradientBoostingClassifier\n",
        "from sklearn.datasets import make_blobs, make_circles\n",
        "from sklearn.model_selection import train_test_split"
      ]
    },
    {
      "cell_type": "code",
      "source": [
        "X, y = make_circles(noise=.25, factor=0.5, random_state=1)"
      ],
      "metadata": {
        "id": "jH5-m8Sn_M6-"
      },
      "execution_count": 2,
      "outputs": []
    },
    {
      "cell_type": "code",
      "source": [
        "import numpy as np, pandas as pd, matplotlib.pyplot as plt"
      ],
      "metadata": {
        "id": "C6Pm7E2z_bO9"
      },
      "execution_count": 6,
      "outputs": []
    },
    {
      "cell_type": "code",
      "source": [
        "y_named = np.array(['blue', 'red'])[y]"
      ],
      "metadata": {
        "id": "oUawv0cQ_TyC"
      },
      "execution_count": 5,
      "outputs": []
    },
    {
      "cell_type": "code",
      "source": [
        "!pip install mglearn"
      ],
      "metadata": {
        "colab": {
          "base_uri": "https://localhost:8080/"
        },
        "id": "g-SgxaFF_Y91",
        "outputId": "93d04241-43c4-432e-9731-57c810137ab4"
      },
      "execution_count": 7,
      "outputs": [
        {
          "output_type": "stream",
          "name": "stdout",
          "text": [
            "Collecting mglearn\n",
            "  Downloading mglearn-0.1.9.tar.gz (540 kB)\n",
            "\u001b[?25l\r\u001b[K     |▋                               | 10 kB 20.2 MB/s eta 0:00:01\r\u001b[K     |█▏                              | 20 kB 10.5 MB/s eta 0:00:01\r\u001b[K     |█▉                              | 30 kB 9.1 MB/s eta 0:00:01\r\u001b[K     |██▍                             | 40 kB 8.3 MB/s eta 0:00:01\r\u001b[K     |███                             | 51 kB 3.9 MB/s eta 0:00:01\r\u001b[K     |███▋                            | 61 kB 4.6 MB/s eta 0:00:01\r\u001b[K     |████▎                           | 71 kB 5.3 MB/s eta 0:00:01\r\u001b[K     |████▉                           | 81 kB 5.5 MB/s eta 0:00:01\r\u001b[K     |█████▌                          | 92 kB 6.1 MB/s eta 0:00:01\r\u001b[K     |██████                          | 102 kB 4.9 MB/s eta 0:00:01\r\u001b[K     |██████▊                         | 112 kB 4.9 MB/s eta 0:00:01\r\u001b[K     |███████▎                        | 122 kB 4.9 MB/s eta 0:00:01\r\u001b[K     |███████▉                        | 133 kB 4.9 MB/s eta 0:00:01\r\u001b[K     |████████▌                       | 143 kB 4.9 MB/s eta 0:00:01\r\u001b[K     |█████████                       | 153 kB 4.9 MB/s eta 0:00:01\r\u001b[K     |█████████▊                      | 163 kB 4.9 MB/s eta 0:00:01\r\u001b[K     |██████████▎                     | 174 kB 4.9 MB/s eta 0:00:01\r\u001b[K     |███████████                     | 184 kB 4.9 MB/s eta 0:00:01\r\u001b[K     |███████████▌                    | 194 kB 4.9 MB/s eta 0:00:01\r\u001b[K     |████████████▏                   | 204 kB 4.9 MB/s eta 0:00:01\r\u001b[K     |████████████▊                   | 215 kB 4.9 MB/s eta 0:00:01\r\u001b[K     |█████████████▍                  | 225 kB 4.9 MB/s eta 0:00:01\r\u001b[K     |██████████████                  | 235 kB 4.9 MB/s eta 0:00:01\r\u001b[K     |██████████████▋                 | 245 kB 4.9 MB/s eta 0:00:01\r\u001b[K     |███████████████▏                | 256 kB 4.9 MB/s eta 0:00:01\r\u001b[K     |███████████████▊                | 266 kB 4.9 MB/s eta 0:00:01\r\u001b[K     |████████████████▍               | 276 kB 4.9 MB/s eta 0:00:01\r\u001b[K     |█████████████████               | 286 kB 4.9 MB/s eta 0:00:01\r\u001b[K     |█████████████████▋              | 296 kB 4.9 MB/s eta 0:00:01\r\u001b[K     |██████████████████▏             | 307 kB 4.9 MB/s eta 0:00:01\r\u001b[K     |██████████████████▉             | 317 kB 4.9 MB/s eta 0:00:01\r\u001b[K     |███████████████████▍            | 327 kB 4.9 MB/s eta 0:00:01\r\u001b[K     |████████████████████            | 337 kB 4.9 MB/s eta 0:00:01\r\u001b[K     |████████████████████▋           | 348 kB 4.9 MB/s eta 0:00:01\r\u001b[K     |█████████████████████▎          | 358 kB 4.9 MB/s eta 0:00:01\r\u001b[K     |█████████████████████▉          | 368 kB 4.9 MB/s eta 0:00:01\r\u001b[K     |██████████████████████▌         | 378 kB 4.9 MB/s eta 0:00:01\r\u001b[K     |███████████████████████         | 389 kB 4.9 MB/s eta 0:00:01\r\u001b[K     |███████████████████████▋        | 399 kB 4.9 MB/s eta 0:00:01\r\u001b[K     |████████████████████████▎       | 409 kB 4.9 MB/s eta 0:00:01\r\u001b[K     |████████████████████████▉       | 419 kB 4.9 MB/s eta 0:00:01\r\u001b[K     |█████████████████████████▌      | 430 kB 4.9 MB/s eta 0:00:01\r\u001b[K     |██████████████████████████      | 440 kB 4.9 MB/s eta 0:00:01\r\u001b[K     |██████████████████████████▊     | 450 kB 4.9 MB/s eta 0:00:01\r\u001b[K     |███████████████████████████▎    | 460 kB 4.9 MB/s eta 0:00:01\r\u001b[K     |████████████████████████████    | 471 kB 4.9 MB/s eta 0:00:01\r\u001b[K     |████████████████████████████▌   | 481 kB 4.9 MB/s eta 0:00:01\r\u001b[K     |█████████████████████████████▏  | 491 kB 4.9 MB/s eta 0:00:01\r\u001b[K     |█████████████████████████████▊  | 501 kB 4.9 MB/s eta 0:00:01\r\u001b[K     |██████████████████████████████▍ | 512 kB 4.9 MB/s eta 0:00:01\r\u001b[K     |███████████████████████████████ | 522 kB 4.9 MB/s eta 0:00:01\r\u001b[K     |███████████████████████████████▌| 532 kB 4.9 MB/s eta 0:00:01\r\u001b[K     |████████████████████████████████| 540 kB 4.9 MB/s \n",
            "\u001b[?25hRequirement already satisfied: numpy in /usr/local/lib/python3.7/dist-packages (from mglearn) (1.21.5)\n",
            "Requirement already satisfied: matplotlib in /usr/local/lib/python3.7/dist-packages (from mglearn) (3.2.2)\n",
            "Requirement already satisfied: scikit-learn in /usr/local/lib/python3.7/dist-packages (from mglearn) (1.0.2)\n",
            "Requirement already satisfied: pandas in /usr/local/lib/python3.7/dist-packages (from mglearn) (1.3.5)\n",
            "Requirement already satisfied: pillow in /usr/local/lib/python3.7/dist-packages (from mglearn) (7.1.2)\n",
            "Requirement already satisfied: cycler in /usr/local/lib/python3.7/dist-packages (from mglearn) (0.11.0)\n",
            "Requirement already satisfied: imageio in /usr/local/lib/python3.7/dist-packages (from mglearn) (2.4.1)\n",
            "Requirement already satisfied: joblib in /usr/local/lib/python3.7/dist-packages (from mglearn) (1.1.0)\n",
            "Requirement already satisfied: pyparsing!=2.0.4,!=2.1.2,!=2.1.6,>=2.0.1 in /usr/local/lib/python3.7/dist-packages (from matplotlib->mglearn) (3.0.7)\n",
            "Requirement already satisfied: python-dateutil>=2.1 in /usr/local/lib/python3.7/dist-packages (from matplotlib->mglearn) (2.8.2)\n",
            "Requirement already satisfied: kiwisolver>=1.0.1 in /usr/local/lib/python3.7/dist-packages (from matplotlib->mglearn) (1.3.2)\n",
            "Requirement already satisfied: six>=1.5 in /usr/local/lib/python3.7/dist-packages (from python-dateutil>=2.1->matplotlib->mglearn) (1.15.0)\n",
            "Requirement already satisfied: pytz>=2017.3 in /usr/local/lib/python3.7/dist-packages (from pandas->mglearn) (2018.9)\n",
            "Requirement already satisfied: scipy>=1.1.0 in /usr/local/lib/python3.7/dist-packages (from scikit-learn->mglearn) (1.4.1)\n",
            "Requirement already satisfied: threadpoolctl>=2.0.0 in /usr/local/lib/python3.7/dist-packages (from scikit-learn->mglearn) (3.1.0)\n",
            "Building wheels for collected packages: mglearn\n",
            "  Building wheel for mglearn (setup.py) ... \u001b[?25l\u001b[?25hdone\n",
            "  Created wheel for mglearn: filename=mglearn-0.1.9-py2.py3-none-any.whl size=582639 sha256=797c30dc627e2d9fb2ef01f5358ba37226430d182e5f8e417b7c30a8095f5d50\n",
            "  Stored in directory: /root/.cache/pip/wheels/f1/17/e1/1720d6dcd70187b6b6c3750cb3508798f2b1d57c9d3214b08b\n",
            "Successfully built mglearn\n",
            "Installing collected packages: mglearn\n",
            "Successfully installed mglearn-0.1.9\n"
          ]
        }
      ]
    },
    {
      "cell_type": "code",
      "source": [
        "X_train, X_test, y_train_named, y_test_named, y_train, y_test = train_test_split(X, y_named, y, random_state=0)"
      ],
      "metadata": {
        "id": "h7LWnola_maN"
      },
      "execution_count": 9,
      "outputs": []
    },
    {
      "cell_type": "code",
      "source": [
        "y_train_named.shape, y_train.shape"
      ],
      "metadata": {
        "colab": {
          "base_uri": "https://localhost:8080/"
        },
        "id": "TJJTJN39_1Dv",
        "outputId": "17c5a0bc-aa5d-4212-f616-74b147ca8f82"
      },
      "execution_count": 10,
      "outputs": [
        {
          "output_type": "execute_result",
          "data": {
            "text/plain": [
              "((75,), (75,))"
            ]
          },
          "metadata": {},
          "execution_count": 10
        }
      ]
    },
    {
      "cell_type": "code",
      "source": [
        "y_train_named[:10]"
      ],
      "metadata": {
        "colab": {
          "base_uri": "https://localhost:8080/"
        },
        "id": "4Is_-r75AQTM",
        "outputId": "d12446b6-3dc5-4028-bb9c-2dcb7328f46a"
      },
      "execution_count": 11,
      "outputs": [
        {
          "output_type": "execute_result",
          "data": {
            "text/plain": [
              "array(['blue', 'blue', 'blue', 'blue', 'blue', 'blue', 'blue', 'blue',\n",
              "       'blue', 'red'], dtype='<U4')"
            ]
          },
          "metadata": {},
          "execution_count": 11
        }
      ]
    },
    {
      "cell_type": "code",
      "source": [
        "y_train[:10]"
      ],
      "metadata": {
        "colab": {
          "base_uri": "https://localhost:8080/"
        },
        "id": "eMiF9MzoAVsE",
        "outputId": "810b6d75-8120-401d-b113-c5683c5d7ccc"
      },
      "execution_count": 12,
      "outputs": [
        {
          "output_type": "execute_result",
          "data": {
            "text/plain": [
              "array([0, 0, 0, 0, 0, 0, 0, 0, 0, 1])"
            ]
          },
          "metadata": {},
          "execution_count": 12
        }
      ]
    },
    {
      "cell_type": "markdown",
      "source": [
        "**Model**"
      ],
      "metadata": {
        "id": "wjBMMXUgAdnV"
      }
    },
    {
      "cell_type": "code",
      "source": [
        "model = GradientBoostingClassifier(random_state=0)\n",
        "model.fit(X_train, y_train_named)"
      ],
      "metadata": {
        "colab": {
          "base_uri": "https://localhost:8080/"
        },
        "id": "_nEIHpSsAYEy",
        "outputId": "e1592423-1d17-41bb-f867-03d8f165417f"
      },
      "execution_count": 13,
      "outputs": [
        {
          "output_type": "execute_result",
          "data": {
            "text/plain": [
              "GradientBoostingClassifier(random_state=0)"
            ]
          },
          "metadata": {},
          "execution_count": 13
        }
      ]
    },
    {
      "cell_type": "code",
      "source": [
        ""
      ],
      "metadata": {
        "id": "zgnS7OXeAmM7"
      },
      "execution_count": null,
      "outputs": []
    }
  ]
}