{
  "nbformat": 4,
  "nbformat_minor": 0,
  "metadata": {
    "colab": {
      "name": "UncertainEstimatesClassifiers",
      "provenance": [],
      "collapsed_sections": [],
      "authorship_tag": "ABX9TyNxmzHD4ezB+eEG5Sxmmzf1",
      "include_colab_link": true
    },
    "kernelspec": {
      "name": "python3",
      "display_name": "Python 3"
    },
    "language_info": {
      "name": "python"
    }
  },
  "cells": [
    {
      "cell_type": "markdown",
      "metadata": {
        "id": "view-in-github",
        "colab_type": "text"
      },
      "source": [
        "<a href=\"https://colab.research.google.com/github/rikanga/Easy-Numpy/blob/main/UncertainEstimatesClassifiers.ipynb\" target=\"_parent\"><img src=\"https://colab.research.google.com/assets/colab-badge.svg\" alt=\"Open In Colab\"/></a>"
      ]
    },
    {
      "cell_type": "markdown",
      "source": [
        "# **Estimaton de l'incertitude dans le modèle**"
      ],
      "metadata": {
        "id": "lbNBj6tG-zD_"
      }
    },
    {
      "cell_type": "code",
      "execution_count": 21,
      "metadata": {
        "id": "ahrGKdHM-qR1"
      },
      "outputs": [],
      "source": [
        "from sklearn.ensemble import GradientBoostingClassifier\n",
        "from sklearn.datasets import make_blobs, make_circles\n",
        "from sklearn.model_selection import train_test_split"
      ]
    },
    {
      "cell_type": "code",
      "source": [
        "X, y = make_circles(noise=.25, factor=0.5, random_state=1)"
      ],
      "metadata": {
        "id": "jH5-m8Sn_M6-"
      },
      "execution_count": 22,
      "outputs": []
    },
    {
      "cell_type": "code",
      "source": [
        "import numpy as np, pandas as pd, matplotlib.pyplot as plt"
      ],
      "metadata": {
        "id": "C6Pm7E2z_bO9"
      },
      "execution_count": 23,
      "outputs": []
    },
    {
      "cell_type": "code",
      "source": [
        "y_named = np.array(['blue', 'red'])[y]"
      ],
      "metadata": {
        "id": "oUawv0cQ_TyC"
      },
      "execution_count": 24,
      "outputs": []
    },
    {
      "cell_type": "code",
      "source": [
        "!pip install mglearn"
      ],
      "metadata": {
        "colab": {
          "base_uri": "https://localhost:8080/"
        },
        "id": "g-SgxaFF_Y91",
        "outputId": "0b9ed6c2-c10b-4912-b7a5-3b666a05ac61"
      },
      "execution_count": 25,
      "outputs": [
        {
          "output_type": "stream",
          "name": "stdout",
          "text": [
            "Requirement already satisfied: mglearn in /usr/local/lib/python3.7/dist-packages (0.1.9)\n",
            "Requirement already satisfied: cycler in /usr/local/lib/python3.7/dist-packages (from mglearn) (0.11.0)\n",
            "Requirement already satisfied: pandas in /usr/local/lib/python3.7/dist-packages (from mglearn) (1.3.5)\n",
            "Requirement already satisfied: scikit-learn in /usr/local/lib/python3.7/dist-packages (from mglearn) (1.0.2)\n",
            "Requirement already satisfied: pillow in /usr/local/lib/python3.7/dist-packages (from mglearn) (7.1.2)\n",
            "Requirement already satisfied: joblib in /usr/local/lib/python3.7/dist-packages (from mglearn) (1.1.0)\n",
            "Requirement already satisfied: imageio in /usr/local/lib/python3.7/dist-packages (from mglearn) (2.4.1)\n",
            "Requirement already satisfied: matplotlib in /usr/local/lib/python3.7/dist-packages (from mglearn) (3.2.2)\n",
            "Requirement already satisfied: numpy in /usr/local/lib/python3.7/dist-packages (from mglearn) (1.21.5)\n",
            "Requirement already satisfied: pyparsing!=2.0.4,!=2.1.2,!=2.1.6,>=2.0.1 in /usr/local/lib/python3.7/dist-packages (from matplotlib->mglearn) (3.0.7)\n",
            "Requirement already satisfied: kiwisolver>=1.0.1 in /usr/local/lib/python3.7/dist-packages (from matplotlib->mglearn) (1.3.2)\n",
            "Requirement already satisfied: python-dateutil>=2.1 in /usr/local/lib/python3.7/dist-packages (from matplotlib->mglearn) (2.8.2)\n",
            "Requirement already satisfied: six>=1.5 in /usr/local/lib/python3.7/dist-packages (from python-dateutil>=2.1->matplotlib->mglearn) (1.15.0)\n",
            "Requirement already satisfied: pytz>=2017.3 in /usr/local/lib/python3.7/dist-packages (from pandas->mglearn) (2018.9)\n",
            "Requirement already satisfied: threadpoolctl>=2.0.0 in /usr/local/lib/python3.7/dist-packages (from scikit-learn->mglearn) (3.1.0)\n",
            "Requirement already satisfied: scipy>=1.1.0 in /usr/local/lib/python3.7/dist-packages (from scikit-learn->mglearn) (1.4.1)\n"
          ]
        }
      ]
    },
    {
      "cell_type": "code",
      "source": [
        "X_train, X_test, y_train_named, y_test_named, y_train, y_test = train_test_split(X, y_named, y, random_state=0)"
      ],
      "metadata": {
        "id": "h7LWnola_maN"
      },
      "execution_count": 26,
      "outputs": []
    },
    {
      "cell_type": "code",
      "source": [
        "y_train_named.shape, y_train.shape"
      ],
      "metadata": {
        "colab": {
          "base_uri": "https://localhost:8080/"
        },
        "id": "TJJTJN39_1Dv",
        "outputId": "4dae58de-3b91-4755-9b25-ae2e8fbffbdd"
      },
      "execution_count": 27,
      "outputs": [
        {
          "output_type": "execute_result",
          "data": {
            "text/plain": [
              "((75,), (75,))"
            ]
          },
          "metadata": {},
          "execution_count": 27
        }
      ]
    },
    {
      "cell_type": "code",
      "source": [
        "y_train_named[:10]"
      ],
      "metadata": {
        "colab": {
          "base_uri": "https://localhost:8080/"
        },
        "id": "4Is_-r75AQTM",
        "outputId": "bb91a979-857c-4137-ea47-1d3940ba8031"
      },
      "execution_count": 28,
      "outputs": [
        {
          "output_type": "execute_result",
          "data": {
            "text/plain": [
              "array(['blue', 'blue', 'blue', 'blue', 'blue', 'blue', 'blue', 'blue',\n",
              "       'blue', 'red'], dtype='<U4')"
            ]
          },
          "metadata": {},
          "execution_count": 28
        }
      ]
    },
    {
      "cell_type": "code",
      "source": [
        "y_train[:10]"
      ],
      "metadata": {
        "colab": {
          "base_uri": "https://localhost:8080/"
        },
        "id": "eMiF9MzoAVsE",
        "outputId": "47117676-13b1-43af-8490-370a838577c5"
      },
      "execution_count": 29,
      "outputs": [
        {
          "output_type": "execute_result",
          "data": {
            "text/plain": [
              "array([0, 0, 0, 0, 0, 0, 0, 0, 0, 1])"
            ]
          },
          "metadata": {},
          "execution_count": 29
        }
      ]
    },
    {
      "cell_type": "markdown",
      "source": [
        "**Model**"
      ],
      "metadata": {
        "id": "wjBMMXUgAdnV"
      }
    },
    {
      "cell_type": "code",
      "source": [
        "model = GradientBoostingClassifier(random_state=0)\n",
        "model.fit(X_train, y_train_named)"
      ],
      "metadata": {
        "colab": {
          "base_uri": "https://localhost:8080/"
        },
        "id": "_nEIHpSsAYEy",
        "outputId": "ccbe87cf-d781-4748-a853-0615df417465"
      },
      "execution_count": 30,
      "outputs": [
        {
          "output_type": "execute_result",
          "data": {
            "text/plain": [
              "GradientBoostingClassifier(random_state=0)"
            ]
          },
          "metadata": {},
          "execution_count": 30
        }
      ]
    },
    {
      "cell_type": "code",
      "source": [
        "X_test.shape"
      ],
      "metadata": {
        "colab": {
          "base_uri": "https://localhost:8080/"
        },
        "id": "zgnS7OXeAmM7",
        "outputId": "7629332d-fbd0-434b-8e83-008b244717f3"
      },
      "execution_count": 31,
      "outputs": [
        {
          "output_type": "execute_result",
          "data": {
            "text/plain": [
              "(25, 2)"
            ]
          },
          "metadata": {},
          "execution_count": 31
        }
      ]
    },
    {
      "cell_type": "markdown",
      "source": [
        "**Voyons le 10 premiers entrées**"
      ],
      "metadata": {
        "id": "z-6h-BaaQPyP"
      }
    },
    {
      "cell_type": "code",
      "source": [
        "model.decision_function(X_test)[:10]"
      ],
      "metadata": {
        "colab": {
          "base_uri": "https://localhost:8080/"
        },
        "id": "-JNUwTm4F2wp",
        "outputId": "34fe905b-c9dd-4398-af7f-6a91b3af19da"
      },
      "execution_count": 32,
      "outputs": [
        {
          "output_type": "execute_result",
          "data": {
            "text/plain": [
              "array([ 4.13592603, -1.70169917, -3.95106099, -3.62609552,  4.28986642,\n",
              "        3.66166081, -7.69097179,  4.11001686,  1.10753937,  3.40782222])"
            ]
          },
          "metadata": {},
          "execution_count": 32
        }
      ]
    },
    {
      "cell_type": "markdown",
      "source": [
        "### **Découvrir les prédictions**\n",
        "\n",
        "\n",
        "*   Nous pouvons découvrir les prédictions juste grâce au signe sur les données que renvoie **decision_function()**\n",
        "*   Du coup nous pouvons voir que **True** représente les données de la classe 1, donc leurs prédictions et **False** représente les données de la **classe 0**\n",
        "\n"
      ],
      "metadata": {
        "id": "i4t3cfWpQ6LR"
      }
    },
    {
      "cell_type": "code",
      "source": [
        "model.decision_function(X_test) > 0"
      ],
      "metadata": {
        "colab": {
          "base_uri": "https://localhost:8080/"
        },
        "id": "5gjOKDBcF91J",
        "outputId": "22704d78-0a83-4384-e846-e3d4c573c478"
      },
      "execution_count": 33,
      "outputs": [
        {
          "output_type": "execute_result",
          "data": {
            "text/plain": [
              "array([ True, False, False, False,  True,  True, False,  True,  True,\n",
              "        True, False,  True,  True, False,  True, False, False, False,\n",
              "        True,  True,  True,  True,  True, False, False])"
            ]
          },
          "metadata": {},
          "execution_count": 33
        }
      ]
    },
    {
      "cell_type": "code",
      "source": [
        "print(\"Decision function:\\n\")\n",
        "print(model.decision_function(X_test) > 0)\n",
        "\n",
        "print('\\nPredictions:\\n')\n",
        "print(model.predict(X_test))"
      ],
      "metadata": {
        "colab": {
          "base_uri": "https://localhost:8080/"
        },
        "id": "4bgIjqt9RXGt",
        "outputId": "428f088d-35bb-4b62-b6ab-2d25f165fac8"
      },
      "execution_count": 34,
      "outputs": [
        {
          "output_type": "stream",
          "name": "stdout",
          "text": [
            "Decision function:\n",
            "\n",
            "[ True False False False  True  True False  True  True  True False  True\n",
            "  True False  True False False False  True  True  True  True  True False\n",
            " False]\n",
            "\n",
            "Predictions:\n",
            "\n",
            "['red' 'blue' 'blue' 'blue' 'red' 'red' 'blue' 'red' 'red' 'red' 'blue'\n",
            " 'red' 'red' 'blue' 'red' 'blue' 'blue' 'blue' 'red' 'red' 'red' 'red'\n",
            " 'red' 'blue' 'blue']\n"
          ]
        }
      ]
    },
    {
      "cell_type": "markdown",
      "source": [
        "#### **Attribut classes_**\n",
        "\n",
        "Cet attribut renvoie les classes que contient notre modèle\n",
        "\n",
        "_Nous allons l'utiliser pour étudier la prédiction_"
      ],
      "metadata": {
        "id": "f3qlBzhrVRab"
      }
    },
    {
      "cell_type": "code",
      "source": [
        "model.classes_"
      ],
      "metadata": {
        "colab": {
          "base_uri": "https://localhost:8080/"
        },
        "id": "E793qLLvTDLC",
        "outputId": "42c3e1c7-29ce-4c4a-eb23-a66798e9e308"
      },
      "execution_count": 35,
      "outputs": [
        {
          "output_type": "execute_result",
          "data": {
            "text/plain": [
              "array(['blue', 'red'], dtype='<U4')"
            ]
          },
          "metadata": {},
          "execution_count": 35
        }
      ]
    },
    {
      "cell_type": "code",
      "source": [
        "dec_fun_values = (model.decision_function(X_test) > 0).astype(int)"
      ],
      "metadata": {
        "id": "xlB012SwVXcy"
      },
      "execution_count": 36,
      "outputs": []
    },
    {
      "cell_type": "code",
      "source": [
        "print(\"Values from decision function:\\n\", model.classes_[dec_fun_values])\n",
        "print(\"\\nPrediction:\\n\", model.predict(X_test))"
      ],
      "metadata": {
        "colab": {
          "base_uri": "https://localhost:8080/"
        },
        "id": "dEfFPMOYWDoI",
        "outputId": "c5cf25ff-7361-4a27-b65b-74e48b1f9e0a"
      },
      "execution_count": 37,
      "outputs": [
        {
          "output_type": "stream",
          "name": "stdout",
          "text": [
            "Values from decision function:\n",
            " ['red' 'blue' 'blue' 'blue' 'red' 'red' 'blue' 'red' 'red' 'red' 'blue'\n",
            " 'red' 'red' 'blue' 'red' 'blue' 'blue' 'blue' 'red' 'red' 'red' 'red'\n",
            " 'red' 'blue' 'blue']\n",
            "\n",
            "Prediction:\n",
            " ['red' 'blue' 'blue' 'blue' 'red' 'red' 'blue' 'red' 'red' 'red' 'blue'\n",
            " 'red' 'red' 'blue' 'red' 'blue' 'blue' 'blue' 'red' 'red' 'red' 'red'\n",
            " 'red' 'blue' 'blue']\n"
          ]
        }
      ]
    },
    {
      "cell_type": "code",
      "source": [
        "pred = model.classes_[dec_fun_values]\n",
        "\n",
        "np.all(pred == model.predict(X_test)) # Nous avons même données que celles renvoyées dans la prediction"
      ],
      "metadata": {
        "id": "bNSIOKfGWWf9",
        "colab": {
          "base_uri": "https://localhost:8080/"
        },
        "outputId": "a4149eed-c199-450c-dee6-82c309385db4"
      },
      "execution_count": 38,
      "outputs": [
        {
          "output_type": "execute_result",
          "data": {
            "text/plain": [
              "True"
            ]
          },
          "metadata": {},
          "execution_count": 38
        }
      ]
    },
    {
      "cell_type": "markdown",
      "source": [
        "### **Visualisation des données de la fonction de décision**"
      ],
      "metadata": {
        "id": "UeiGBPqsrKmW"
      }
    },
    {
      "cell_type": "code",
      "source": [
        "import mglearn"
      ],
      "metadata": {
        "id": "z96V5efqrt5q"
      },
      "execution_count": 39,
      "outputs": []
    },
    {
      "cell_type": "code",
      "source": [
        "fig, axes = plt.subplots(1, 2, figsize=(13, 5))\n",
        "\n",
        "mglearn.plots.plot_2d_separator(model, X, fill=True,\n",
        "                                alpha=.4, cm=mglearn.cm3, ax=axes[0])\n",
        "score_images = mglearn.tools.plot_2d_scores(model, X,\n",
        "                                               alpha=.4, cm=mglearn.ReBl, ax=axes[1])\n",
        "# scores_image = mglearn.tools.plot_2d_scores(model, X, ax=axes[1],\n",
        "#                                             alpha=.4, cm=mglearn.ReBl)\n",
        "\n",
        "for ax in axes:\n",
        "  mglearn.discrete_scatter(X_test[:, 0], X_test[:, 1], y_test, markers='^', ax=ax)\n",
        "  mglearn.discrete_scatter(X_train[:, 0], X_train[:, 1], y_train, markers='o', ax=ax)\n",
        "\n",
        "  ax.set_xlabel('Feature 0')\n",
        "  ax.set_ylabel('Feature 1')\n",
        "\n",
        "cbar = plt.colorbar(score_images, ax=axes.tolist())\n",
        "axes[0].legend([\"Test class 0\", \"Test class 1\", \"Train class 0\",\n",
        "                \"Train class 1\"], ncol=4, loc=(.1, 1.1))\n",
        "plt.show()"
      ],
      "metadata": {
        "colab": {
          "base_uri": "https://localhost:8080/",
          "height": 362
        },
        "id": "WD6U1uZ9amCA",
        "outputId": "046a3429-ea65-4b3a-c2db-4d4b9f861d68"
      },
      "execution_count": 40,
      "outputs": [
        {
          "output_type": "display_data",
          "data": {
            "image/png": "[encoded data removed]",
            "text/plain": [
              "<Figure size 936x360 with 3 Axes>"
            ]
          },
          "metadata": {
            "needs_background": "light"
          }
        }
      ]
    },
    {
      "cell_type": "markdown",
      "source": [
        "### **predict_proba**"
      ],
      "metadata": {
        "id": "wssYTk9yGPyb"
      }
    },
    {
      "cell_type": "code",
      "source": [
        "print(\"predict_proba(X_test).shape \\n\", model.predict_proba(X_test).shape)"
      ],
      "metadata": {
        "id": "mhkMaJ7xuJqu",
        "colab": {
          "base_uri": "https://localhost:8080/"
        },
        "outputId": "92aa26ca-12d9-4e68-8b12-571648902b01"
      },
      "execution_count": 42,
      "outputs": [
        {
          "output_type": "stream",
          "name": "stdout",
          "text": [
            "predict_proba(X_test).shape \n",
            " (25, 2)\n"
          ]
        }
      ]
    },
    {
      "cell_type": "markdown",
      "source": [
        "Probalité d'appartenir à la prémière ou la deuxième classe est décrité si bas pour chaque entrée.\n",
        "\n",
        "Voici l'example avec le 6 prémières données"
      ],
      "metadata": {
        "id": "J5aZyS94XGIx"
      }
    },
    {
      "cell_type": "code",
      "source": [
        "model.predict_proba(X_test)[:6]"
      ],
      "metadata": {
        "colab": {
          "base_uri": "https://localhost:8080/"
        },
        "id": "-KnGwcE4U-8o",
        "outputId": "d48f13d1-02c7-4ee2-ff04-1c5bb6bb9779"
      },
      "execution_count": 46,
      "outputs": [
        {
          "output_type": "execute_result",
          "data": {
            "text/plain": [
              "array([[0.01573626, 0.98426374],\n",
              "       [0.84575653, 0.15424347],\n",
              "       [0.98112869, 0.01887131],\n",
              "       [0.97407033, 0.02592967],\n",
              "       [0.01352142, 0.98647858],\n",
              "       [0.02504637, 0.97495363]])"
            ]
          },
          "metadata": {},
          "execution_count": 46
        }
      ]
    },
    {
      "cell_type": "code",
      "source": [
        "y_test[:6]"
      ],
      "metadata": {
        "colab": {
          "base_uri": "https://localhost:8080/"
        },
        "id": "GOS3wTmXVDck",
        "outputId": "e56dcb38-4d24-4aad-cc27-abbffc989ddf"
      },
      "execution_count": 48,
      "outputs": [
        {
          "output_type": "execute_result",
          "data": {
            "text/plain": [
              "array([1, 0, 0, 0, 1, 1])"
            ]
          },
          "metadata": {},
          "execution_count": 48
        }
      ]
    },
    {
      "cell_type": "markdown",
      "source": [
        "## **Estimation de l'incertitude pour la classification multiclasse**\n",
        "\n",
        "Les deux methodes(decision_function() et predict_proba()) fonctionnent aussi pour le cas de la classification multiclasse"
      ],
      "metadata": {
        "id": "apq9iIgkai_J"
      }
    },
    {
      "cell_type": "code",
      "source": [
        ""
      ],
      "metadata": {
        "id": "YOrHWPEKah4x"
      },
      "execution_count": null,
      "outputs": []
    },
    {
      "cell_type": "code",
      "source": [
        "from sklearn.datasets import load_iris"
      ],
      "metadata": {
        "id": "EglTnZKpXaUU"
      },
      "execution_count": 49,
      "outputs": []
    },
    {
      "cell_type": "code",
      "source": [
        "iris = load_iris()"
      ],
      "metadata": {
        "id": "lnivO6Cya419"
      },
      "execution_count": 50,
      "outputs": []
    },
    {
      "cell_type": "code",
      "source": [
        "iris.target_names"
      ],
      "metadata": {
        "colab": {
          "base_uri": "https://localhost:8080/"
        },
        "id": "BiRUHYkya6tI",
        "outputId": "299ba755-186a-46c7-8289-6f3759c079e0"
      },
      "execution_count": 52,
      "outputs": [
        {
          "output_type": "execute_result",
          "data": {
            "text/plain": [
              "array(['setosa', 'versicolor', 'virginica'], dtype='<U10')"
            ]
          },
          "metadata": {},
          "execution_count": 52
        }
      ]
    },
    {
      "cell_type": "code",
      "source": [
        "X_train, X_test, y_train, y_test = train_test_split(iris.data, iris.target,\n",
        "                                                    random_state=42)"
      ],
      "metadata": {
        "id": "wLky6RBNa8aq"
      },
      "execution_count": 53,
      "outputs": []
    },
    {
      "cell_type": "code",
      "source": [
        "model = GradientBoostingClassifier(learning_rate=0.01, random_state=0)\n",
        "model.fit(X_train, y_train)"
      ],
      "metadata": {
        "colab": {
          "base_uri": "https://localhost:8080/"
        },
        "id": "ri1n8QN1hkhg",
        "outputId": "43471b3d-dfa6-41de-fdf5-1c2262e6ade0"
      },
      "execution_count": 54,
      "outputs": [
        {
          "output_type": "execute_result",
          "data": {
            "text/plain": [
              "GradientBoostingClassifier(learning_rate=0.01, random_state=0)"
            ]
          },
          "metadata": {},
          "execution_count": 54
        }
      ]
    },
    {
      "cell_type": "markdown",
      "source": [
        "**Fonction de décision pour la multiclasse**"
      ],
      "metadata": {
        "id": "JoINtyvlh-Qw"
      }
    },
    {
      "cell_type": "code",
      "source": [
        "print(\"Decision function shape:\\n\", model.decision_function(X_test).shape)\n",
        "print(\"\\nDecision function:\\n\", model.decision_function(X_test)[:6, :])"
      ],
      "metadata": {
        "colab": {
          "base_uri": "https://localhost:8080/"
        },
        "id": "jc9_Pi71h3Di",
        "outputId": "c203d4fe-7175-449f-b74d-2b89d328c5e4"
      },
      "execution_count": 60,
      "outputs": [
        {
          "output_type": "stream",
          "name": "stdout",
          "text": [
            "Decision function shape:\n",
            " (38, 3)\n",
            "\n",
            "Decision function:\n",
            " [[-1.995715    0.04758267 -1.92720695]\n",
            " [ 0.06146394 -1.90755736 -1.92793758]\n",
            " [-1.99058203 -1.87637861  0.09686725]\n",
            " [-1.995715    0.04758267 -1.92720695]\n",
            " [-1.99730159 -0.13469108 -1.20341483]\n",
            " [ 0.06146394 -1.90755736 -1.92793758]]\n"
          ]
        }
      ]
    },
    {
      "cell_type": "markdown",
      "source": [
        "**Trouver la prédiction**\n",
        "\n",
        "Chaque classe envoie un **score de certitude** et la classe ayant un **score plus grand** est celle qui est prédite.\n",
        "\n",
        "On peut trouver le score plus grand grâce à l'attribut argmax de numpy"
      ],
      "metadata": {
        "id": "67N0TwV5n_u1"
      }
    },
    {
      "cell_type": "code",
      "source": [
        "decision = np.argmax(model.decision_function(X_test), axis=1)\n",
        "decision"
      ],
      "metadata": {
        "colab": {
          "base_uri": "https://localhost:8080/"
        },
        "id": "sx3OY1ebiM-5",
        "outputId": "2adf743b-72bc-4751-9465-769bef33da82"
      },
      "execution_count": 65,
      "outputs": [
        {
          "output_type": "execute_result",
          "data": {
            "text/plain": [
              "array([1, 0, 2, 1, 1, 0, 1, 2, 1, 1, 2, 0, 0, 0, 0, 1, 2, 1, 1, 2, 0, 2,\n",
              "       0, 2, 2, 2, 2, 2, 0, 0, 0, 0, 1, 0, 0, 2, 1, 0])"
            ]
          },
          "metadata": {},
          "execution_count": 65
        }
      ]
    },
    {
      "cell_type": "code",
      "source": [
        "model.predict(X_test)"
      ],
      "metadata": {
        "colab": {
          "base_uri": "https://localhost:8080/"
        },
        "id": "lcvX_MtApc87",
        "outputId": "d9614f61-7dc1-42f0-f2ba-86dd3c22c4cd"
      },
      "execution_count": 64,
      "outputs": [
        {
          "output_type": "execute_result",
          "data": {
            "text/plain": [
              "array([1, 0, 2, 1, 1, 0, 1, 2, 1, 1, 2, 0, 0, 0, 0, 1, 2, 1, 1, 2, 0, 2,\n",
              "       0, 2, 2, 2, 2, 2, 0, 0, 0, 0, 1, 0, 0, 2, 1, 0])"
            ]
          },
          "metadata": {},
          "execution_count": 64
        }
      ]
    },
    {
      "cell_type": "code",
      "source": [
        "np.all(decision == model.predict(X_test))"
      ],
      "metadata": {
        "colab": {
          "base_uri": "https://localhost:8080/"
        },
        "id": "5lMWATT8ymNm",
        "outputId": "4cf7bf3e-b80f-4d4d-8b3f-15d67ba628a9"
      },
      "execution_count": 66,
      "outputs": [
        {
          "output_type": "execute_result",
          "data": {
            "text/plain": [
              "True"
            ]
          },
          "metadata": {},
          "execution_count": 66
        }
      ]
    },
    {
      "cell_type": "markdown",
      "source": [
        "### **Probalité de prédiction pour la classification multiclasse**"
      ],
      "metadata": {
        "id": "0sPzxp4XzjCi"
      }
    },
    {
      "cell_type": "code",
      "source": [
        "model.predict_proba(X_test)"
      ],
      "metadata": {
        "colab": {
          "base_uri": "https://localhost:8080/"
        },
        "id": "ClOg7_X_zD1n",
        "outputId": "fc4a8eab-a1bb-4017-bbd4-043ba38bac94"
      },
      "execution_count": 67,
      "outputs": [
        {
          "output_type": "execute_result",
          "data": {
            "text/plain": [
              "array([[0.10217718, 0.78840034, 0.10942248],\n",
              "       [0.78347147, 0.10936745, 0.10716108],\n",
              "       [0.09818072, 0.11005864, 0.79176065],\n",
              "       [0.10217718, 0.78840034, 0.10942248],\n",
              "       [0.10360005, 0.66723901, 0.22916094],\n",
              "       [0.78347147, 0.10936745, 0.10716108],\n",
              "       [0.10217718, 0.78840034, 0.10942248],\n",
              "       [0.09763381, 0.11012538, 0.79224081],\n",
              "       [0.10217718, 0.78840034, 0.10942248],\n",
              "       [0.10217718, 0.78840034, 0.10942248],\n",
              "       [0.09905185, 0.11172485, 0.78922331],\n",
              "       [0.78347147, 0.10936745, 0.10716108],\n",
              "       [0.78347147, 0.10936745, 0.10716108],\n",
              "       [0.78347147, 0.10936745, 0.10716108],\n",
              "       [0.78347147, 0.10936745, 0.10716108],\n",
              "       [0.10217718, 0.78840034, 0.10942248],\n",
              "       [0.09815477, 0.1100618 , 0.79178343],\n",
              "       [0.10217718, 0.78840034, 0.10942248],\n",
              "       [0.10217718, 0.78840034, 0.10942248],\n",
              "       [0.09815477, 0.1100618 , 0.79178343],\n",
              "       [0.78347147, 0.10936745, 0.10716108],\n",
              "       [0.10178234, 0.11626145, 0.78195621],\n",
              "       [0.78347147, 0.10936745, 0.10716108],\n",
              "       [0.09815477, 0.1100618 , 0.79178343],\n",
              "       [0.09957954, 0.11165941, 0.78876105],\n",
              "       [0.09815477, 0.1100618 , 0.79178343],\n",
              "       [0.09818072, 0.11005864, 0.79176065],\n",
              "       [0.09957954, 0.11165941, 0.78876105],\n",
              "       [0.78347147, 0.10936745, 0.10716108],\n",
              "       [0.78347147, 0.10936745, 0.10716108],\n",
              "       [0.78347147, 0.10936745, 0.10716108],\n",
              "       [0.78347147, 0.10936745, 0.10716108],\n",
              "       [0.10217718, 0.78840034, 0.10942248],\n",
              "       [0.78347147, 0.10936745, 0.10716108],\n",
              "       [0.78347147, 0.10936745, 0.10716108],\n",
              "       [0.10194108, 0.11502374, 0.78303519],\n",
              "       [0.10217718, 0.78840034, 0.10942248],\n",
              "       [0.78347147, 0.10936745, 0.10716108]])"
            ]
          },
          "metadata": {},
          "execution_count": 67
        }
      ]
    },
    {
      "cell_type": "code",
      "source": [
        "model.predict_proba(X_test).sum(axis=1)"
      ],
      "metadata": {
        "colab": {
          "base_uri": "https://localhost:8080/"
        },
        "id": "gw0kCy7Zzvsh",
        "outputId": "05283d7d-911b-42d5-ed76-49be9a3e85c8"
      },
      "execution_count": 68,
      "outputs": [
        {
          "output_type": "execute_result",
          "data": {
            "text/plain": [
              "array([1., 1., 1., 1., 1., 1., 1., 1., 1., 1., 1., 1., 1., 1., 1., 1., 1.,\n",
              "       1., 1., 1., 1., 1., 1., 1., 1., 1., 1., 1., 1., 1., 1., 1., 1., 1.,\n",
              "       1., 1., 1., 1.])"
            ]
          },
          "metadata": {},
          "execution_count": 68
        }
      ]
    },
    {
      "cell_type": "code",
      "source": [
        "prob_pred = model.predict_proba(X_test).argmax(axis=1)\n",
        "prob_pred"
      ],
      "metadata": {
        "colab": {
          "base_uri": "https://localhost:8080/"
        },
        "id": "Od7eXYH10YYH",
        "outputId": "16d5a172-373e-4000-a156-3e3b23507d03"
      },
      "execution_count": 70,
      "outputs": [
        {
          "output_type": "execute_result",
          "data": {
            "text/plain": [
              "array([1, 0, 2, 1, 1, 0, 1, 2, 1, 1, 2, 0, 0, 0, 0, 1, 2, 1, 1, 2, 0, 2,\n",
              "       0, 2, 2, 2, 2, 2, 0, 0, 0, 0, 1, 0, 0, 2, 1, 0])"
            ]
          },
          "metadata": {},
          "execution_count": 70
        }
      ]
    },
    {
      "cell_type": "code",
      "source": [
        "np.all(decision == model.predict(X_test))"
      ],
      "metadata": {
        "colab": {
          "base_uri": "https://localhost:8080/"
        },
        "id": "F9FL4yt30dvc",
        "outputId": "04018b3f-9b1d-4daa-f5fc-980089721ada"
      },
      "execution_count": 71,
      "outputs": [
        {
          "output_type": "execute_result",
          "data": {
            "text/plain": [
              "True"
            ]
          },
          "metadata": {},
          "execution_count": 71
        }
      ]
    },
    {
      "cell_type": "code",
      "source": [
        ""
      ],
      "metadata": {
        "id": "nv3mVq_60vSe"
      },
      "execution_count": null,
      "outputs": []
    }
  ]
}