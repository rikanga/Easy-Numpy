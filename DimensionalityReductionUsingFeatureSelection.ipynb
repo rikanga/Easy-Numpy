{
  "cells": [
    {
      "cell_type": "markdown",
      "metadata": {
        "id": "view-in-github",
        "colab_type": "text"
      },
      "source": [
        "<a href=\"https://colab.research.google.com/github/rikanga/Easy-Numpy/blob/main/DimensionalityReductionUsingFeatureSelection.ipynb\" target=\"_parent\"><img src=\"https://colab.research.google.com/assets/colab-badge.svg\" alt=\"Open In Colab\"/></a>"
      ]
    },
    {
      "cell_type": "markdown",
      "metadata": {
        "id": "y2B_-WT36O-v"
      },
      "source": [
        "# Dimentionality Reduction Using Feature Selection\n",
        "\n",
        "Deux façons de réduire la dimension:\n",
        "\n",
        "* Avec du feature extraction(PCA, KernelPCA, NMF, TruncatedSVD, LineaderDiscriminantAnalysis ...)\n",
        "* Et avec du feature selection que nous voyons maintenant\n",
        "\n",
        "Ici nous allons  voir comment récupérer certaines fonctionnalités en se basant sur la qualité de ce dernières, sur les caractéristiques les plus informatives\n",
        "\n",
        "Trois methodes dans le feature selection:\n",
        "\n",
        "* filter\n",
        "* wrapper\n",
        "* embadded\n",
        "\n",
        "La methode **filter**, Sélectionne les caractéristiques importantes en se basant sur les propriétés statistiques;\n",
        "\n",
        "La methode **wrapper**, Trouve un échantillon des données qui permettrai d'avoir une haute qualité de la prédiction\n",
        "\n",
        "## 10.1 Thresholding Numerical Feature Variance\n",
        "\n",
        "**Problème**\n",
        "\n",
        "Vous disposez d'un ensemble d'entités numériques et souhaitez supprimer celles dont la variance est faible (c'est-à-dire qui contiennent probablement peu d'informations).\n",
        "\n",
        "**Solution**\n",
        "\n",
        "Sélectionnez un sous-ensemble de caractéristiques avec des variances supérieures à un seuil donné :"
      ]
    },
    {
      "cell_type": "code",
      "source": [
        "import numpy as np, pandas as pd, matplotlib.pyplot as plt"
      ],
      "metadata": {
        "id": "_KbILQSt_FQo"
      },
      "execution_count": 12,
      "outputs": []
    },
    {
      "cell_type": "code",
      "execution_count": 1,
      "metadata": {
        "id": "LEiitomn6O-1"
      },
      "outputs": [],
      "source": [
        "# Load libraries\n",
        "from sklearn.datasets import load_iris\n",
        "from sklearn.feature_selection import VarianceThreshold"
      ]
    },
    {
      "cell_type": "code",
      "source": [
        "#  Load data\n",
        "iris = load_iris()"
      ],
      "metadata": {
        "id": "cqOR-Rqr8Oie"
      },
      "execution_count": 2,
      "outputs": []
    },
    {
      "cell_type": "code",
      "source": [
        "# Create features and targets\n",
        "features = iris.data\n",
        "target = iris.target"
      ],
      "metadata": {
        "id": "iGqrzndj8zfp"
      },
      "execution_count": 4,
      "outputs": []
    },
    {
      "cell_type": "code",
      "source": [
        "# Create thresholder\n",
        "tresholder = VarianceThreshold(threshold=0.5)"
      ],
      "metadata": {
        "id": "byaBORy588QI"
      },
      "execution_count": 5,
      "outputs": []
    },
    {
      "cell_type": "code",
      "source": [
        "# Create high variance feature matrix\n",
        "features_high_variance = tresholder.fit_transform(features)"
      ],
      "metadata": {
        "id": "WbGegUfj-O3b"
      },
      "execution_count": 6,
      "outputs": []
    },
    {
      "cell_type": "code",
      "source": [
        "print(\"Original dimension\", features.shape)\n",
        "print(\"Dimension Selected\", features_high_variance.shape)"
      ],
      "metadata": {
        "colab": {
          "base_uri": "https://localhost:8080/"
        },
        "id": "HPr4t0Xf-hXl",
        "outputId": "7c191774-91ae-48a4-b893-a8df028ccb6a"
      },
      "execution_count": 8,
      "outputs": [
        {
          "output_type": "stream",
          "name": "stdout",
          "text": [
            "Original dimension (150, 4)\n",
            "Dimension Selected (150, 3)\n"
          ]
        }
      ]
    },
    {
      "cell_type": "code",
      "source": [
        "features[:5]"
      ],
      "metadata": {
        "colab": {
          "base_uri": "https://localhost:8080/"
        },
        "id": "Lonp2cKO-oaV",
        "outputId": "d27dfc57-bb8c-4ac4-bd64-f9fa8ff0c104"
      },
      "execution_count": 9,
      "outputs": [
        {
          "output_type": "execute_result",
          "data": {
            "text/plain": [
              "array([[5.1, 3.5, 1.4, 0.2],\n",
              "       [4.9, 3. , 1.4, 0.2],\n",
              "       [4.7, 3.2, 1.3, 0.2],\n",
              "       [4.6, 3.1, 1.5, 0.2],\n",
              "       [5. , 3.6, 1.4, 0.2]])"
            ]
          },
          "metadata": {},
          "execution_count": 9
        }
      ]
    },
    {
      "cell_type": "code",
      "source": [
        "features_high_variance[:5]"
      ],
      "metadata": {
        "colab": {
          "base_uri": "https://localhost:8080/"
        },
        "id": "hh74rkAJ-7tr",
        "outputId": "3b4d8311-1c11-479f-849a-91a914004f91"
      },
      "execution_count": 11,
      "outputs": [
        {
          "output_type": "execute_result",
          "data": {
            "text/plain": [
              "array([[5.1, 1.4, 0.2],\n",
              "       [4.9, 1.4, 0.2],\n",
              "       [4.7, 1.3, 0.2],\n",
              "       [4.6, 1.5, 0.2],\n",
              "       [5. , 1.4, 0.2]])"
            ]
          },
          "metadata": {},
          "execution_count": 11
        }
      ]
    },
    {
      "cell_type": "code",
      "source": [
        "np.var(features, axis=0)"
      ],
      "metadata": {
        "colab": {
          "base_uri": "https://localhost:8080/"
        },
        "id": "JuArSHju--7K",
        "outputId": "7ba7f370-8149-4bbc-d3c7-b39232aca986"
      },
      "execution_count": 16,
      "outputs": [
        {
          "output_type": "execute_result",
          "data": {
            "text/plain": [
              "array([0.68112222, 0.18871289, 3.09550267, 0.57713289])"
            ]
          },
          "metadata": {},
          "execution_count": 16
        }
      ]
    },
    {
      "cell_type": "code",
      "source": [
        "# Show the variance\n",
        "tresholder.fit(features).variances_"
      ],
      "metadata": {
        "colab": {
          "base_uri": "https://localhost:8080/"
        },
        "id": "nkSNolty_PEu",
        "outputId": "87ab5eae-db1e-4704-ea5d-0426934983d0"
      },
      "execution_count": 20,
      "outputs": [
        {
          "output_type": "execute_result",
          "data": {
            "text/plain": [
              "array([0.68112222, 0.18871289, 3.09550267, 0.57713289])"
            ]
          },
          "metadata": {},
          "execution_count": 20
        }
      ]
    },
    {
      "cell_type": "code",
      "source": [
        ""
      ],
      "metadata": {
        "id": "82ww6Mz3AJXt"
      },
      "execution_count": null,
      "outputs": []
    }
  ],
  "metadata": {
    "kernelspec": {
      "display_name": "Python 3",
      "language": "python",
      "name": "python3"
    },
    "language_info": {
      "codemirror_mode": {
        "name": "ipython",
        "version": 3
      },
      "file_extension": ".py",
      "mimetype": "text/x-python",
      "name": "python",
      "nbconvert_exporter": "python",
      "pygments_lexer": "ipython3",
      "version": "3.8.10"
    },
    "colab": {
      "name": "DimensionalityReductionUsingFeatureSelection.ipynb",
      "provenance": [],
      "include_colab_link": true
    }
  },
  "nbformat": 4,
  "nbformat_minor": 0
}