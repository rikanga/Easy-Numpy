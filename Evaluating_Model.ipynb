{
  "cells": [
    {
      "cell_type": "markdown",
      "metadata": {
        "id": "view-in-github",
        "colab_type": "text"
      },
      "source": [
        "<a href=\"https://colab.research.google.com/github/rikanga/Easy-Numpy/blob/main/Evaluating_Model.ipynb\" target=\"_parent\"><img src=\"https://colab.research.google.com/assets/colab-badge.svg\" alt=\"Open In Colab\"/></a>"
      ]
    },
    {
      "cell_type": "markdown",
      "metadata": {
        "id": "C4EkGKNTQWv6"
      },
      "source": [
        "# **Chap 11. Evaluating Model**\n",
        "\n",
        "## Cross-Validation Model\n",
        "\n",
        "**Problème**\n",
        "\n",
        "On veut évaluer comment son modèle marchera dans la vraie vie\n",
        "\n",
        "**Solution**\n",
        "\n",
        "On va construire un **pipeline** qui va faire du pré-traitement, le choix du modèle et son entrainement puis l'évaluation du modèle en utilisant la methode de la **cross-validation**\n"
      ]
    },
    {
      "cell_type": "code",
      "execution_count": 1,
      "metadata": {
        "id": "gSHz-ag7QWv-"
      },
      "outputs": [],
      "source": [
        "# Load librairies\n",
        "from sklearn import datasets\n",
        "from sklearn.preprocessing import StandardScaler\n",
        "from sklearn import metrics\n",
        "from sklearn.linear_model import LogisticRegression\n",
        "from sklearn.model_selection import KFold, cross_val_score\n",
        "from sklearn.pipeline import make_pipeline"
      ]
    },
    {
      "cell_type": "code",
      "execution_count": 2,
      "metadata": {
        "id": "-6Px4lGyQWwA"
      },
      "outputs": [],
      "source": [
        "# Load data\n",
        "digits = datasets.load_digits()\n",
        "\n",
        "# Create feature matrix\n",
        "features = digits.data\n",
        "\n",
        "# Create tlarget vector\n",
        "target = digits.target"
      ]
    },
    {
      "cell_type": "code",
      "execution_count": 3,
      "metadata": {
        "id": "7crFkKKEQWwC"
      },
      "outputs": [],
      "source": [
        "# Create Standardizer\n",
        "scaler = StandardScaler()"
      ]
    },
    {
      "cell_type": "code",
      "execution_count": 4,
      "metadata": {
        "id": "cWXjZdD-QWwD"
      },
      "outputs": [],
      "source": [
        "# Create logistic regression\n",
        "logreg = LogisticRegression()"
      ]
    },
    {
      "cell_type": "code",
      "execution_count": 5,
      "metadata": {
        "id": "TLpI50dRQWwD"
      },
      "outputs": [],
      "source": [
        "# Create pipeline\n",
        "pipeline = make_pipeline(scaler, logreg)"
      ]
    },
    {
      "cell_type": "code",
      "execution_count": 6,
      "metadata": {
        "id": "pHwAUPGQQWwF"
      },
      "outputs": [],
      "source": [
        "# Create K-fold cross-validation\n",
        "kfold = KFold(n_splits=10, shuffle=True, random_state=1)"
      ]
    },
    {
      "cell_type": "code",
      "execution_count": 7,
      "metadata": {
        "id": "hlBNJv1QQWwF"
      },
      "outputs": [],
      "source": [
        "# Create cross-validation\n",
        "cv_results = cross_val_score(\n",
        "    pipeline,\n",
        "    features, \n",
        "    target,\n",
        "    cv=kfold,\n",
        "    scoring='accuracy',\n",
        "    n_jobs=-1\n",
        ")"
      ]
    },
    {
      "cell_type": "code",
      "execution_count": 8,
      "metadata": {
        "colab": {
          "base_uri": "https://localhost:8080/"
        },
        "id": "L9zKYuS2QWwI",
        "outputId": "de004289-9027-4b9b-d379-c21ce6a23c45"
      },
      "outputs": [
        {
          "output_type": "execute_result",
          "data": {
            "text/plain": [
              "array([0.97777778, 0.98888889, 0.96111111, 0.94444444, 0.97777778,\n",
              "       0.98333333, 0.95555556, 0.98882682, 0.97765363, 0.93854749])"
            ]
          },
          "metadata": {},
          "execution_count": 8
        }
      ],
      "source": [
        "# Show cross-validation result\n",
        "cv_results"
      ]
    },
    {
      "cell_type": "code",
      "execution_count": 9,
      "metadata": {
        "colab": {
          "base_uri": "https://localhost:8080/"
        },
        "id": "4NeDX4SdQWwK",
        "outputId": "132ccbcb-4146-4683-cf17-6216f7718d2a"
      },
      "outputs": [
        {
          "output_type": "execute_result",
          "data": {
            "text/plain": [
              "0.9693916821849783"
            ]
          },
          "metadata": {},
          "execution_count": 9
        }
      ],
      "source": [
        "# calculate the cv's mean\n",
        "cv_results.mean()"
      ]
    },
    {
      "cell_type": "code",
      "execution_count": 10,
      "metadata": {
        "id": "9HCufLsvQWwL"
      },
      "outputs": [],
      "source": [
        "# Importing library\n",
        "from sklearn.model_selection import train_test_split"
      ]
    },
    {
      "cell_type": "code",
      "execution_count": 11,
      "metadata": {
        "id": "00YQ7yBqQWwM"
      },
      "outputs": [],
      "source": [
        "# Create training adn test set\n",
        "features_train, features_test, target_train, target_test = train_test_split(features,\n",
        "                                                                           target, test_size=0.1, random_state=1)"
      ]
    },
    {
      "cell_type": "code",
      "execution_count": 12,
      "metadata": {
        "colab": {
          "base_uri": "https://localhost:8080/"
        },
        "id": "RAmBwKckQWwN",
        "outputId": "1ef10866-85e4-44e5-dce9-b64731b6ff9c"
      },
      "outputs": [
        {
          "output_type": "execute_result",
          "data": {
            "text/plain": [
              "StandardScaler()"
            ]
          },
          "metadata": {},
          "execution_count": 12
        }
      ],
      "source": [
        "# Fit standardizer to training data\n",
        "scaler.fit(features_train, target_train)"
      ]
    },
    {
      "cell_type": "code",
      "execution_count": 13,
      "metadata": {
        "id": "4tVBT-keQWwO"
      },
      "outputs": [],
      "source": [
        "# Apply standardize transformation to both training and test set\n",
        "features_train_std = scaler.transform(features_train)\n",
        "features_test_std = scaler.transform(features_test)"
      ]
    },
    {
      "cell_type": "code",
      "execution_count": 14,
      "metadata": {
        "id": "2cSoEyY0QWwO"
      },
      "outputs": [],
      "source": [
        "# Create pipeline\n",
        "pipeline = make_pipeline(scaler, logreg)"
      ]
    },
    {
      "cell_type": "code",
      "execution_count": 15,
      "metadata": {
        "id": "UnU3Raf4QWwP"
      },
      "outputs": [],
      "source": [
        "# Do k-fold cross-validation\n",
        "cv_results = cross_val_score(\n",
        "    pipeline,\n",
        "    features_train_std,\n",
        "    target_train,\n",
        "    cv=kfold,\n",
        "    scoring='accuracy',\n",
        "    n_jobs=-1\n",
        ")"
      ]
    },
    {
      "cell_type": "code",
      "execution_count": 16,
      "metadata": {
        "colab": {
          "base_uri": "https://localhost:8080/"
        },
        "id": "u6ydWv9LQWwQ",
        "outputId": "183f6324-4fe2-474d-8ad0-839ac69c9133"
      },
      "outputs": [
        {
          "output_type": "execute_result",
          "data": {
            "text/plain": [
              "array([0.98765432, 0.9691358 , 0.97530864, 0.9382716 , 0.94444444,\n",
              "       0.98148148, 0.95679012, 0.95652174, 0.98136646, 0.95031056])"
            ]
          },
          "metadata": {},
          "execution_count": 16
        }
      ],
      "source": [
        "# Show the k-fold cross-validation values\n",
        "cv_results"
      ]
    },
    {
      "cell_type": "code",
      "execution_count": 17,
      "metadata": {
        "colab": {
          "base_uri": "https://localhost:8080/"
        },
        "id": "yeBwxxq3QWwS",
        "outputId": "8c8bdf5b-a782-49ff-922e-b7893a61ddb1"
      },
      "outputs": [
        {
          "output_type": "execute_result",
          "data": {
            "text/plain": [
              "0.9641285177517063"
            ]
          },
          "metadata": {},
          "execution_count": 17
        }
      ],
      "source": [
        "# Let calculate the k-fold cross-validation mean\n",
        "cv_results.mean()"
      ]
    },
    {
      "cell_type": "markdown",
      "source": [
        "## 11.2 Création d'un modèle de régression de base\n",
        "\n",
        "\n",
        "**Problème**\n",
        "\n",
        "Vous voulez un modèle de régression de base simple à comparer à votre modèle.\n",
        "\n",
        "**Solution**\n",
        "\n",
        "Utiliser le modèle DummyRegressor de sckit-learn pour créer un modèle simple à utiliser comme modèle de base\n",
        "\n"
      ],
      "metadata": {
        "id": "59ziKt7QQ2PU"
      }
    },
    {
      "cell_type": "code",
      "execution_count": 18,
      "metadata": {
        "id": "KD4OaX9ZQWwS"
      },
      "outputs": [],
      "source": [
        "# Load libraries\n",
        "from sklearn.datasets import load_boston\n",
        "from sklearn.model_selection import train_test_split\n",
        "from sklearn.dummy import DummyRegressor"
      ]
    },
    {
      "cell_type": "code",
      "source": [
        "# Load data\n",
        "boston = load_boston()"
      ],
      "metadata": {
        "colab": {
          "base_uri": "https://localhost:8080/"
        },
        "id": "yXXd5gBVR183",
        "outputId": "59dfdcb0-1e01-49ea-df2c-a8f31d77aa5c"
      },
      "execution_count": 19,
      "outputs": [
        {
          "output_type": "stream",
          "name": "stderr",
          "text": [
            "/usr/local/lib/python3.7/dist-packages/sklearn/utils/deprecation.py:87: FutureWarning: Function load_boston is deprecated; `load_boston` is deprecated in 1.0 and will be removed in 1.2.\n",
            "\n",
            "    The Boston housing prices dataset has an ethical problem. You can refer to\n",
            "    the documentation of this function for further details.\n",
            "\n",
            "    The scikit-learn maintainers therefore strongly discourage the use of this\n",
            "    dataset unless the purpose of the code is to study and educate about\n",
            "    ethical issues in data science and machine learning.\n",
            "\n",
            "    In this special case, you can fetch the dataset from the original\n",
            "    source::\n",
            "\n",
            "        import pandas as pd\n",
            "        import numpy as np\n",
            "\n",
            "\n",
            "        data_url = \"http://lib.stat.cmu.edu/datasets/boston\"\n",
            "        raw_df = pd.read_csv(data_url, sep=\"\\s+\", skiprows=22, header=None)\n",
            "        data = np.hstack([raw_df.values[::2, :], raw_df.values[1::2, :2]])\n",
            "        target = raw_df.values[1::2, 2]\n",
            "\n",
            "    Alternative datasets include the California housing dataset (i.e.\n",
            "    :func:`~sklearn.datasets.fetch_california_housing`) and the Ames housing\n",
            "    dataset. You can load the datasets as follows::\n",
            "\n",
            "        from sklearn.datasets import fetch_california_housing\n",
            "        housing = fetch_california_housing()\n",
            "\n",
            "    for the California housing dataset and::\n",
            "\n",
            "        from sklearn.datasets import fetch_openml\n",
            "        housing = fetch_openml(name=\"house_prices\", as_frame=True)\n",
            "\n",
            "    for the Ames housing dataset.\n",
            "    \n",
            "  warnings.warn(msg, category=FutureWarning)\n"
          ]
        }
      ]
    },
    {
      "cell_type": "code",
      "source": [
        "# Create features\n",
        "features, target = boston.data, boston.target"
      ],
      "metadata": {
        "id": "exOcybL6SIM7"
      },
      "execution_count": 20,
      "outputs": []
    },
    {
      "cell_type": "code",
      "source": [
        "# feature's shape\n",
        "features.shape"
      ],
      "metadata": {
        "colab": {
          "base_uri": "https://localhost:8080/"
        },
        "id": "rXbnYGOaSR3D",
        "outputId": "efc61162-5ab1-4cc9-e862-eb14db3d6b15"
      },
      "execution_count": 21,
      "outputs": [
        {
          "output_type": "execute_result",
          "data": {
            "text/plain": [
              "(506, 13)"
            ]
          },
          "metadata": {},
          "execution_count": 21
        }
      ]
    },
    {
      "cell_type": "code",
      "source": [
        "# Make test and training split\n",
        "features_train, features_test, target_train, target_test = train_test_split(\n",
        "    features, target, random_state=0\n",
        ")"
      ],
      "metadata": {
        "id": "QO8r0iYsSWVA"
      },
      "execution_count": 22,
      "outputs": []
    },
    {
      "cell_type": "code",
      "source": [
        "# Create a dummy regressor\n",
        "dummy = DummyRegressor(strategy='mean')"
      ],
      "metadata": {
        "id": "UruXlBHESnNA"
      },
      "execution_count": 25,
      "outputs": []
    },
    {
      "cell_type": "code",
      "source": [
        "# 'Train' dummy regressor\n",
        "dummy.fit(features_train, target_train)"
      ],
      "metadata": {
        "colab": {
          "base_uri": "https://localhost:8080/"
        },
        "id": "FdB1VArhVhpP",
        "outputId": "d03e3d98-5964-4b05-eda6-37f50639a614"
      },
      "execution_count": 26,
      "outputs": [
        {
          "output_type": "execute_result",
          "data": {
            "text/plain": [
              "DummyRegressor()"
            ]
          },
          "metadata": {},
          "execution_count": 26
        }
      ]
    },
    {
      "cell_type": "code",
      "source": [
        "# Get R-squared score\n",
        "dummy.score(features_train, target_train)"
      ],
      "metadata": {
        "colab": {
          "base_uri": "https://localhost:8080/"
        },
        "id": "IGPcJmfmVu-9",
        "outputId": "8010af5e-1901-44ab-a021-44c6499143be"
      },
      "execution_count": 27,
      "outputs": [
        {
          "output_type": "execute_result",
          "data": {
            "text/plain": [
              "0.0"
            ]
          },
          "metadata": {},
          "execution_count": 27
        }
      ]
    },
    {
      "cell_type": "markdown",
      "source": [
        "**Let create a linear model to compare to dummy regressor**"
      ],
      "metadata": {
        "id": "tFkNabrmV-6a"
      }
    },
    {
      "cell_type": "code",
      "source": [
        "# Load libray \n",
        "from sklearn.linear_model import LinearRegression"
      ],
      "metadata": {
        "id": "lVExnpwrV9DD"
      },
      "execution_count": 28,
      "outputs": []
    },
    {
      "cell_type": "code",
      "source": [
        "# Create and \"Train\" the linear model\n",
        "linear = LinearRegression()\n",
        "\n",
        "# 'train' the model\n",
        "linear.fit(features_train, target_train)"
      ],
      "metadata": {
        "colab": {
          "base_uri": "https://localhost:8080/"
        },
        "id": "bIv01c3IWPpf",
        "outputId": "c13fe38b-f4b6-4d4b-bede-33698ff7f235"
      },
      "execution_count": 29,
      "outputs": [
        {
          "output_type": "execute_result",
          "data": {
            "text/plain": [
              "LinearRegression()"
            ]
          },
          "metadata": {},
          "execution_count": 29
        }
      ]
    },
    {
      "cell_type": "code",
      "source": [
        "# Get R-squared score for linear model\n",
        "linear.score(features_train, target_train)"
      ],
      "metadata": {
        "colab": {
          "base_uri": "https://localhost:8080/"
        },
        "id": "USLIYZI4Wc-n",
        "outputId": "d29c1436-b21d-4cdb-981b-9acf5b2ecbdd"
      },
      "execution_count": 30,
      "outputs": [
        {
          "output_type": "execute_result",
          "data": {
            "text/plain": [
              "0.7697699488741149"
            ]
          },
          "metadata": {},
          "execution_count": 30
        }
      ]
    },
    {
      "cell_type": "markdown",
      "source": [
        "**NOTE**\n",
        "\n",
        "**DummyRegresoor**, Nous permet de créer un modèke de base pour faire le test avec d'autres modèles pour évaluer la performance de ces derniers"
      ],
      "metadata": {
        "id": "WsMvp04DWo6F"
      }
    },
    {
      "cell_type": "markdown",
      "source": [
        "## Créer un modèle de base pour la classification\n",
        "\n",
        "**Problème**\n",
        "\n",
        "Créer un modèle de base pour la classification à comparer avec d'autres modèles\n",
        "\n",
        "**Solution**\n",
        "\n",
        "Nous allons utiliser la classe DummyClassifier de scikit-learn"
      ],
      "metadata": {
        "id": "wDyN2hgucOn5"
      }
    },
    {
      "cell_type": "code",
      "source": [
        "# Load librairies\n",
        "from sklearn.datasets import load_iris\n",
        "from sklearn.dummy import DummyClassifier"
      ],
      "metadata": {
        "id": "uRFvGvvaWkDr"
      },
      "execution_count": 31,
      "outputs": []
    },
    {
      "cell_type": "code",
      "source": [
        "# Load data\n",
        "iris = load_iris()"
      ],
      "metadata": {
        "id": "gSeUFaUGdE3C"
      },
      "execution_count": 32,
      "outputs": []
    },
    {
      "cell_type": "code",
      "source": [
        ""
      ],
      "metadata": {
        "id": "0172B91HdIxK"
      },
      "execution_count": null,
      "outputs": []
    }
  ],
  "metadata": {
    "kernelspec": {
      "display_name": "Python 3",
      "language": "python",
      "name": "python3"
    },
    "language_info": {
      "codemirror_mode": {
        "name": "ipython",
        "version": 3
      },
      "file_extension": ".py",
      "mimetype": "text/x-python",
      "name": "python",
      "nbconvert_exporter": "python",
      "pygments_lexer": "ipython3",
      "version": "3.8.10"
    },
    "colab": {
      "name": "Evaluating Model.ipynb",
      "provenance": [],
      "include_colab_link": true
    }
  },
  "nbformat": 4,
  "nbformat_minor": 0
}