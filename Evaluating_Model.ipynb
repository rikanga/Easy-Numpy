{
  "cells": [
    {
      "cell_type": "markdown",
      "metadata": {
        "id": "view-in-github",
        "colab_type": "text"
      },
      "source": [
        "<a href=\"https://colab.research.google.com/github/rikanga/Easy-Numpy/blob/main/Evaluating_Model.ipynb\" target=\"_parent\"><img src=\"https://colab.research.google.com/assets/colab-badge.svg\" alt=\"Open In Colab\"/></a>"
      ]
    },
    {
      "cell_type": "markdown",
      "metadata": {
        "id": "C4EkGKNTQWv6"
      },
      "source": [
        "# **Chap 11. Evaluating Model**\n",
        "\n",
        "## Cross-Validation Model\n",
        "\n",
        "**Problème**\n",
        "\n",
        "On veut évaluer comment son modèle marchera dans la vraie vie\n",
        "\n",
        "**Solution**\n",
        "\n",
        "On va construire un **pipeline** qui va faire du pré-traitement, le choix du modèle et son entrainement puis l'évaluation du modèle en utilisant la methode de la **cross-validation**\n"
      ]
    },
    {
      "cell_type": "code",
      "execution_count": 1,
      "metadata": {
        "id": "gSHz-ag7QWv-"
      },
      "outputs": [],
      "source": [
        "# Load librairies\n",
        "from sklearn import datasets\n",
        "from sklearn.preprocessing import StandardScaler\n",
        "from sklearn import metrics\n",
        "from sklearn.linear_model import LogisticRegression\n",
        "from sklearn.model_selection import KFold, cross_val_score\n",
        "from sklearn.pipeline import make_pipeline"
      ]
    },
    {
      "cell_type": "code",
      "execution_count": 2,
      "metadata": {
        "id": "-6Px4lGyQWwA"
      },
      "outputs": [],
      "source": [
        "# Load data\n",
        "digits = datasets.load_digits()\n",
        "\n",
        "# Create feature matrix\n",
        "features = digits.data\n",
        "\n",
        "# Create tlarget vector\n",
        "target = digits.target"
      ]
    },
    {
      "cell_type": "code",
      "execution_count": 3,
      "metadata": {
        "id": "7crFkKKEQWwC"
      },
      "outputs": [],
      "source": [
        "# Create Standardizer\n",
        "scaler = StandardScaler()"
      ]
    },
    {
      "cell_type": "code",
      "execution_count": 4,
      "metadata": {
        "id": "cWXjZdD-QWwD"
      },
      "outputs": [],
      "source": [
        "# Create logistic regression\n",
        "logreg = LogisticRegression()"
      ]
    },
    {
      "cell_type": "code",
      "execution_count": 5,
      "metadata": {
        "id": "TLpI50dRQWwD"
      },
      "outputs": [],
      "source": [
        "# Create pipeline\n",
        "pipeline = make_pipeline(scaler, logreg)"
      ]
    },
    {
      "cell_type": "code",
      "execution_count": 6,
      "metadata": {
        "id": "pHwAUPGQQWwF"
      },
      "outputs": [],
      "source": [
        "# Create K-fold cross-validation\n",
        "kfold = KFold(n_splits=10, shuffle=True, random_state=1)"
      ]
    },
    {
      "cell_type": "code",
      "execution_count": 7,
      "metadata": {
        "id": "hlBNJv1QQWwF"
      },
      "outputs": [],
      "source": [
        "# Create cross-validation\n",
        "cv_results = cross_val_score(\n",
        "    pipeline,\n",
        "    features, \n",
        "    target,\n",
        "    cv=kfold,\n",
        "    scoring='accuracy',\n",
        "    n_jobs=-1\n",
        ")"
      ]
    },
    {
      "cell_type": "code",
      "execution_count": 8,
      "metadata": {
        "colab": {
          "base_uri": "https://localhost:8080/"
        },
        "id": "L9zKYuS2QWwI",
        "outputId": "de004289-9027-4b9b-d379-c21ce6a23c45"
      },
      "outputs": [
        {
          "output_type": "execute_result",
          "data": {
            "text/plain": [
              "array([0.97777778, 0.98888889, 0.96111111, 0.94444444, 0.97777778,\n",
              "       0.98333333, 0.95555556, 0.98882682, 0.97765363, 0.93854749])"
            ]
          },
          "metadata": {},
          "execution_count": 8
        }
      ],
      "source": [
        "# Show cross-validation result\n",
        "cv_results"
      ]
    },
    {
      "cell_type": "code",
      "execution_count": 9,
      "metadata": {
        "colab": {
          "base_uri": "https://localhost:8080/"
        },
        "id": "4NeDX4SdQWwK",
        "outputId": "132ccbcb-4146-4683-cf17-6216f7718d2a"
      },
      "outputs": [
        {
          "output_type": "execute_result",
          "data": {
            "text/plain": [
              "0.9693916821849783"
            ]
          },
          "metadata": {},
          "execution_count": 9
        }
      ],
      "source": [
        "# calculate the cv's mean\n",
        "cv_results.mean()"
      ]
    },
    {
      "cell_type": "code",
      "execution_count": 10,
      "metadata": {
        "id": "9HCufLsvQWwL"
      },
      "outputs": [],
      "source": [
        "# Importing library\n",
        "from sklearn.model_selection import train_test_split"
      ]
    },
    {
      "cell_type": "code",
      "execution_count": 11,
      "metadata": {
        "id": "00YQ7yBqQWwM"
      },
      "outputs": [],
      "source": [
        "# Create training adn test set\n",
        "features_train, features_test, target_train, target_test = train_test_split(features,\n",
        "                                                                           target, test_size=0.1, random_state=1)"
      ]
    },
    {
      "cell_type": "code",
      "execution_count": 12,
      "metadata": {
        "colab": {
          "base_uri": "https://localhost:8080/"
        },
        "id": "RAmBwKckQWwN",
        "outputId": "1ef10866-85e4-44e5-dce9-b64731b6ff9c"
      },
      "outputs": [
        {
          "output_type": "execute_result",
          "data": {
            "text/plain": [
              "StandardScaler()"
            ]
          },
          "metadata": {},
          "execution_count": 12
        }
      ],
      "source": [
        "# Fit standardizer to training data\n",
        "scaler.fit(features_train, target_train)"
      ]
    },
    {
      "cell_type": "code",
      "execution_count": 13,
      "metadata": {
        "id": "4tVBT-keQWwO"
      },
      "outputs": [],
      "source": [
        "# Apply standardize transformation to both training and test set\n",
        "features_train_std = scaler.transform(features_train)\n",
        "features_test_std = scaler.transform(features_test)"
      ]
    },
    {
      "cell_type": "code",
      "execution_count": 14,
      "metadata": {
        "id": "2cSoEyY0QWwO"
      },
      "outputs": [],
      "source": [
        "# Create pipeline\n",
        "pipeline = make_pipeline(scaler, logreg)"
      ]
    },
    {
      "cell_type": "code",
      "execution_count": 15,
      "metadata": {
        "id": "UnU3Raf4QWwP"
      },
      "outputs": [],
      "source": [
        "# Do k-fold cross-validation\n",
        "cv_results = cross_val_score(\n",
        "    pipeline,\n",
        "    features_train_std,\n",
        "    target_train,\n",
        "    cv=kfold,\n",
        "    scoring='accuracy',\n",
        "    n_jobs=-1\n",
        ")"
      ]
    },
    {
      "cell_type": "code",
      "execution_count": 16,
      "metadata": {
        "colab": {
          "base_uri": "https://localhost:8080/"
        },
        "id": "u6ydWv9LQWwQ",
        "outputId": "183f6324-4fe2-474d-8ad0-839ac69c9133"
      },
      "outputs": [
        {
          "output_type": "execute_result",
          "data": {
            "text/plain": [
              "array([0.98765432, 0.9691358 , 0.97530864, 0.9382716 , 0.94444444,\n",
              "       0.98148148, 0.95679012, 0.95652174, 0.98136646, 0.95031056])"
            ]
          },
          "metadata": {},
          "execution_count": 16
        }
      ],
      "source": [
        "# Show the k-fold cross-validation values\n",
        "cv_results"
      ]
    },
    {
      "cell_type": "code",
      "execution_count": 17,
      "metadata": {
        "colab": {
          "base_uri": "https://localhost:8080/"
        },
        "id": "yeBwxxq3QWwS",
        "outputId": "8c8bdf5b-a782-49ff-922e-b7893a61ddb1"
      },
      "outputs": [
        {
          "output_type": "execute_result",
          "data": {
            "text/plain": [
              "0.9641285177517063"
            ]
          },
          "metadata": {},
          "execution_count": 17
        }
      ],
      "source": [
        "# Let calculate the k-fold cross-validation mean\n",
        "cv_results.mean()"
      ]
    },
    {
      "cell_type": "code",
      "execution_count": 17,
      "metadata": {
        "id": "KD4OaX9ZQWwS"
      },
      "outputs": [],
      "source": [
        ""
      ]
    }
  ],
  "metadata": {
    "kernelspec": {
      "display_name": "Python 3",
      "language": "python",
      "name": "python3"
    },
    "language_info": {
      "codemirror_mode": {
        "name": "ipython",
        "version": 3
      },
      "file_extension": ".py",
      "mimetype": "text/x-python",
      "name": "python",
      "nbconvert_exporter": "python",
      "pygments_lexer": "ipython3",
      "version": "3.8.10"
    },
    "colab": {
      "name": "Evaluating Model.ipynb",
      "provenance": [],
      "include_colab_link": true
    }
  },
  "nbformat": 4,
  "nbformat_minor": 0
}