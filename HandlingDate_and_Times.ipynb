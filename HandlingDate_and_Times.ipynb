{
  "nbformat": 4,
  "nbformat_minor": 0,
  "metadata": {
    "colab": {
      "name": "HandlingDate_and_Times",
      "provenance": [],
      "authorship_tag": "ABX9TyPjHAwa1Ch1++Q+3yrOxQqj",
      "include_colab_link": true
    },
    "kernelspec": {
      "name": "python3",
      "display_name": "Python 3"
    },
    "language_info": {
      "name": "python"
    }
  },
  "cells": [
    {
      "cell_type": "markdown",
      "metadata": {
        "id": "view-in-github",
        "colab_type": "text"
      },
      "source": [
        "<a href=\"https://colab.research.google.com/github/rikanga/Easy-Numpy/blob/main/HandlingDate_and_Times.ipynb\" target=\"_parent\"><img src=\"https://colab.research.google.com/assets/colab-badge.svg\" alt=\"Open In Colab\"/></a>"
      ]
    },
    {
      "cell_type": "markdown",
      "source": [
        "# **Handling Dates and Times**\n",
        "\n",
        "## 7.1 Converting Strings to Dates\n",
        "\n",
        "**Problem**\n",
        "\n",
        "Given a vector of strings representing dates and times, you want to transform them\n",
        "into time series data.\n",
        "\n",
        "**Solution**\n",
        "\n",
        "Use pandas’ to_datetime with the format of the date and/or time specified in the\n",
        "format parameter:"
      ],
      "metadata": {
        "id": "doitTBNtoXSt"
      }
    },
    {
      "cell_type": "code",
      "execution_count": 2,
      "metadata": {
        "id": "zKDKLm6dnv0q"
      },
      "outputs": [],
      "source": [
        "# Load libraries\n",
        "import numpy as np, pandas as pd"
      ]
    },
    {
      "cell_type": "code",
      "source": [
        "# Create Date strings\n",
        "date_strings = np.array([\n",
        "                         '03-04-2005 11:35 PM',\n",
        "                         '23-05-2010 12:01 AM',\n",
        "                         '04-09-2009 09:09 PM'])"
      ],
      "metadata": {
        "id": "PUZz2bk4owLr"
      },
      "execution_count": 3,
      "outputs": []
    },
    {
      "cell_type": "code",
      "source": [
        "[pd.to_datetime(date) for date in date_strings]"
      ],
      "metadata": {
        "colab": {
          "base_uri": "https://localhost:8080/"
        },
        "id": "GY7B-dW8pWJi",
        "outputId": "4a22bd91-6ccf-4e73-8fdd-17d1d4df5cea"
      },
      "execution_count": 5,
      "outputs": [
        {
          "output_type": "execute_result",
          "data": {
            "text/plain": [
              "[Timestamp('2005-03-04 23:35:00'),\n",
              " Timestamp('2010-05-23 00:01:00'),\n",
              " Timestamp('2009-04-09 21:09:00')]"
            ]
          },
          "metadata": {},
          "execution_count": 5
        }
      ]
    },
    {
      "cell_type": "code",
      "source": [
        "pd.to_datetime(date_strings)"
      ],
      "metadata": {
        "colab": {
          "base_uri": "https://localhost:8080/"
        },
        "id": "ANsq7nd6pnG8",
        "outputId": "60e4a45f-bad8-4f94-caf2-841cbb488a0b"
      },
      "execution_count": 6,
      "outputs": [
        {
          "output_type": "execute_result",
          "data": {
            "text/plain": [
              "DatetimeIndex(['2005-03-04 23:35:00', '2010-05-23 00:01:00',\n",
              "               '2009-04-09 21:09:00'],\n",
              "              dtype='datetime64[ns]', freq=None)"
            ]
          },
          "metadata": {},
          "execution_count": 6
        }
      ]
    },
    {
      "cell_type": "markdown",
      "source": [
        "## 7.2 Handling Time Zones\n",
        "\n",
        "**Problem**\n",
        "\n",
        "You have time series data and want to add or change time zone information.\n",
        "\n",
        "**Solution**\n",
        "\n",
        "If not specified, pandas objects have no time zone. However, we can add a time zone\n",
        "using tz during creation:"
      ],
      "metadata": {
        "id": "2GmbO-2qqa8X"
      }
    },
    {
      "cell_type": "code",
      "source": [
        "# Create datetime with timezone\n",
        "pd.Timestamp('2017-05-01 06:00:00', tz='Europe/London')"
      ],
      "metadata": {
        "colab": {
          "base_uri": "https://localhost:8080/"
        },
        "id": "mE0KLfgzqA6u",
        "outputId": "56dc4bad-7975-420c-c91d-9100974df419"
      },
      "execution_count": 7,
      "outputs": [
        {
          "output_type": "execute_result",
          "data": {
            "text/plain": [
              "Timestamp('2017-05-01 06:00:00+0100', tz='Europe/London')"
            ]
          },
          "metadata": {},
          "execution_count": 7
        }
      ]
    },
    {
      "cell_type": "code",
      "source": [
        "# Create datetime\n",
        "date = pd.Timestamp('2017-05-01 06:00:00')"
      ],
      "metadata": {
        "id": "1jdZIopgs4TO"
      },
      "execution_count": 8,
      "outputs": []
    },
    {
      "cell_type": "code",
      "source": [
        "# Set time zone\n",
        "date_in_london = date.tz_localize('Europe/London')"
      ],
      "metadata": {
        "id": "4pmciRZntMEj"
      },
      "execution_count": 10,
      "outputs": []
    },
    {
      "cell_type": "code",
      "source": [
        "# Show datetime\n",
        "date_in_london"
      ],
      "metadata": {
        "colab": {
          "base_uri": "https://localhost:8080/"
        },
        "id": "QztkcVTstZ90",
        "outputId": "a2cd1df2-451c-4d59-aa37-3fc2782833ba"
      },
      "execution_count": 11,
      "outputs": [
        {
          "output_type": "execute_result",
          "data": {
            "text/plain": [
              "Timestamp('2017-05-01 06:00:00+0100', tz='Europe/London')"
            ]
          },
          "metadata": {},
          "execution_count": 11
        }
      ]
    },
    {
      "cell_type": "code",
      "source": [
        "# Change the time zone\n",
        "date_in_london.tz_convert('Africa/Kinshasa')"
      ],
      "metadata": {
        "colab": {
          "base_uri": "https://localhost:8080/"
        },
        "id": "Oe56QD3WtesW",
        "outputId": "090b3dd5-5211-48fa-9a15-3ff7af0f428d"
      },
      "execution_count": 14,
      "outputs": [
        {
          "output_type": "execute_result",
          "data": {
            "text/plain": [
              "Timestamp('2017-05-01 06:00:00+0100', tz='Africa/Kinshasa')"
            ]
          },
          "metadata": {},
          "execution_count": 14
        }
      ]
    },
    {
      "cell_type": "code",
      "source": [
        "# Create three date\n",
        "dates = pd.Series(pd.date_range('2/2/2002', periods=3, freq='M'))"
      ],
      "metadata": {
        "id": "4L4VlmssuIPo"
      },
      "execution_count": 16,
      "outputs": []
    },
    {
      "cell_type": "code",
      "source": [
        "dates"
      ],
      "metadata": {
        "colab": {
          "base_uri": "https://localhost:8080/"
        },
        "id": "ylBR8JjQulhQ",
        "outputId": "4b1e13a0-f59a-4a60-b70f-018090030fd3"
      },
      "execution_count": 17,
      "outputs": [
        {
          "output_type": "execute_result",
          "data": {
            "text/plain": [
              "0   2002-02-28\n",
              "1   2002-03-31\n",
              "2   2002-04-30\n",
              "dtype: datetime64[ns]"
            ]
          },
          "metadata": {},
          "execution_count": 17
        }
      ]
    },
    {
      "cell_type": "code",
      "source": [
        "dates.dt.tz_localize('Africa/Kinshasa')"
      ],
      "metadata": {
        "colab": {
          "base_uri": "https://localhost:8080/"
        },
        "id": "BcRxmgMJuodb",
        "outputId": "160918f7-d2dd-416a-c637-ba7809878296"
      },
      "execution_count": 20,
      "outputs": [
        {
          "output_type": "execute_result",
          "data": {
            "text/plain": [
              "0   2002-02-28 00:00:00+01:00\n",
              "1   2002-03-31 00:00:00+01:00\n",
              "2   2002-04-30 00:00:00+01:00\n",
              "dtype: datetime64[ns, Africa/Kinshasa]"
            ]
          },
          "metadata": {},
          "execution_count": 20
        }
      ]
    },
    {
      "cell_type": "code",
      "source": [
        "# All timezone\n",
        "from pytz import all_timezones\n",
        "\n",
        "#SHow timezones\n",
        "all_timezones[:10]"
      ],
      "metadata": {
        "colab": {
          "base_uri": "https://localhost:8080/"
        },
        "id": "y8fcOr3quxNi",
        "outputId": "b0f022a0-4855-428c-e687-b73694b02595"
      },
      "execution_count": 22,
      "outputs": [
        {
          "output_type": "execute_result",
          "data": {
            "text/plain": [
              "['Africa/Abidjan',\n",
              " 'Africa/Accra',\n",
              " 'Africa/Addis_Ababa',\n",
              " 'Africa/Algiers',\n",
              " 'Africa/Asmara',\n",
              " 'Africa/Asmera',\n",
              " 'Africa/Bamako',\n",
              " 'Africa/Bangui',\n",
              " 'Africa/Banjul',\n",
              " 'Africa/Bissau']"
            ]
          },
          "metadata": {},
          "execution_count": 22
        }
      ]
    },
    {
      "cell_type": "markdown",
      "source": [
        "## 7.3 Selecting Dates and Times"
      ],
      "metadata": {
        "id": "RvTygD0IEFfo"
      }
    },
    {
      "cell_type": "code",
      "source": [
        ""
      ],
      "metadata": {
        "id": "d2V8CdSPCvPX"
      },
      "execution_count": null,
      "outputs": []
    }
  ]
}