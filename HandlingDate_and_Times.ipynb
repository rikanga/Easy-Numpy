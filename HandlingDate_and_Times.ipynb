{
  "nbformat": 4,
  "nbformat_minor": 0,
  "metadata": {
    "colab": {
      "name": "HandlingDate_and_Times",
      "provenance": [],
      "authorship_tag": "ABX9TyN9mHJKJdHRCNkhK0pNjEPu",
      "include_colab_link": true
    },
    "kernelspec": {
      "name": "python3",
      "display_name": "Python 3"
    },
    "language_info": {
      "name": "python"
    }
  },
  "cells": [
    {
      "cell_type": "markdown",
      "metadata": {
        "id": "view-in-github",
        "colab_type": "text"
      },
      "source": [
        "<a href=\"https://colab.research.google.com/github/rikanga/Easy-Numpy/blob/main/HandlingDate_and_Times.ipynb\" target=\"_parent\"><img src=\"https://colab.research.google.com/assets/colab-badge.svg\" alt=\"Open In Colab\"/></a>"
      ]
    },
    {
      "cell_type": "markdown",
      "source": [
        "# **Handling Dates and Times**\n",
        "\n",
        "## 7.1 Converting Strings to Dates\n",
        "\n",
        "**Problem**\n",
        "\n",
        "Given a vector of strings representing dates and times, you want to transform them\n",
        "into time series data.\n",
        "\n",
        "**Solution**\n",
        "\n",
        "Use pandas’ to_datetime with the format of the date and/or time specified in the\n",
        "format parameter:"
      ],
      "metadata": {
        "id": "doitTBNtoXSt"
      }
    },
    {
      "cell_type": "code",
      "execution_count": 2,
      "metadata": {
        "id": "zKDKLm6dnv0q"
      },
      "outputs": [],
      "source": [
        "# Load libraries\n",
        "import numpy as np, pandas as pd"
      ]
    },
    {
      "cell_type": "code",
      "source": [
        "# Create Date strings\n",
        "date_strings = np.array([\n",
        "                         '03-04-2005 11:35 PM',\n",
        "                         '23-05-2010 12:01 AM',\n",
        "                         '04-09-2009 09:09 PM'])"
      ],
      "metadata": {
        "id": "PUZz2bk4owLr"
      },
      "execution_count": 3,
      "outputs": []
    },
    {
      "cell_type": "code",
      "source": [
        "[pd.to_datetime(date) for date in date_strings]"
      ],
      "metadata": {
        "colab": {
          "base_uri": "https://localhost:8080/"
        },
        "id": "GY7B-dW8pWJi",
        "outputId": "4a22bd91-6ccf-4e73-8fdd-17d1d4df5cea"
      },
      "execution_count": 5,
      "outputs": [
        {
          "output_type": "execute_result",
          "data": {
            "text/plain": [
              "[Timestamp('2005-03-04 23:35:00'),\n",
              " Timestamp('2010-05-23 00:01:00'),\n",
              " Timestamp('2009-04-09 21:09:00')]"
            ]
          },
          "metadata": {},
          "execution_count": 5
        }
      ]
    },
    {
      "cell_type": "code",
      "source": [
        "pd.to_datetime(date_strings)"
      ],
      "metadata": {
        "colab": {
          "base_uri": "https://localhost:8080/"
        },
        "id": "ANsq7nd6pnG8",
        "outputId": "60e4a45f-bad8-4f94-caf2-841cbb488a0b"
      },
      "execution_count": 6,
      "outputs": [
        {
          "output_type": "execute_result",
          "data": {
            "text/plain": [
              "DatetimeIndex(['2005-03-04 23:35:00', '2010-05-23 00:01:00',\n",
              "               '2009-04-09 21:09:00'],\n",
              "              dtype='datetime64[ns]', freq=None)"
            ]
          },
          "metadata": {},
          "execution_count": 6
        }
      ]
    },
    {
      "cell_type": "markdown",
      "source": [
        "## 7.2 Handling Time Zones\n",
        "\n",
        "**Problem**\n",
        "\n",
        "You have time series data and want to add or change time zone information.\n",
        "\n",
        "**Solution**\n",
        "\n",
        "If not specified, pandas objects have no time zone. However, we can add a time zone\n",
        "using tz during creation:"
      ],
      "metadata": {
        "id": "2GmbO-2qqa8X"
      }
    },
    {
      "cell_type": "code",
      "source": [
        ""
      ],
      "metadata": {
        "id": "mE0KLfgzqA6u"
      },
      "execution_count": null,
      "outputs": []
    }
  ]
}