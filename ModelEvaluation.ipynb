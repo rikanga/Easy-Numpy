{
  "cells": [
    {
      "cell_type": "markdown",
      "metadata": {
        "id": "view-in-github",
        "colab_type": "text"
      },
      "source": [
        "<a href=\"https://colab.research.google.com/github/rikanga/Easy-Numpy/blob/main/ModelEvaluation.ipynb\" target=\"_parent\"><img src=\"https://colab.research.google.com/assets/colab-badge.svg\" alt=\"Open In Colab\"/></a>"
      ]
    },
    {
      "cell_type": "markdown",
      "metadata": {
        "id": "emU-SmyKHtl5"
      },
      "source": [
        "# **Model Evaluation and Improvement**"
      ]
    },
    {
      "cell_type": "code",
      "execution_count": 4,
      "metadata": {
        "id": "TWvhmSSlHjWY"
      },
      "outputs": [],
      "source": [
        "from sklearn.datasets import make_blobs\n",
        "from sklearn.model_selection import train_test_split"
      ]
    },
    {
      "cell_type": "code",
      "execution_count": 5,
      "metadata": {
        "id": "WAGN1pH0IO5K"
      },
      "outputs": [],
      "source": [
        "from sklearn.linear_model import LogisticRegression"
      ]
    },
    {
      "cell_type": "code",
      "execution_count": 6,
      "metadata": {
        "colab": {
          "base_uri": "https://localhost:8080/"
        },
        "id": "3DbRJIqwIVLn",
        "outputId": "17561820-fd4e-4a0d-be17-abfec4380b89"
      },
      "outputs": [
        {
          "output_type": "stream",
          "name": "stdout",
          "text": [
            "Collecting mglearn\n",
            "  Downloading mglearn-0.1.9.tar.gz (540 kB)\n",
            "\u001b[?25l\r\u001b[K     |▋                               | 10 kB 18.2 MB/s eta 0:00:01\r\u001b[K     |█▏                              | 20 kB 21.5 MB/s eta 0:00:01\r\u001b[K     |█▉                              | 30 kB 14.1 MB/s eta 0:00:01\r\u001b[K     |██▍                             | 40 kB 8.9 MB/s eta 0:00:01\r\u001b[K     |███                             | 51 kB 10.3 MB/s eta 0:00:01\r\u001b[K     |███▋                            | 61 kB 11.9 MB/s eta 0:00:01\r\u001b[K     |████▎                           | 71 kB 12.7 MB/s eta 0:00:01\r\u001b[K     |████▉                           | 81 kB 12.1 MB/s eta 0:00:01\r\u001b[K     |█████▌                          | 92 kB 12.9 MB/s eta 0:00:01\r\u001b[K     |██████                          | 102 kB 13.9 MB/s eta 0:00:01\r\u001b[K     |██████▊                         | 112 kB 13.9 MB/s eta 0:00:01\r\u001b[K     |███████▎                        | 122 kB 13.9 MB/s eta 0:00:01\r\u001b[K     |███████▉                        | 133 kB 13.9 MB/s eta 0:00:01\r\u001b[K     |████████▌                       | 143 kB 13.9 MB/s eta 0:00:01\r\u001b[K     |█████████                       | 153 kB 13.9 MB/s eta 0:00:01\r\u001b[K     |█████████▊                      | 163 kB 13.9 MB/s eta 0:00:01\r\u001b[K     |██████████▎                     | 174 kB 13.9 MB/s eta 0:00:01\r\u001b[K     |███████████                     | 184 kB 13.9 MB/s eta 0:00:01\r\u001b[K     |███████████▌                    | 194 kB 13.9 MB/s eta 0:00:01\r\u001b[K     |████████████▏                   | 204 kB 13.9 MB/s eta 0:00:01\r\u001b[K     |████████████▊                   | 215 kB 13.9 MB/s eta 0:00:01\r\u001b[K     |█████████████▍                  | 225 kB 13.9 MB/s eta 0:00:01\r\u001b[K     |██████████████                  | 235 kB 13.9 MB/s eta 0:00:01\r\u001b[K     |██████████████▋                 | 245 kB 13.9 MB/s eta 0:00:01\r\u001b[K     |███████████████▏                | 256 kB 13.9 MB/s eta 0:00:01\r\u001b[K     |███████████████▊                | 266 kB 13.9 MB/s eta 0:00:01\r\u001b[K     |████████████████▍               | 276 kB 13.9 MB/s eta 0:00:01\r\u001b[K     |█████████████████               | 286 kB 13.9 MB/s eta 0:00:01\r\u001b[K     |█████████████████▋              | 296 kB 13.9 MB/s eta 0:00:01\r\u001b[K     |██████████████████▏             | 307 kB 13.9 MB/s eta 0:00:01\r\u001b[K     |██████████████████▉             | 317 kB 13.9 MB/s eta 0:00:01\r\u001b[K     |███████████████████▍            | 327 kB 13.9 MB/s eta 0:00:01\r\u001b[K     |████████████████████            | 337 kB 13.9 MB/s eta 0:00:01\r\u001b[K     |████████████████████▋           | 348 kB 13.9 MB/s eta 0:00:01\r\u001b[K     |█████████████████████▎          | 358 kB 13.9 MB/s eta 0:00:01\r\u001b[K     |█████████████████████▉          | 368 kB 13.9 MB/s eta 0:00:01\r\u001b[K     |██████████████████████▌         | 378 kB 13.9 MB/s eta 0:00:01\r\u001b[K     |███████████████████████         | 389 kB 13.9 MB/s eta 0:00:01\r\u001b[K     |███████████████████████▋        | 399 kB 13.9 MB/s eta 0:00:01\r\u001b[K     |████████████████████████▎       | 409 kB 13.9 MB/s eta 0:00:01\r\u001b[K     |████████████████████████▉       | 419 kB 13.9 MB/s eta 0:00:01\r\u001b[K     |█████████████████████████▌      | 430 kB 13.9 MB/s eta 0:00:01\r\u001b[K     |██████████████████████████      | 440 kB 13.9 MB/s eta 0:00:01\r\u001b[K     |██████████████████████████▊     | 450 kB 13.9 MB/s eta 0:00:01\r\u001b[K     |███████████████████████████▎    | 460 kB 13.9 MB/s eta 0:00:01\r\u001b[K     |████████████████████████████    | 471 kB 13.9 MB/s eta 0:00:01\r\u001b[K     |████████████████████████████▌   | 481 kB 13.9 MB/s eta 0:00:01\r\u001b[K     |█████████████████████████████▏  | 491 kB 13.9 MB/s eta 0:00:01\r\u001b[K     |█████████████████████████████▊  | 501 kB 13.9 MB/s eta 0:00:01\r\u001b[K     |██████████████████████████████▍ | 512 kB 13.9 MB/s eta 0:00:01\r\u001b[K     |███████████████████████████████ | 522 kB 13.9 MB/s eta 0:00:01\r\u001b[K     |███████████████████████████████▌| 532 kB 13.9 MB/s eta 0:00:01\r\u001b[K     |████████████████████████████████| 540 kB 13.9 MB/s \n",
            "\u001b[?25hRequirement already satisfied: numpy in /usr/local/lib/python3.7/dist-packages (from mglearn) (1.21.5)\n",
            "Requirement already satisfied: matplotlib in /usr/local/lib/python3.7/dist-packages (from mglearn) (3.2.2)\n",
            "Requirement already satisfied: scikit-learn in /usr/local/lib/python3.7/dist-packages (from mglearn) (1.0.2)\n",
            "Requirement already satisfied: pandas in /usr/local/lib/python3.7/dist-packages (from mglearn) (1.3.5)\n",
            "Requirement already satisfied: pillow in /usr/local/lib/python3.7/dist-packages (from mglearn) (7.1.2)\n",
            "Requirement already satisfied: cycler in /usr/local/lib/python3.7/dist-packages (from mglearn) (0.11.0)\n",
            "Requirement already satisfied: imageio in /usr/local/lib/python3.7/dist-packages (from mglearn) (2.4.1)\n",
            "Requirement already satisfied: joblib in /usr/local/lib/python3.7/dist-packages (from mglearn) (1.1.0)\n",
            "Requirement already satisfied: kiwisolver>=1.0.1 in /usr/local/lib/python3.7/dist-packages (from matplotlib->mglearn) (1.3.2)\n",
            "Requirement already satisfied: pyparsing!=2.0.4,!=2.1.2,!=2.1.6,>=2.0.1 in /usr/local/lib/python3.7/dist-packages (from matplotlib->mglearn) (3.0.7)\n",
            "Requirement already satisfied: python-dateutil>=2.1 in /usr/local/lib/python3.7/dist-packages (from matplotlib->mglearn) (2.8.2)\n",
            "Requirement already satisfied: six>=1.5 in /usr/local/lib/python3.7/dist-packages (from python-dateutil>=2.1->matplotlib->mglearn) (1.15.0)\n",
            "Requirement already satisfied: pytz>=2017.3 in /usr/local/lib/python3.7/dist-packages (from pandas->mglearn) (2018.9)\n",
            "Requirement already satisfied: scipy>=1.1.0 in /usr/local/lib/python3.7/dist-packages (from scikit-learn->mglearn) (1.4.1)\n",
            "Requirement already satisfied: threadpoolctl>=2.0.0 in /usr/local/lib/python3.7/dist-packages (from scikit-learn->mglearn) (3.1.0)\n",
            "Building wheels for collected packages: mglearn\n",
            "  Building wheel for mglearn (setup.py) ... \u001b[?25l\u001b[?25hdone\n",
            "  Created wheel for mglearn: filename=mglearn-0.1.9-py2.py3-none-any.whl size=582639 sha256=82d56e79fee84e544b5721c8107f059cb292733b7f4394b4daaa8d30cf246fe5\n",
            "  Stored in directory: /root/.cache/pip/wheels/f1/17/e1/1720d6dcd70187b6b6c3750cb3508798f2b1d57c9d3214b08b\n",
            "Successfully built mglearn\n",
            "Installing collected packages: mglearn\n",
            "Successfully installed mglearn-0.1.9\n"
          ]
        }
      ],
      "source": [
        "!pip install mglearn\n",
        "import mglearn"
      ]
    },
    {
      "cell_type": "code",
      "execution_count": 7,
      "metadata": {
        "id": "Ik0Jq-0GIXxn"
      },
      "outputs": [],
      "source": [
        "#create a synthetic dataset\n",
        "X, y = make_blobs(random_state=0)"
      ]
    },
    {
      "cell_type": "code",
      "execution_count": 8,
      "metadata": {
        "id": "Tay86Cg0Iman"
      },
      "outputs": [],
      "source": [
        "# split data and labels into training and test set\n",
        "X_train, X_test, y_train, y_test = train_test_split(X, y, random_state=0)"
      ]
    },
    {
      "cell_type": "code",
      "execution_count": 9,
      "metadata": {
        "id": "vLJI7EB5I1XM"
      },
      "outputs": [],
      "source": [
        "# intantiate a model on the test set\n",
        "logreg = LogisticRegression().fit(X_train, y_train)"
      ]
    },
    {
      "cell_type": "code",
      "execution_count": 10,
      "metadata": {
        "colab": {
          "base_uri": "https://localhost:8080/"
        },
        "id": "N3jUbb53JBt5",
        "outputId": "be8c0a94-eb61-4a35-b1b1-b27f208f8dfb"
      },
      "outputs": [
        {
          "output_type": "stream",
          "name": "stdout",
          "text": [
            "Test set score: 0.88\n"
          ]
        }
      ],
      "source": [
        "# evaluate the model on the test set\n",
        "print(\"Test set score: {:.2f}\".format(logreg.score(X_test, y_test)))"
      ]
    },
    {
      "cell_type": "markdown",
      "metadata": {
        "id": "6i2yubGAJSEs"
      },
      "source": [
        "La raison pour laquelle on fait la scission des données en entrainement et test est que nous voulons obtenir un cas de généralisation dans nos modèles.\n",
        "\n",
        "Mais maintenant, nous nous intéressons à voir comment notre modèle fait l'entrainement des données et comment fait il la prédiction de nouvelles données\n",
        "\n",
        "\n",
        "Dans ce chapitre on verra bien, deux aspects:\n",
        "\n",
        "* **cross-validation** qui est un de plus grand moyen d'atteindre les performances de généralisation\n",
        "* et discuter des methodes pour faire l'évaluation de performance de classification et regression\n",
        "\n",
        "Mais nous parlerons aussi de **grid search** qui permet de rechercher les meilleurs paramètres pour nos modèles"
      ]
    },
    {
      "cell_type": "markdown",
      "metadata": {
        "id": "sfljYEhXLHQ0"
      },
      "source": [
        "## **Cross-Validation**\n",
        "\n",
        "La validation croisée est une méthode statistique d'évaluation des performances de généralisation qui\n",
        "est plus stable et approfondi que d'utiliser une division en un ensemble d'entraînement et un ensemble de test.\n",
        "\n",
        "Ici les données sont rapidement divisés et plusieurs modèles sont aussi entrainer\n",
        "\n",
        "La version de cross-validation la plus utilisée est **k-fold** ou k est nombre définit par l'utilisateur et qui varie notamment de 5 à 10.\n",
        "\n",
        "- Lorsque l'on choisit k égale à 5, les données sont divisées en 5 parties égales appelées **folds(plis)**\n",
        "\n",
        "**Illustration**"
      ]
    },
    {
      "cell_type": "code",
      "execution_count": 11,
      "metadata": {
        "colab": {
          "base_uri": "https://localhost:8080/",
          "height": 187
        },
        "id": "uzqiBOzqJMiR",
        "outputId": "a786a4eb-2f90-4b88-8245-123043730ec0"
      },
      "outputs": [
        {
          "output_type": "display_data",
          "data": {
            "image/png": "[encoded data removed]",
            "text/plain": [
              "<Figure size 864x144 with 1 Axes>"
            ]
          },
          "metadata": {
            "needs_background": "light"
          }
        }
      ],
      "source": [
        "mglearn.plots.plot_cross_validation()"
      ]
    },
    {
      "cell_type": "markdown",
      "metadata": {
        "id": "zW8dNBeuQ0BL"
      },
      "source": [
        "### **Cross validation inf sklearn**\n",
        "\n",
        "On retrouve  **cross_val_score** dans le module **model_selection** de sklearn"
      ]
    },
    {
      "cell_type": "code",
      "execution_count": 12,
      "metadata": {
        "id": "olE6PLmYPbk8"
      },
      "outputs": [],
      "source": [
        "from sklearn.model_selection import cross_val_score"
      ]
    },
    {
      "cell_type": "code",
      "execution_count": 13,
      "metadata": {
        "id": "VqJiQb4IRWuv"
      },
      "outputs": [],
      "source": [
        "from sklearn.datasets import load_iris\n",
        "from sklearn.linear_model import LogisticRegression"
      ]
    },
    {
      "cell_type": "code",
      "execution_count": 14,
      "metadata": {
        "id": "l4DG63mkRuYv"
      },
      "outputs": [],
      "source": [
        "iris = load_iris()"
      ]
    },
    {
      "cell_type": "code",
      "execution_count": 15,
      "metadata": {
        "id": "6isrE527RwoG"
      },
      "outputs": [],
      "source": [
        "logreg = LogisticRegression(max_iter=10000)"
      ]
    },
    {
      "cell_type": "markdown",
      "metadata": {
        "id": "xr7tC1IZR27a"
      },
      "source": [
        "NB: Par défaut, **cross_val_score** à 3 plis(**folds**) et donne l'algorithme renvoie trois valeurs de précision\n",
        "\n",
        "- On peut ajuster le nombre de plis(**folds**) grâce au paramètre **cv** de **cross_val_score**"
      ]
    },
    {
      "cell_type": "code",
      "execution_count": 16,
      "metadata": {
        "colab": {
          "base_uri": "https://localhost:8080/"
        },
        "id": "3SbABi-XRy6L",
        "outputId": "a5f30e37-d72a-4417-e95b-82f96169537e"
      },
      "outputs": [
        {
          "output_type": "execute_result",
          "data": {
            "text/plain": [
              "array([0.98, 0.96, 0.98])"
            ]
          },
          "metadata": {},
          "execution_count": 16
        }
      ],
      "source": [
        "cross_val_score(logreg, iris.data, iris.target, cv=3)"
      ]
    },
    {
      "cell_type": "code",
      "execution_count": 17,
      "metadata": {
        "id": "Dcz2fhI5STdk"
      },
      "outputs": [],
      "source": [
        "scores = cross_val_score(logreg, iris.data, iris.target, cv=5)"
      ]
    },
    {
      "cell_type": "code",
      "execution_count": 18,
      "metadata": {
        "colab": {
          "base_uri": "https://localhost:8080/"
        },
        "id": "5O9wKOYZSw1D",
        "outputId": "f42d20bf-60f3-48b2-d22f-ec72a4eb8081"
      },
      "outputs": [
        {
          "output_type": "stream",
          "name": "stdout",
          "text": [
            "Cross-validation scores: [0.96666667 1.         0.93333333 0.96666667 1.        ]\n"
          ]
        }
      ],
      "source": [
        "print(\"Cross-validation scores: {}\".format(scores))"
      ]
    },
    {
      "cell_type": "markdown",
      "metadata": {
        "id": "A_BSxRCSTViq"
      },
      "source": [
        "Pour évaluer la précision de la validation croisée, on calcule la moyenne de scores"
      ]
    },
    {
      "cell_type": "code",
      "execution_count": 19,
      "metadata": {
        "colab": {
          "base_uri": "https://localhost:8080/"
        },
        "id": "tISU9XmGS21h",
        "outputId": "27441bc5-3b47-496b-bff2-9480b1c8517a"
      },
      "outputs": [
        {
          "output_type": "stream",
          "name": "stdout",
          "text": [
            "Average corss-validation 0.97\n"
          ]
        }
      ],
      "source": [
        "print(\"Average corss-validation {:.2f}\".format(scores.mean()))"
      ]
    },
    {
      "cell_type": "markdown",
      "metadata": {
        "id": "FX9sCCbXWTYn"
      },
      "source": [
        "**Inconvénient de la cross validation**\n",
        "\n",
        "Et qu'elle coute en terme de temps pour la formation de chaque plis\n",
        "\n",
        "### **Stratified k-Fold Cross-Validation and Other Strategies**\n",
        "\n",
        "\n",
        "En validation croisée stratifiée, nous\n",
        "diviser les données de telle sorte que les proportions entre les classes soient les mêmes dans chaque pli comme\n",
        "ils sont dans l'ensemble de données,"
      ]
    },
    {
      "cell_type": "code",
      "execution_count": 20,
      "metadata": {
        "colab": {
          "base_uri": "https://localhost:8080/",
          "height": 369
        },
        "id": "Rv8GLpj8ZRNC",
        "outputId": "4cb9a33a-d171-4864-adeb-161ce5df1971"
      },
      "outputs": [
        {
          "output_type": "display_data",
          "data": {
            "image/png": "[encoded data removed]",
            "text/plain": [
              "<Figure size 864x360 with 2 Axes>"
            ]
          },
          "metadata": {
            "needs_background": "light"
          }
        }
      ],
      "source": [
        "mglearn.plots.plot_stratified_cross_validation()"
      ]
    },
    {
      "cell_type": "markdown",
      "metadata": {
        "id": "sMA4I9rPcz3-"
      },
      "source": [
        "#### **More control over cross validation**"
      ]
    },
    {
      "cell_type": "code",
      "execution_count": 21,
      "metadata": {
        "id": "WeZvibZpTpHO"
      },
      "outputs": [],
      "source": [
        "from sklearn.model_selection import KFold"
      ]
    },
    {
      "cell_type": "code",
      "execution_count": 22,
      "metadata": {
        "id": "naZGBd7jc8Vr"
      },
      "outputs": [],
      "source": [
        "kfold = KFold(n_splits=5)"
      ]
    },
    {
      "cell_type": "code",
      "execution_count": 23,
      "metadata": {
        "id": "7kRWbr0fdCQq"
      },
      "outputs": [],
      "source": [
        "scores = cross_val_score(logreg, iris.data, iris.target, cv=kfold)"
      ]
    },
    {
      "cell_type": "code",
      "execution_count": 24,
      "metadata": {
        "colab": {
          "base_uri": "https://localhost:8080/"
        },
        "id": "N8DlBekodz9P",
        "outputId": "4771debc-e50e-40c3-f263-471d08056ad5"
      },
      "outputs": [
        {
          "output_type": "stream",
          "name": "stdout",
          "text": [
            "Cross validation score [1.         1.         0.86666667 0.93333333 0.83333333]\n"
          ]
        }
      ],
      "source": [
        "print(\"Cross validation score {}\".format(scores))"
      ]
    },
    {
      "cell_type": "code",
      "execution_count": 25,
      "metadata": {
        "colab": {
          "base_uri": "https://localhost:8080/"
        },
        "id": "-cWQKw1pd-Cp",
        "outputId": "14861964-0710-47df-be32-54e1f57d70eb"
      },
      "outputs": [
        {
          "output_type": "execute_result",
          "data": {
            "text/plain": [
              "0.9266666666666665"
            ]
          },
          "metadata": {},
          "execution_count": 25
        }
      ],
      "source": [
        "scores.mean()"
      ]
    },
    {
      "cell_type": "code",
      "execution_count": 26,
      "metadata": {
        "id": "6HC-283XeEyw"
      },
      "outputs": [],
      "source": [
        "kfold = KFold(n_splits=3)"
      ]
    },
    {
      "cell_type": "code",
      "execution_count": 27,
      "metadata": {
        "colab": {
          "base_uri": "https://localhost:8080/"
        },
        "id": "JCvJYMzUhahb",
        "outputId": "bb58e499-d5ab-468a-bedb-8d6b8dda63ab"
      },
      "outputs": [
        {
          "output_type": "execute_result",
          "data": {
            "text/plain": [
              "array([0., 0., 0.])"
            ]
          },
          "metadata": {},
          "execution_count": 27
        }
      ],
      "source": [
        "cross_val_score(logreg, iris.data, iris.target, cv=kfold)"
      ]
    },
    {
      "cell_type": "code",
      "execution_count": 28,
      "metadata": {
        "id": "CeKCsaOfhiXy"
      },
      "outputs": [],
      "source": [
        "kfold = KFold(n_splits=3, shuffle=True, random_state=0)"
      ]
    },
    {
      "cell_type": "code",
      "execution_count": 29,
      "metadata": {
        "colab": {
          "base_uri": "https://localhost:8080/"
        },
        "id": "7bG-o4PahvbC",
        "outputId": "d84bd959-9a13-4f79-f687-a8fda8b4358c"
      },
      "outputs": [
        {
          "output_type": "execute_result",
          "data": {
            "text/plain": [
              "array([0.98, 0.96, 0.96])"
            ]
          },
          "metadata": {},
          "execution_count": 29
        }
      ],
      "source": [
        "cross_val_score(logreg, iris.data, iris.target, cv=kfold)"
      ]
    },
    {
      "cell_type": "markdown",
      "metadata": {
        "id": "vHIOIYSqh5as"
      },
      "source": [
        "### **Leave-one-out cross-validation**\n",
        "\n",
        "Il est donne donne des bonnes performances pour de petit dataset\n",
        "\n",
        "Il consomme trop en terme de temps\n",
        "\n",
        "Ici chaque fold est un simple échantillon"
      ]
    },
    {
      "cell_type": "code",
      "execution_count": 30,
      "metadata": {
        "id": "_wM2tA5grAnP"
      },
      "outputs": [],
      "source": [
        "from sklearn.model_selection import LeaveOneOut"
      ]
    },
    {
      "cell_type": "code",
      "execution_count": 31,
      "metadata": {
        "id": "5Yr0xpZCrAnQ"
      },
      "outputs": [],
      "source": [
        "loo = LeaveOneOut()"
      ]
    },
    {
      "cell_type": "code",
      "execution_count": 32,
      "metadata": {
        "id": "x2SdINpPrAnR"
      },
      "outputs": [],
      "source": [
        "scores = cross_val_score(logreg, iris.data, iris.target, cv=loo)"
      ]
    },
    {
      "cell_type": "code",
      "execution_count": 33,
      "metadata": {
        "colab": {
          "base_uri": "https://localhost:8080/"
        },
        "id": "om4uyxf9rAnS",
        "outputId": "f66b9284-3c9e-43ce-9ea6-58a99f425e42"
      },
      "outputs": [
        {
          "output_type": "stream",
          "name": "stdout",
          "text": [
            "Number of cv iterations 150\n",
            "Mean accuracy 0.97\n"
          ]
        }
      ],
      "source": [
        "print(\"Number of cv iterations\", len(scores))\n",
        "print(\"Mean accuracy {:.2f}\".format(scores.mean()))"
      ]
    },
    {
      "cell_type": "markdown",
      "metadata": {
        "id": "2lo0WlqXrAnT"
      },
      "source": [
        "### **Shuffle-split cross-validation**"
      ]
    },
    {
      "cell_type": "code",
      "execution_count": 34,
      "metadata": {
        "colab": {
          "base_uri": "https://localhost:8080/",
          "height": 153
        },
        "id": "h25cObp1rAnU",
        "outputId": "8a3b4f40-531b-44d6-c99e-64c37eb7e38f"
      },
      "outputs": [
        {
          "output_type": "display_data",
          "data": {
            "image/png": "[encoded data removed]",
            "text/plain": [
              "<Figure size 720x144 with 1 Axes>"
            ]
          },
          "metadata": {
            "needs_background": "light"
          }
        }
      ],
      "source": [
        "mglearn.plots.plot_shuffle_split()"
      ]
    },
    {
      "cell_type": "code",
      "execution_count": 35,
      "metadata": {
        "id": "cDY9OnjCrAnV"
      },
      "outputs": [],
      "source": [
        "from sklearn.model_selection import ShuffleSplit"
      ]
    },
    {
      "cell_type": "code",
      "execution_count": 36,
      "metadata": {
        "id": "ReiViX6nrAnW"
      },
      "outputs": [],
      "source": [
        "shuffle_split = ShuffleSplit(test_size=.5, train_size=.5, n_splits=10)"
      ]
    },
    {
      "cell_type": "code",
      "execution_count": 37,
      "metadata": {
        "colab": {
          "base_uri": "https://localhost:8080/"
        },
        "id": "OAw3WioOrAnW",
        "outputId": "2bcfd2dc-6671-4971-ee6c-de162ef04946"
      },
      "outputs": [
        {
          "output_type": "execute_result",
          "data": {
            "text/plain": [
              "array([0.96      , 0.97333333, 0.97333333, 0.94666667, 0.97333333,\n",
              "       0.92      , 0.96      , 0.93333333, 0.97333333, 0.94666667])"
            ]
          },
          "metadata": {},
          "execution_count": 37
        }
      ],
      "source": [
        "cross_val_score(logreg, iris.data, iris.target, cv=shuffle_split)"
      ]
    },
    {
      "cell_type": "code",
      "execution_count": 38,
      "metadata": {
        "colab": {
          "base_uri": "https://localhost:8080/"
        },
        "id": "T_Z8YoKwrAnZ",
        "outputId": "e19c4cb5-7e5c-4596-9add-fcaa2875b1ec"
      },
      "outputs": [
        {
          "output_type": "execute_result",
          "data": {
            "text/plain": [
              "0.9560000000000001"
            ]
          },
          "metadata": {},
          "execution_count": 38
        }
      ],
      "source": [
        "_.mean()"
      ]
    },
    {
      "cell_type": "markdown",
      "metadata": {
        "id": "rLwlU01qrAna"
      },
      "source": [
        "### **Cross-validation with groups**\n",
        "\n",
        "Classer les données dans les groupes enfin d'avoir des bonnes données à entrainer et éviter d'avoir les mêmes données dans l'entrainement et le test\n",
        "\n"
      ]
    },
    {
      "cell_type": "code",
      "execution_count": 39,
      "metadata": {
        "id": "v-Ehn_fTrAnb"
      },
      "outputs": [],
      "source": [
        "from sklearn.model_selection import GroupKFold"
      ]
    },
    {
      "cell_type": "code",
      "execution_count": 40,
      "metadata": {
        "id": "G2UKxtItrAne"
      },
      "outputs": [],
      "source": [
        "X, y = make_blobs(n_samples=12, random_state=0)"
      ]
    },
    {
      "cell_type": "code",
      "execution_count": 41,
      "metadata": {
        "colab": {
          "base_uri": "https://localhost:8080/"
        },
        "id": "-AkglZIlrAne",
        "outputId": "3c8bf1e1-d2ce-4a1f-efae-8b8794493c16"
      },
      "outputs": [
        {
          "output_type": "execute_result",
          "data": {
            "text/plain": [
              "(12, 2)"
            ]
          },
          "metadata": {},
          "execution_count": 41
        }
      ],
      "source": [
        "X.shape"
      ]
    },
    {
      "cell_type": "code",
      "execution_count": 44,
      "metadata": {
        "colab": {
          "base_uri": "https://localhost:8080/"
        },
        "id": "Wszl-FBxrAnf",
        "outputId": "0162c23f-b908-4207-de4a-28eaa8ffd511"
      },
      "outputs": [
        {
          "output_type": "execute_result",
          "data": {
            "text/plain": [
              "0.75"
            ]
          },
          "metadata": {},
          "execution_count": 44
        }
      ],
      "source": [
        "cross_val_score(logreg, X, y, cv=3).mean()"
      ]
    },
    {
      "cell_type": "code",
      "execution_count": 46,
      "metadata": {
        "id": "O53hIEAqrAnf"
      },
      "outputs": [],
      "source": [
        "import numpy as np, pandas as pd, matplotlib.pyplot as plt"
      ]
    },
    {
      "cell_type": "code",
      "source": [
        "np.unique(y)"
      ],
      "metadata": {
        "colab": {
          "base_uri": "https://localhost:8080/"
        },
        "id": "xF1rZwPd2iom",
        "outputId": "6ce40acf-2fec-4f6b-8efe-79f521c9d378"
      },
      "execution_count": 47,
      "outputs": [
        {
          "output_type": "execute_result",
          "data": {
            "text/plain": [
              "array([0, 1, 2])"
            ]
          },
          "metadata": {},
          "execution_count": 47
        }
      ]
    },
    {
      "cell_type": "code",
      "source": [
        "groups = [0, 0, 0, 1, 1, 1, 1, 2, 2, 3, 3, 3]\n",
        "\n",
        "print(\"Score:\")\n",
        "cross_val_score(logreg, X, y, groups=groups, cv=GroupKFold(n_splits=3))"
      ],
      "metadata": {
        "colab": {
          "base_uri": "https://localhost:8080/"
        },
        "id": "a45nQpbH2rPq",
        "outputId": "57fc17b8-a86f-4ce6-c5c5-ac3e2f7b8bf3"
      },
      "execution_count": 50,
      "outputs": [
        {
          "output_type": "stream",
          "name": "stdout",
          "text": [
            "Score:\n"
          ]
        },
        {
          "output_type": "execute_result",
          "data": {
            "text/plain": [
              "array([0.75      , 0.6       , 0.66666667])"
            ]
          },
          "metadata": {},
          "execution_count": 50
        }
      ]
    },
    {
      "cell_type": "code",
      "source": [
        "mglearn.plots.plot_group_kfold()"
      ],
      "metadata": {
        "colab": {
          "base_uri": "https://localhost:8080/",
          "height": 153
        },
        "id": "VJVAC5zh3Kzw",
        "outputId": "11c7fa99-96c5-48e8-fc2b-0135877f8e55"
      },
      "execution_count": 53,
      "outputs": [
        {
          "output_type": "display_data",
          "data": {
            "image/png": "[encoded data removed]",
            "text/plain": [
              "<Figure size 720x144 with 1 Axes>"
            ]
          },
          "metadata": {
            "needs_background": "light"
          }
        }
      ]
    },
    {
      "cell_type": "markdown",
      "source": [
        "On voit que chaque group et soit dans l'entrainement soit dans le test"
      ],
      "metadata": {
        "id": "S1dGs2ME4Q9a"
      }
    },
    {
      "cell_type": "code",
      "source": [
        ""
      ],
      "metadata": {
        "id": "5Na3iDJ93vXw"
      },
      "execution_count": null,
      "outputs": []
    }
  ],
  "metadata": {
    "colab": {
      "name": "ModelEvaluation.ipynb",
      "provenance": [],
      "include_colab_link": true
    },
    "kernelspec": {
      "display_name": "Python 3",
      "language": "python",
      "name": "python3"
    },
    "language_info": {
      "codemirror_mode": {
        "name": "ipython",
        "version": 3
      },
      "file_extension": ".py",
      "mimetype": "text/x-python",
      "name": "python",
      "nbconvert_exporter": "python",
      "pygments_lexer": "ipython3",
      "version": "3.8.10"
    }
  },
  "nbformat": 4,
  "nbformat_minor": 0
}