{
  "cells": [
    {
      "cell_type": "markdown",
      "metadata": {
        "id": "view-in-github",
        "colab_type": "text"
      },
      "source": [
        "<a href=\"https://colab.research.google.com/github/rikanga/Easy-Numpy/blob/main/ModelEvaluation.ipynb\" target=\"_parent\"><img src=\"https://colab.research.google.com/assets/colab-badge.svg\" alt=\"Open In Colab\"/></a>"
      ]
    },
    {
      "cell_type": "markdown",
      "metadata": {
        "id": "emU-SmyKHtl5"
      },
      "source": [
        "# **Model Evaluation and Improvement**"
      ]
    },
    {
      "cell_type": "code",
      "execution_count": 1,
      "metadata": {
        "id": "TWvhmSSlHjWY"
      },
      "outputs": [],
      "source": [
        "from sklearn.datasets import make_blobs\n",
        "from sklearn.model_selection import train_test_split"
      ]
    },
    {
      "cell_type": "code",
      "execution_count": 2,
      "metadata": {
        "id": "WAGN1pH0IO5K"
      },
      "outputs": [],
      "source": [
        "from sklearn.linear_model import LogisticRegression"
      ]
    },
    {
      "cell_type": "code",
      "execution_count": 3,
      "metadata": {
        "colab": {
          "base_uri": "https://localhost:8080/"
        },
        "id": "3DbRJIqwIVLn",
        "outputId": "31d3a8bb-261b-4419-a9c7-747f4fe1a96b"
      },
      "outputs": [
        {
          "output_type": "stream",
          "name": "stdout",
          "text": [
            "Collecting mglearn\n",
            "  Downloading mglearn-0.1.9.tar.gz (540 kB)\n",
            "\u001b[?25l\r\u001b[K     |▋                               | 10 kB 16.7 MB/s eta 0:00:01\r\u001b[K     |█▏                              | 20 kB 19.7 MB/s eta 0:00:01\r\u001b[K     |█▉                              | 30 kB 21.4 MB/s eta 0:00:01\r\u001b[K     |██▍                             | 40 kB 16.9 MB/s eta 0:00:01\r\u001b[K     |███                             | 51 kB 7.6 MB/s eta 0:00:01\r\u001b[K     |███▋                            | 61 kB 9.0 MB/s eta 0:00:01\r\u001b[K     |████▎                           | 71 kB 8.4 MB/s eta 0:00:01\r\u001b[K     |████▉                           | 81 kB 9.2 MB/s eta 0:00:01\r\u001b[K     |█████▌                          | 92 kB 10.2 MB/s eta 0:00:01\r\u001b[K     |██████                          | 102 kB 8.9 MB/s eta 0:00:01\r\u001b[K     |██████▊                         | 112 kB 8.9 MB/s eta 0:00:01\r\u001b[K     |███████▎                        | 122 kB 8.9 MB/s eta 0:00:01\r\u001b[K     |███████▉                        | 133 kB 8.9 MB/s eta 0:00:01\r\u001b[K     |████████▌                       | 143 kB 8.9 MB/s eta 0:00:01\r\u001b[K     |█████████                       | 153 kB 8.9 MB/s eta 0:00:01\r\u001b[K     |█████████▊                      | 163 kB 8.9 MB/s eta 0:00:01\r\u001b[K     |██████████▎                     | 174 kB 8.9 MB/s eta 0:00:01\r\u001b[K     |███████████                     | 184 kB 8.9 MB/s eta 0:00:01\r\u001b[K     |███████████▌                    | 194 kB 8.9 MB/s eta 0:00:01\r\u001b[K     |████████████▏                   | 204 kB 8.9 MB/s eta 0:00:01\r\u001b[K     |████████████▊                   | 215 kB 8.9 MB/s eta 0:00:01\r\u001b[K     |█████████████▍                  | 225 kB 8.9 MB/s eta 0:00:01\r\u001b[K     |██████████████                  | 235 kB 8.9 MB/s eta 0:00:01\r\u001b[K     |██████████████▋                 | 245 kB 8.9 MB/s eta 0:00:01\r\u001b[K     |███████████████▏                | 256 kB 8.9 MB/s eta 0:00:01\r\u001b[K     |███████████████▊                | 266 kB 8.9 MB/s eta 0:00:01\r\u001b[K     |████████████████▍               | 276 kB 8.9 MB/s eta 0:00:01\r\u001b[K     |█████████████████               | 286 kB 8.9 MB/s eta 0:00:01\r\u001b[K     |█████████████████▋              | 296 kB 8.9 MB/s eta 0:00:01\r\u001b[K     |██████████████████▏             | 307 kB 8.9 MB/s eta 0:00:01\r\u001b[K     |██████████████████▉             | 317 kB 8.9 MB/s eta 0:00:01\r\u001b[K     |███████████████████▍            | 327 kB 8.9 MB/s eta 0:00:01\r\u001b[K     |████████████████████            | 337 kB 8.9 MB/s eta 0:00:01\r\u001b[K     |████████████████████▋           | 348 kB 8.9 MB/s eta 0:00:01\r\u001b[K     |█████████████████████▎          | 358 kB 8.9 MB/s eta 0:00:01\r\u001b[K     |█████████████████████▉          | 368 kB 8.9 MB/s eta 0:00:01\r\u001b[K     |██████████████████████▌         | 378 kB 8.9 MB/s eta 0:00:01\r\u001b[K     |███████████████████████         | 389 kB 8.9 MB/s eta 0:00:01\r\u001b[K     |███████████████████████▋        | 399 kB 8.9 MB/s eta 0:00:01\r\u001b[K     |████████████████████████▎       | 409 kB 8.9 MB/s eta 0:00:01\r\u001b[K     |████████████████████████▉       | 419 kB 8.9 MB/s eta 0:00:01\r\u001b[K     |█████████████████████████▌      | 430 kB 8.9 MB/s eta 0:00:01\r\u001b[K     |██████████████████████████      | 440 kB 8.9 MB/s eta 0:00:01\r\u001b[K     |██████████████████████████▊     | 450 kB 8.9 MB/s eta 0:00:01\r\u001b[K     |███████████████████████████▎    | 460 kB 8.9 MB/s eta 0:00:01\r\u001b[K     |████████████████████████████    | 471 kB 8.9 MB/s eta 0:00:01\r\u001b[K     |████████████████████████████▌   | 481 kB 8.9 MB/s eta 0:00:01\r\u001b[K     |█████████████████████████████▏  | 491 kB 8.9 MB/s eta 0:00:01\r\u001b[K     |█████████████████████████████▊  | 501 kB 8.9 MB/s eta 0:00:01\r\u001b[K     |██████████████████████████████▍ | 512 kB 8.9 MB/s eta 0:00:01\r\u001b[K     |███████████████████████████████ | 522 kB 8.9 MB/s eta 0:00:01\r\u001b[K     |███████████████████████████████▌| 532 kB 8.9 MB/s eta 0:00:01\r\u001b[K     |████████████████████████████████| 540 kB 8.9 MB/s \n",
            "\u001b[?25hRequirement already satisfied: numpy in /usr/local/lib/python3.7/dist-packages (from mglearn) (1.21.5)\n",
            "Requirement already satisfied: matplotlib in /usr/local/lib/python3.7/dist-packages (from mglearn) (3.2.2)\n",
            "Requirement already satisfied: scikit-learn in /usr/local/lib/python3.7/dist-packages (from mglearn) (1.0.2)\n",
            "Requirement already satisfied: pandas in /usr/local/lib/python3.7/dist-packages (from mglearn) (1.3.5)\n",
            "Requirement already satisfied: pillow in /usr/local/lib/python3.7/dist-packages (from mglearn) (7.1.2)\n",
            "Requirement already satisfied: cycler in /usr/local/lib/python3.7/dist-packages (from mglearn) (0.11.0)\n",
            "Requirement already satisfied: imageio in /usr/local/lib/python3.7/dist-packages (from mglearn) (2.4.1)\n",
            "Requirement already satisfied: joblib in /usr/local/lib/python3.7/dist-packages (from mglearn) (1.1.0)\n",
            "Requirement already satisfied: pyparsing!=2.0.4,!=2.1.2,!=2.1.6,>=2.0.1 in /usr/local/lib/python3.7/dist-packages (from matplotlib->mglearn) (3.0.7)\n",
            "Requirement already satisfied: kiwisolver>=1.0.1 in /usr/local/lib/python3.7/dist-packages (from matplotlib->mglearn) (1.3.2)\n",
            "Requirement already satisfied: python-dateutil>=2.1 in /usr/local/lib/python3.7/dist-packages (from matplotlib->mglearn) (2.8.2)\n",
            "Requirement already satisfied: six>=1.5 in /usr/local/lib/python3.7/dist-packages (from python-dateutil>=2.1->matplotlib->mglearn) (1.15.0)\n",
            "Requirement already satisfied: pytz>=2017.3 in /usr/local/lib/python3.7/dist-packages (from pandas->mglearn) (2018.9)\n",
            "Requirement already satisfied: threadpoolctl>=2.0.0 in /usr/local/lib/python3.7/dist-packages (from scikit-learn->mglearn) (3.1.0)\n",
            "Requirement already satisfied: scipy>=1.1.0 in /usr/local/lib/python3.7/dist-packages (from scikit-learn->mglearn) (1.4.1)\n",
            "Building wheels for collected packages: mglearn\n",
            "  Building wheel for mglearn (setup.py) ... \u001b[?25l\u001b[?25hdone\n",
            "  Created wheel for mglearn: filename=mglearn-0.1.9-py2.py3-none-any.whl size=582639 sha256=d6fa6db0f2a53205d48fdcc3f2301910b588bff4713613ed7496540e3c773ca5\n",
            "  Stored in directory: /root/.cache/pip/wheels/f1/17/e1/1720d6dcd70187b6b6c3750cb3508798f2b1d57c9d3214b08b\n",
            "Successfully built mglearn\n",
            "Installing collected packages: mglearn\n",
            "Successfully installed mglearn-0.1.9\n"
          ]
        }
      ],
      "source": [
        "!pip install mglearn\n",
        "import mglearn"
      ]
    },
    {
      "cell_type": "code",
      "execution_count": 4,
      "metadata": {
        "id": "Ik0Jq-0GIXxn"
      },
      "outputs": [],
      "source": [
        "#create a synthetic dataset\n",
        "X, y = make_blobs(random_state=0)"
      ]
    },
    {
      "cell_type": "code",
      "execution_count": 5,
      "metadata": {
        "id": "Tay86Cg0Iman"
      },
      "outputs": [],
      "source": [
        "# split data and labels into training and test set\n",
        "X_train, X_test, y_train, y_test = train_test_split(X, y, random_state=0)"
      ]
    },
    {
      "cell_type": "code",
      "execution_count": 6,
      "metadata": {
        "id": "vLJI7EB5I1XM"
      },
      "outputs": [],
      "source": [
        "# intantiate a model on the test set\n",
        "logreg = LogisticRegression().fit(X_train, y_train)"
      ]
    },
    {
      "cell_type": "code",
      "execution_count": 7,
      "metadata": {
        "colab": {
          "base_uri": "https://localhost:8080/"
        },
        "id": "N3jUbb53JBt5",
        "outputId": "a2e4d99c-797c-4368-e83b-05aac1fc3751"
      },
      "outputs": [
        {
          "output_type": "stream",
          "name": "stdout",
          "text": [
            "Test set score: 0.88\n"
          ]
        }
      ],
      "source": [
        "# evaluate the model on the test set\n",
        "print(\"Test set score: {:.2f}\".format(logreg.score(X_test, y_test)))"
      ]
    },
    {
      "cell_type": "markdown",
      "metadata": {
        "id": "6i2yubGAJSEs"
      },
      "source": [
        "La raison pour laquelle on fait la scission des données en entrainement et test est que nous voulons obtenir un cas de généralisation dans nos modèles.\n",
        "\n",
        "Mais maintenant, nous nous intéressons à voir comment notre modèle fait l'entrainement des données et comment fait il la prédiction de nouvelles données\n",
        "\n",
        "\n",
        "Dans ce chapitre on verra bien, deux aspects:\n",
        "\n",
        "* **cross-validation** qui est un de plus grand moyen d'atteindre les performances de généralisation\n",
        "* et discuter des methodes pour faire l'évaluation de performance de classification et regression\n",
        "\n",
        "Mais nous parlerons aussi de **grid search** qui permet de rechercher les meilleurs paramètres pour nos modèles"
      ]
    },
    {
      "cell_type": "markdown",
      "metadata": {
        "id": "sfljYEhXLHQ0"
      },
      "source": [
        "## **Cross-Validation**\n",
        "\n",
        "La validation croisée est une méthode statistique d'évaluation des performances de généralisation qui\n",
        "est plus stable et approfondi que d'utiliser une division en un ensemble d'entraînement et un ensemble de test.\n",
        "\n",
        "Ici les données sont rapidement divisés et plusieurs modèles sont aussi entrainer\n",
        "\n",
        "La version de cross-validation la plus utilisée est **k-fold** ou k est nombre définit par l'utilisateur et qui varie notamment de 5 à 10.\n",
        "\n",
        "- Lorsque l'on choisit k égale à 5, les données sont divisées en 5 parties égales appelées **folds(plis)**\n",
        "\n",
        "**Illustration**"
      ]
    },
    {
      "cell_type": "code",
      "execution_count": 8,
      "metadata": {
        "colab": {
          "base_uri": "https://localhost:8080/",
          "height": 187
        },
        "id": "uzqiBOzqJMiR",
        "outputId": "8975e50c-aac7-432e-fae1-1481a4887219"
      },
      "outputs": [
        {
          "output_type": "display_data",
          "data": {
            "image/png": "[encoded data removed]",
            "text/plain": [
              "<Figure size 864x144 with 1 Axes>"
            ]
          },
          "metadata": {
            "needs_background": "light"
          }
        }
      ],
      "source": [
        "mglearn.plots.plot_cross_validation()"
      ]
    },
    {
      "cell_type": "markdown",
      "metadata": {
        "id": "zW8dNBeuQ0BL"
      },
      "source": [
        "### **Cross validation inf sklearn**\n",
        "\n",
        "On retrouve  **cross_val_score** dans le module **model_selection** de sklearn"
      ]
    },
    {
      "cell_type": "code",
      "execution_count": 9,
      "metadata": {
        "id": "olE6PLmYPbk8"
      },
      "outputs": [],
      "source": [
        "from sklearn.model_selection import cross_val_score"
      ]
    },
    {
      "cell_type": "code",
      "execution_count": 10,
      "metadata": {
        "id": "VqJiQb4IRWuv"
      },
      "outputs": [],
      "source": [
        "from sklearn.datasets import load_iris\n",
        "from sklearn.linear_model import LogisticRegression"
      ]
    },
    {
      "cell_type": "code",
      "execution_count": 11,
      "metadata": {
        "id": "l4DG63mkRuYv"
      },
      "outputs": [],
      "source": [
        "iris = load_iris()"
      ]
    },
    {
      "cell_type": "code",
      "execution_count": 12,
      "metadata": {
        "id": "6isrE527RwoG"
      },
      "outputs": [],
      "source": [
        "logreg = LogisticRegression(max_iter=10000)"
      ]
    },
    {
      "cell_type": "markdown",
      "metadata": {
        "id": "xr7tC1IZR27a"
      },
      "source": [
        "NB: Par défaut, **cross_val_score** à 3 plis(**folds**) et donne l'algorithme renvoie trois valeurs de précision\n",
        "\n",
        "- On peut ajuster le nombre de plis(**folds**) grâce au paramètre **cv** de **cross_val_score**"
      ]
    },
    {
      "cell_type": "code",
      "execution_count": 13,
      "metadata": {
        "colab": {
          "base_uri": "https://localhost:8080/"
        },
        "id": "3SbABi-XRy6L",
        "outputId": "0dc8fb82-4de1-4b93-c18a-46fcae18351b"
      },
      "outputs": [
        {
          "output_type": "execute_result",
          "data": {
            "text/plain": [
              "array([0.98, 0.96, 0.98])"
            ]
          },
          "metadata": {},
          "execution_count": 13
        }
      ],
      "source": [
        "cross_val_score(logreg, iris.data, iris.target, cv=3)"
      ]
    },
    {
      "cell_type": "code",
      "execution_count": 14,
      "metadata": {
        "id": "Dcz2fhI5STdk"
      },
      "outputs": [],
      "source": [
        "scores = cross_val_score(logreg, iris.data, iris.target, cv=5)"
      ]
    },
    {
      "cell_type": "code",
      "execution_count": 15,
      "metadata": {
        "colab": {
          "base_uri": "https://localhost:8080/"
        },
        "id": "5O9wKOYZSw1D",
        "outputId": "89db42b8-2d16-4bd7-bebe-0e34eac41586"
      },
      "outputs": [
        {
          "output_type": "stream",
          "name": "stdout",
          "text": [
            "Cross-validation scores: [0.96666667 1.         0.93333333 0.96666667 1.        ]\n"
          ]
        }
      ],
      "source": [
        "print(\"Cross-validation scores: {}\".format(scores))"
      ]
    },
    {
      "cell_type": "markdown",
      "metadata": {
        "id": "A_BSxRCSTViq"
      },
      "source": [
        "Pour évaluer la précision de la validation croisée, on calcule la moyenne de scores"
      ]
    },
    {
      "cell_type": "code",
      "execution_count": 16,
      "metadata": {
        "colab": {
          "base_uri": "https://localhost:8080/"
        },
        "id": "tISU9XmGS21h",
        "outputId": "aabe4ce1-7b96-4660-8fe7-ce382be8bea1"
      },
      "outputs": [
        {
          "output_type": "stream",
          "name": "stdout",
          "text": [
            "Average corss-validation 0.97\n"
          ]
        }
      ],
      "source": [
        "print(\"Average corss-validation {:.2f}\".format(scores.mean()))"
      ]
    },
    {
      "cell_type": "markdown",
      "metadata": {
        "id": "FX9sCCbXWTYn"
      },
      "source": [
        "**Inconvénient de la cross validation**\n",
        "\n",
        "Et qu'elle coute en terme de temps pour la formation de chaque plis\n",
        "\n",
        "### **Stratified k-Fold Cross-Validation and Other Strategies**\n",
        "\n",
        "\n",
        "En validation croisée stratifiée, nous\n",
        "diviser les données de telle sorte que les proportions entre les classes soient les mêmes dans chaque pli comme\n",
        "ils sont dans l'ensemble de données,"
      ]
    },
    {
      "cell_type": "code",
      "execution_count": 17,
      "metadata": {
        "colab": {
          "base_uri": "https://localhost:8080/",
          "height": 369
        },
        "id": "Rv8GLpj8ZRNC",
        "outputId": "fd493787-f722-44a3-f169-a2471f502948"
      },
      "outputs": [
        {
          "output_type": "display_data",
          "data": {
            "image/png": "[encoded data removed]",
            "text/plain": [
              "<Figure size 864x360 with 2 Axes>"
            ]
          },
          "metadata": {
            "needs_background": "light"
          }
        }
      ],
      "source": [
        "mglearn.plots.plot_stratified_cross_validation()"
      ]
    },
    {
      "cell_type": "markdown",
      "metadata": {
        "id": "sMA4I9rPcz3-"
      },
      "source": [
        "#### **More control over cross validation**"
      ]
    },
    {
      "cell_type": "code",
      "execution_count": 18,
      "metadata": {
        "id": "WeZvibZpTpHO"
      },
      "outputs": [],
      "source": [
        "from sklearn.model_selection import KFold"
      ]
    },
    {
      "cell_type": "code",
      "execution_count": 19,
      "metadata": {
        "id": "naZGBd7jc8Vr"
      },
      "outputs": [],
      "source": [
        "kfold = KFold(n_splits=5)"
      ]
    },
    {
      "cell_type": "code",
      "execution_count": 20,
      "metadata": {
        "id": "7kRWbr0fdCQq"
      },
      "outputs": [],
      "source": [
        "scores = cross_val_score(logreg, iris.data, iris.target, cv=kfold)"
      ]
    },
    {
      "cell_type": "code",
      "execution_count": 21,
      "metadata": {
        "colab": {
          "base_uri": "https://localhost:8080/"
        },
        "id": "N8DlBekodz9P",
        "outputId": "aa10534d-80df-4b1e-dbbc-a0b5960697d1"
      },
      "outputs": [
        {
          "output_type": "stream",
          "name": "stdout",
          "text": [
            "Cross validation score [1.         1.         0.86666667 0.93333333 0.83333333]\n"
          ]
        }
      ],
      "source": [
        "print(\"Cross validation score {}\".format(scores))"
      ]
    },
    {
      "cell_type": "code",
      "execution_count": 22,
      "metadata": {
        "colab": {
          "base_uri": "https://localhost:8080/"
        },
        "id": "-cWQKw1pd-Cp",
        "outputId": "0a58a1e8-fce7-471d-ec9f-e1f9c0f4953e"
      },
      "outputs": [
        {
          "output_type": "execute_result",
          "data": {
            "text/plain": [
              "0.9266666666666665"
            ]
          },
          "metadata": {},
          "execution_count": 22
        }
      ],
      "source": [
        "scores.mean()"
      ]
    },
    {
      "cell_type": "code",
      "execution_count": 23,
      "metadata": {
        "id": "6HC-283XeEyw"
      },
      "outputs": [],
      "source": [
        "kfold = KFold(n_splits=3)"
      ]
    },
    {
      "cell_type": "code",
      "execution_count": 24,
      "metadata": {
        "colab": {
          "base_uri": "https://localhost:8080/"
        },
        "id": "JCvJYMzUhahb",
        "outputId": "0ba24332-0e3d-4382-bd7e-268d9b1d01d3"
      },
      "outputs": [
        {
          "output_type": "execute_result",
          "data": {
            "text/plain": [
              "array([0., 0., 0.])"
            ]
          },
          "metadata": {},
          "execution_count": 24
        }
      ],
      "source": [
        "cross_val_score(logreg, iris.data, iris.target, cv=kfold)"
      ]
    },
    {
      "cell_type": "code",
      "execution_count": 25,
      "metadata": {
        "id": "CeKCsaOfhiXy"
      },
      "outputs": [],
      "source": [
        "kfold = KFold(n_splits=3, shuffle=True, random_state=0)"
      ]
    },
    {
      "cell_type": "code",
      "execution_count": 26,
      "metadata": {
        "colab": {
          "base_uri": "https://localhost:8080/"
        },
        "id": "7bG-o4PahvbC",
        "outputId": "beb4b6a9-cd14-4494-aaf4-a9ff05b29adf"
      },
      "outputs": [
        {
          "output_type": "execute_result",
          "data": {
            "text/plain": [
              "array([0.98, 0.96, 0.96])"
            ]
          },
          "metadata": {},
          "execution_count": 26
        }
      ],
      "source": [
        "cross_val_score(logreg, iris.data, iris.target, cv=kfold)"
      ]
    },
    {
      "cell_type": "markdown",
      "metadata": {
        "id": "vHIOIYSqh5as"
      },
      "source": [
        "### **Leave-one-out cross-validation**\n",
        "\n",
        "Il est donne donne des bonnes performances pour de petit dataset\n",
        "\n",
        "Il consomme trop en terme de temps\n",
        "\n",
        "Ici chaque fold est un simple échantillon"
      ]
    },
    {
      "cell_type": "code",
      "execution_count": 27,
      "metadata": {
        "id": "_wM2tA5grAnP"
      },
      "outputs": [],
      "source": [
        "from sklearn.model_selection import LeaveOneOut"
      ]
    },
    {
      "cell_type": "code",
      "execution_count": 28,
      "metadata": {
        "id": "5Yr0xpZCrAnQ"
      },
      "outputs": [],
      "source": [
        "loo = LeaveOneOut()"
      ]
    },
    {
      "cell_type": "code",
      "execution_count": 29,
      "metadata": {
        "id": "x2SdINpPrAnR"
      },
      "outputs": [],
      "source": [
        "scores = cross_val_score(logreg, iris.data, iris.target, cv=loo)"
      ]
    },
    {
      "cell_type": "code",
      "execution_count": 30,
      "metadata": {
        "colab": {
          "base_uri": "https://localhost:8080/"
        },
        "id": "om4uyxf9rAnS",
        "outputId": "b0883f86-b9ef-4b68-eab2-a00b27f4d6d6"
      },
      "outputs": [
        {
          "output_type": "stream",
          "name": "stdout",
          "text": [
            "Number of cv iterations 150\n",
            "Mean accuracy 0.97\n"
          ]
        }
      ],
      "source": [
        "print(\"Number of cv iterations\", len(scores))\n",
        "print(\"Mean accuracy {:.2f}\".format(scores.mean()))"
      ]
    },
    {
      "cell_type": "markdown",
      "metadata": {
        "id": "2lo0WlqXrAnT"
      },
      "source": [
        "### **Shuffle-split cross-validation**\n",
        "\n",
        "\n",
        "La validation croisée Shuffle-split permet de contrôler le nombre d'itérations indépendamment des tailles d'entraînement et de test, ce qui peut parfois être utile. Il permet également\n",
        "pour n'utiliser qu'une partie des données à chaque itération, en fournissant train_size et\n",
        "paramètres test_size qui ne totalisent pas un. Sous-échantillonner les données de cette manière peut être\n",
        "utile pour expérimenter avec de grands ensembles de données."
      ]
    },
    {
      "cell_type": "code",
      "execution_count": 31,
      "metadata": {
        "colab": {
          "base_uri": "https://localhost:8080/",
          "height": 153
        },
        "id": "h25cObp1rAnU",
        "outputId": "fa2ec232-2bac-4308-d686-a249fca92293"
      },
      "outputs": [
        {
          "output_type": "display_data",
          "data": {
            "image/png": "[encoded data removed]",
            "text/plain": [
              "<Figure size 720x144 with 1 Axes>"
            ]
          },
          "metadata": {
            "needs_background": "light"
          }
        }
      ],
      "source": [
        "mglearn.plots.plot_shuffle_split()"
      ]
    },
    {
      "cell_type": "code",
      "execution_count": 32,
      "metadata": {
        "id": "cDY9OnjCrAnV"
      },
      "outputs": [],
      "source": [
        "from sklearn.model_selection import ShuffleSplit"
      ]
    },
    {
      "cell_type": "code",
      "execution_count": 33,
      "metadata": {
        "id": "ReiViX6nrAnW"
      },
      "outputs": [],
      "source": [
        "shuffle_split = ShuffleSplit(test_size=.5, train_size=.5, n_splits=10)"
      ]
    },
    {
      "cell_type": "code",
      "execution_count": 34,
      "metadata": {
        "colab": {
          "base_uri": "https://localhost:8080/"
        },
        "id": "OAw3WioOrAnW",
        "outputId": "46174bfc-c632-4dac-87f4-84910e69cdaa"
      },
      "outputs": [
        {
          "output_type": "execute_result",
          "data": {
            "text/plain": [
              "array([0.96      , 0.96      , 0.92      , 0.96      , 0.97333333,\n",
              "       0.96      , 0.97333333, 0.98666667, 0.94666667, 0.94666667])"
            ]
          },
          "metadata": {},
          "execution_count": 34
        }
      ],
      "source": [
        "cross_val_score(logreg, iris.data, iris.target, cv=shuffle_split)"
      ]
    },
    {
      "cell_type": "code",
      "execution_count": 35,
      "metadata": {
        "colab": {
          "base_uri": "https://localhost:8080/"
        },
        "id": "T_Z8YoKwrAnZ",
        "outputId": "f22efbd1-39da-4779-d3ce-91437cf30fb1"
      },
      "outputs": [
        {
          "output_type": "execute_result",
          "data": {
            "text/plain": [
              "0.9586666666666668"
            ]
          },
          "metadata": {},
          "execution_count": 35
        }
      ],
      "source": [
        "_.mean()"
      ]
    },
    {
      "cell_type": "markdown",
      "metadata": {
        "id": "rLwlU01qrAna"
      },
      "source": [
        "### **Cross-validation with groups**\n",
        "\n",
        "Classer les données dans les groupes enfin d'avoir des bonnes données à entrainer et éviter d'avoir les mêmes données dans l'entrainement et le test\n",
        "\n"
      ]
    },
    {
      "cell_type": "code",
      "execution_count": 36,
      "metadata": {
        "id": "v-Ehn_fTrAnb"
      },
      "outputs": [],
      "source": [
        "from sklearn.model_selection import GroupKFold"
      ]
    },
    {
      "cell_type": "code",
      "execution_count": 37,
      "metadata": {
        "id": "G2UKxtItrAne"
      },
      "outputs": [],
      "source": [
        "X, y = make_blobs(n_samples=12, random_state=0)"
      ]
    },
    {
      "cell_type": "code",
      "execution_count": 38,
      "metadata": {
        "colab": {
          "base_uri": "https://localhost:8080/"
        },
        "id": "-AkglZIlrAne",
        "outputId": "4fd07678-7fc0-4562-ccbd-45ab48633075"
      },
      "outputs": [
        {
          "output_type": "execute_result",
          "data": {
            "text/plain": [
              "(12, 2)"
            ]
          },
          "metadata": {},
          "execution_count": 38
        }
      ],
      "source": [
        "X.shape"
      ]
    },
    {
      "cell_type": "code",
      "execution_count": 39,
      "metadata": {
        "colab": {
          "base_uri": "https://localhost:8080/"
        },
        "id": "Wszl-FBxrAnf",
        "outputId": "c548b822-40f5-43f2-85fa-1f739ee1afb0"
      },
      "outputs": [
        {
          "output_type": "execute_result",
          "data": {
            "text/plain": [
              "0.75"
            ]
          },
          "metadata": {},
          "execution_count": 39
        }
      ],
      "source": [
        "cross_val_score(logreg, X, y, cv=3).mean()"
      ]
    },
    {
      "cell_type": "code",
      "execution_count": 40,
      "metadata": {
        "id": "O53hIEAqrAnf"
      },
      "outputs": [],
      "source": [
        "import numpy as np, pandas as pd, matplotlib.pyplot as plt"
      ]
    },
    {
      "cell_type": "code",
      "execution_count": 41,
      "metadata": {
        "colab": {
          "base_uri": "https://localhost:8080/"
        },
        "id": "xF1rZwPd2iom",
        "outputId": "c0a3a05b-3ff4-48ec-f733-9f9480cb830c"
      },
      "outputs": [
        {
          "output_type": "execute_result",
          "data": {
            "text/plain": [
              "array([0, 1, 2])"
            ]
          },
          "metadata": {},
          "execution_count": 41
        }
      ],
      "source": [
        "np.unique(y)"
      ]
    },
    {
      "cell_type": "code",
      "execution_count": 42,
      "metadata": {
        "colab": {
          "base_uri": "https://localhost:8080/"
        },
        "id": "a45nQpbH2rPq",
        "outputId": "f2ed1523-c4d7-4c01-a5be-445206d26880"
      },
      "outputs": [
        {
          "output_type": "stream",
          "name": "stdout",
          "text": [
            "Score:\n"
          ]
        },
        {
          "output_type": "execute_result",
          "data": {
            "text/plain": [
              "array([0.75      , 0.6       , 0.66666667])"
            ]
          },
          "metadata": {},
          "execution_count": 42
        }
      ],
      "source": [
        "groups = [0, 0, 0, 1, 1, 1, 1, 2, 2, 3, 3, 3]\n",
        "\n",
        "print(\"Score:\")\n",
        "cross_val_score(logreg, X, y, groups=groups, cv=GroupKFold(n_splits=3))"
      ]
    },
    {
      "cell_type": "code",
      "execution_count": 43,
      "metadata": {
        "colab": {
          "base_uri": "https://localhost:8080/",
          "height": 153
        },
        "id": "VJVAC5zh3Kzw",
        "outputId": "5523e880-62c2-4cc0-a98c-12bf6ecb0549"
      },
      "outputs": [
        {
          "output_type": "display_data",
          "data": {
            "image/png": "[encoded data removed]",
            "text/plain": [
              "<Figure size 720x144 with 1 Axes>"
            ]
          },
          "metadata": {
            "needs_background": "light"
          }
        }
      ],
      "source": [
        "mglearn.plots.plot_group_kfold()"
      ]
    },
    {
      "cell_type": "markdown",
      "metadata": {
        "id": "S1dGs2ME4Q9a"
      },
      "source": [
        "On voit que chaque group et soit dans l'entrainement soit dans le test"
      ]
    },
    {
      "cell_type": "code",
      "execution_count": 44,
      "metadata": {
        "id": "oLSkEIcO7hBS"
      },
      "outputs": [],
      "source": [
        "from sklearn.neighbors import KNeighborsClassifier"
      ]
    },
    {
      "cell_type": "code",
      "execution_count": 45,
      "metadata": {
        "id": "TkHWtDwj7p18"
      },
      "outputs": [],
      "source": [
        "list_neighbors = [x for x in range(1, 45)]\n",
        "\n",
        "scores = [cross_val_score(KNeighborsClassifier(n_neighbors=x), iris.data, iris.target, cv=5).mean() for x in list_neighbors]"
      ]
    },
    {
      "cell_type": "code",
      "execution_count": 46,
      "metadata": {
        "colab": {
          "base_uri": "https://localhost:8080/"
        },
        "id": "w_K6tBi07pxm",
        "outputId": "f07a0969-2aa2-4ca7-f466-e92e929c7956"
      },
      "outputs": [
        {
          "output_type": "execute_result",
          "data": {
            "text/plain": [
              "[0.96,\n",
              " 0.9466666666666665,\n",
              " 0.9666666666666668,\n",
              " 0.9733333333333334,\n",
              " 0.9733333333333334,\n",
              " 0.9800000000000001,\n",
              " 0.9800000000000001,\n",
              " 0.9666666666666668,\n",
              " 0.9733333333333334,\n",
              " 0.9800000000000001,\n",
              " 0.9800000000000001,\n",
              " 0.9800000000000001,\n",
              " 0.9733333333333334,\n",
              " 0.9666666666666666,\n",
              " 0.9666666666666668,\n",
              " 0.9666666666666668,\n",
              " 0.9666666666666668,\n",
              " 0.9666666666666666,\n",
              " 0.9666666666666668,\n",
              " 0.96,\n",
              " 0.9666666666666668,\n",
              " 0.96,\n",
              " 0.96,\n",
              " 0.9466666666666667,\n",
              " 0.96,\n",
              " 0.9466666666666665,\n",
              " 0.9466666666666667,\n",
              " 0.9399999999999998,\n",
              " 0.9333333333333332,\n",
              " 0.9399999999999998,\n",
              " 0.9333333333333332,\n",
              " 0.9466666666666665,\n",
              " 0.9399999999999998,\n",
              " 0.9533333333333334,\n",
              " 0.9533333333333334,\n",
              " 0.9533333333333334,\n",
              " 0.9466666666666667,\n",
              " 0.9333333333333333,\n",
              " 0.9400000000000001,\n",
              " 0.9266666666666667,\n",
              " 0.9400000000000001,\n",
              " 0.9400000000000001,\n",
              " 0.9400000000000001,\n",
              " 0.9266666666666667]"
            ]
          },
          "metadata": {},
          "execution_count": 46
        }
      ],
      "source": [
        "scores"
      ]
    },
    {
      "cell_type": "code",
      "execution_count": 47,
      "metadata": {
        "colab": {
          "base_uri": "https://localhost:8080/",
          "height": 297
        },
        "id": "pfL_ntGE7puK",
        "outputId": "27cefbd0-4d88-4227-90cd-12517d0cc143"
      },
      "outputs": [
        {
          "output_type": "display_data",
          "data": {
            "image/png": "[encoded data removed]",
            "text/plain": [
              "<Figure size 432x288 with 1 Axes>"
            ]
          },
          "metadata": {
            "needs_background": "light"
          }
        }
      ],
      "source": [
        "plt.plot(list_neighbors, scores, ':o')\n",
        "plt.xlabel(\"Number of neighbors\")\n",
        "plt.ylabel(\"Model accuracy\")\n",
        "plt.tight_layout()"
      ]
    },
    {
      "cell_type": "markdown",
      "metadata": {
        "id": "sT2j1u7V7igf"
      },
      "source": [
        "## **Grid Search**\n",
        "\n",
        "Nous allons voir comment améliorer les performances de modèles en ajustant ses paramètres.\n",
        "\n",
        "### **Simple Grid Search**\n",
        "\n",
        "Le Grid Search simple consiste à rechercher des paramètres en utilisant une boucle **for** pour évaluer le classificateur"
      ]
    },
    {
      "cell_type": "code",
      "execution_count": 48,
      "metadata": {
        "id": "5Na3iDJ93vXw"
      },
      "outputs": [],
      "source": [
        "from sklearn.svm import SVC"
      ]
    },
    {
      "cell_type": "code",
      "execution_count": 49,
      "metadata": {
        "id": "hpMMMzKcCOkt"
      },
      "outputs": [],
      "source": [
        "X_train, X_test, y_train, y_test = train_test_split(iris.data, iris.target, random_state=0)"
      ]
    },
    {
      "cell_type": "code",
      "execution_count": 50,
      "metadata": {
        "colab": {
          "base_uri": "https://localhost:8080/"
        },
        "id": "6k7-rKslCZgc",
        "outputId": "25e171e6-47fd-47b7-c3fd-763de812ea9b"
      },
      "outputs": [
        {
          "output_type": "stream",
          "name": "stdout",
          "text": [
            "Size of training set: 112\n",
            "Size of test set: 38\n",
            "Best score 0.97\n",
            "Best parameters: {'C': 100, 'gamma': 0.001}\n"
          ]
        }
      ],
      "source": [
        "print(f\"Size of training set: {X_train.shape[0]}\\nSize of test set: {X_test.shape[0]}\")\n",
        "\n",
        "best_score = 0\n",
        "for gamma in [0.001, 0.01, 0.1, 1, 10, 100]:\n",
        "  for C in [0.001, 0.01, 0.1, 1, 10, 100]:\n",
        "    svm = SVC(gamma=gamma, C=C)\n",
        "    svm.fit(X_train, y_train)\n",
        "\n",
        "    score = svm.score(X_test, y_test)\n",
        "\n",
        "    if score > best_score:\n",
        "      best_score = score\n",
        "      best_parameters = {\"C\":C, 'gamma':gamma}\n",
        "\n",
        "print(\"Best score {:.2f}\".format(best_score))\n",
        "print(\"Best parameters: {}\".format(best_parameters))"
      ]
    },
    {
      "cell_type": "markdown",
      "metadata": {
        "id": "b_-xPuroJ5xb"
      },
      "source": [
        "#### **The Danger of Overfitting the Parameters and the Validation Set**\n",
        "\n",
        "Lorsque l'on conçoit des modèles, on doit faire en sorte que les données pour tester le modèle ne soient pas encore vu en avance par l'algorithme.\n",
        "\n",
        "Puisque nous venons de voir précédemment que le modèle nous a fourni 97% ce qui fait de lui un bon mais peut être pas.\n",
        "\n",
        "Alors pour éviter d'avoir des données connues ou déjà vu d'avance par le modèle, Nous devons disposer de données pour évaluer le modèle que nous appelerons **Validation Set**\n",
        "\n",
        "**Illustation**"
      ]
    },
    {
      "cell_type": "code",
      "execution_count": 51,
      "metadata": {
        "colab": {
          "base_uri": "https://localhost:8080/",
          "height": 123
        },
        "id": "JFmahexKDyS3",
        "outputId": "f1620ea9-4b29-4d0b-abac-72506987dc35"
      },
      "outputs": [
        {
          "output_type": "display_data",
          "data": {
            "image/png": "[encoded data removed]",
            "text/plain": [
              "<Figure size 1080x72 with 1 Axes>"
            ]
          },
          "metadata": {
            "needs_background": "light"
          }
        }
      ],
      "source": [
        "mglearn.plots.plot_threefold_split()"
      ]
    },
    {
      "cell_type": "markdown",
      "metadata": {
        "id": "_huBe5aZLbpe"
      },
      "source": [
        "Après avoir trouvé, le bon modèle avec des bonnes performances grâce au **validation set**, alors on peut réconstruire le modèle et faire le dernier test avec le **test set**"
      ]
    },
    {
      "cell_type": "code",
      "execution_count": 52,
      "metadata": {
        "id": "DXsreHisK7x2"
      },
      "outputs": [],
      "source": [
        "from sklearn.svm import SVC"
      ]
    },
    {
      "cell_type": "code",
      "execution_count": 53,
      "metadata": {
        "id": "p-lt5-iBL2Hr"
      },
      "outputs": [],
      "source": [
        "# split into train+validation set and test set\n",
        "X_trainval, X_test, y_trainval, y_test = train_test_split(iris.data, iris.target, random_state=0)"
      ]
    },
    {
      "cell_type": "code",
      "execution_count": 54,
      "metadata": {
        "id": "uWs1jUQDMoxh"
      },
      "outputs": [],
      "source": [
        "X_train, X_valid, y_train, y_valid = train_test_split(X_trainval, y_trainval, random_state=1)"
      ]
    },
    {
      "cell_type": "code",
      "execution_count": 55,
      "metadata": {
        "colab": {
          "base_uri": "https://localhost:8080/"
        },
        "id": "ShD8kAWyO8Km",
        "outputId": "e7cf9ac5-f673-4c7c-ff40-979f12891fd8"
      },
      "outputs": [
        {
          "output_type": "stream",
          "name": "stdout",
          "text": [
            " Size of training set: 84\n",
            " Size of validation set: 28\n",
            " Size of test set 38\n",
            "\n",
            "Best score of validation set: 0.97\n",
            "Best parameters: {'C': 100, 'gamma': 0.001}\n",
            "Test set score with best parameters: 0.97\n"
          ]
        }
      ],
      "source": [
        "print(\" Size of training set: {}\\n Size of validation set: {}\\n Size of test set {}\".format(\n",
        "    X_train.shape[0], X_valid.shape[0], X_test.shape[0]\n",
        "))\n",
        "\n",
        "baset_score = 0\n",
        "\n",
        "for gamma in [0.001, 0.01, 0.1, 1, 10, 100]:\n",
        "  for c in [0.001, 0.01, 0.1, 1, 10, 100]:\n",
        "    svm = SVC(C=C, gamma=gamma)\n",
        "    svm.fit(X_train, y_train)\n",
        "\n",
        "    score = svm.score(X_valid, y_valid)\n",
        "\n",
        "    if score > best_score:\n",
        "      best_score = score\n",
        "      best_parameters = {\"C\":C, 'gamma':gamma}\n",
        "\n",
        "\n",
        "svm = SVC(**best_parameters)\n",
        "svm.fit(X_trainval, y_trainval)\n",
        "test_score = svm.score(X_test, y_test)\n",
        "\n",
        "print(\"\\nBest score of validation set: {:.2f}\".format(best_score))\n",
        "print(\"Best parameters: {}\".format(best_parameters))\n",
        "print(\"Test set score with best parameters: {:.2f}\".format(test_score))"
      ]
    },
    {
      "cell_type": "markdown",
      "metadata": {
        "id": "yNauBIrKSPSA"
      },
      "source": [
        "### **Grid Search with Cross-Validation**\n",
        "\n",
        "On peut évaluer les performances du modèle avec **cross_val_score** et sélectionner celui qui nous donne des très bonnes performances"
      ]
    },
    {
      "cell_type": "code",
      "execution_count": 56,
      "metadata": {
        "colab": {
          "base_uri": "https://localhost:8080/"
        },
        "id": "JrEGxsc2Peub",
        "outputId": "667a58fa-9082-47f8-ec38-784adddabcc1"
      },
      "outputs": [
        {
          "output_type": "stream",
          "name": "stdout",
          "text": [
            "Best score 0.9731225296442687\n",
            "Best parameters {'C': 10, 'gamma': 0.1}\n",
            "Test set score 0.9736842105263158\n"
          ]
        }
      ],
      "source": [
        "best_score = 0\n",
        "\n",
        "for gamma in [0.001, 0.01, 0.1, 1, 10, 100]:\n",
        "  for C in [0.001, 0.01, 0.1, 1, 10, 100]:\n",
        "    svm = SVC(gamma=gamma, C=C)\n",
        "    \n",
        "    scores = cross_val_score(svm, X_trainval, y_trainval, cv=5)\n",
        "    score = np.mean(scores)\n",
        "\n",
        "    if score > best_score:\n",
        "      best_score = score\n",
        "      best_parameters = {\"C\":C, 'gamma':gamma}\n",
        "    \n",
        "svm = SVC(**best_parameters)\n",
        "svm.fit(X_trainval, y_trainval)\n",
        "\n",
        "print('Best score', best_score)\n",
        "print(\"Best parameters\", best_parameters)\n",
        "print(\"Test set score\", svm.score(X_test, y_test))"
      ]
    },
    {
      "cell_type": "markdown",
      "metadata": {
        "id": "enF5-DhsXR5n"
      },
      "source": [
        "Voici comment les meilleurs paramètres sont sélectionnés:"
      ]
    },
    {
      "cell_type": "code",
      "execution_count": 57,
      "metadata": {
        "colab": {
          "base_uri": "https://localhost:8080/",
          "height": 335
        },
        "id": "FaKNxjPrWChh",
        "outputId": "1d0fce42-190c-4962-d049-577962531e55"
      },
      "outputs": [
        {
          "output_type": "display_data",
          "data": {
            "image/png": "[encoded data removed]",
            "text/plain": [
              "<Figure size 720x216 with 1 Axes>"
            ]
          },
          "metadata": {
            "needs_background": "light"
          }
        }
      ],
      "source": [
        "mglearn.plots.plot_cross_val_selection()"
      ]
    },
    {
      "cell_type": "markdown",
      "metadata": {
        "id": "9lzKAQG7ZCRQ"
      },
      "source": [
        "Voici comment est résumé le processus de **splitting data**, **rig search**, rt **évaluation des paramètres finales**"
      ]
    },
    {
      "cell_type": "code",
      "execution_count": 58,
      "metadata": {
        "colab": {
          "base_uri": "https://localhost:8080/",
          "height": 440
        },
        "id": "s5mtQh-5Xbd1",
        "outputId": "8da3274a-e3db-45f7-9512-b2451f34c3c8"
      },
      "outputs": [
        {
          "output_type": "display_data",
          "data": {
            "image/png": "[encoded data removed]",
            "text/plain": [
              "<Figure size 700x210 with 1 Axes>"
            ]
          },
          "metadata": {
            "needs_background": "light"
          }
        }
      ],
      "source": [
        "mglearn.plots.plot_grid_search_overview()"
      ]
    },
    {
      "cell_type": "markdown",
      "metadata": {
        "id": "2hCNB-lPaE2C"
      },
      "source": [
        "Comme la cross validation se fait conjonctement avec le grid search, une classe **GridSearchCV** est implémenté dans sklearn pour résoudre tous les problèmes liés à la généralisation de modèle.\n",
        "\n",
        "Pour pouvoir utiliser **GridSearchCV**, nous devons en premier lieu  déclarer les paramètres à lui soumettre pour faire de tests"
      ]
    },
    {
      "cell_type": "code",
      "execution_count": 59,
      "metadata": {
        "colab": {
          "base_uri": "https://localhost:8080/"
        },
        "id": "OQlf3OHPZb29",
        "outputId": "989ae874-507f-4c0e-d367-27d187727923"
      },
      "outputs": [
        {
          "output_type": "stream",
          "name": "stdout",
          "text": [
            "Grille de paramètres:\n",
            "{'C': [0.001, 0.01, 0.1, 1, 10, 100], 'gamma': [0.001, 0.01, 0.1, 1, 10, 100]}\n"
          ]
        }
      ],
      "source": [
        "param_grid = {\n",
        "    'C': [0.001, 0.01, 0.1, 1, 10, 100],\n",
        "    'gamma':[0.001, 0.01, 0.1, 1, 10, 100]\n",
        "}\n",
        "\n",
        "print(\"Grille de paramètres:\\n{}\".format(param_grid))"
      ]
    },
    {
      "cell_type": "code",
      "execution_count": 60,
      "metadata": {
        "id": "ho71WktdbA9E"
      },
      "outputs": [],
      "source": [
        "from sklearn.model_selection import GridSearchCV"
      ]
    },
    {
      "cell_type": "code",
      "execution_count": 61,
      "metadata": {
        "id": "4bNdTq3cbU8H"
      },
      "outputs": [],
      "source": [
        "grid_search = GridSearchCV(SVC(), param_grid, cv=5)"
      ]
    },
    {
      "cell_type": "code",
      "execution_count": 62,
      "metadata": {
        "id": "zOhqkPQdkPZH"
      },
      "outputs": [],
      "source": [
        "X_train, X_test, y_train, y_test = train_test_split(iris.data, iris.target, random_state=0)"
      ]
    },
    {
      "cell_type": "code",
      "execution_count": 63,
      "metadata": {
        "colab": {
          "base_uri": "https://localhost:8080/"
        },
        "id": "uMvitymflKBr",
        "outputId": "a91dee5b-d40b-4961-a3e1-33cbc0dcfe7b"
      },
      "outputs": [
        {
          "output_type": "execute_result",
          "data": {
            "text/plain": [
              "GridSearchCV(cv=5, estimator=SVC(),\n",
              "             param_grid={'C': [0.001, 0.01, 0.1, 1, 10, 100],\n",
              "                         'gamma': [0.001, 0.01, 0.1, 1, 10, 100]})"
            ]
          },
          "metadata": {},
          "execution_count": 63
        }
      ],
      "source": [
        "grid_search.fit(X_train, y_train)"
      ]
    },
    {
      "cell_type": "code",
      "execution_count": 64,
      "metadata": {
        "colab": {
          "base_uri": "https://localhost:8080/"
        },
        "id": "8NYdKANclzs6",
        "outputId": "5876cf17-ae8f-44d5-b242-65b4f6b9a9b3"
      },
      "outputs": [
        {
          "output_type": "stream",
          "name": "stdout",
          "text": [
            "Test set score: 0.97\n"
          ]
        }
      ],
      "source": [
        "print(\"Test set score: {:.2f}\".format(grid_search.score(X_test, y_test)))"
      ]
    },
    {
      "cell_type": "code",
      "execution_count": 65,
      "metadata": {
        "colab": {
          "base_uri": "https://localhost:8080/"
        },
        "id": "oUXfo57SmGL6",
        "outputId": "95292620-568a-43b2-e3af-12569dbb8435"
      },
      "outputs": [
        {
          "output_type": "stream",
          "name": "stdout",
          "text": [
            "Best parameter {'C': 10, 'gamma': 0.1}\n"
          ]
        }
      ],
      "source": [
        "print(\"Best parameter\", grid_search.best_params_)"
      ]
    },
    {
      "cell_type": "code",
      "execution_count": 66,
      "metadata": {
        "colab": {
          "base_uri": "https://localhost:8080/"
        },
        "id": "BY1aPahCmUB_",
        "outputId": "45abc753-8d8f-413b-fddc-dc01bb490f1b"
      },
      "outputs": [
        {
          "output_type": "stream",
          "name": "stdout",
          "text": [
            "Best cross-validation score: 0.97\n"
          ]
        }
      ],
      "source": [
        "print(\"Best cross-validation score: {:.2f}\".format(grid_search.best_score_))"
      ]
    },
    {
      "cell_type": "code",
      "execution_count": 67,
      "metadata": {
        "colab": {
          "base_uri": "https://localhost:8080/"
        },
        "id": "pXOeFM2XmxtK",
        "outputId": "1c354e5c-4c2a-44a0-a7ab-bff0d6de8be3"
      },
      "outputs": [
        {
          "output_type": "stream",
          "name": "stdout",
          "text": [
            "Best estimator:\n",
            " SVC(C=10, gamma=0.1)\n"
          ]
        }
      ],
      "source": [
        "print(\"Best estimator:\\n\", grid_search.best_estimator_)"
      ]
    },
    {
      "cell_type": "markdown",
      "metadata": {
        "id": "z8ni32G1ohyv"
      },
      "source": [
        "#### **Analyzing the result of cross-validation**"
      ]
    },
    {
      "cell_type": "code",
      "execution_count": 68,
      "metadata": {
        "id": "sBaXMDU3nEif"
      },
      "outputs": [],
      "source": [
        "results = pd.DataFrame(grid_search.cv_results_)"
      ]
    },
    {
      "cell_type": "code",
      "execution_count": 69,
      "metadata": {
        "colab": {
          "base_uri": "https://localhost:8080/",
          "height": 531
        },
        "id": "s_gdEpAzyNto",
        "outputId": "58e6d517-abd0-48a2-eb8f-d0b1c4c599d1"
      },
      "outputs": [
        {
          "output_type": "execute_result",
          "data": {
            "text/html": [
              "\n",
              "  <div id=\"df-79a9593e-6130-4ffb-89f9-6ce77218b6f1\">\n",
              "    <div class=\"colab-df-container\">\n",
              "      <div>\n",
              "<style scoped>\n",
              "    .dataframe tbody tr th:only-of-type {\n",
              "        vertical-align: middle;\n",
              "    }\n",
              "\n",
              "    .dataframe tbody tr th {\n",
              "        vertical-align: top;\n",
              "    }\n",
              "\n",
              "    .dataframe thead th {\n",
              "        text-align: right;\n",
              "    }\n",
              "</style>\n",
              "<table border=\"1\" class=\"dataframe\">\n",
              "  <thead>\n",
              "    <tr style=\"text-align: right;\">\n",
              "      <th></th>\n",
              "      <th>mean_fit_time</th>\n",
              "      <th>std_fit_time</th>\n",
              "      <th>mean_score_time</th>\n",
              "      <th>std_score_time</th>\n",
              "      <th>param_C</th>\n",
              "      <th>param_gamma</th>\n",
              "      <th>params</th>\n",
              "      <th>split0_test_score</th>\n",
              "      <th>split1_test_score</th>\n",
              "      <th>split2_test_score</th>\n",
              "      <th>split3_test_score</th>\n",
              "      <th>split4_test_score</th>\n",
              "      <th>mean_test_score</th>\n",
              "      <th>std_test_score</th>\n",
              "      <th>rank_test_score</th>\n",
              "    </tr>\n",
              "  </thead>\n",
              "  <tbody>\n",
              "    <tr>\n",
              "      <th>0</th>\n",
              "      <td>0.001798</td>\n",
              "      <td>0.000089</td>\n",
              "      <td>0.000832</td>\n",
              "      <td>0.000081</td>\n",
              "      <td>0.001</td>\n",
              "      <td>0.001</td>\n",
              "      <td>{'C': 0.001, 'gamma': 0.001}</td>\n",
              "      <td>0.347826</td>\n",
              "      <td>0.347826</td>\n",
              "      <td>0.363636</td>\n",
              "      <td>0.363636</td>\n",
              "      <td>0.409091</td>\n",
              "      <td>0.366403</td>\n",
              "      <td>0.022485</td>\n",
              "      <td>22</td>\n",
              "    </tr>\n",
              "    <tr>\n",
              "      <th>1</th>\n",
              "      <td>0.002052</td>\n",
              "      <td>0.001496</td>\n",
              "      <td>0.000612</td>\n",
              "      <td>0.000141</td>\n",
              "      <td>0.001</td>\n",
              "      <td>0.01</td>\n",
              "      <td>{'C': 0.001, 'gamma': 0.01}</td>\n",
              "      <td>0.347826</td>\n",
              "      <td>0.347826</td>\n",
              "      <td>0.363636</td>\n",
              "      <td>0.363636</td>\n",
              "      <td>0.409091</td>\n",
              "      <td>0.366403</td>\n",
              "      <td>0.022485</td>\n",
              "      <td>22</td>\n",
              "    </tr>\n",
              "    <tr>\n",
              "      <th>2</th>\n",
              "      <td>0.001031</td>\n",
              "      <td>0.000010</td>\n",
              "      <td>0.000448</td>\n",
              "      <td>0.000028</td>\n",
              "      <td>0.001</td>\n",
              "      <td>0.1</td>\n",
              "      <td>{'C': 0.001, 'gamma': 0.1}</td>\n",
              "      <td>0.347826</td>\n",
              "      <td>0.347826</td>\n",
              "      <td>0.363636</td>\n",
              "      <td>0.363636</td>\n",
              "      <td>0.409091</td>\n",
              "      <td>0.366403</td>\n",
              "      <td>0.022485</td>\n",
              "      <td>22</td>\n",
              "    </tr>\n",
              "    <tr>\n",
              "      <th>3</th>\n",
              "      <td>0.001022</td>\n",
              "      <td>0.000007</td>\n",
              "      <td>0.000446</td>\n",
              "      <td>0.000007</td>\n",
              "      <td>0.001</td>\n",
              "      <td>1</td>\n",
              "      <td>{'C': 0.001, 'gamma': 1}</td>\n",
              "      <td>0.347826</td>\n",
              "      <td>0.347826</td>\n",
              "      <td>0.363636</td>\n",
              "      <td>0.363636</td>\n",
              "      <td>0.409091</td>\n",
              "      <td>0.366403</td>\n",
              "      <td>0.022485</td>\n",
              "      <td>22</td>\n",
              "    </tr>\n",
              "    <tr>\n",
              "      <th>4</th>\n",
              "      <td>0.001125</td>\n",
              "      <td>0.000195</td>\n",
              "      <td>0.000463</td>\n",
              "      <td>0.000020</td>\n",
              "      <td>0.001</td>\n",
              "      <td>10</td>\n",
              "      <td>{'C': 0.001, 'gamma': 10}</td>\n",
              "      <td>0.347826</td>\n",
              "      <td>0.347826</td>\n",
              "      <td>0.363636</td>\n",
              "      <td>0.363636</td>\n",
              "      <td>0.409091</td>\n",
              "      <td>0.366403</td>\n",
              "      <td>0.022485</td>\n",
              "      <td>22</td>\n",
              "    </tr>\n",
              "  </tbody>\n",
              "</table>\n",
              "</div>\n",
              "      <button class=\"colab-df-convert\" onclick=\"convertToInteractive('df-79a9593e-6130-4ffb-89f9-6ce77218b6f1')\"\n",
              "              title=\"Convert this dataframe to an interactive table.\"\n",
              "              style=\"display:none;\">\n",
              "        \n",
              "  <svg xmlns=\"http://www.w3.org/2000/svg\" height=\"24px\"viewBox=\"0 0 24 24\"\n",
              "       width=\"24px\">\n",
              "    <path d=\"M0 0h24v24H0V0z\" fill=\"none\"/>\n",
              "    <path d=\"M18.56 5.44l.94 2.06.94-2.06 2.06-.94-2.06-.94-.94-2.06-.94 2.06-2.06.94zm-11 1L8.5 8.5l.94-2.06 2.06-.94-2.06-.94L8.5 2.5l-.94 2.06-2.06.94zm10 10l.94 2.06.94-2.06 2.06-.94-2.06-.94-.94-2.06-.94 2.06-2.06.94z\"/><path d=\"M17.41 7.96l-1.37-1.37c-.4-.4-.92-.59-1.43-.59-.52 0-1.04.2-1.43.59L10.3 9.45l-7.72 7.72c-.78.78-.78 2.05 0 2.83L4 21.41c.39.39.9.59 1.41.59.51 0 1.02-.2 1.41-.59l7.78-7.78 2.81-2.81c.8-.78.8-2.07 0-2.86zM5.41 20L4 18.59l7.72-7.72 1.47 1.35L5.41 20z\"/>\n",
              "  </svg>\n",
              "      </button>\n",
              "      \n",
              "  <style>\n",
              "    .colab-df-container {\n",
              "      display:flex;\n",
              "      flex-wrap:wrap;\n",
              "      gap: 12px;\n",
              "    }\n",
              "\n",
              "    .colab-df-convert {\n",
              "      background-color: #E8F0FE;\n",
              "      border: none;\n",
              "      border-radius: 50%;\n",
              "      cursor: pointer;\n",
              "      display: none;\n",
              "      fill: #1967D2;\n",
              "      height: 32px;\n",
              "      padding: 0 0 0 0;\n",
              "      width: 32px;\n",
              "    }\n",
              "\n",
              "    .colab-df-convert:hover {\n",
              "      background-color: #E2EBFA;\n",
              "      box-shadow: 0px 1px 2px rgba(60, 64, 67, 0.3), 0px 1px 3px 1px rgba(60, 64, 67, 0.15);\n",
              "      fill: #174EA6;\n",
              "    }\n",
              "\n",
              "    [theme=dark] .colab-df-convert {\n",
              "      background-color: #3B4455;\n",
              "      fill: #D2E3FC;\n",
              "    }\n",
              "\n",
              "    [theme=dark] .colab-df-convert:hover {\n",
              "      background-color: #434B5C;\n",
              "      box-shadow: 0px 1px 3px 1px rgba(0, 0, 0, 0.15);\n",
              "      filter: drop-shadow(0px 1px 2px rgba(0, 0, 0, 0.3));\n",
              "      fill: #FFFFFF;\n",
              "    }\n",
              "  </style>\n",
              "\n",
              "      <script>\n",
              "        const buttonEl =\n",
              "          document.querySelector('#df-79a9593e-6130-4ffb-89f9-6ce77218b6f1 button.colab-df-convert');\n",
              "        buttonEl.style.display =\n",
              "          google.colab.kernel.accessAllowed ? 'block' : 'none';\n",
              "\n",
              "        async function convertToInteractive(key) {\n",
              "          const element = document.querySelector('#df-79a9593e-6130-4ffb-89f9-6ce77218b6f1');\n",
              "          const dataTable =\n",
              "            await google.colab.kernel.invokeFunction('convertToInteractive',\n",
              "                                                     [key], {});\n",
              "          if (!dataTable) return;\n",
              "\n",
              "          const docLinkHtml = 'Like what you see? Visit the ' +\n",
              "            '<a target=\"_blank\" href=https://colab.research.google.com/notebooks/data_table.ipynb>data table notebook</a>'\n",
              "            + ' to learn more about interactive tables.';\n",
              "          element.innerHTML = '';\n",
              "          dataTable['output_type'] = 'display_data';\n",
              "          await google.colab.output.renderOutput(dataTable, element);\n",
              "          const docLink = document.createElement('div');\n",
              "          docLink.innerHTML = docLinkHtml;\n",
              "          element.appendChild(docLink);\n",
              "        }\n",
              "      </script>\n",
              "    </div>\n",
              "  </div>\n",
              "  "
            ],
            "text/plain": [
              "   mean_fit_time  std_fit_time  mean_score_time  std_score_time param_C  \\\n",
              "0       0.001798      0.000089         0.000832        0.000081   0.001   \n",
              "1       0.002052      0.001496         0.000612        0.000141   0.001   \n",
              "2       0.001031      0.000010         0.000448        0.000028   0.001   \n",
              "3       0.001022      0.000007         0.000446        0.000007   0.001   \n",
              "4       0.001125      0.000195         0.000463        0.000020   0.001   \n",
              "\n",
              "  param_gamma                        params  split0_test_score  \\\n",
              "0       0.001  {'C': 0.001, 'gamma': 0.001}           0.347826   \n",
              "1        0.01   {'C': 0.001, 'gamma': 0.01}           0.347826   \n",
              "2         0.1    {'C': 0.001, 'gamma': 0.1}           0.347826   \n",
              "3           1      {'C': 0.001, 'gamma': 1}           0.347826   \n",
              "4          10     {'C': 0.001, 'gamma': 10}           0.347826   \n",
              "\n",
              "   split1_test_score  split2_test_score  split3_test_score  split4_test_score  \\\n",
              "0           0.347826           0.363636           0.363636           0.409091   \n",
              "1           0.347826           0.363636           0.363636           0.409091   \n",
              "2           0.347826           0.363636           0.363636           0.409091   \n",
              "3           0.347826           0.363636           0.363636           0.409091   \n",
              "4           0.347826           0.363636           0.363636           0.409091   \n",
              "\n",
              "   mean_test_score  std_test_score  rank_test_score  \n",
              "0         0.366403        0.022485               22  \n",
              "1         0.366403        0.022485               22  \n",
              "2         0.366403        0.022485               22  \n",
              "3         0.366403        0.022485               22  \n",
              "4         0.366403        0.022485               22  "
            ]
          },
          "metadata": {},
          "execution_count": 69
        }
      ],
      "source": [
        "results.head()"
      ]
    },
    {
      "cell_type": "code",
      "execution_count": 70,
      "metadata": {
        "colab": {
          "base_uri": "https://localhost:8080/"
        },
        "id": "jfG5SmkUyQMc",
        "outputId": "f05ef90a-2ca9-4b1f-de27-e8e04cecc3dc"
      },
      "outputs": [
        {
          "output_type": "execute_result",
          "data": {
            "text/plain": [
              "(36, 15)"
            ]
          },
          "metadata": {},
          "execution_count": 70
        }
      ],
      "source": [
        "results.shape"
      ]
    },
    {
      "cell_type": "code",
      "execution_count": 71,
      "metadata": {
        "colab": {
          "base_uri": "https://localhost:8080/"
        },
        "id": "Epa8AXcyylKq",
        "outputId": "577992b4-a0b0-475d-a417-841ea654dd71"
      },
      "outputs": [
        {
          "output_type": "execute_result",
          "data": {
            "text/plain": [
              "15"
            ]
          },
          "metadata": {},
          "execution_count": 71
        }
      ],
      "source": [
        "len(results.columns)"
      ]
    },
    {
      "cell_type": "code",
      "execution_count": 72,
      "metadata": {
        "id": "zhr7-M3DytBp"
      },
      "outputs": [],
      "source": [
        "score = np.array(results.mean_test_score).reshape(6, 6)"
      ]
    },
    {
      "cell_type": "code",
      "execution_count": 73,
      "metadata": {
        "colab": {
          "base_uri": "https://localhost:8080/"
        },
        "id": "-iLWj7gkzxyQ",
        "outputId": "ca54dd7c-82de-4174-ed6a-ed74afe2a844"
      },
      "outputs": [
        {
          "output_type": "execute_result",
          "data": {
            "text/plain": [
              "array([[0.36640316, 0.36640316, 0.36640316, 0.36640316, 0.36640316,\n",
              "        0.36640316],\n",
              "       [0.36640316, 0.36640316, 0.36640316, 0.36640316, 0.36640316,\n",
              "        0.36640316],\n",
              "       [0.36640316, 0.69644269, 0.90158103, 0.95533597, 0.36640316,\n",
              "        0.36640316],\n",
              "       [0.69644269, 0.93794466, 0.96403162, 0.94664032, 0.9284585 ,\n",
              "        0.50158103],\n",
              "       [0.93794466, 0.96403162, 0.97312253, 0.94624506, 0.91106719,\n",
              "        0.58142292],\n",
              "       [0.96403162, 0.96442688, 0.95494071, 0.94624506, 0.91106719,\n",
              "        0.58142292]])"
            ]
          },
          "metadata": {},
          "execution_count": 73
        }
      ],
      "source": [
        "score"
      ]
    },
    {
      "cell_type": "code",
      "execution_count": 74,
      "metadata": {
        "colab": {
          "base_uri": "https://localhost:8080/",
          "height": 279
        },
        "id": "pFUhkJvaz5Jh",
        "outputId": "ecf1d92c-fae6-419e-bcc6-7d09316348eb"
      },
      "outputs": [
        {
          "output_type": "display_data",
          "data": {
            "image/png": "[encoded data removed]",
            "text/plain": [
              "<Figure size 432x288 with 1 Axes>"
            ]
          },
          "metadata": {
            "needs_background": "light"
          }
        }
      ],
      "source": [
        "mglearn.tools.heatmap(score, xlabel='gamma', ylabel='C', xticklabels=param_grid['gamma'],\n",
        "                      yticklabels=param_grid['C'], cmap='viridis')\n",
        "plt.show()"
      ]
    },
    {
      "cell_type": "markdown",
      "metadata": {
        "id": "sCkln1PU6WbQ"
      },
      "source": [
        "##### **Nested cross-validation(validation croisée imbriquée)**\n",
        "\n",
        "Cette validation consiste à faire des splits multiples de cross-validation au lieu d'en faire un seul en ayant de données d'entrainement et de test une seule fois.\n",
        "\n",
        "Cette procedure renvoie une liste de scores pas un model et encore moins pas les paramètres. N'oublions pas que le score nous montre comment le modèle généralise"
      ]
    },
    {
      "cell_type": "code",
      "execution_count": 75,
      "metadata": {
        "id": "H6QDD2pw0rUo"
      },
      "outputs": [],
      "source": [
        "scores = cross_val_score(GridSearchCV(SVC(), param_grid=param_grid, cv=5),\n",
        "                iris.data, iris.target, cv=5)"
      ]
    },
    {
      "cell_type": "code",
      "execution_count": 76,
      "metadata": {
        "colab": {
          "base_uri": "https://localhost:8080/"
        },
        "id": "Hg4AXIJf6D59",
        "outputId": "b947de82-e78e-4d5e-c493-c4e931033375"
      },
      "outputs": [
        {
          "output_type": "execute_result",
          "data": {
            "text/plain": [
              "array([0.96666667, 1.        , 0.96666667, 0.96666667, 1.        ])"
            ]
          },
          "metadata": {},
          "execution_count": 76
        }
      ],
      "source": [
        "scores"
      ]
    },
    {
      "cell_type": "code",
      "execution_count": 77,
      "metadata": {
        "colab": {
          "base_uri": "https://localhost:8080/"
        },
        "id": "SxFa_5ny-kUQ",
        "outputId": "6d1c323c-a500-4155-a057-edd5827e89a8"
      },
      "outputs": [
        {
          "output_type": "execute_result",
          "data": {
            "text/plain": [
              "0.9800000000000001"
            ]
          },
          "metadata": {},
          "execution_count": 77
        }
      ],
      "source": [
        "scores.mean()"
      ]
    },
    {
      "cell_type": "markdown",
      "metadata": {
        "id": "_6OhJfogCmMU"
      },
      "source": [
        "## **Evaluation Metrics and Scoring**\n",
        "\n",
        "Jusqu'à présent, nous avons évalué les performances de classification en utilisant la précision (la fraction de\n",
        "échantillons correctement classés) et les performances de régression en utilisant R 2 . Cependant, ce sont\n",
        "seulement deux des nombreuses façons possibles de résumer les performances d'un modèle supervisé sur un ensemble de données donné. En pratique, ces métriques d'évaluation peuvent ne pas être appropriées pour votre application, et il est important de choisir la bonne métrique lors de la sélection\n",
        "entre les modèles et les paramètres de réglage.\n",
        "\n",
        "#### **Keep the End Goal in Mind**\n",
        "\n",
        "Lors de la sélection d'une métrique, vous devez toujours avoir à l'esprit l'objectif final de l'application d'apprentissage automatique. En pratique, nous sommes généralement intéressés non seulement à faire\n",
        "prévisions exactes, mais en utilisant ces prévisions dans le cadre d'un processus décisionnel plus large. Avant de choisir une métrique de machine learning, vous devez réfléchir à\n",
        "l'objectif de haut niveau de l'application, souvent appelé **métrique métier(metric business)**.\n",
        "\n",
        "Les conséquances de choisir un algo de machine learning sont appelés:\n",
        "**Business impact**\n",
        "\n",
        "\n",
        "### **Metrics for Binaray Classification**\n",
        "\n"
      ]
    },
    {
      "cell_type": "code",
      "execution_count": 78,
      "metadata": {
        "id": "_Dm7bHpi-nLj"
      },
      "outputs": [],
      "source": [
        "from sklearn.datasets import load_digits"
      ]
    },
    {
      "cell_type": "code",
      "execution_count": 79,
      "metadata": {
        "id": "2po75NGgfK-L"
      },
      "outputs": [],
      "source": [
        "digits = load_digits()"
      ]
    },
    {
      "cell_type": "code",
      "execution_count": 80,
      "metadata": {
        "colab": {
          "base_uri": "https://localhost:8080/",
          "height": 282
        },
        "id": "AfCio6bkfMsK",
        "outputId": "a1683fd3-dd4d-4f3c-976c-65106ccfd7f0"
      },
      "outputs": [
        {
          "output_type": "execute_result",
          "data": {
            "text/plain": [
              "<matplotlib.image.AxesImage at 0x7f595fffcdd0>"
            ]
          },
          "metadata": {},
          "execution_count": 80
        },
        {
          "output_type": "display_data",
          "data": {
            "image/png": "[encoded data removed]",
            "text/plain": [
              "<Figure size 432x288 with 1 Axes>"
            ]
          },
          "metadata": {
            "needs_background": "light"
          }
        }
      ],
      "source": [
        "import matplotlib.pyplot as plt, pandas as pd, numpy as np\n",
        "\n",
        "plt.imshow(digits.images[0])"
      ]
    },
    {
      "cell_type": "code",
      "execution_count": 81,
      "metadata": {
        "colab": {
          "base_uri": "https://localhost:8080/"
        },
        "id": "44kTTSR8fRMS",
        "outputId": "16a47a05-8710-495f-f138-f1762f3083d3"
      },
      "outputs": [
        {
          "output_type": "stream",
          "name": "stdout",
          "text": [
            "Requirement already satisfied: mglearn in /usr/local/lib/python3.7/dist-packages (0.1.9)\n",
            "Requirement already satisfied: scikit-learn in /usr/local/lib/python3.7/dist-packages (from mglearn) (1.0.2)\n",
            "Requirement already satisfied: matplotlib in /usr/local/lib/python3.7/dist-packages (from mglearn) (3.2.2)\n",
            "Requirement already satisfied: numpy in /usr/local/lib/python3.7/dist-packages (from mglearn) (1.21.5)\n",
            "Requirement already satisfied: pandas in /usr/local/lib/python3.7/dist-packages (from mglearn) (1.3.5)\n",
            "Requirement already satisfied: pillow in /usr/local/lib/python3.7/dist-packages (from mglearn) (7.1.2)\n",
            "Requirement already satisfied: imageio in /usr/local/lib/python3.7/dist-packages (from mglearn) (2.4.1)\n",
            "Requirement already satisfied: cycler in /usr/local/lib/python3.7/dist-packages (from mglearn) (0.11.0)\n",
            "Requirement already satisfied: joblib in /usr/local/lib/python3.7/dist-packages (from mglearn) (1.1.0)\n",
            "Requirement already satisfied: python-dateutil>=2.1 in /usr/local/lib/python3.7/dist-packages (from matplotlib->mglearn) (2.8.2)\n",
            "Requirement already satisfied: pyparsing!=2.0.4,!=2.1.2,!=2.1.6,>=2.0.1 in /usr/local/lib/python3.7/dist-packages (from matplotlib->mglearn) (3.0.7)\n",
            "Requirement already satisfied: kiwisolver>=1.0.1 in /usr/local/lib/python3.7/dist-packages (from matplotlib->mglearn) (1.3.2)\n",
            "Requirement already satisfied: six>=1.5 in /usr/local/lib/python3.7/dist-packages (from python-dateutil>=2.1->matplotlib->mglearn) (1.15.0)\n",
            "Requirement already satisfied: pytz>=2017.3 in /usr/local/lib/python3.7/dist-packages (from pandas->mglearn) (2018.9)\n",
            "Requirement already satisfied: threadpoolctl>=2.0.0 in /usr/local/lib/python3.7/dist-packages (from scikit-learn->mglearn) (3.1.0)\n",
            "Requirement already satisfied: scipy>=1.1.0 in /usr/local/lib/python3.7/dist-packages (from scikit-learn->mglearn) (1.4.1)\n"
          ]
        }
      ],
      "source": [
        "!pip install mglearn"
      ]
    },
    {
      "cell_type": "code",
      "execution_count": 82,
      "metadata": {
        "colab": {
          "base_uri": "https://localhost:8080/"
        },
        "id": "SmGk6rFdflVT",
        "outputId": "abbba2f3-2764-41a3-f517-fbe1ddb9919f"
      },
      "outputs": [
        {
          "output_type": "execute_result",
          "data": {
            "text/plain": [
              "array([0, 1, 2, ..., 8, 9, 8])"
            ]
          },
          "metadata": {},
          "execution_count": 82
        }
      ],
      "source": [
        "digits.target"
      ]
    },
    {
      "cell_type": "code",
      "execution_count": 83,
      "metadata": {
        "colab": {
          "base_uri": "https://localhost:8080/"
        },
        "id": "xUTw7b7NfrtB",
        "outputId": "7c48290b-0eb5-484f-c605-b31736680a48"
      },
      "outputs": [
        {
          "output_type": "execute_result",
          "data": {
            "text/plain": [
              "array([False, False, False, ..., False,  True, False])"
            ]
          },
          "metadata": {},
          "execution_count": 83
        }
      ],
      "source": [
        "\n",
        "y = digits.target == 9\n",
        "y"
      ]
    },
    {
      "cell_type": "code",
      "execution_count": 84,
      "metadata": {
        "id": "NyKjAdXPfzlE"
      },
      "outputs": [],
      "source": [
        "from sklearn.model_selection import train_test_split\n",
        "\n",
        "X_train, X_test, y_train, y_test = train_test_split(digits.data, y, random_state=0)"
      ]
    },
    {
      "cell_type": "markdown",
      "metadata": {
        "id": "ytbYQKBsgX_t"
      },
      "source": [
        "On va à présent utiliser l'algorithme **DummyClassifier** Pour classer la classe la plus majoritaire"
      ]
    },
    {
      "cell_type": "code",
      "execution_count": 85,
      "metadata": {
        "id": "S86o5UnvgGnu"
      },
      "outputs": [],
      "source": [
        "from sklearn.dummy import DummyClassifier"
      ]
    },
    {
      "cell_type": "code",
      "execution_count": 86,
      "metadata": {
        "id": "SoFp5bjWgqP0"
      },
      "outputs": [],
      "source": [
        "dummy_majority = DummyClassifier(strategy='most_frequent').fit(X_train, y_train)\n",
        "\n",
        "pred_most_frequent = dummy_majority.predict(X_test)"
      ]
    },
    {
      "cell_type": "code",
      "execution_count": 87,
      "metadata": {
        "colab": {
          "base_uri": "https://localhost:8080/"
        },
        "id": "HLx457NhhkgV",
        "outputId": "691629f9-be8d-4672-f13f-866178f5bf81"
      },
      "outputs": [
        {
          "output_type": "execute_result",
          "data": {
            "text/plain": [
              "array([False])"
            ]
          },
          "metadata": {},
          "execution_count": 87
        }
      ],
      "source": [
        "np.unique(pred_most_frequent)"
      ]
    },
    {
      "cell_type": "code",
      "execution_count": 88,
      "metadata": {
        "colab": {
          "base_uri": "https://localhost:8080/"
        },
        "id": "sEWiUw-5htRn",
        "outputId": "bbee262d-12d1-4e09-e36e-95c3f745c979"
      },
      "outputs": [
        {
          "output_type": "stream",
          "name": "stdout",
          "text": [
            "Test score 0.8955555555555555\n"
          ]
        }
      ],
      "source": [
        "print(\"Test score\", dummy_majority.score(X_test, y_test))"
      ]
    },
    {
      "cell_type": "code",
      "execution_count": 89,
      "metadata": {
        "id": "epMxCGXoh3Pi"
      },
      "outputs": [],
      "source": [
        "#Compare with other Classifier\n",
        "from sklearn.tree import DecisionTreeClassifier"
      ]
    },
    {
      "cell_type": "code",
      "execution_count": 90,
      "metadata": {
        "id": "lYI8EfbUiMv8"
      },
      "outputs": [],
      "source": [
        "tree = DecisionTreeClassifier(max_depth=2).fit(X_train, y_train)"
      ]
    },
    {
      "cell_type": "code",
      "execution_count": 91,
      "metadata": {
        "id": "67cWKM8ziVlx"
      },
      "outputs": [],
      "source": [
        "pred_tree = tree.predict(X_test)"
      ]
    },
    {
      "cell_type": "code",
      "execution_count": 92,
      "metadata": {
        "colab": {
          "base_uri": "https://localhost:8080/"
        },
        "id": "eE1BgAariaBD",
        "outputId": "742d9e86-e83a-4890-c346-7afafebb088e"
      },
      "outputs": [
        {
          "output_type": "stream",
          "name": "stdout",
          "text": [
            "Test score with tree:  0.9177777777777778\n"
          ]
        }
      ],
      "source": [
        "print(\"Test score with tree: \", tree.score(X_test, y_test))"
      ]
    },
    {
      "cell_type": "code",
      "execution_count": 93,
      "metadata": {
        "id": "IK55bK2mihMd"
      },
      "outputs": [],
      "source": [
        "# comparing with linear model\n",
        "from sklearn.linear_model import LogisticRegression"
      ]
    },
    {
      "cell_type": "code",
      "execution_count": 94,
      "metadata": {
        "colab": {
          "base_uri": "https://localhost:8080/"
        },
        "id": "rhzgJXgHi-Ae",
        "outputId": "d5af160c-bf9f-46bb-8d9a-5cda72e5a382"
      },
      "outputs": [
        {
          "output_type": "stream",
          "name": "stdout",
          "text": [
            "dummy score:  0.8955555555555555\n",
            "logreg score: 0.98\n"
          ]
        }
      ],
      "source": [
        "dummy = DummyClassifier().fit(X_train, y_train)\n",
        "pred_dummy = dummy.predict(X_test)\n",
        "print(\"dummy score: \", dummy.score(X_test, y_test))\n",
        "\n",
        "logreg = LogisticRegression(max_iter=1000).fit(X_train, y_train)\n",
        "pred_logreg = logreg.predict(X_test)\n",
        "print(\"logreg score:\", logreg.score(X_test, y_test))"
      ]
    },
    {
      "cell_type": "markdown",
      "metadata": {
        "id": "q0mIwpick4Dq"
      },
      "source": [
        "###### **Matrices de confusion**\n",
        "\n",
        "L'une des façons les plus complètes de représenter le résultat de l'évaluation de la classification binaire consiste à utiliser des matrices de confusion. Inspectons les prédictions de LogisticRegres\n",
        "sion de la section précédente à l'aide de la fonction **confusion_matrix**. Nous avons déjà\n",
        "stocké les prédictions sur le jeu de test dans pred_logreg :"
      ]
    },
    {
      "cell_type": "code",
      "execution_count": 95,
      "metadata": {
        "id": "scec938JjLgV"
      },
      "outputs": [],
      "source": [
        "from sklearn.metrics import confusion_matrix"
      ]
    },
    {
      "cell_type": "code",
      "execution_count": 96,
      "metadata": {
        "id": "Vh-yt8b9na1B"
      },
      "outputs": [],
      "source": [
        "confusion = confusion_matrix(y_test, pred_logreg)"
      ]
    },
    {
      "cell_type": "code",
      "execution_count": 97,
      "metadata": {
        "colab": {
          "base_uri": "https://localhost:8080/"
        },
        "id": "RabpxSsM3CRE",
        "outputId": "82e6b5ef-3538-4088-f874-92e2d862c793"
      },
      "outputs": [
        {
          "output_type": "execute_result",
          "data": {
            "text/plain": [
              "array([[400,   3],\n",
              "       [  6,  41]])"
            ]
          },
          "metadata": {},
          "execution_count": 97
        }
      ],
      "source": [
        "confusion"
      ]
    },
    {
      "cell_type": "code",
      "execution_count": 98,
      "metadata": {
        "colab": {
          "base_uri": "https://localhost:8080/",
          "height": 492
        },
        "id": "ESGXLetQ3CRE",
        "outputId": "92706926-8edd-45a4-b0a6-26e94df03e50"
      },
      "outputs": [
        {
          "output_type": "display_data",
          "data": {
            "image/png": "[encoded data removed]",
            "text/plain": [
              "<Figure size 576x576 with 1 Axes>"
            ]
          },
          "metadata": {
            "needs_background": "light"
          }
        }
      ],
      "source": [
        "mglearn.plots.plot_confusion_matrix_illustration()"
      ]
    },
    {
      "cell_type": "code",
      "execution_count": 99,
      "metadata": {
        "colab": {
          "base_uri": "https://localhost:8080/",
          "height": 270
        },
        "id": "HJ82bu5m3CRF",
        "outputId": "894120fe-41c7-43ae-8154-1e4f574cd4e1"
      },
      "outputs": [
        {
          "output_type": "display_data",
          "data": {
            "image/png": "[encoded data removed]",
            "text/plain": [
              "<Figure size 432x288 with 1 Axes>"
            ]
          },
          "metadata": {
            "needs_background": "light"
          }
        }
      ],
      "source": [
        "mglearn.plots.plot_binary_confusion_matrix()"
      ]
    },
    {
      "cell_type": "code",
      "execution_count": 100,
      "metadata": {
        "colab": {
          "base_uri": "https://localhost:8080/"
        },
        "id": "SGcVVPPG3CRG",
        "outputId": "c7b0f687-a6e8-417e-88d8-35f7f228d82b"
      },
      "outputs": [
        {
          "output_type": "stream",
          "name": "stdout",
          "text": [
            "Most frequent class:\n",
            "[[403   0]\n",
            " [ 47   0]]\n",
            "\n",
            "Dummy model:\n",
            "[[403   0]\n",
            " [ 47   0]]\n",
            "\n",
            "Tree model:\n",
            "[[390  13]\n",
            " [ 24  23]]\n",
            "\n",
            "Logistic Regression:\n",
            "[[400   3]\n",
            " [  6  41]]\n"
          ]
        }
      ],
      "source": [
        "print(\"Most frequent class:\")\n",
        "print(confusion_matrix(y_test, pred_most_frequent))\n",
        "\n",
        "print(\"\\nDummy model:\")\n",
        "print(confusion_matrix(y_test, pred_dummy))\n",
        "\n",
        "print(\"\\nTree model:\")\n",
        "print(confusion_matrix(y_test, pred_tree))\n",
        "\n",
        "print(\"\\nLogistic Regression:\")\n",
        "print(confusion_matrix(y_test, pred_logreg))"
      ]
    },
    {
      "cell_type": "code",
      "execution_count": 101,
      "metadata": {
        "id": "Ppbr6UtK3CRH"
      },
      "outputs": [],
      "source": [
        "from sklearn.metrics import f1_score"
      ]
    },
    {
      "cell_type": "code",
      "execution_count": 102,
      "metadata": {
        "colab": {
          "base_uri": "https://localhost:8080/"
        },
        "id": "SUh67aIN3CRI",
        "outputId": "bd4157b1-7c21-4e15-e76a-d30076ffcb1b"
      },
      "outputs": [
        {
          "output_type": "stream",
          "name": "stdout",
          "text": [
            "f1 more score frequent:\n",
            "0.0\n",
            "\n",
            "f1 dummy score:\n",
            "0.0\n",
            "\n",
            "f1 Tree score:\n",
            "0.5542168674698795\n",
            "\n",
            "f1 linear score:\n",
            "0.9010989010989012\n"
          ]
        }
      ],
      "source": [
        "print(\"f1 more score frequent:\")\n",
        "print(f1_score(y_test, pred_most_frequent)) \n",
        "\n",
        "print(\"\\nf1 dummy score:\")\n",
        "print(f1_score(y_test, pred_dummy))\n",
        "\n",
        "print(\"\\nf1 Tree score:\")\n",
        "print(f1_score(y_test, pred_tree))\n",
        "\n",
        "print(\"\\nf1 linear score:\")\n",
        "print(f1_score(y_test, pred_logreg))"
      ]
    },
    {
      "cell_type": "code",
      "execution_count": 103,
      "metadata": {
        "id": "war1IznF3CRJ"
      },
      "outputs": [],
      "source": [
        "from sklearn.metrics import classification_report"
      ]
    },
    {
      "cell_type": "code",
      "execution_count": 104,
      "metadata": {
        "colab": {
          "base_uri": "https://localhost:8080/"
        },
        "id": "7FMUrJn73CRJ",
        "outputId": "add551de-5073-4dc7-e652-f17b1aa8e6b7"
      },
      "outputs": [
        {
          "output_type": "stream",
          "name": "stdout",
          "text": [
            "              precision    recall  f1-score   support\n",
            "\n",
            "       False       0.90      1.00      0.94       403\n",
            "        True       0.00      0.00      0.00        47\n",
            "\n",
            "    accuracy                           0.90       450\n",
            "   macro avg       0.45      0.50      0.47       450\n",
            "weighted avg       0.80      0.90      0.85       450\n",
            "\n"
          ]
        },
        {
          "output_type": "stream",
          "name": "stderr",
          "text": [
            "/usr/local/lib/python3.7/dist-packages/sklearn/metrics/_classification.py:1318: UndefinedMetricWarning: Precision and F-score are ill-defined and being set to 0.0 in labels with no predicted samples. Use `zero_division` parameter to control this behavior.\n",
            "  _warn_prf(average, modifier, msg_start, len(result))\n",
            "/usr/local/lib/python3.7/dist-packages/sklearn/metrics/_classification.py:1318: UndefinedMetricWarning: Precision and F-score are ill-defined and being set to 0.0 in labels with no predicted samples. Use `zero_division` parameter to control this behavior.\n",
            "  _warn_prf(average, modifier, msg_start, len(result))\n",
            "/usr/local/lib/python3.7/dist-packages/sklearn/metrics/_classification.py:1318: UndefinedMetricWarning: Precision and F-score are ill-defined and being set to 0.0 in labels with no predicted samples. Use `zero_division` parameter to control this behavior.\n",
            "  _warn_prf(average, modifier, msg_start, len(result))\n"
          ]
        }
      ],
      "source": [
        "print(classification_report(y_test, pred_most_frequent))"
      ]
    },
    {
      "cell_type": "code",
      "execution_count": 105,
      "metadata": {
        "colab": {
          "base_uri": "https://localhost:8080/"
        },
        "id": "nG-MHG1A3CRK",
        "outputId": "9c9bf9ce-8917-433e-a163-83d3d23fcef9"
      },
      "outputs": [
        {
          "output_type": "stream",
          "name": "stdout",
          "text": [
            "              precision    recall  f1-score   support\n",
            "\n",
            "    not nine       0.90      1.00      0.94       403\n",
            "        nine       0.00      0.00      0.00        47\n",
            "\n",
            "    accuracy                           0.90       450\n",
            "   macro avg       0.45      0.50      0.47       450\n",
            "weighted avg       0.80      0.90      0.85       450\n",
            "\n"
          ]
        },
        {
          "output_type": "stream",
          "name": "stderr",
          "text": [
            "/usr/local/lib/python3.7/dist-packages/sklearn/metrics/_classification.py:1318: UndefinedMetricWarning: Precision and F-score are ill-defined and being set to 0.0 in labels with no predicted samples. Use `zero_division` parameter to control this behavior.\n",
            "  _warn_prf(average, modifier, msg_start, len(result))\n",
            "/usr/local/lib/python3.7/dist-packages/sklearn/metrics/_classification.py:1318: UndefinedMetricWarning: Precision and F-score are ill-defined and being set to 0.0 in labels with no predicted samples. Use `zero_division` parameter to control this behavior.\n",
            "  _warn_prf(average, modifier, msg_start, len(result))\n",
            "/usr/local/lib/python3.7/dist-packages/sklearn/metrics/_classification.py:1318: UndefinedMetricWarning: Precision and F-score are ill-defined and being set to 0.0 in labels with no predicted samples. Use `zero_division` parameter to control this behavior.\n",
            "  _warn_prf(average, modifier, msg_start, len(result))\n"
          ]
        }
      ],
      "source": [
        "print(classification_report(y_test, pred_most_frequent,\n",
        "     target_names=['not nine', 'nine']))"
      ]
    },
    {
      "cell_type": "code",
      "execution_count": 106,
      "metadata": {
        "colab": {
          "base_uri": "https://localhost:8080/"
        },
        "id": "NlEcRHCW3CRL",
        "outputId": "e1658ab7-8bce-4e8e-fd46-47e00d81f3dd"
      },
      "outputs": [
        {
          "output_type": "stream",
          "name": "stdout",
          "text": [
            "              precision    recall  f1-score   support\n",
            "\n",
            "    not nine       0.90      1.00      0.94       403\n",
            "        nine       0.00      0.00      0.00        47\n",
            "\n",
            "    accuracy                           0.90       450\n",
            "   macro avg       0.45      0.50      0.47       450\n",
            "weighted avg       0.80      0.90      0.85       450\n",
            "\n",
            "\n",
            "               precision    recall  f1-score   support\n",
            "\n",
            "    not nine       0.99      0.99      0.99       403\n",
            "        nine       0.93      0.87      0.90        47\n",
            "\n",
            "    accuracy                           0.98       450\n",
            "   macro avg       0.96      0.93      0.94       450\n",
            "weighted avg       0.98      0.98      0.98       450\n",
            "\n"
          ]
        },
        {
          "output_type": "stream",
          "name": "stderr",
          "text": [
            "/usr/local/lib/python3.7/dist-packages/sklearn/metrics/_classification.py:1318: UndefinedMetricWarning: Precision and F-score are ill-defined and being set to 0.0 in labels with no predicted samples. Use `zero_division` parameter to control this behavior.\n",
            "  _warn_prf(average, modifier, msg_start, len(result))\n",
            "/usr/local/lib/python3.7/dist-packages/sklearn/metrics/_classification.py:1318: UndefinedMetricWarning: Precision and F-score are ill-defined and being set to 0.0 in labels with no predicted samples. Use `zero_division` parameter to control this behavior.\n",
            "  _warn_prf(average, modifier, msg_start, len(result))\n",
            "/usr/local/lib/python3.7/dist-packages/sklearn/metrics/_classification.py:1318: UndefinedMetricWarning: Precision and F-score are ill-defined and being set to 0.0 in labels with no predicted samples. Use `zero_division` parameter to control this behavior.\n",
            "  _warn_prf(average, modifier, msg_start, len(result))\n"
          ]
        }
      ],
      "source": [
        "print(classification_report(y_test, pred_dummy,\n",
        "                     target_names=['not nine', 'nine']))\n",
        "\n",
        "print('\\n',classification_report(y_test, pred_logreg,\n",
        "                           target_names=['not nine', 'nine']))"
      ]
    },
    {
      "cell_type": "code",
      "execution_count": 107,
      "metadata": {
        "colab": {
          "base_uri": "https://localhost:8080/",
          "height": 527
        },
        "id": "ypBIqeei3CRM",
        "outputId": "ae93d2a0-3cfd-40d7-ed41-dc811769fa21"
      },
      "outputs": [
        {
          "output_type": "display_data",
          "data": {
            "image/png": "[encoded data removed]",
            "text/plain": [
              "<Figure size 1080x576 with 6 Axes>"
            ]
          },
          "metadata": {}
        }
      ],
      "source": [
        "mglearn.plots.plot_decision_threshold()"
      ]
    },
    {
      "cell_type": "code",
      "execution_count": 108,
      "metadata": {
        "id": "mDAKQGxc3CRM"
      },
      "outputs": [],
      "source": [
        "from sklearn.svm import SVC\n",
        "from sklearn.datasets import make_blobs"
      ]
    },
    {
      "cell_type": "code",
      "execution_count": 109,
      "metadata": {
        "id": "gUDbwbEi3CRN"
      },
      "outputs": [],
      "source": [
        "X, y = make_blobs(n_samples=(400, 50), cluster_std=[7.0, 2],\n",
        "random_state=22)"
      ]
    },
    {
      "cell_type": "code",
      "execution_count": 110,
      "metadata": {
        "id": "B1fOcBfo3CRO"
      },
      "outputs": [],
      "source": [
        "X_train, X_test, y_train, y_test = train_test_split(X, y, random_state=0)"
      ]
    },
    {
      "cell_type": "code",
      "execution_count": 111,
      "metadata": {
        "id": "TSzZHtFU3CRO"
      },
      "outputs": [],
      "source": [
        "svc = SVC(gamma=.05).fit(X_train, y_train)"
      ]
    },
    {
      "cell_type": "code",
      "execution_count": 112,
      "metadata": {
        "colab": {
          "base_uri": "https://localhost:8080/"
        },
        "id": "tRQvbbmZ3CRQ",
        "outputId": "951e956e-c6ec-4672-ecbc-feac07d2c7c3"
      },
      "outputs": [
        {
          "output_type": "stream",
          "name": "stdout",
          "text": [
            "              precision    recall  f1-score   support\n",
            "\n",
            "           0       0.97      0.89      0.93       104\n",
            "           1       0.35      0.67      0.46         9\n",
            "\n",
            "    accuracy                           0.88       113\n",
            "   macro avg       0.66      0.78      0.70       113\n",
            "weighted avg       0.92      0.88      0.89       113\n",
            "\n"
          ]
        }
      ],
      "source": [
        "print(classification_report(y_test, svc.predict(X_test)))"
      ]
    },
    {
      "cell_type": "markdown",
      "source": [
        "Souvent, lors du développement d'un nouveau modèle, il n'est pas tout à fait clair quel est le **point de fonctionnement**\n",
        "sera. Pour cette raison, et pour mieux comprendre un problème de modélisation, il est instructif\n",
        "pour examiner tous les seuils possibles, ou tous les compromis possibles de précision et de rappels à\n",
        "une fois que. Ceci est possible en utilisant un outil appelé la courbe de rappel de précision. Vous pouvez trouver le\n",
        "pour calculer la courbe précision-rappel dans le module sklearn.metrics. Ce\n",
        "a besoin de l'étiquetage de vérité terrain et des incertitudes prévues, créées via\n",
        "decision_function ou predict_proba :"
      ],
      "metadata": {
        "id": "JceRhBFh4jgD"
      }
    },
    {
      "cell_type": "code",
      "execution_count": 113,
      "metadata": {
        "id": "vdjr94IG3CRQ"
      },
      "outputs": [],
      "source": [
        "from sklearn.metrics import precision_recall_curve"
      ]
    },
    {
      "cell_type": "code",
      "source": [
        "precision, recall, thresholds = precision_recall_curve(y_test, svc.decision_function(X_test))"
      ],
      "metadata": {
        "id": "4DjG_h0B6dPi"
      },
      "execution_count": 114,
      "outputs": []
    },
    {
      "cell_type": "code",
      "source": [
        "precision"
      ],
      "metadata": {
        "colab": {
          "base_uri": "https://localhost:8080/"
        },
        "id": "Ta64deLR6tbe",
        "outputId": "119d3e19-bba9-4b5e-9144-1863b3c3999d"
      },
      "execution_count": 115,
      "outputs": [
        {
          "output_type": "execute_result",
          "data": {
            "text/plain": [
              "array([0.32142857, 0.2962963 , 0.30769231, 0.32      , 0.33333333,\n",
              "       0.34782609, 0.36363636, 0.38095238, 0.4       , 0.36842105,\n",
              "       0.33333333, 0.35294118, 0.375     , 0.4       , 0.42857143,\n",
              "       0.38461538, 0.41666667, 0.45454545, 0.4       , 0.44444444,\n",
              "       0.5       , 0.57142857, 0.66666667, 0.6       , 0.5       ,\n",
              "       0.66666667, 0.5       , 1.        , 1.        ])"
            ]
          },
          "metadata": {},
          "execution_count": 115
        }
      ]
    },
    {
      "cell_type": "code",
      "source": [
        "recall"
      ],
      "metadata": {
        "colab": {
          "base_uri": "https://localhost:8080/"
        },
        "id": "vMWqzK2K7FfY",
        "outputId": "cb86eeeb-57b6-448a-a7e5-1dc22b6b5a2c"
      },
      "execution_count": 116,
      "outputs": [
        {
          "output_type": "execute_result",
          "data": {
            "text/plain": [
              "array([1.        , 0.88888889, 0.88888889, 0.88888889, 0.88888889,\n",
              "       0.88888889, 0.88888889, 0.88888889, 0.88888889, 0.77777778,\n",
              "       0.66666667, 0.66666667, 0.66666667, 0.66666667, 0.66666667,\n",
              "       0.55555556, 0.55555556, 0.55555556, 0.44444444, 0.44444444,\n",
              "       0.44444444, 0.44444444, 0.44444444, 0.33333333, 0.22222222,\n",
              "       0.22222222, 0.11111111, 0.11111111, 0.        ])"
            ]
          },
          "metadata": {},
          "execution_count": 116
        }
      ]
    },
    {
      "cell_type": "markdown",
      "source": [
        "la fonction **precision_recall_curve** renvoie une liste des précisions, rappels pour tous les seuils possibles"
      ],
      "metadata": {
        "id": "VAiGNmO57ODa"
      }
    },
    {
      "cell_type": "code",
      "source": [
        "X, y = make_blobs(n_samples=(4000, 5000), cluster_std=[7.0, 2],\n",
        "                  random_state=22)"
      ],
      "metadata": {
        "id": "DPtrH_u_7HUO"
      },
      "execution_count": 133,
      "outputs": []
    },
    {
      "cell_type": "code",
      "source": [
        "X_train, X_test, y_train, y_test = train_test_split(X, y, random_state=0)"
      ],
      "metadata": {
        "id": "Wjx5bm7o7zxL"
      },
      "execution_count": 134,
      "outputs": []
    },
    {
      "cell_type": "code",
      "source": [
        "svc = SVC(gamma=0.05).fit(X_train, y_train)"
      ],
      "metadata": {
        "id": "wEjPnUji7906"
      },
      "execution_count": 135,
      "outputs": []
    },
    {
      "cell_type": "code",
      "source": [
        "precision, recall, thresholds = precision_recall_curve(\n",
        "    y_test, svc.decision_function(X_test)\n",
        ")"
      ],
      "metadata": {
        "id": "l_LrZl4T8B9W"
      },
      "execution_count": 148,
      "outputs": []
    },
    {
      "cell_type": "code",
      "source": [
        "# trouvé le seuil le plus proche de séro\n",
        "close_zero = np.argmin(np.abs(precision))"
      ],
      "metadata": {
        "id": "Sh2IG2Aj8jDI"
      },
      "execution_count": 137,
      "outputs": []
    },
    {
      "cell_type": "code",
      "source": [
        "close_zero"
      ],
      "metadata": {
        "colab": {
          "base_uri": "https://localhost:8080/"
        },
        "id": "ZKle8Chf87oR",
        "outputId": "596f06c6-6f49-46ab-9755-30dccba42d60"
      },
      "execution_count": 138,
      "outputs": [
        {
          "output_type": "execute_result",
          "data": {
            "text/plain": [
              "2223"
            ]
          },
          "metadata": {},
          "execution_count": 138
        }
      ]
    },
    {
      "cell_type": "code",
      "source": [
        "plt.plot(precision[close_zero], recall[close_zero], 'o', markersize=10,\n",
        "         label='threshold zero', fillstyle='none', c='k', mew=2)\n",
        "plt.plot(precision, recall, label='preision recall curve')\n",
        "plt.legend()\n",
        "plt.show()"
      ],
      "metadata": {
        "colab": {
          "base_uri": "https://localhost:8080/",
          "height": 265
        },
        "id": "dw20KDKs89qM",
        "outputId": "91ac2803-a731-43aa-ef04-cc5422ad2582"
      },
      "execution_count": 142,
      "outputs": [
        {
          "output_type": "display_data",
          "data": {
            "image/png": "[encoded data removed]",
            "text/plain": [
              "<Figure size 432x288 with 1 Axes>"
            ]
          },
          "metadata": {
            "needs_background": "light"
          }
        }
      ]
    },
    {
      "cell_type": "markdown",
      "source": [
        "**La fonction average_precision_score** permet de résumer la courbe de précision\n",
        "\n",
        "\n",
        "\n",
        "La comparaison de deux courbes de précision-rappel fournit beaucoup d'informations détaillées, mais est assez\n",
        "processus manuel. Pour la comparaison automatique de modèles, nous pourrions souhaiter résumer les\n",
        "informations contenues dans la courbe, sans nous limiter à un seuil ou à un point de fonctionnement particulier. Une façon particulière de résumer la courbe précision-rappel est\n",
        "en calculant **l'intégrale ou l'aire sous la courbe de la précision**, la courbe de rappel, également\n",
        "connue sous le nom de **précision moyenne**. 4 Vous pouvez utiliser la fonction average_precision_score\n",
        "pour calculer la précision moyenne. Parce que nous devons calculer la courbe ROC et\n",
        "considérer plusieurs seuils, le résultat de decision_function ou predict_proba\n",
        "doit être passé à average_precision_score , pas au résultat de predict :"
      ],
      "metadata": {
        "id": "ikqxtcUlFSUR"
      }
    },
    {
      "cell_type": "code",
      "source": [
        "from sklearn.ensemble import RandomForestClassifier"
      ],
      "metadata": {
        "id": "fzrxDZWM9MKj"
      },
      "execution_count": 144,
      "outputs": []
    },
    {
      "cell_type": "code",
      "source": [
        "rf = RandomForestClassifier().fit(X_train, y_train)"
      ],
      "metadata": {
        "id": "Otcwg0TkWU3M"
      },
      "execution_count": 145,
      "outputs": []
    },
    {
      "cell_type": "code",
      "source": [
        ""
      ],
      "metadata": {
        "id": "37_8y1drW1NI"
      },
      "execution_count": null,
      "outputs": []
    },
    {
      "cell_type": "code",
      "source": [
        "precision_rf, recall_rf, thresholds_rf = precision_recall_curve(y_test, rf.predict_proba(X_test)[:, 1])"
      ],
      "metadata": {
        "id": "00r-kMUSWg25"
      },
      "execution_count": 153,
      "outputs": []
    },
    {
      "cell_type": "code",
      "source": [
        "close_default_rf = np.argmin(np.abs(thresholds_rf - 0.5))\n",
        "\n",
        "plt.plot(precision, recall, label='svc')\n",
        "plt.plot(precision[close_zero], recall[close_zero], 'o', markersize=10, label='threshold zero svc', fillstyle='none', c='k', mew=2)\n",
        "\n",
        "plt.plot(precision_rf, recall_rf, label='rf')\n",
        "plt.plot(precision_rf[close_default_rf], recall_rf[close_default_rf], '^', c='k',\n",
        "         markersize=10, label='threshold O.5 rf', fillstyle='none', mew=1)\n",
        "plt.xlabel(\"Precision\")\n",
        "plt.ylabel('Recall')\n",
        "plt.legend(loc='best')\n",
        "plt.show()"
      ],
      "metadata": {
        "colab": {
          "base_uri": "https://localhost:8080/",
          "height": 279
        },
        "id": "M9kMsCqgW4OX",
        "outputId": "f33efad6-0753-4d5b-d170-fa09c52842bf"
      },
      "execution_count": 157,
      "outputs": [
        {
          "output_type": "display_data",
          "data": {
            "image/png": "[encoded data removed]",
            "text/plain": [
              "<Figure size 432x288 with 1 Axes>"
            ]
          },
          "metadata": {
            "needs_background": "light"
          }
        }
      ]
    },
    {
      "cell_type": "code",
      "source": [
        "print('f1_score of random forest: {:.3f}'.format(f1_score(y_test, rf.predict(X_test))))\n",
        "print('\\n f1_score of svc: {:.3f}'.format(f1_score(y_test, svc.predict(X_test))))"
      ],
      "metadata": {
        "colab": {
          "base_uri": "https://localhost:8080/"
        },
        "id": "xfTSiZtrYJKA",
        "outputId": "97b0c066-7c96-43c7-c279-798237e23dd7"
      },
      "execution_count": 158,
      "outputs": [
        {
          "output_type": "stream",
          "name": "stdout",
          "text": [
            "f1_score of random forest: 0.928\n",
            "\n",
            " f1_score of svc: 0.933\n"
          ]
        }
      ]
    },
    {
      "cell_type": "markdown",
      "source": [
        "**f1_score** renvoie un seuil par défaut d'un modèle.\n",
        "\n",
        "Le seuil c'est la précision"
      ],
      "metadata": {
        "id": "Ukc7S5dxcI_i"
      }
    },
    {
      "cell_type": "code",
      "source": [
        "from sklearn.metrics import average_precision_score"
      ],
      "metadata": {
        "id": "F5PNMXVqZhwP"
      },
      "execution_count": 159,
      "outputs": []
    },
    {
      "cell_type": "code",
      "source": [
        "ap_rf = average_precision_score(y_test, rf.predict_proba(X_test)[:, 1])\n",
        "ap_svc = average_precision_score(y_test, svc.decision_function(X_test))"
      ],
      "metadata": {
        "id": "LqDg9mZHbpnF"
      },
      "execution_count": 161,
      "outputs": []
    },
    {
      "cell_type": "code",
      "source": [
        "print(\"Average precision of random forest: {:.3f}\".format(ap_rf))\n",
        "print(\"Average precision of svc {:.3f}\".format(ap_svc))"
      ],
      "metadata": {
        "colab": {
          "base_uri": "https://localhost:8080/"
        },
        "id": "GjX8h_tiedo8",
        "outputId": "9435a27d-b063-4ebe-efbe-4237efa820f8"
      },
      "execution_count": 162,
      "outputs": [
        {
          "output_type": "stream",
          "name": "stdout",
          "text": [
            "Average precision of random forest: 0.937\n",
            "Average precision of svc 0.899\n"
          ]
        }
      ]
    },
    {
      "cell_type": "markdown",
      "source": [
        "##### **Receiver operating characteristics (ROC) and AUC(Caractéristiques de fonctionnement du récepteur (ROC) et AUC)**\n",
        "\n",
        "\n",
        "Il existe un autre outil couramment utilisé pour analyser le comportement des classifieurs à\n",
        "différents seuils : la courbe des caractéristiques de fonctionnement du récepteur, ou courbe ROC. Semblable à la courbe précision-rappel, la courbe ROC considère tous les seuils possibles pour un classificateur donné, mais au lieu de signaler la précision et le rappel, elle montre\n",
        "le taux de faux positifs (FPR) par rapport au taux de vrais positifs (TPR). Rappelons que le vrai\n",
        "le taux positif est simplement un autre nom pour le rappel, tandis que le taux de faux positifs est la fraction de faux positifs sur tous les échantillons négatifs :"
      ],
      "metadata": {
        "id": "Z9VhFfVBfxpF"
      }
    },
    {
      "cell_type": "code",
      "source": [
        "from sklearn.metrics import roc_curve"
      ],
      "metadata": {
        "id": "SwTXh2Cifi8s"
      },
      "execution_count": 163,
      "outputs": []
    },
    {
      "cell_type": "code",
      "source": [
        "fpr, tpr, thresholds = roc_curve(y_test, svc.decision_function(X_test))"
      ],
      "metadata": {
        "id": "ax1PmLNFjkKs"
      },
      "execution_count": 164,
      "outputs": []
    },
    {
      "cell_type": "code",
      "source": [
        "plt.plot(fpr, tpr, label='ROC Curve')\n",
        "plt.xlabel('FPR')\n",
        "plt.ylabel(\"TPR (recall)\")\n",
        "\n",
        "close_zero = np.argmin(np.abs(thresholds))\n",
        "plt.plot(fpr[close_zero], tpr[close_zero], 'o', markersize=10,\n",
        "         label='threshold zero', fillstyle=\"none\", c='k', mew=2)\n",
        "plt.legend()\n",
        "plt.show()"
      ],
      "metadata": {
        "colab": {
          "base_uri": "https://localhost:8080/",
          "height": 279
        },
        "id": "dUnBiBftj-m3",
        "outputId": "15f3f121-7e0d-4b38-c73f-6bd6f32c6c54"
      },
      "execution_count": 168,
      "outputs": [
        {
          "output_type": "display_data",
          "data": {
            "image/png": "[encoded data removed]",
            "text/plain": [
              "<Figure size 432x288 with 1 Axes>"
            ]
          },
          "metadata": {
            "needs_background": "light"
          }
        }
      ]
    },
    {
      "cell_type": "markdown",
      "source": [
        "Il y'a une fonction qui permet de donner un nombre sur le ROC elle est:\n",
        "**roc_auc_score(receiver operating curve,  area under the curve)**"
      ],
      "metadata": {
        "id": "7E619zxyqKTo"
      }
    },
    {
      "cell_type": "code",
      "source": [
        "from sklearn.metrics import roc_auc_score"
      ],
      "metadata": {
        "id": "SxStWi8zkEbs"
      },
      "execution_count": 169,
      "outputs": []
    },
    {
      "cell_type": "code",
      "source": [
        "rf_auc = roc_auc_score(y_test, rf.predict_proba(X_test)[:, 1])\n",
        "svc_auc = roc_auc_score(y_test, svc.decision_function(X_test))"
      ],
      "metadata": {
        "id": "cKS7lSYSq0D9"
      },
      "execution_count": 173,
      "outputs": []
    },
    {
      "cell_type": "code",
      "source": [
        "print(\"AUC for Random Forest: {:.3f}\".format(rf_auc))\n",
        "print(\"AUC for SVC: {:.3f}\".format(svc_auc))"
      ],
      "metadata": {
        "colab": {
          "base_uri": "https://localhost:8080/"
        },
        "id": "X7h3jwDUrIWY",
        "outputId": "2169321b-d5b8-4f7e-fdbc-69348c80e223"
      },
      "execution_count": 174,
      "outputs": [
        {
          "output_type": "stream",
          "name": "stdout",
          "text": [
            "AUC for Random Forest: 0.950\n",
            "AUC for SVC: 0.936\n"
          ]
        }
      ]
    },
    {
      "cell_type": "markdown",
      "source": [
        "NB: **roc_auc_score** est le meilleur metrique qu'il faut utiliser pour tout le problème de classification déséquilibré"
      ],
      "metadata": {
        "id": "hxDwTAvy1OfG"
      }
    },
    {
      "cell_type": "code",
      "source": [
        "y = digits.target == 9\n",
        "\n",
        "X_train, X_test, y_train, y_test = train_test_split(digits.data, y, random_state=0)"
      ],
      "metadata": {
        "id": "KTKuEmGOraOP"
      },
      "execution_count": 175,
      "outputs": []
    },
    {
      "cell_type": "code",
      "source": [
        "plt.figure()\n",
        "\n",
        "for gamma in [1, 0.05, 0.01]:\n",
        "  svc = SVC(gamma=gamma).fit(X_train, y_train)\n",
        "  accuracy = svc.score(X_test, y_test)\n",
        "\n",
        "  auc = roc_auc_score(y_test, svc.decision_function(X_test))\n",
        "\n",
        "  fpr, tpr, _ = roc_curve(y_test, svc.decision_function(X_test))\n",
        "  print(\"gamma= {:.2f} accuracy = {:.2f} AUC = {:.2f}\".format(\n",
        "      gamma, accuracy, auc\n",
        "  ))\n",
        "  plt.plot(fpr, tpr, label='gamma={:.3f}'.format(gamma))\n",
        "\n",
        "plt.xlabel(\"FPR\")\n",
        "plt.ylabel('TPR')\n",
        "plt.xlim(-0.01, 1)\n",
        "plt.ylim(0, 1.02)\n",
        "plt.legend(loc='best')\n",
        "plt.show()"
      ],
      "metadata": {
        "colab": {
          "base_uri": "https://localhost:8080/",
          "height": 331
        },
        "id": "uw-ujL7z1qbm",
        "outputId": "f6018034-c12d-4716-aed1-5b4fedc2c3e1"
      },
      "execution_count": 177,
      "outputs": [
        {
          "output_type": "stream",
          "name": "stdout",
          "text": [
            "gamma= 1.00 accuracy = 0.90 AUC = 0.50\n",
            "gamma= 0.05 accuracy = 0.90 AUC = 1.00\n",
            "gamma= 0.01 accuracy = 0.90 AUC = 1.00\n"
          ]
        },
        {
          "output_type": "display_data",
          "data": {
            "image/png": "[encoded data removed]",
            "text/plain": [
              "<Figure size 432x288 with 1 Axes>"
            ]
          },
          "metadata": {
            "needs_background": "light"
          }
        }
      ]
    },
    {
      "cell_type": "code",
      "source": [
        ""
      ],
      "metadata": {
        "id": "YW1vhgSa39sz"
      },
      "execution_count": null,
      "outputs": []
    }
  ],
  "metadata": {
    "colab": {
      "collapsed_sections": [],
      "name": "ModelEvaluation",
      "provenance": [],
      "include_colab_link": true
    },
    "kernelspec": {
      "display_name": "Python 3",
      "language": "python",
      "name": "python3"
    },
    "language_info": {
      "codemirror_mode": {
        "name": "ipython",
        "version": 3
      },
      "file_extension": ".py",
      "mimetype": "text/x-python",
      "name": "python",
      "nbconvert_exporter": "python",
      "pygments_lexer": "ipython3",
      "version": "3.8.10"
    }
  },
  "nbformat": 4,
  "nbformat_minor": 0
}