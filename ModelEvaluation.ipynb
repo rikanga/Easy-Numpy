{
  "nbformat": 4,
  "nbformat_minor": 0,
  "metadata": {
    "colab": {
      "name": "ModelEvaluation",
      "provenance": [],
      "authorship_tag": "ABX9TyOdfzpaHRmkHanNwpGgwwrh",
      "include_colab_link": true
    },
    "kernelspec": {
      "name": "python3",
      "display_name": "Python 3"
    },
    "language_info": {
      "name": "python"
    }
  },
  "cells": [
    {
      "cell_type": "markdown",
      "metadata": {
        "id": "view-in-github",
        "colab_type": "text"
      },
      "source": [
        "<a href=\"https://colab.research.google.com/github/rikanga/Easy-Numpy/blob/main/ModelEvaluation.ipynb\" target=\"_parent\"><img src=\"https://colab.research.google.com/assets/colab-badge.svg\" alt=\"Open In Colab\"/></a>"
      ]
    },
    {
      "cell_type": "markdown",
      "source": [
        "# **Model Evaluation and Improvement**"
      ],
      "metadata": {
        "id": "emU-SmyKHtl5"
      }
    },
    {
      "cell_type": "code",
      "execution_count": 1,
      "metadata": {
        "id": "TWvhmSSlHjWY"
      },
      "outputs": [],
      "source": [
        "from sklearn.datasets import make_blobs\n",
        "from sklearn.model_selection import train_test_split"
      ]
    },
    {
      "cell_type": "code",
      "source": [
        "from sklearn.linear_model import LogisticRegression"
      ],
      "metadata": {
        "id": "WAGN1pH0IO5K"
      },
      "execution_count": 2,
      "outputs": []
    },
    {
      "cell_type": "code",
      "source": [
        "!pip install mglearn\n",
        "import mglearn"
      ],
      "metadata": {
        "colab": {
          "base_uri": "https://localhost:8080/"
        },
        "id": "3DbRJIqwIVLn",
        "outputId": "b32983f7-cafc-4abf-bed3-59110eb5ed94"
      },
      "execution_count": 3,
      "outputs": [
        {
          "output_type": "stream",
          "name": "stdout",
          "text": [
            "Collecting mglearn\n",
            "  Downloading mglearn-0.1.9.tar.gz (540 kB)\n",
            "\u001b[?25l\r\u001b[K     |▋                               | 10 kB 16.7 MB/s eta 0:00:01\r\u001b[K     |█▏                              | 20 kB 16.1 MB/s eta 0:00:01\r\u001b[K     |█▉                              | 30 kB 11.0 MB/s eta 0:00:01\r\u001b[K     |██▍                             | 40 kB 9.5 MB/s eta 0:00:01\r\u001b[K     |███                             | 51 kB 4.7 MB/s eta 0:00:01\r\u001b[K     |███▋                            | 61 kB 5.5 MB/s eta 0:00:01\r\u001b[K     |████▎                           | 71 kB 5.9 MB/s eta 0:00:01\r\u001b[K     |████▉                           | 81 kB 6.0 MB/s eta 0:00:01\r\u001b[K     |█████▌                          | 92 kB 6.7 MB/s eta 0:00:01\r\u001b[K     |██████                          | 102 kB 5.4 MB/s eta 0:00:01\r\u001b[K     |██████▊                         | 112 kB 5.4 MB/s eta 0:00:01\r\u001b[K     |███████▎                        | 122 kB 5.4 MB/s eta 0:00:01\r\u001b[K     |███████▉                        | 133 kB 5.4 MB/s eta 0:00:01\r\u001b[K     |████████▌                       | 143 kB 5.4 MB/s eta 0:00:01\r\u001b[K     |█████████                       | 153 kB 5.4 MB/s eta 0:00:01\r\u001b[K     |█████████▊                      | 163 kB 5.4 MB/s eta 0:00:01\r\u001b[K     |██████████▎                     | 174 kB 5.4 MB/s eta 0:00:01\r\u001b[K     |███████████                     | 184 kB 5.4 MB/s eta 0:00:01\r\u001b[K     |███████████▌                    | 194 kB 5.4 MB/s eta 0:00:01\r\u001b[K     |████████████▏                   | 204 kB 5.4 MB/s eta 0:00:01\r\u001b[K     |████████████▊                   | 215 kB 5.4 MB/s eta 0:00:01\r\u001b[K     |█████████████▍                  | 225 kB 5.4 MB/s eta 0:00:01\r\u001b[K     |██████████████                  | 235 kB 5.4 MB/s eta 0:00:01\r\u001b[K     |██████████████▋                 | 245 kB 5.4 MB/s eta 0:00:01\r\u001b[K     |███████████████▏                | 256 kB 5.4 MB/s eta 0:00:01\r\u001b[K     |███████████████▊                | 266 kB 5.4 MB/s eta 0:00:01\r\u001b[K     |████████████████▍               | 276 kB 5.4 MB/s eta 0:00:01\r\u001b[K     |█████████████████               | 286 kB 5.4 MB/s eta 0:00:01\r\u001b[K     |█████████████████▋              | 296 kB 5.4 MB/s eta 0:00:01\r\u001b[K     |██████████████████▏             | 307 kB 5.4 MB/s eta 0:00:01\r\u001b[K     |██████████████████▉             | 317 kB 5.4 MB/s eta 0:00:01\r\u001b[K     |███████████████████▍            | 327 kB 5.4 MB/s eta 0:00:01\r\u001b[K     |████████████████████            | 337 kB 5.4 MB/s eta 0:00:01\r\u001b[K     |████████████████████▋           | 348 kB 5.4 MB/s eta 0:00:01\r\u001b[K     |█████████████████████▎          | 358 kB 5.4 MB/s eta 0:00:01\r\u001b[K     |█████████████████████▉          | 368 kB 5.4 MB/s eta 0:00:01\r\u001b[K     |██████████████████████▌         | 378 kB 5.4 MB/s eta 0:00:01\r\u001b[K     |███████████████████████         | 389 kB 5.4 MB/s eta 0:00:01\r\u001b[K     |███████████████████████▋        | 399 kB 5.4 MB/s eta 0:00:01\r\u001b[K     |████████████████████████▎       | 409 kB 5.4 MB/s eta 0:00:01\r\u001b[K     |████████████████████████▉       | 419 kB 5.4 MB/s eta 0:00:01\r\u001b[K     |█████████████████████████▌      | 430 kB 5.4 MB/s eta 0:00:01\r\u001b[K     |██████████████████████████      | 440 kB 5.4 MB/s eta 0:00:01\r\u001b[K     |██████████████████████████▊     | 450 kB 5.4 MB/s eta 0:00:01\r\u001b[K     |███████████████████████████▎    | 460 kB 5.4 MB/s eta 0:00:01\r\u001b[K     |████████████████████████████    | 471 kB 5.4 MB/s eta 0:00:01\r\u001b[K     |████████████████████████████▌   | 481 kB 5.4 MB/s eta 0:00:01\r\u001b[K     |█████████████████████████████▏  | 491 kB 5.4 MB/s eta 0:00:01\r\u001b[K     |█████████████████████████████▊  | 501 kB 5.4 MB/s eta 0:00:01\r\u001b[K     |██████████████████████████████▍ | 512 kB 5.4 MB/s eta 0:00:01\r\u001b[K     |███████████████████████████████ | 522 kB 5.4 MB/s eta 0:00:01\r\u001b[K     |███████████████████████████████▌| 532 kB 5.4 MB/s eta 0:00:01\r\u001b[K     |████████████████████████████████| 540 kB 5.4 MB/s \n",
            "\u001b[?25hRequirement already satisfied: numpy in /usr/local/lib/python3.7/dist-packages (from mglearn) (1.21.5)\n",
            "Requirement already satisfied: matplotlib in /usr/local/lib/python3.7/dist-packages (from mglearn) (3.2.2)\n",
            "Requirement already satisfied: scikit-learn in /usr/local/lib/python3.7/dist-packages (from mglearn) (1.0.2)\n",
            "Requirement already satisfied: pandas in /usr/local/lib/python3.7/dist-packages (from mglearn) (1.3.5)\n",
            "Requirement already satisfied: pillow in /usr/local/lib/python3.7/dist-packages (from mglearn) (7.1.2)\n",
            "Requirement already satisfied: cycler in /usr/local/lib/python3.7/dist-packages (from mglearn) (0.11.0)\n",
            "Requirement already satisfied: imageio in /usr/local/lib/python3.7/dist-packages (from mglearn) (2.4.1)\n",
            "Requirement already satisfied: joblib in /usr/local/lib/python3.7/dist-packages (from mglearn) (1.1.0)\n",
            "Requirement already satisfied: pyparsing!=2.0.4,!=2.1.2,!=2.1.6,>=2.0.1 in /usr/local/lib/python3.7/dist-packages (from matplotlib->mglearn) (3.0.7)\n",
            "Requirement already satisfied: python-dateutil>=2.1 in /usr/local/lib/python3.7/dist-packages (from matplotlib->mglearn) (2.8.2)\n",
            "Requirement already satisfied: kiwisolver>=1.0.1 in /usr/local/lib/python3.7/dist-packages (from matplotlib->mglearn) (1.3.2)\n",
            "Requirement already satisfied: six>=1.5 in /usr/local/lib/python3.7/dist-packages (from python-dateutil>=2.1->matplotlib->mglearn) (1.15.0)\n",
            "Requirement already satisfied: pytz>=2017.3 in /usr/local/lib/python3.7/dist-packages (from pandas->mglearn) (2018.9)\n",
            "Requirement already satisfied: threadpoolctl>=2.0.0 in /usr/local/lib/python3.7/dist-packages (from scikit-learn->mglearn) (3.1.0)\n",
            "Requirement already satisfied: scipy>=1.1.0 in /usr/local/lib/python3.7/dist-packages (from scikit-learn->mglearn) (1.4.1)\n",
            "Building wheels for collected packages: mglearn\n",
            "  Building wheel for mglearn (setup.py) ... \u001b[?25l\u001b[?25hdone\n",
            "  Created wheel for mglearn: filename=mglearn-0.1.9-py2.py3-none-any.whl size=582639 sha256=3ebe2f1f27201dd2d657fd098aa28ccec006c1be843a556a0196673cabcd6f85\n",
            "  Stored in directory: /root/.cache/pip/wheels/f1/17/e1/1720d6dcd70187b6b6c3750cb3508798f2b1d57c9d3214b08b\n",
            "Successfully built mglearn\n",
            "Installing collected packages: mglearn\n",
            "Successfully installed mglearn-0.1.9\n"
          ]
        }
      ]
    },
    {
      "cell_type": "code",
      "source": [
        "#create a synthetic dataset\n",
        "X, y = make_blobs(random_state=0)"
      ],
      "metadata": {
        "id": "Ik0Jq-0GIXxn"
      },
      "execution_count": 4,
      "outputs": []
    },
    {
      "cell_type": "code",
      "source": [
        "# split data and labels into training and test set\n",
        "X_train, X_test, y_train, y_test = train_test_split(X, y, random_state=0)"
      ],
      "metadata": {
        "id": "Tay86Cg0Iman"
      },
      "execution_count": 6,
      "outputs": []
    },
    {
      "cell_type": "code",
      "source": [
        "# intantiate a model on the test set\n",
        "logreg = LogisticRegression().fit(X_train, y_train)"
      ],
      "metadata": {
        "id": "vLJI7EB5I1XM"
      },
      "execution_count": 7,
      "outputs": []
    },
    {
      "cell_type": "code",
      "source": [
        "# evaluate the model on the test set\n",
        "print(\"Test set score: {:.2f}\".format(logreg.score(X_test, y_test)))"
      ],
      "metadata": {
        "colab": {
          "base_uri": "https://localhost:8080/"
        },
        "id": "N3jUbb53JBt5",
        "outputId": "c5974059-5630-441c-b05f-16fb3a9bfae3"
      },
      "execution_count": 8,
      "outputs": [
        {
          "output_type": "stream",
          "name": "stdout",
          "text": [
            "Test set score: 0.88\n"
          ]
        }
      ]
    },
    {
      "cell_type": "markdown",
      "source": [
        "La raison pour laquelle on fait la scission des données en entrainement et test est que nous voulons obtenir un cas de généralisation dans nos modèles.\n",
        "\n",
        "Mais maintenant, nous nous intéressons à voir comment notre modèle fait l'entrainement des données et comment fait il la prédiction de nouvelles données\n",
        "\n",
        "\n",
        "Dans ce chapitre on verra bien, deux aspects:\n",
        "\n",
        "* **cross-validation** qui est un de plus grand moyen d'atteindre les performances de généralisation\n",
        "* et discuter des methodes pour faire l'évaluation de performance de classification et regression\n",
        "\n",
        "Mais nous parlerons aussi de **grid search** qui permet de rechercher les meilleurs paramètres pour nos modèles"
      ],
      "metadata": {
        "id": "6i2yubGAJSEs"
      }
    },
    {
      "cell_type": "markdown",
      "source": [
        "## **Cross-Validation**\n",
        "\n",
        "La validation croisée est une méthode statistique d'évaluation des performances de généralisation qui\n",
        "est plus stable et approfondi que d'utiliser une division en un ensemble d'entraînement et un ensemble de test.\n",
        "\n",
        "Ici les données sont rapidement divisés et plusieurs modèles sont aussi entrainer\n",
        "\n",
        "La version de cross-validation la plus utilisée est **k-fold** ou k est nombre définit par l'utilisateur et qui varie notamment de 5 à 10.\n",
        "\n",
        "- Lorsque l'on choisit k égale à 5, les données sont divisées en 5 parties égales appelées **folds(plis)**\n",
        "\n",
        "**Illustration**"
      ],
      "metadata": {
        "id": "sfljYEhXLHQ0"
      }
    },
    {
      "cell_type": "code",
      "source": [
        "mglearn.plots.plot_cross_validation()"
      ],
      "metadata": {
        "colab": {
          "base_uri": "https://localhost:8080/",
          "height": 187
        },
        "id": "uzqiBOzqJMiR",
        "outputId": "91f6d850-44e3-4718-a305-7d2259f0c2cd"
      },
      "execution_count": 9,
      "outputs": [
        {
          "output_type": "display_data",
          "data": {
            "image/png": "[encoded data removed]",
            "text/plain": [
              "<Figure size 864x144 with 1 Axes>"
            ]
          },
          "metadata": {
            "needs_background": "light"
          }
        }
      ]
    },
    {
      "cell_type": "markdown",
      "source": [
        "### **Cross validation inf sklearn**\n",
        "\n",
        "On retrouve  **cross_val_score** dans le module **model_selection** de sklearn"
      ],
      "metadata": {
        "id": "zW8dNBeuQ0BL"
      }
    },
    {
      "cell_type": "code",
      "source": [
        "from sklearn.model_selection import cross_val_score"
      ],
      "metadata": {
        "id": "olE6PLmYPbk8"
      },
      "execution_count": 10,
      "outputs": []
    },
    {
      "cell_type": "code",
      "source": [
        "from sklearn.datasets import load_iris\n",
        "from sklearn.linear_model import LogisticRegression"
      ],
      "metadata": {
        "id": "VqJiQb4IRWuv"
      },
      "execution_count": 11,
      "outputs": []
    },
    {
      "cell_type": "code",
      "source": [
        "iris = load_iris()"
      ],
      "metadata": {
        "id": "l4DG63mkRuYv"
      },
      "execution_count": 12,
      "outputs": []
    },
    {
      "cell_type": "code",
      "source": [
        "logreg = LogisticRegression(max_iter=10000)"
      ],
      "metadata": {
        "id": "6isrE527RwoG"
      },
      "execution_count": 16,
      "outputs": []
    },
    {
      "cell_type": "markdown",
      "source": [
        "NB: Par défaut, **cross_val_score** à 3 plis(**folds**) et donne l'algorithme renvoie trois valeurs de précision\n",
        "\n",
        "- On peut ajuster le nombre de plis(**folds**) grâce au paramètre **cv** de **cross_val_score**"
      ],
      "metadata": {
        "id": "xr7tC1IZR27a"
      }
    },
    {
      "cell_type": "code",
      "source": [
        "cross_val_score(logreg, iris.data, iris.target, cv=3)"
      ],
      "metadata": {
        "colab": {
          "base_uri": "https://localhost:8080/"
        },
        "id": "3SbABi-XRy6L",
        "outputId": "1bf4cae7-d052-47ca-80bd-ab9f0376f49e"
      },
      "execution_count": 20,
      "outputs": [
        {
          "output_type": "execute_result",
          "data": {
            "text/plain": [
              "array([0.98, 0.96, 0.98])"
            ]
          },
          "metadata": {},
          "execution_count": 20
        }
      ]
    },
    {
      "cell_type": "code",
      "source": [
        "scores = cross_val_score(logreg, iris.data, iris.target, cv=5)"
      ],
      "metadata": {
        "id": "Dcz2fhI5STdk"
      },
      "execution_count": 21,
      "outputs": []
    },
    {
      "cell_type": "code",
      "source": [
        "print(\"Cross-validation scores: {}\".format(scores))"
      ],
      "metadata": {
        "colab": {
          "base_uri": "https://localhost:8080/"
        },
        "id": "5O9wKOYZSw1D",
        "outputId": "bc15d5ac-3897-410d-fb0d-13bf4b3bea88"
      },
      "execution_count": 22,
      "outputs": [
        {
          "output_type": "stream",
          "name": "stdout",
          "text": [
            "Cross-validation scores: [0.96666667 1.         0.93333333 0.96666667 1.        ]\n"
          ]
        }
      ]
    },
    {
      "cell_type": "markdown",
      "source": [
        "Pour évaluer la précision de la validation croisée, on calcule la moyenne de scores"
      ],
      "metadata": {
        "id": "A_BSxRCSTViq"
      }
    },
    {
      "cell_type": "code",
      "source": [
        "print(\"Average corss-validation {:.2f}\".format(scores.mean()))"
      ],
      "metadata": {
        "colab": {
          "base_uri": "https://localhost:8080/"
        },
        "id": "tISU9XmGS21h",
        "outputId": "7e245962-1cc8-41aa-a5db-c640358ab6da"
      },
      "execution_count": 23,
      "outputs": [
        {
          "output_type": "stream",
          "name": "stdout",
          "text": [
            "Average corss-validation 0.97\n"
          ]
        }
      ]
    },
    {
      "cell_type": "markdown",
      "source": [
        "**Inconvénient de la cross validation**\n",
        "\n",
        "Et qu'elle coute en terme de temps pour la formation de chaque plis\n",
        "\n",
        "### **Stratified k-Fold Cross-Validation and Other Strategies**\n",
        "\n",
        "\n",
        "En validation croisée stratifiée, nous\n",
        "diviser les données de telle sorte que les proportions entre les classes soient les mêmes dans chaque pli comme\n",
        "ils sont dans l'ensemble de données,"
      ],
      "metadata": {
        "id": "FX9sCCbXWTYn"
      }
    },
    {
      "cell_type": "code",
      "source": [
        "mglearn.plots.plot_stratified_cross_validation()"
      ],
      "metadata": {
        "colab": {
          "base_uri": "https://localhost:8080/",
          "height": 369
        },
        "id": "Rv8GLpj8ZRNC",
        "outputId": "2186d31d-15e1-4ece-8815-b162b0da6e3a"
      },
      "execution_count": 24,
      "outputs": [
        {
          "output_type": "display_data",
          "data": {
            "image/png": "[encoded data removed]",
            "text/plain": [
              "<Figure size 864x360 with 2 Axes>"
            ]
          },
          "metadata": {
            "needs_background": "light"
          }
        }
      ]
    },
    {
      "cell_type": "markdown",
      "source": [
        "#### **More control over cross validation**"
      ],
      "metadata": {
        "id": "sMA4I9rPcz3-"
      }
    },
    {
      "cell_type": "code",
      "source": [
        "from sklearn.model_selection import KFold"
      ],
      "metadata": {
        "id": "WeZvibZpTpHO"
      },
      "execution_count": 25,
      "outputs": []
    },
    {
      "cell_type": "code",
      "source": [
        "kfold = KFold(n_splits=5)"
      ],
      "metadata": {
        "id": "naZGBd7jc8Vr"
      },
      "execution_count": 26,
      "outputs": []
    },
    {
      "cell_type": "code",
      "source": [
        "scores = cross_val_score(logreg, iris.data, iris.target, cv=kfold)"
      ],
      "metadata": {
        "id": "7kRWbr0fdCQq"
      },
      "execution_count": 29,
      "outputs": []
    },
    {
      "cell_type": "code",
      "source": [
        "print(\"Cross validation score {}\".format(scores))"
      ],
      "metadata": {
        "colab": {
          "base_uri": "https://localhost:8080/"
        },
        "id": "N8DlBekodz9P",
        "outputId": "c97d7c3c-7f22-4180-f5f3-80a9ff08a810"
      },
      "execution_count": 31,
      "outputs": [
        {
          "output_type": "stream",
          "name": "stdout",
          "text": [
            "Cross validation score [1.         1.         0.86666667 0.93333333 0.83333333]\n"
          ]
        }
      ]
    },
    {
      "cell_type": "code",
      "source": [
        "scores.mean()"
      ],
      "metadata": {
        "colab": {
          "base_uri": "https://localhost:8080/"
        },
        "id": "-cWQKw1pd-Cp",
        "outputId": "23bbcd5d-bf97-46e8-9980-da644f4f80a5"
      },
      "execution_count": 32,
      "outputs": [
        {
          "output_type": "execute_result",
          "data": {
            "text/plain": [
              "0.9266666666666665"
            ]
          },
          "metadata": {},
          "execution_count": 32
        }
      ]
    },
    {
      "cell_type": "code",
      "source": [
        "kfold = KFold(n_splits=3)"
      ],
      "metadata": {
        "id": "6HC-283XeEyw"
      },
      "execution_count": 33,
      "outputs": []
    },
    {
      "cell_type": "code",
      "source": [
        "cross_val_score(logreg, iris.data, iris.target, cv=kfold)"
      ],
      "metadata": {
        "colab": {
          "base_uri": "https://localhost:8080/"
        },
        "id": "JCvJYMzUhahb",
        "outputId": "b38535b6-5838-4183-cc8e-854d01766ea4"
      },
      "execution_count": 36,
      "outputs": [
        {
          "output_type": "execute_result",
          "data": {
            "text/plain": [
              "array([0., 0., 0.])"
            ]
          },
          "metadata": {},
          "execution_count": 36
        }
      ]
    },
    {
      "cell_type": "code",
      "source": [
        "kfold = KFold(n_splits=3, shuffle=True, random_state=0)"
      ],
      "metadata": {
        "id": "CeKCsaOfhiXy"
      },
      "execution_count": 37,
      "outputs": []
    },
    {
      "cell_type": "code",
      "source": [
        "cross_val_score(logreg, iris.data, iris.target, cv=kfold)"
      ],
      "metadata": {
        "colab": {
          "base_uri": "https://localhost:8080/"
        },
        "id": "7bG-o4PahvbC",
        "outputId": "695aaf25-b48e-4000-93cd-b70fbebd6a74"
      },
      "execution_count": 38,
      "outputs": [
        {
          "output_type": "execute_result",
          "data": {
            "text/plain": [
              "array([0.98, 0.96, 0.96])"
            ]
          },
          "metadata": {},
          "execution_count": 38
        }
      ]
    },
    {
      "cell_type": "code",
      "source": [
        ""
      ],
      "metadata": {
        "id": "vHIOIYSqh5as"
      },
      "execution_count": null,
      "outputs": []
    }
  ]
}