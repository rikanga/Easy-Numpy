{
  "cells": [
    {
      "cell_type": "markdown",
      "metadata": {
        "id": "view-in-github",
        "colab_type": "text"
      },
      "source": [
        "<a href=\"https://colab.research.google.com/github/rikanga/Easy-Numpy/blob/main/ModelEvaluation.ipynb\" target=\"_parent\"><img src=\"https://colab.research.google.com/assets/colab-badge.svg\" alt=\"Open In Colab\"/></a>"
      ]
    },
    {
      "cell_type": "markdown",
      "metadata": {
        "id": "emU-SmyKHtl5"
      },
      "source": [
        "# **Model Evaluation and Improvement**"
      ]
    },
    {
      "cell_type": "code",
      "execution_count": 4,
      "metadata": {
        "id": "TWvhmSSlHjWY"
      },
      "outputs": [],
      "source": [
        "from sklearn.datasets import make_blobs\n",
        "from sklearn.model_selection import train_test_split"
      ]
    },
    {
      "cell_type": "code",
      "execution_count": 5,
      "metadata": {
        "id": "WAGN1pH0IO5K"
      },
      "outputs": [],
      "source": [
        "from sklearn.linear_model import LogisticRegression"
      ]
    },
    {
      "cell_type": "code",
      "execution_count": 6,
      "metadata": {
        "colab": {
          "base_uri": "https://localhost:8080/"
        },
        "id": "3DbRJIqwIVLn",
        "outputId": "17561820-fd4e-4a0d-be17-abfec4380b89"
      },
      "outputs": [
        {
          "output_type": "stream",
          "name": "stdout",
          "text": [
            "Collecting mglearn\n",
            "  Downloading mglearn-0.1.9.tar.gz (540 kB)\n",
            "\u001b[?25l\r\u001b[K     |▋                               | 10 kB 18.2 MB/s eta 0:00:01\r\u001b[K     |█▏                              | 20 kB 21.5 MB/s eta 0:00:01\r\u001b[K     |█▉                              | 30 kB 14.1 MB/s eta 0:00:01\r\u001b[K     |██▍                             | 40 kB 8.9 MB/s eta 0:00:01\r\u001b[K     |███                             | 51 kB 10.3 MB/s eta 0:00:01\r\u001b[K     |███▋                            | 61 kB 11.9 MB/s eta 0:00:01\r\u001b[K     |████▎                           | 71 kB 12.7 MB/s eta 0:00:01\r\u001b[K     |████▉                           | 81 kB 12.1 MB/s eta 0:00:01\r\u001b[K     |█████▌                          | 92 kB 12.9 MB/s eta 0:00:01\r\u001b[K     |██████                          | 102 kB 13.9 MB/s eta 0:00:01\r\u001b[K     |██████▊                         | 112 kB 13.9 MB/s eta 0:00:01\r\u001b[K     |███████▎                        | 122 kB 13.9 MB/s eta 0:00:01\r\u001b[K     |███████▉                        | 133 kB 13.9 MB/s eta 0:00:01\r\u001b[K     |████████▌                       | 143 kB 13.9 MB/s eta 0:00:01\r\u001b[K     |█████████                       | 153 kB 13.9 MB/s eta 0:00:01\r\u001b[K     |█████████▊                      | 163 kB 13.9 MB/s eta 0:00:01\r\u001b[K     |██████████▎                     | 174 kB 13.9 MB/s eta 0:00:01\r\u001b[K     |███████████                     | 184 kB 13.9 MB/s eta 0:00:01\r\u001b[K     |███████████▌                    | 194 kB 13.9 MB/s eta 0:00:01\r\u001b[K     |████████████▏                   | 204 kB 13.9 MB/s eta 0:00:01\r\u001b[K     |████████████▊                   | 215 kB 13.9 MB/s eta 0:00:01\r\u001b[K     |█████████████▍                  | 225 kB 13.9 MB/s eta 0:00:01\r\u001b[K     |██████████████                  | 235 kB 13.9 MB/s eta 0:00:01\r\u001b[K     |██████████████▋                 | 245 kB 13.9 MB/s eta 0:00:01\r\u001b[K     |███████████████▏                | 256 kB 13.9 MB/s eta 0:00:01\r\u001b[K     |███████████████▊                | 266 kB 13.9 MB/s eta 0:00:01\r\u001b[K     |████████████████▍               | 276 kB 13.9 MB/s eta 0:00:01\r\u001b[K     |█████████████████               | 286 kB 13.9 MB/s eta 0:00:01\r\u001b[K     |█████████████████▋              | 296 kB 13.9 MB/s eta 0:00:01\r\u001b[K     |██████████████████▏             | 307 kB 13.9 MB/s eta 0:00:01\r\u001b[K     |██████████████████▉             | 317 kB 13.9 MB/s eta 0:00:01\r\u001b[K     |███████████████████▍            | 327 kB 13.9 MB/s eta 0:00:01\r\u001b[K     |████████████████████            | 337 kB 13.9 MB/s eta 0:00:01\r\u001b[K     |████████████████████▋           | 348 kB 13.9 MB/s eta 0:00:01\r\u001b[K     |█████████████████████▎          | 358 kB 13.9 MB/s eta 0:00:01\r\u001b[K     |█████████████████████▉          | 368 kB 13.9 MB/s eta 0:00:01\r\u001b[K     |██████████████████████▌         | 378 kB 13.9 MB/s eta 0:00:01\r\u001b[K     |███████████████████████         | 389 kB 13.9 MB/s eta 0:00:01\r\u001b[K     |███████████████████████▋        | 399 kB 13.9 MB/s eta 0:00:01\r\u001b[K     |████████████████████████▎       | 409 kB 13.9 MB/s eta 0:00:01\r\u001b[K     |████████████████████████▉       | 419 kB 13.9 MB/s eta 0:00:01\r\u001b[K     |█████████████████████████▌      | 430 kB 13.9 MB/s eta 0:00:01\r\u001b[K     |██████████████████████████      | 440 kB 13.9 MB/s eta 0:00:01\r\u001b[K     |██████████████████████████▊     | 450 kB 13.9 MB/s eta 0:00:01\r\u001b[K     |███████████████████████████▎    | 460 kB 13.9 MB/s eta 0:00:01\r\u001b[K     |████████████████████████████    | 471 kB 13.9 MB/s eta 0:00:01\r\u001b[K     |████████████████████████████▌   | 481 kB 13.9 MB/s eta 0:00:01\r\u001b[K     |█████████████████████████████▏  | 491 kB 13.9 MB/s eta 0:00:01\r\u001b[K     |█████████████████████████████▊  | 501 kB 13.9 MB/s eta 0:00:01\r\u001b[K     |██████████████████████████████▍ | 512 kB 13.9 MB/s eta 0:00:01\r\u001b[K     |███████████████████████████████ | 522 kB 13.9 MB/s eta 0:00:01\r\u001b[K     |███████████████████████████████▌| 532 kB 13.9 MB/s eta 0:00:01\r\u001b[K     |████████████████████████████████| 540 kB 13.9 MB/s \n",
            "\u001b[?25hRequirement already satisfied: numpy in /usr/local/lib/python3.7/dist-packages (from mglearn) (1.21.5)\n",
            "Requirement already satisfied: matplotlib in /usr/local/lib/python3.7/dist-packages (from mglearn) (3.2.2)\n",
            "Requirement already satisfied: scikit-learn in /usr/local/lib/python3.7/dist-packages (from mglearn) (1.0.2)\n",
            "Requirement already satisfied: pandas in /usr/local/lib/python3.7/dist-packages (from mglearn) (1.3.5)\n",
            "Requirement already satisfied: pillow in /usr/local/lib/python3.7/dist-packages (from mglearn) (7.1.2)\n",
            "Requirement already satisfied: cycler in /usr/local/lib/python3.7/dist-packages (from mglearn) (0.11.0)\n",
            "Requirement already satisfied: imageio in /usr/local/lib/python3.7/dist-packages (from mglearn) (2.4.1)\n",
            "Requirement already satisfied: joblib in /usr/local/lib/python3.7/dist-packages (from mglearn) (1.1.0)\n",
            "Requirement already satisfied: kiwisolver>=1.0.1 in /usr/local/lib/python3.7/dist-packages (from matplotlib->mglearn) (1.3.2)\n",
            "Requirement already satisfied: pyparsing!=2.0.4,!=2.1.2,!=2.1.6,>=2.0.1 in /usr/local/lib/python3.7/dist-packages (from matplotlib->mglearn) (3.0.7)\n",
            "Requirement already satisfied: python-dateutil>=2.1 in /usr/local/lib/python3.7/dist-packages (from matplotlib->mglearn) (2.8.2)\n",
            "Requirement already satisfied: six>=1.5 in /usr/local/lib/python3.7/dist-packages (from python-dateutil>=2.1->matplotlib->mglearn) (1.15.0)\n",
            "Requirement already satisfied: pytz>=2017.3 in /usr/local/lib/python3.7/dist-packages (from pandas->mglearn) (2018.9)\n",
            "Requirement already satisfied: scipy>=1.1.0 in /usr/local/lib/python3.7/dist-packages (from scikit-learn->mglearn) (1.4.1)\n",
            "Requirement already satisfied: threadpoolctl>=2.0.0 in /usr/local/lib/python3.7/dist-packages (from scikit-learn->mglearn) (3.1.0)\n",
            "Building wheels for collected packages: mglearn\n",
            "  Building wheel for mglearn (setup.py) ... \u001b[?25l\u001b[?25hdone\n",
            "  Created wheel for mglearn: filename=mglearn-0.1.9-py2.py3-none-any.whl size=582639 sha256=82d56e79fee84e544b5721c8107f059cb292733b7f4394b4daaa8d30cf246fe5\n",
            "  Stored in directory: /root/.cache/pip/wheels/f1/17/e1/1720d6dcd70187b6b6c3750cb3508798f2b1d57c9d3214b08b\n",
            "Successfully built mglearn\n",
            "Installing collected packages: mglearn\n",
            "Successfully installed mglearn-0.1.9\n"
          ]
        }
      ],
      "source": [
        "!pip install mglearn\n",
        "import mglearn"
      ]
    },
    {
      "cell_type": "code",
      "execution_count": 7,
      "metadata": {
        "id": "Ik0Jq-0GIXxn"
      },
      "outputs": [],
      "source": [
        "#create a synthetic dataset\n",
        "X, y = make_blobs(random_state=0)"
      ]
    },
    {
      "cell_type": "code",
      "execution_count": 8,
      "metadata": {
        "id": "Tay86Cg0Iman"
      },
      "outputs": [],
      "source": [
        "# split data and labels into training and test set\n",
        "X_train, X_test, y_train, y_test = train_test_split(X, y, random_state=0)"
      ]
    },
    {
      "cell_type": "code",
      "execution_count": 9,
      "metadata": {
        "id": "vLJI7EB5I1XM"
      },
      "outputs": [],
      "source": [
        "# intantiate a model on the test set\n",
        "logreg = LogisticRegression().fit(X_train, y_train)"
      ]
    },
    {
      "cell_type": "code",
      "execution_count": 10,
      "metadata": {
        "colab": {
          "base_uri": "https://localhost:8080/"
        },
        "id": "N3jUbb53JBt5",
        "outputId": "be8c0a94-eb61-4a35-b1b1-b27f208f8dfb"
      },
      "outputs": [
        {
          "output_type": "stream",
          "name": "stdout",
          "text": [
            "Test set score: 0.88\n"
          ]
        }
      ],
      "source": [
        "# evaluate the model on the test set\n",
        "print(\"Test set score: {:.2f}\".format(logreg.score(X_test, y_test)))"
      ]
    },
    {
      "cell_type": "markdown",
      "metadata": {
        "id": "6i2yubGAJSEs"
      },
      "source": [
        "La raison pour laquelle on fait la scission des données en entrainement et test est que nous voulons obtenir un cas de généralisation dans nos modèles.\n",
        "\n",
        "Mais maintenant, nous nous intéressons à voir comment notre modèle fait l'entrainement des données et comment fait il la prédiction de nouvelles données\n",
        "\n",
        "\n",
        "Dans ce chapitre on verra bien, deux aspects:\n",
        "\n",
        "* **cross-validation** qui est un de plus grand moyen d'atteindre les performances de généralisation\n",
        "* et discuter des methodes pour faire l'évaluation de performance de classification et regression\n",
        "\n",
        "Mais nous parlerons aussi de **grid search** qui permet de rechercher les meilleurs paramètres pour nos modèles"
      ]
    },
    {
      "cell_type": "markdown",
      "metadata": {
        "id": "sfljYEhXLHQ0"
      },
      "source": [
        "## **Cross-Validation**\n",
        "\n",
        "La validation croisée est une méthode statistique d'évaluation des performances de généralisation qui\n",
        "est plus stable et approfondi que d'utiliser une division en un ensemble d'entraînement et un ensemble de test.\n",
        "\n",
        "Ici les données sont rapidement divisés et plusieurs modèles sont aussi entrainer\n",
        "\n",
        "La version de cross-validation la plus utilisée est **k-fold** ou k est nombre définit par l'utilisateur et qui varie notamment de 5 à 10.\n",
        "\n",
        "- Lorsque l'on choisit k égale à 5, les données sont divisées en 5 parties égales appelées **folds(plis)**\n",
        "\n",
        "**Illustration**"
      ]
    },
    {
      "cell_type": "code",
      "execution_count": 11,
      "metadata": {
        "colab": {
          "base_uri": "https://localhost:8080/",
          "height": 187
        },
        "id": "uzqiBOzqJMiR",
        "outputId": "a786a4eb-2f90-4b88-8245-123043730ec0"
      },
      "outputs": [
        {
          "output_type": "display_data",
          "data": {
            "image/png": "[encoded data removed]",
            "text/plain": [
              "<Figure size 864x144 with 1 Axes>"
            ]
          },
          "metadata": {
            "needs_background": "light"
          }
        }
      ],
      "source": [
        "mglearn.plots.plot_cross_validation()"
      ]
    },
    {
      "cell_type": "markdown",
      "metadata": {
        "id": "zW8dNBeuQ0BL"
      },
      "source": [
        "### **Cross validation inf sklearn**\n",
        "\n",
        "On retrouve  **cross_val_score** dans le module **model_selection** de sklearn"
      ]
    },
    {
      "cell_type": "code",
      "execution_count": 12,
      "metadata": {
        "id": "olE6PLmYPbk8"
      },
      "outputs": [],
      "source": [
        "from sklearn.model_selection import cross_val_score"
      ]
    },
    {
      "cell_type": "code",
      "execution_count": 13,
      "metadata": {
        "id": "VqJiQb4IRWuv"
      },
      "outputs": [],
      "source": [
        "from sklearn.datasets import load_iris\n",
        "from sklearn.linear_model import LogisticRegression"
      ]
    },
    {
      "cell_type": "code",
      "execution_count": 14,
      "metadata": {
        "id": "l4DG63mkRuYv"
      },
      "outputs": [],
      "source": [
        "iris = load_iris()"
      ]
    },
    {
      "cell_type": "code",
      "execution_count": 15,
      "metadata": {
        "id": "6isrE527RwoG"
      },
      "outputs": [],
      "source": [
        "logreg = LogisticRegression(max_iter=10000)"
      ]
    },
    {
      "cell_type": "markdown",
      "metadata": {
        "id": "xr7tC1IZR27a"
      },
      "source": [
        "NB: Par défaut, **cross_val_score** à 3 plis(**folds**) et donne l'algorithme renvoie trois valeurs de précision\n",
        "\n",
        "- On peut ajuster le nombre de plis(**folds**) grâce au paramètre **cv** de **cross_val_score**"
      ]
    },
    {
      "cell_type": "code",
      "execution_count": 16,
      "metadata": {
        "colab": {
          "base_uri": "https://localhost:8080/"
        },
        "id": "3SbABi-XRy6L",
        "outputId": "a5f30e37-d72a-4417-e95b-82f96169537e"
      },
      "outputs": [
        {
          "output_type": "execute_result",
          "data": {
            "text/plain": [
              "array([0.98, 0.96, 0.98])"
            ]
          },
          "metadata": {},
          "execution_count": 16
        }
      ],
      "source": [
        "cross_val_score(logreg, iris.data, iris.target, cv=3)"
      ]
    },
    {
      "cell_type": "code",
      "execution_count": 17,
      "metadata": {
        "id": "Dcz2fhI5STdk"
      },
      "outputs": [],
      "source": [
        "scores = cross_val_score(logreg, iris.data, iris.target, cv=5)"
      ]
    },
    {
      "cell_type": "code",
      "execution_count": 18,
      "metadata": {
        "colab": {
          "base_uri": "https://localhost:8080/"
        },
        "id": "5O9wKOYZSw1D",
        "outputId": "f42d20bf-60f3-48b2-d22f-ec72a4eb8081"
      },
      "outputs": [
        {
          "output_type": "stream",
          "name": "stdout",
          "text": [
            "Cross-validation scores: [0.96666667 1.         0.93333333 0.96666667 1.        ]\n"
          ]
        }
      ],
      "source": [
        "print(\"Cross-validation scores: {}\".format(scores))"
      ]
    },
    {
      "cell_type": "markdown",
      "metadata": {
        "id": "A_BSxRCSTViq"
      },
      "source": [
        "Pour évaluer la précision de la validation croisée, on calcule la moyenne de scores"
      ]
    },
    {
      "cell_type": "code",
      "execution_count": 19,
      "metadata": {
        "colab": {
          "base_uri": "https://localhost:8080/"
        },
        "id": "tISU9XmGS21h",
        "outputId": "27441bc5-3b47-496b-bff2-9480b1c8517a"
      },
      "outputs": [
        {
          "output_type": "stream",
          "name": "stdout",
          "text": [
            "Average corss-validation 0.97\n"
          ]
        }
      ],
      "source": [
        "print(\"Average corss-validation {:.2f}\".format(scores.mean()))"
      ]
    },
    {
      "cell_type": "markdown",
      "metadata": {
        "id": "FX9sCCbXWTYn"
      },
      "source": [
        "**Inconvénient de la cross validation**\n",
        "\n",
        "Et qu'elle coute en terme de temps pour la formation de chaque plis\n",
        "\n",
        "### **Stratified k-Fold Cross-Validation and Other Strategies**\n",
        "\n",
        "\n",
        "En validation croisée stratifiée, nous\n",
        "diviser les données de telle sorte que les proportions entre les classes soient les mêmes dans chaque pli comme\n",
        "ils sont dans l'ensemble de données,"
      ]
    },
    {
      "cell_type": "code",
      "execution_count": 20,
      "metadata": {
        "colab": {
          "base_uri": "https://localhost:8080/",
          "height": 369
        },
        "id": "Rv8GLpj8ZRNC",
        "outputId": "4cb9a33a-d171-4864-adeb-161ce5df1971"
      },
      "outputs": [
        {
          "output_type": "display_data",
          "data": {
            "image/png": "[encoded data removed]",
            "text/plain": [
              "<Figure size 864x360 with 2 Axes>"
            ]
          },
          "metadata": {
            "needs_background": "light"
          }
        }
      ],
      "source": [
        "mglearn.plots.plot_stratified_cross_validation()"
      ]
    },
    {
      "cell_type": "markdown",
      "metadata": {
        "id": "sMA4I9rPcz3-"
      },
      "source": [
        "#### **More control over cross validation**"
      ]
    },
    {
      "cell_type": "code",
      "execution_count": 21,
      "metadata": {
        "id": "WeZvibZpTpHO"
      },
      "outputs": [],
      "source": [
        "from sklearn.model_selection import KFold"
      ]
    },
    {
      "cell_type": "code",
      "execution_count": 22,
      "metadata": {
        "id": "naZGBd7jc8Vr"
      },
      "outputs": [],
      "source": [
        "kfold = KFold(n_splits=5)"
      ]
    },
    {
      "cell_type": "code",
      "execution_count": 23,
      "metadata": {
        "id": "7kRWbr0fdCQq"
      },
      "outputs": [],
      "source": [
        "scores = cross_val_score(logreg, iris.data, iris.target, cv=kfold)"
      ]
    },
    {
      "cell_type": "code",
      "execution_count": 24,
      "metadata": {
        "colab": {
          "base_uri": "https://localhost:8080/"
        },
        "id": "N8DlBekodz9P",
        "outputId": "4771debc-e50e-40c3-f263-471d08056ad5"
      },
      "outputs": [
        {
          "output_type": "stream",
          "name": "stdout",
          "text": [
            "Cross validation score [1.         1.         0.86666667 0.93333333 0.83333333]\n"
          ]
        }
      ],
      "source": [
        "print(\"Cross validation score {}\".format(scores))"
      ]
    },
    {
      "cell_type": "code",
      "execution_count": 25,
      "metadata": {
        "colab": {
          "base_uri": "https://localhost:8080/"
        },
        "id": "-cWQKw1pd-Cp",
        "outputId": "14861964-0710-47df-be32-54e1f57d70eb"
      },
      "outputs": [
        {
          "output_type": "execute_result",
          "data": {
            "text/plain": [
              "0.9266666666666665"
            ]
          },
          "metadata": {},
          "execution_count": 25
        }
      ],
      "source": [
        "scores.mean()"
      ]
    },
    {
      "cell_type": "code",
      "execution_count": 26,
      "metadata": {
        "id": "6HC-283XeEyw"
      },
      "outputs": [],
      "source": [
        "kfold = KFold(n_splits=3)"
      ]
    },
    {
      "cell_type": "code",
      "execution_count": 27,
      "metadata": {
        "colab": {
          "base_uri": "https://localhost:8080/"
        },
        "id": "JCvJYMzUhahb",
        "outputId": "bb58e499-d5ab-468a-bedb-8d6b8dda63ab"
      },
      "outputs": [
        {
          "output_type": "execute_result",
          "data": {
            "text/plain": [
              "array([0., 0., 0.])"
            ]
          },
          "metadata": {},
          "execution_count": 27
        }
      ],
      "source": [
        "cross_val_score(logreg, iris.data, iris.target, cv=kfold)"
      ]
    },
    {
      "cell_type": "code",
      "execution_count": 28,
      "metadata": {
        "id": "CeKCsaOfhiXy"
      },
      "outputs": [],
      "source": [
        "kfold = KFold(n_splits=3, shuffle=True, random_state=0)"
      ]
    },
    {
      "cell_type": "code",
      "execution_count": 29,
      "metadata": {
        "colab": {
          "base_uri": "https://localhost:8080/"
        },
        "id": "7bG-o4PahvbC",
        "outputId": "d84bd959-9a13-4f79-f687-a8fda8b4358c"
      },
      "outputs": [
        {
          "output_type": "execute_result",
          "data": {
            "text/plain": [
              "array([0.98, 0.96, 0.96])"
            ]
          },
          "metadata": {},
          "execution_count": 29
        }
      ],
      "source": [
        "cross_val_score(logreg, iris.data, iris.target, cv=kfold)"
      ]
    },
    {
      "cell_type": "markdown",
      "metadata": {
        "id": "vHIOIYSqh5as"
      },
      "source": [
        "### **Leave-one-out cross-validation**\n",
        "\n",
        "Il est donne donne des bonnes performances pour de petit dataset\n",
        "\n",
        "Il consomme trop en terme de temps\n",
        "\n",
        "Ici chaque fold est un simple échantillon"
      ]
    },
    {
      "cell_type": "code",
      "execution_count": 30,
      "metadata": {
        "id": "_wM2tA5grAnP"
      },
      "outputs": [],
      "source": [
        "from sklearn.model_selection import LeaveOneOut"
      ]
    },
    {
      "cell_type": "code",
      "execution_count": 31,
      "metadata": {
        "id": "5Yr0xpZCrAnQ"
      },
      "outputs": [],
      "source": [
        "loo = LeaveOneOut()"
      ]
    },
    {
      "cell_type": "code",
      "execution_count": 32,
      "metadata": {
        "id": "x2SdINpPrAnR"
      },
      "outputs": [],
      "source": [
        "scores = cross_val_score(logreg, iris.data, iris.target, cv=loo)"
      ]
    },
    {
      "cell_type": "code",
      "execution_count": 33,
      "metadata": {
        "colab": {
          "base_uri": "https://localhost:8080/"
        },
        "id": "om4uyxf9rAnS",
        "outputId": "f66b9284-3c9e-43ce-9ea6-58a99f425e42"
      },
      "outputs": [
        {
          "output_type": "stream",
          "name": "stdout",
          "text": [
            "Number of cv iterations 150\n",
            "Mean accuracy 0.97\n"
          ]
        }
      ],
      "source": [
        "print(\"Number of cv iterations\", len(scores))\n",
        "print(\"Mean accuracy {:.2f}\".format(scores.mean()))"
      ]
    },
    {
      "cell_type": "markdown",
      "metadata": {
        "id": "2lo0WlqXrAnT"
      },
      "source": [
        "### **Shuffle-split cross-validation**\n",
        "\n",
        "\n",
        "La validation croisée Shuffle-split permet de contrôler le nombre d'itérations indépendamment des tailles d'entraînement et de test, ce qui peut parfois être utile. Il permet également\n",
        "pour n'utiliser qu'une partie des données à chaque itération, en fournissant train_size et\n",
        "paramètres test_size qui ne totalisent pas un. Sous-échantillonner les données de cette manière peut être\n",
        "utile pour expérimenter avec de grands ensembles de données."
      ]
    },
    {
      "cell_type": "code",
      "execution_count": 34,
      "metadata": {
        "colab": {
          "base_uri": "https://localhost:8080/",
          "height": 153
        },
        "id": "h25cObp1rAnU",
        "outputId": "8a3b4f40-531b-44d6-c99e-64c37eb7e38f"
      },
      "outputs": [
        {
          "output_type": "display_data",
          "data": {
            "image/png": "[encoded data removed]",
            "text/plain": [
              "<Figure size 720x144 with 1 Axes>"
            ]
          },
          "metadata": {
            "needs_background": "light"
          }
        }
      ],
      "source": [
        "mglearn.plots.plot_shuffle_split()"
      ]
    },
    {
      "cell_type": "code",
      "execution_count": 35,
      "metadata": {
        "id": "cDY9OnjCrAnV"
      },
      "outputs": [],
      "source": [
        "from sklearn.model_selection import ShuffleSplit"
      ]
    },
    {
      "cell_type": "code",
      "execution_count": 36,
      "metadata": {
        "id": "ReiViX6nrAnW"
      },
      "outputs": [],
      "source": [
        "shuffle_split = ShuffleSplit(test_size=.5, train_size=.5, n_splits=10)"
      ]
    },
    {
      "cell_type": "code",
      "execution_count": 37,
      "metadata": {
        "colab": {
          "base_uri": "https://localhost:8080/"
        },
        "id": "OAw3WioOrAnW",
        "outputId": "2bcfd2dc-6671-4971-ee6c-de162ef04946"
      },
      "outputs": [
        {
          "output_type": "execute_result",
          "data": {
            "text/plain": [
              "array([0.96      , 0.97333333, 0.97333333, 0.94666667, 0.97333333,\n",
              "       0.92      , 0.96      , 0.93333333, 0.97333333, 0.94666667])"
            ]
          },
          "metadata": {},
          "execution_count": 37
        }
      ],
      "source": [
        "cross_val_score(logreg, iris.data, iris.target, cv=shuffle_split)"
      ]
    },
    {
      "cell_type": "code",
      "execution_count": 38,
      "metadata": {
        "colab": {
          "base_uri": "https://localhost:8080/"
        },
        "id": "T_Z8YoKwrAnZ",
        "outputId": "e19c4cb5-7e5c-4596-9add-fcaa2875b1ec"
      },
      "outputs": [
        {
          "output_type": "execute_result",
          "data": {
            "text/plain": [
              "0.9560000000000001"
            ]
          },
          "metadata": {},
          "execution_count": 38
        }
      ],
      "source": [
        "_.mean()"
      ]
    },
    {
      "cell_type": "markdown",
      "metadata": {
        "id": "rLwlU01qrAna"
      },
      "source": [
        "### **Cross-validation with groups**\n",
        "\n",
        "Classer les données dans les groupes enfin d'avoir des bonnes données à entrainer et éviter d'avoir les mêmes données dans l'entrainement et le test\n",
        "\n"
      ]
    },
    {
      "cell_type": "code",
      "execution_count": 39,
      "metadata": {
        "id": "v-Ehn_fTrAnb"
      },
      "outputs": [],
      "source": [
        "from sklearn.model_selection import GroupKFold"
      ]
    },
    {
      "cell_type": "code",
      "execution_count": 40,
      "metadata": {
        "id": "G2UKxtItrAne"
      },
      "outputs": [],
      "source": [
        "X, y = make_blobs(n_samples=12, random_state=0)"
      ]
    },
    {
      "cell_type": "code",
      "execution_count": 41,
      "metadata": {
        "colab": {
          "base_uri": "https://localhost:8080/"
        },
        "id": "-AkglZIlrAne",
        "outputId": "3c8bf1e1-d2ce-4a1f-efae-8b8794493c16"
      },
      "outputs": [
        {
          "output_type": "execute_result",
          "data": {
            "text/plain": [
              "(12, 2)"
            ]
          },
          "metadata": {},
          "execution_count": 41
        }
      ],
      "source": [
        "X.shape"
      ]
    },
    {
      "cell_type": "code",
      "execution_count": 44,
      "metadata": {
        "colab": {
          "base_uri": "https://localhost:8080/"
        },
        "id": "Wszl-FBxrAnf",
        "outputId": "0162c23f-b908-4207-de4a-28eaa8ffd511"
      },
      "outputs": [
        {
          "output_type": "execute_result",
          "data": {
            "text/plain": [
              "0.75"
            ]
          },
          "metadata": {},
          "execution_count": 44
        }
      ],
      "source": [
        "cross_val_score(logreg, X, y, cv=3).mean()"
      ]
    },
    {
      "cell_type": "code",
      "execution_count": 46,
      "metadata": {
        "id": "O53hIEAqrAnf"
      },
      "outputs": [],
      "source": [
        "import numpy as np, pandas as pd, matplotlib.pyplot as plt"
      ]
    },
    {
      "cell_type": "code",
      "source": [
        "np.unique(y)"
      ],
      "metadata": {
        "colab": {
          "base_uri": "https://localhost:8080/"
        },
        "id": "xF1rZwPd2iom",
        "outputId": "6ce40acf-2fec-4f6b-8efe-79f521c9d378"
      },
      "execution_count": 47,
      "outputs": [
        {
          "output_type": "execute_result",
          "data": {
            "text/plain": [
              "array([0, 1, 2])"
            ]
          },
          "metadata": {},
          "execution_count": 47
        }
      ]
    },
    {
      "cell_type": "code",
      "source": [
        "groups = [0, 0, 0, 1, 1, 1, 1, 2, 2, 3, 3, 3]\n",
        "\n",
        "print(\"Score:\")\n",
        "cross_val_score(logreg, X, y, groups=groups, cv=GroupKFold(n_splits=3))"
      ],
      "metadata": {
        "colab": {
          "base_uri": "https://localhost:8080/"
        },
        "id": "a45nQpbH2rPq",
        "outputId": "57fc17b8-a86f-4ce6-c5c5-ac3e2f7b8bf3"
      },
      "execution_count": 50,
      "outputs": [
        {
          "output_type": "stream",
          "name": "stdout",
          "text": [
            "Score:\n"
          ]
        },
        {
          "output_type": "execute_result",
          "data": {
            "text/plain": [
              "array([0.75      , 0.6       , 0.66666667])"
            ]
          },
          "metadata": {},
          "execution_count": 50
        }
      ]
    },
    {
      "cell_type": "code",
      "source": [
        "mglearn.plots.plot_group_kfold()"
      ],
      "metadata": {
        "colab": {
          "base_uri": "https://localhost:8080/",
          "height": 153
        },
        "id": "VJVAC5zh3Kzw",
        "outputId": "11c7fa99-96c5-48e8-fc2b-0135877f8e55"
      },
      "execution_count": 53,
      "outputs": [
        {
          "output_type": "display_data",
          "data": {
            "image/png": "[encoded data removed]",
            "text/plain": [
              "<Figure size 720x144 with 1 Axes>"
            ]
          },
          "metadata": {
            "needs_background": "light"
          }
        }
      ]
    },
    {
      "cell_type": "markdown",
      "source": [
        "On voit que chaque group et soit dans l'entrainement soit dans le test"
      ],
      "metadata": {
        "id": "S1dGs2ME4Q9a"
      }
    },
    {
      "cell_type": "code",
      "source": [
        "from sklearn.neighbors import KNeighborsClassifier"
      ],
      "metadata": {
        "id": "oLSkEIcO7hBS"
      },
      "execution_count": 54,
      "outputs": []
    },
    {
      "cell_type": "code",
      "source": [
        "list_neighbors = [x for x in range(1, 45)]\n",
        "\n",
        "scores = [cross_val_score(KNeighborsClassifier(n_neighbors=x), iris.data, iris.target, cv=5).mean() for x in list_neighbors]"
      ],
      "metadata": {
        "id": "TkHWtDwj7p18"
      },
      "execution_count": 55,
      "outputs": []
    },
    {
      "cell_type": "code",
      "source": [
        "scores"
      ],
      "metadata": {
        "colab": {
          "base_uri": "https://localhost:8080/"
        },
        "id": "w_K6tBi07pxm",
        "outputId": "bb0cae44-5151-4bd0-8976-856254b81fef"
      },
      "execution_count": 56,
      "outputs": [
        {
          "output_type": "execute_result",
          "data": {
            "text/plain": [
              "[0.96,\n",
              " 0.9466666666666665,\n",
              " 0.9666666666666668,\n",
              " 0.9733333333333334,\n",
              " 0.9733333333333334,\n",
              " 0.9800000000000001,\n",
              " 0.9800000000000001,\n",
              " 0.9666666666666668,\n",
              " 0.9733333333333334,\n",
              " 0.9800000000000001,\n",
              " 0.9800000000000001,\n",
              " 0.9800000000000001,\n",
              " 0.9733333333333334,\n",
              " 0.9666666666666666,\n",
              " 0.9666666666666668,\n",
              " 0.9666666666666668,\n",
              " 0.9666666666666668,\n",
              " 0.9666666666666666,\n",
              " 0.9666666666666668,\n",
              " 0.96,\n",
              " 0.9666666666666668,\n",
              " 0.96,\n",
              " 0.96,\n",
              " 0.9466666666666667,\n",
              " 0.96,\n",
              " 0.9466666666666665,\n",
              " 0.9466666666666667,\n",
              " 0.9399999999999998,\n",
              " 0.9333333333333332,\n",
              " 0.9399999999999998,\n",
              " 0.9333333333333332,\n",
              " 0.9466666666666665,\n",
              " 0.9399999999999998,\n",
              " 0.9533333333333334,\n",
              " 0.9533333333333334,\n",
              " 0.9533333333333334,\n",
              " 0.9466666666666667,\n",
              " 0.9333333333333333,\n",
              " 0.9400000000000001,\n",
              " 0.9266666666666667,\n",
              " 0.9400000000000001,\n",
              " 0.9400000000000001,\n",
              " 0.9400000000000001,\n",
              " 0.9266666666666667]"
            ]
          },
          "metadata": {},
          "execution_count": 56
        }
      ]
    },
    {
      "cell_type": "code",
      "source": [
        "plt.plot(list_neighbors, scores, ':o')\n",
        "plt.xlabel(\"Number of neighbors\")\n",
        "plt.ylabel(\"Model accuracy\")\n",
        "plt.tight_layout()"
      ],
      "metadata": {
        "colab": {
          "base_uri": "https://localhost:8080/",
          "height": 297
        },
        "id": "pfL_ntGE7puK",
        "outputId": "ea23cfce-ede2-46f7-91c6-5a7a5a5b0efc"
      },
      "execution_count": 61,
      "outputs": [
        {
          "output_type": "display_data",
          "data": {
            "image/png": "[encoded data removed]",
            "text/plain": [
              "<Figure size 432x288 with 1 Axes>"
            ]
          },
          "metadata": {
            "needs_background": "light"
          }
        }
      ]
    },
    {
      "cell_type": "markdown",
      "source": [
        "## **Grid Search**\n",
        "\n",
        "Nous allons voir comment améliorer les performances de modèles en ajustant ses paramètres.\n",
        "\n",
        "### **Simple Grid Search**\n",
        "\n",
        "Le Grid Search simple consiste à rechercher des paramètres en utilisant une boucle **for** pour évaluer le classificateur"
      ],
      "metadata": {
        "id": "sT2j1u7V7igf"
      }
    },
    {
      "cell_type": "code",
      "source": [
        "from sklearn.svm import SVC"
      ],
      "metadata": {
        "id": "5Na3iDJ93vXw"
      },
      "execution_count": 62,
      "outputs": []
    },
    {
      "cell_type": "code",
      "source": [
        "X_train, X_test, y_train, y_test = train_test_split(iris.data, iris.target, random_state=0)"
      ],
      "metadata": {
        "id": "hpMMMzKcCOkt"
      },
      "execution_count": 63,
      "outputs": []
    },
    {
      "cell_type": "code",
      "source": [
        "print(f\"Size of training set: {X_train.shape[0]}\\nSize of test set: {X_test.shape[0]}\")\n",
        "\n",
        "best_score = 0\n",
        "for gamma in [0.001, 0.01, 0.1, 1, 10, 100]:\n",
        "  for C in [0.001, 0.01, 0.1, 1, 10, 100]:\n",
        "    svm = SVC(gamma=gamma, C=C)\n",
        "    svm.fit(X_train, y_train)\n",
        "\n",
        "    score = svm.score(X_test, y_test)\n",
        "\n",
        "    if score > best_score:\n",
        "      best_score = score\n",
        "      best_parameters = {\"C\":C, 'gamma':gamma}\n",
        "\n",
        "print(\"Best score {:.2f}\".format(best_score))\n",
        "print(\"Best parameters: {}\".format(best_parameters))"
      ],
      "metadata": {
        "colab": {
          "base_uri": "https://localhost:8080/"
        },
        "id": "6k7-rKslCZgc",
        "outputId": "3fbe0d64-7281-4533-ae94-0d69077208bb"
      },
      "execution_count": 64,
      "outputs": [
        {
          "output_type": "stream",
          "name": "stdout",
          "text": [
            "Size of training set: 112\n",
            "Size of test set: 38\n",
            "Best score 0.97\n",
            "Best parameters: {'C': 100, 'gamma': 0.001}\n"
          ]
        }
      ]
    },
    {
      "cell_type": "markdown",
      "source": [
        "#### **The Danger of Overfitting the Parameters and the Validation Set**\n",
        "\n",
        "Lorsque l'on conçoit des modèles, on doit faire en sorte que les données pour tester le modèle ne soient pas encore vu en avance par l'algorithme.\n",
        "\n",
        "Puisque nous venons de voir précédemment que le modèle nous a fourni 97% ce qui fait de lui un bon mais peut être pas.\n",
        "\n",
        "Alors pour éviter d'avoir des données connues ou déjà vu d'avance par le modèle, Nous devons disposer de données pour évaluer le modèle que nous appelerons **Validation Set**\n",
        "\n",
        "**Illustation**"
      ],
      "metadata": {
        "id": "b_-xPuroJ5xb"
      }
    },
    {
      "cell_type": "code",
      "source": [
        "mglearn.plots.plot_threefold_split()"
      ],
      "metadata": {
        "colab": {
          "base_uri": "https://localhost:8080/",
          "height": 123
        },
        "id": "JFmahexKDyS3",
        "outputId": "ac4d7e42-734c-4cc3-aad5-d704a5b04d0e"
      },
      "execution_count": 65,
      "outputs": [
        {
          "output_type": "display_data",
          "data": {
            "image/png": "[encoded data removed]",
            "text/plain": [
              "<Figure size 1080x72 with 1 Axes>"
            ]
          },
          "metadata": {
            "needs_background": "light"
          }
        }
      ]
    },
    {
      "cell_type": "markdown",
      "source": [
        "Après avoir trouvé, le bon modèle avec des bonnes performances grâce au **validation set**, alors on peut réconstruire le modèle et faire le dernier test avec le **test set**"
      ],
      "metadata": {
        "id": "_huBe5aZLbpe"
      }
    },
    {
      "cell_type": "code",
      "source": [
        "from sklearn.svm import SVC"
      ],
      "metadata": {
        "id": "DXsreHisK7x2"
      },
      "execution_count": 66,
      "outputs": []
    },
    {
      "cell_type": "code",
      "source": [
        "# split into train+validation set and test set\n",
        "X_trainval, X_test, y_trainval, y_test = train_test_split(iris.data, iris.target, random_state=0)"
      ],
      "metadata": {
        "id": "p-lt5-iBL2Hr"
      },
      "execution_count": 67,
      "outputs": []
    },
    {
      "cell_type": "code",
      "source": [
        "X_train, X_valid, y_train, y_valid = train_test_split(X_trainval, y_trainval, random_state=1)"
      ],
      "metadata": {
        "id": "uWs1jUQDMoxh"
      },
      "execution_count": 72,
      "outputs": []
    },
    {
      "cell_type": "code",
      "source": [
        "print(\" Size of training set: {}\\n Size of validation set: {}\\n Size of test set {}\".format(\n",
        "    X_train.shape[0], X_valid.shape[0], X_test.shape[0]\n",
        "))\n",
        "\n",
        "baset_score = 0\n",
        "\n",
        "for gamma in [0.001, 0.01, 0.1, 1, 10, 100]:\n",
        "  for c in [0.001, 0.01, 0.1, 1, 10, 100]:\n",
        "    svm = SVC(C=C, gamma=gamma)\n",
        "    svm.fit(X_train, y_train)\n",
        "\n",
        "    score = svm.score(X_valid, y_valid)\n",
        "\n",
        "    if score > best_score:\n",
        "      best_score = score\n",
        "      best_parameters = {\"C\":C, 'gamma':gamma}\n",
        "\n",
        "\n",
        "svm = SVC(**best_parameters)\n",
        "svm.fit(X_trainval, y_trainval)\n",
        "test_score = svm.score(X_test, y_test)\n",
        "\n",
        "print(\"\\nBest score of validation set: {:.2f}\".format(best_score))\n",
        "print(\"Best parameters: {}\".format(best_parameters))\n",
        "print(\"Test set score with best parameters: {:.2f}\".format(test_score))"
      ],
      "metadata": {
        "colab": {
          "base_uri": "https://localhost:8080/"
        },
        "id": "ShD8kAWyO8Km",
        "outputId": "f6cab373-12a5-4b0a-871c-7579df223b54"
      },
      "execution_count": 75,
      "outputs": [
        {
          "output_type": "stream",
          "name": "stdout",
          "text": [
            " Size of training set: 84\n",
            " Size of validation set: 28\n",
            " Size of test set 38\n",
            "\n",
            "Best score of validation set: 0.97\n",
            "Best parameters: {'C': 100, 'gamma': 0.001}\n",
            "Test set score with best parameters: 0.97\n"
          ]
        }
      ]
    },
    {
      "cell_type": "markdown",
      "source": [
        "### **Grid Search with Cross-Validation**\n",
        "\n",
        "On peut évaluer les performances du modèle avec **cross_val_score** et sélectionner celui qui nous donne des très bonnes performances"
      ],
      "metadata": {
        "id": "yNauBIrKSPSA"
      }
    },
    {
      "cell_type": "code",
      "source": [
        "best_score = 0\n",
        "\n",
        "for gamma in [0.001, 0.01, 0.1, 1, 10, 100]:\n",
        "  for C in [0.001, 0.01, 0.1, 1, 10, 100]:\n",
        "    svm = SVC(gamma=gamma, C=C)\n",
        "    \n",
        "    scores = cross_val_score(svm, X_trainval, y_trainval, cv=5)\n",
        "    score = np.mean(scores)\n",
        "\n",
        "    if score > best_score:\n",
        "      best_score = score\n",
        "      best_parameters = {\"C\":C, 'gamma':gamma}\n",
        "    \n",
        "svm = SVC(**best_parameters)\n",
        "svm.fit(X_trainval, y_trainval)\n",
        "\n",
        "print('Best score', best_score)\n",
        "print(\"Best parameters\", best_parameters)\n",
        "print(\"Test set score\", svm.score(X_test, y_test))"
      ],
      "metadata": {
        "colab": {
          "base_uri": "https://localhost:8080/"
        },
        "id": "JrEGxsc2Peub",
        "outputId": "4755c62e-c88d-4e45-c152-9069fc32e6f0"
      },
      "execution_count": 81,
      "outputs": [
        {
          "output_type": "stream",
          "name": "stdout",
          "text": [
            "Best score 0.9731225296442687\n",
            "Best parameters {'C': 10, 'gamma': 0.1}\n",
            "Test set score 0.9736842105263158\n"
          ]
        }
      ]
    },
    {
      "cell_type": "markdown",
      "source": [
        "Voici comment les meilleurs paramètres sont sélectionnés:"
      ],
      "metadata": {
        "id": "enF5-DhsXR5n"
      }
    },
    {
      "cell_type": "code",
      "source": [
        "mglearn.plots.plot_cross_val_selection()"
      ],
      "metadata": {
        "colab": {
          "base_uri": "https://localhost:8080/",
          "height": 335
        },
        "id": "FaKNxjPrWChh",
        "outputId": "c0dbec92-dfd2-41a5-f072-aada89671d95"
      },
      "execution_count": 82,
      "outputs": [
        {
          "output_type": "display_data",
          "data": {
            "image/png": "[encoded data removed]",
            "text/plain": [
              "<Figure size 720x216 with 1 Axes>"
            ]
          },
          "metadata": {
            "needs_background": "light"
          }
        }
      ]
    },
    {
      "cell_type": "markdown",
      "source": [
        "Voici comment est résumé le processus de **splitting data**, **rig search**, rt **évaluation des paramètres finales**"
      ],
      "metadata": {
        "id": "9lzKAQG7ZCRQ"
      }
    },
    {
      "cell_type": "code",
      "source": [
        "mglearn.plots.plot_grid_search_overview()"
      ],
      "metadata": {
        "colab": {
          "base_uri": "https://localhost:8080/",
          "height": 440
        },
        "id": "s5mtQh-5Xbd1",
        "outputId": "c1db4dd9-9a3b-4219-bdd9-a6a2d2d67162"
      },
      "execution_count": 83,
      "outputs": [
        {
          "output_type": "display_data",
          "data": {
            "image/png": "[encoded data removed]",
            "text/plain": [
              "<Figure size 700x210 with 1 Axes>"
            ]
          },
          "metadata": {
            "needs_background": "light"
          }
        }
      ]
    },
    {
      "cell_type": "markdown",
      "source": [
        "Comme la cross validation se fait conjonctement avec le grid search, une classe **GridSearchCV** est implémenté dans sklearn pour résoudre tous les problèmes liés à la généralisation de modèle.\n",
        "\n",
        "Pour pouvoir utiliser **GridSearchCV**, nous devons en premier lieu  déclarer les paramètres à lui soumettre pour faire de tests"
      ],
      "metadata": {
        "id": "2hCNB-lPaE2C"
      }
    },
    {
      "cell_type": "code",
      "source": [
        "param_grid = {\n",
        "    'C': [0.001, 0.01, 0.1, 1, 10, 100],\n",
        "    'gamma':[0.001, 0.01, 0.1, 1, 10, 100]\n",
        "}\n",
        "\n",
        "print(\"Grille de paramètres:\\n{}\".format(param_grid))"
      ],
      "metadata": {
        "colab": {
          "base_uri": "https://localhost:8080/"
        },
        "id": "OQlf3OHPZb29",
        "outputId": "04395789-723d-4580-b13d-97988e6787c1"
      },
      "execution_count": 87,
      "outputs": [
        {
          "output_type": "stream",
          "name": "stdout",
          "text": [
            "Grille de paramètres:\n",
            "{'C': [0.001, 0.01, 0.1, 1, 10, 100], 'gamma': [0.001, 0.01, 0.1, 1, 10, 100]}\n"
          ]
        }
      ]
    },
    {
      "cell_type": "code",
      "source": [
        "from sklearn.model_selection import GridSearchCV"
      ],
      "metadata": {
        "id": "ho71WktdbA9E"
      },
      "execution_count": 88,
      "outputs": []
    },
    {
      "cell_type": "code",
      "source": [
        "grid_search = GridSearchCV(SVC(), param_grid, cv=5)"
      ],
      "metadata": {
        "id": "4bNdTq3cbU8H"
      },
      "execution_count": 89,
      "outputs": []
    },
    {
      "cell_type": "code",
      "source": [
        "X_train, X_test, y_train, y_test = train_test_split(iris.data, iris.target, random_state=0)"
      ],
      "metadata": {
        "id": "zOhqkPQdkPZH"
      },
      "execution_count": 90,
      "outputs": []
    },
    {
      "cell_type": "code",
      "source": [
        "grid_search.fit(X_train, y_train)"
      ],
      "metadata": {
        "colab": {
          "base_uri": "https://localhost:8080/"
        },
        "id": "uMvitymflKBr",
        "outputId": "1090a9d4-1390-4ffc-fd19-5a120d9fedc7"
      },
      "execution_count": 91,
      "outputs": [
        {
          "output_type": "execute_result",
          "data": {
            "text/plain": [
              "GridSearchCV(cv=5, estimator=SVC(),\n",
              "             param_grid={'C': [0.001, 0.01, 0.1, 1, 10, 100],\n",
              "                         'gamma': [0.001, 0.01, 0.1, 1, 10, 100]})"
            ]
          },
          "metadata": {},
          "execution_count": 91
        }
      ]
    },
    {
      "cell_type": "code",
      "source": [
        "print(\"Test set score: {:.2f}\".format(grid_search.score(X_test, y_test)))"
      ],
      "metadata": {
        "colab": {
          "base_uri": "https://localhost:8080/"
        },
        "id": "8NYdKANclzs6",
        "outputId": "1c307a1e-2ce1-462e-e092-a701c156a512"
      },
      "execution_count": 93,
      "outputs": [
        {
          "output_type": "stream",
          "name": "stdout",
          "text": [
            "Test set score: 0.97\n"
          ]
        }
      ]
    },
    {
      "cell_type": "code",
      "source": [
        "print(\"Best parameter\", grid_search.best_params_)"
      ],
      "metadata": {
        "colab": {
          "base_uri": "https://localhost:8080/"
        },
        "id": "oUXfo57SmGL6",
        "outputId": "21ae18da-f165-403c-d363-3277a5e54156"
      },
      "execution_count": 94,
      "outputs": [
        {
          "output_type": "stream",
          "name": "stdout",
          "text": [
            "Best parameter {'C': 10, 'gamma': 0.1}\n"
          ]
        }
      ]
    },
    {
      "cell_type": "code",
      "source": [
        "print(\"Best cross-validation score: {:.2f}\".format(grid_search.best_score_))"
      ],
      "metadata": {
        "colab": {
          "base_uri": "https://localhost:8080/"
        },
        "id": "BY1aPahCmUB_",
        "outputId": "faf2a27e-f345-4732-f852-e59196cc07ee"
      },
      "execution_count": 95,
      "outputs": [
        {
          "output_type": "stream",
          "name": "stdout",
          "text": [
            "Best cross-validation score: 0.97\n"
          ]
        }
      ]
    },
    {
      "cell_type": "code",
      "source": [
        "print(\"Best estimator:\\n\", grid_search.best_estimator_)"
      ],
      "metadata": {
        "colab": {
          "base_uri": "https://localhost:8080/"
        },
        "id": "pXOeFM2XmxtK",
        "outputId": "8f2bc2df-efba-4583-dc4f-8df6da43384c"
      },
      "execution_count": 96,
      "outputs": [
        {
          "output_type": "stream",
          "name": "stdout",
          "text": [
            "Best estimator:\n",
            " SVC(C=10, gamma=0.1)\n"
          ]
        }
      ]
    },
    {
      "cell_type": "markdown",
      "source": [
        "#### **Analyzing the result of cross-validation**"
      ],
      "metadata": {
        "id": "z8ni32G1ohyv"
      }
    },
    {
      "cell_type": "code",
      "source": [
        "results = pd.DataFrame(grid_search.cv_results_)"
      ],
      "metadata": {
        "id": "sBaXMDU3nEif"
      },
      "execution_count": 97,
      "outputs": []
    },
    {
      "cell_type": "code",
      "source": [
        "results.head()"
      ],
      "metadata": {
        "colab": {
          "base_uri": "https://localhost:8080/",
          "height": 531
        },
        "id": "s_gdEpAzyNto",
        "outputId": "59b17541-0e2f-4175-8cf1-140bfaadf2b0"
      },
      "execution_count": 98,
      "outputs": [
        {
          "output_type": "execute_result",
          "data": {
            "text/html": [
              "\n",
              "  <div id=\"df-a48f07ac-dda6-4dff-a438-38d9c9c58f6a\">\n",
              "    <div class=\"colab-df-container\">\n",
              "      <div>\n",
              "<style scoped>\n",
              "    .dataframe tbody tr th:only-of-type {\n",
              "        vertical-align: middle;\n",
              "    }\n",
              "\n",
              "    .dataframe tbody tr th {\n",
              "        vertical-align: top;\n",
              "    }\n",
              "\n",
              "    .dataframe thead th {\n",
              "        text-align: right;\n",
              "    }\n",
              "</style>\n",
              "<table border=\"1\" class=\"dataframe\">\n",
              "  <thead>\n",
              "    <tr style=\"text-align: right;\">\n",
              "      <th></th>\n",
              "      <th>mean_fit_time</th>\n",
              "      <th>std_fit_time</th>\n",
              "      <th>mean_score_time</th>\n",
              "      <th>std_score_time</th>\n",
              "      <th>param_C</th>\n",
              "      <th>param_gamma</th>\n",
              "      <th>params</th>\n",
              "      <th>split0_test_score</th>\n",
              "      <th>split1_test_score</th>\n",
              "      <th>split2_test_score</th>\n",
              "      <th>split3_test_score</th>\n",
              "      <th>split4_test_score</th>\n",
              "      <th>mean_test_score</th>\n",
              "      <th>std_test_score</th>\n",
              "      <th>rank_test_score</th>\n",
              "    </tr>\n",
              "  </thead>\n",
              "  <tbody>\n",
              "    <tr>\n",
              "      <th>0</th>\n",
              "      <td>0.002723</td>\n",
              "      <td>0.002438</td>\n",
              "      <td>0.000685</td>\n",
              "      <td>0.000193</td>\n",
              "      <td>0.001</td>\n",
              "      <td>0.001</td>\n",
              "      <td>{'C': 0.001, 'gamma': 0.001}</td>\n",
              "      <td>0.347826</td>\n",
              "      <td>0.347826</td>\n",
              "      <td>0.363636</td>\n",
              "      <td>0.363636</td>\n",
              "      <td>0.409091</td>\n",
              "      <td>0.366403</td>\n",
              "      <td>0.022485</td>\n",
              "      <td>22</td>\n",
              "    </tr>\n",
              "    <tr>\n",
              "      <th>1</th>\n",
              "      <td>0.001031</td>\n",
              "      <td>0.000013</td>\n",
              "      <td>0.000456</td>\n",
              "      <td>0.000006</td>\n",
              "      <td>0.001</td>\n",
              "      <td>0.01</td>\n",
              "      <td>{'C': 0.001, 'gamma': 0.01}</td>\n",
              "      <td>0.347826</td>\n",
              "      <td>0.347826</td>\n",
              "      <td>0.363636</td>\n",
              "      <td>0.363636</td>\n",
              "      <td>0.409091</td>\n",
              "      <td>0.366403</td>\n",
              "      <td>0.022485</td>\n",
              "      <td>22</td>\n",
              "    </tr>\n",
              "    <tr>\n",
              "      <th>2</th>\n",
              "      <td>0.001086</td>\n",
              "      <td>0.000097</td>\n",
              "      <td>0.000481</td>\n",
              "      <td>0.000058</td>\n",
              "      <td>0.001</td>\n",
              "      <td>0.1</td>\n",
              "      <td>{'C': 0.001, 'gamma': 0.1}</td>\n",
              "      <td>0.347826</td>\n",
              "      <td>0.347826</td>\n",
              "      <td>0.363636</td>\n",
              "      <td>0.363636</td>\n",
              "      <td>0.409091</td>\n",
              "      <td>0.366403</td>\n",
              "      <td>0.022485</td>\n",
              "      <td>22</td>\n",
              "    </tr>\n",
              "    <tr>\n",
              "      <th>3</th>\n",
              "      <td>0.001114</td>\n",
              "      <td>0.000102</td>\n",
              "      <td>0.000479</td>\n",
              "      <td>0.000026</td>\n",
              "      <td>0.001</td>\n",
              "      <td>1</td>\n",
              "      <td>{'C': 0.001, 'gamma': 1}</td>\n",
              "      <td>0.347826</td>\n",
              "      <td>0.347826</td>\n",
              "      <td>0.363636</td>\n",
              "      <td>0.363636</td>\n",
              "      <td>0.409091</td>\n",
              "      <td>0.366403</td>\n",
              "      <td>0.022485</td>\n",
              "      <td>22</td>\n",
              "    </tr>\n",
              "    <tr>\n",
              "      <th>4</th>\n",
              "      <td>0.001044</td>\n",
              "      <td>0.000034</td>\n",
              "      <td>0.000447</td>\n",
              "      <td>0.000007</td>\n",
              "      <td>0.001</td>\n",
              "      <td>10</td>\n",
              "      <td>{'C': 0.001, 'gamma': 10}</td>\n",
              "      <td>0.347826</td>\n",
              "      <td>0.347826</td>\n",
              "      <td>0.363636</td>\n",
              "      <td>0.363636</td>\n",
              "      <td>0.409091</td>\n",
              "      <td>0.366403</td>\n",
              "      <td>0.022485</td>\n",
              "      <td>22</td>\n",
              "    </tr>\n",
              "  </tbody>\n",
              "</table>\n",
              "</div>\n",
              "      <button class=\"colab-df-convert\" onclick=\"convertToInteractive('df-a48f07ac-dda6-4dff-a438-38d9c9c58f6a')\"\n",
              "              title=\"Convert this dataframe to an interactive table.\"\n",
              "              style=\"display:none;\">\n",
              "        \n",
              "  <svg xmlns=\"http://www.w3.org/2000/svg\" height=\"24px\"viewBox=\"0 0 24 24\"\n",
              "       width=\"24px\">\n",
              "    <path d=\"M0 0h24v24H0V0z\" fill=\"none\"/>\n",
              "    <path d=\"M18.56 5.44l.94 2.06.94-2.06 2.06-.94-2.06-.94-.94-2.06-.94 2.06-2.06.94zm-11 1L8.5 8.5l.94-2.06 2.06-.94-2.06-.94L8.5 2.5l-.94 2.06-2.06.94zm10 10l.94 2.06.94-2.06 2.06-.94-2.06-.94-.94-2.06-.94 2.06-2.06.94z\"/><path d=\"M17.41 7.96l-1.37-1.37c-.4-.4-.92-.59-1.43-.59-.52 0-1.04.2-1.43.59L10.3 9.45l-7.72 7.72c-.78.78-.78 2.05 0 2.83L4 21.41c.39.39.9.59 1.41.59.51 0 1.02-.2 1.41-.59l7.78-7.78 2.81-2.81c.8-.78.8-2.07 0-2.86zM5.41 20L4 18.59l7.72-7.72 1.47 1.35L5.41 20z\"/>\n",
              "  </svg>\n",
              "      </button>\n",
              "      \n",
              "  <style>\n",
              "    .colab-df-container {\n",
              "      display:flex;\n",
              "      flex-wrap:wrap;\n",
              "      gap: 12px;\n",
              "    }\n",
              "\n",
              "    .colab-df-convert {\n",
              "      background-color: #E8F0FE;\n",
              "      border: none;\n",
              "      border-radius: 50%;\n",
              "      cursor: pointer;\n",
              "      display: none;\n",
              "      fill: #1967D2;\n",
              "      height: 32px;\n",
              "      padding: 0 0 0 0;\n",
              "      width: 32px;\n",
              "    }\n",
              "\n",
              "    .colab-df-convert:hover {\n",
              "      background-color: #E2EBFA;\n",
              "      box-shadow: 0px 1px 2px rgba(60, 64, 67, 0.3), 0px 1px 3px 1px rgba(60, 64, 67, 0.15);\n",
              "      fill: #174EA6;\n",
              "    }\n",
              "\n",
              "    [theme=dark] .colab-df-convert {\n",
              "      background-color: #3B4455;\n",
              "      fill: #D2E3FC;\n",
              "    }\n",
              "\n",
              "    [theme=dark] .colab-df-convert:hover {\n",
              "      background-color: #434B5C;\n",
              "      box-shadow: 0px 1px 3px 1px rgba(0, 0, 0, 0.15);\n",
              "      filter: drop-shadow(0px 1px 2px rgba(0, 0, 0, 0.3));\n",
              "      fill: #FFFFFF;\n",
              "    }\n",
              "  </style>\n",
              "\n",
              "      <script>\n",
              "        const buttonEl =\n",
              "          document.querySelector('#df-a48f07ac-dda6-4dff-a438-38d9c9c58f6a button.colab-df-convert');\n",
              "        buttonEl.style.display =\n",
              "          google.colab.kernel.accessAllowed ? 'block' : 'none';\n",
              "\n",
              "        async function convertToInteractive(key) {\n",
              "          const element = document.querySelector('#df-a48f07ac-dda6-4dff-a438-38d9c9c58f6a');\n",
              "          const dataTable =\n",
              "            await google.colab.kernel.invokeFunction('convertToInteractive',\n",
              "                                                     [key], {});\n",
              "          if (!dataTable) return;\n",
              "\n",
              "          const docLinkHtml = 'Like what you see? Visit the ' +\n",
              "            '<a target=\"_blank\" href=https://colab.research.google.com/notebooks/data_table.ipynb>data table notebook</a>'\n",
              "            + ' to learn more about interactive tables.';\n",
              "          element.innerHTML = '';\n",
              "          dataTable['output_type'] = 'display_data';\n",
              "          await google.colab.output.renderOutput(dataTable, element);\n",
              "          const docLink = document.createElement('div');\n",
              "          docLink.innerHTML = docLinkHtml;\n",
              "          element.appendChild(docLink);\n",
              "        }\n",
              "      </script>\n",
              "    </div>\n",
              "  </div>\n",
              "  "
            ],
            "text/plain": [
              "   mean_fit_time  std_fit_time  mean_score_time  std_score_time param_C  \\\n",
              "0       0.002723      0.002438         0.000685        0.000193   0.001   \n",
              "1       0.001031      0.000013         0.000456        0.000006   0.001   \n",
              "2       0.001086      0.000097         0.000481        0.000058   0.001   \n",
              "3       0.001114      0.000102         0.000479        0.000026   0.001   \n",
              "4       0.001044      0.000034         0.000447        0.000007   0.001   \n",
              "\n",
              "  param_gamma                        params  split0_test_score  \\\n",
              "0       0.001  {'C': 0.001, 'gamma': 0.001}           0.347826   \n",
              "1        0.01   {'C': 0.001, 'gamma': 0.01}           0.347826   \n",
              "2         0.1    {'C': 0.001, 'gamma': 0.1}           0.347826   \n",
              "3           1      {'C': 0.001, 'gamma': 1}           0.347826   \n",
              "4          10     {'C': 0.001, 'gamma': 10}           0.347826   \n",
              "\n",
              "   split1_test_score  split2_test_score  split3_test_score  split4_test_score  \\\n",
              "0           0.347826           0.363636           0.363636           0.409091   \n",
              "1           0.347826           0.363636           0.363636           0.409091   \n",
              "2           0.347826           0.363636           0.363636           0.409091   \n",
              "3           0.347826           0.363636           0.363636           0.409091   \n",
              "4           0.347826           0.363636           0.363636           0.409091   \n",
              "\n",
              "   mean_test_score  std_test_score  rank_test_score  \n",
              "0         0.366403        0.022485               22  \n",
              "1         0.366403        0.022485               22  \n",
              "2         0.366403        0.022485               22  \n",
              "3         0.366403        0.022485               22  \n",
              "4         0.366403        0.022485               22  "
            ]
          },
          "metadata": {},
          "execution_count": 98
        }
      ]
    },
    {
      "cell_type": "code",
      "source": [
        "results.shape"
      ],
      "metadata": {
        "colab": {
          "base_uri": "https://localhost:8080/"
        },
        "id": "jfG5SmkUyQMc",
        "outputId": "ea4ebaaf-a8a9-4d27-8e41-c2ace9d718a5"
      },
      "execution_count": 100,
      "outputs": [
        {
          "output_type": "execute_result",
          "data": {
            "text/plain": [
              "(36, 15)"
            ]
          },
          "metadata": {},
          "execution_count": 100
        }
      ]
    },
    {
      "cell_type": "code",
      "source": [
        "len(results.columns)"
      ],
      "metadata": {
        "colab": {
          "base_uri": "https://localhost:8080/"
        },
        "id": "Epa8AXcyylKq",
        "outputId": "33c8e2b5-1efc-4e16-fee9-db26e08b8bf6"
      },
      "execution_count": 101,
      "outputs": [
        {
          "output_type": "execute_result",
          "data": {
            "text/plain": [
              "15"
            ]
          },
          "metadata": {},
          "execution_count": 101
        }
      ]
    },
    {
      "cell_type": "code",
      "source": [
        "score = np.array(results.mean_test_score).reshape(6, 6)"
      ],
      "metadata": {
        "id": "zhr7-M3DytBp"
      },
      "execution_count": 103,
      "outputs": []
    },
    {
      "cell_type": "code",
      "source": [
        "score"
      ],
      "metadata": {
        "colab": {
          "base_uri": "https://localhost:8080/"
        },
        "id": "-iLWj7gkzxyQ",
        "outputId": "a1f591f3-20a0-447d-a766-69ac4a6e380f"
      },
      "execution_count": 104,
      "outputs": [
        {
          "output_type": "execute_result",
          "data": {
            "text/plain": [
              "array([[0.36640316, 0.36640316, 0.36640316, 0.36640316, 0.36640316,\n",
              "        0.36640316],\n",
              "       [0.36640316, 0.36640316, 0.36640316, 0.36640316, 0.36640316,\n",
              "        0.36640316],\n",
              "       [0.36640316, 0.69644269, 0.90158103, 0.95533597, 0.36640316,\n",
              "        0.36640316],\n",
              "       [0.69644269, 0.93794466, 0.96403162, 0.94664032, 0.9284585 ,\n",
              "        0.50158103],\n",
              "       [0.93794466, 0.96403162, 0.97312253, 0.94624506, 0.91106719,\n",
              "        0.58142292],\n",
              "       [0.96403162, 0.96442688, 0.95494071, 0.94624506, 0.91106719,\n",
              "        0.58142292]])"
            ]
          },
          "metadata": {},
          "execution_count": 104
        }
      ]
    },
    {
      "cell_type": "code",
      "source": [
        "mglearn.tools.heatmap(score, xlabel='gamma', ylabel='C', xticklabels=param_grid['gamma'],\n",
        "                      yticklabels=param_grid['C'], cmap='viridis')\n",
        "plt.show()"
      ],
      "metadata": {
        "colab": {
          "base_uri": "https://localhost:8080/",
          "height": 279
        },
        "id": "pFUhkJvaz5Jh",
        "outputId": "155ffbbc-ce23-4129-b06c-980ddaa0ada1"
      },
      "execution_count": 113,
      "outputs": [
        {
          "output_type": "display_data",
          "data": {
            "image/png": "[encoded data removed]",
            "text/plain": [
              "<Figure size 432x288 with 1 Axes>"
            ]
          },
          "metadata": {
            "needs_background": "light"
          }
        }
      ]
    },
    {
      "cell_type": "markdown",
      "source": [
        "##### **Nested cross-validation(validation croisée imbriquée)**\n",
        "\n",
        "Cette validation consiste à faire des splits multiples de cross-validation au lieu d'en faire un seul en ayant de données d'entrainement et de test une seule fois.\n",
        "\n",
        "Cette procedure renvoie une liste de scores pas un model et encore moins pas les paramètres. N'oublions pas que le score nous montre comment le modèle généralise"
      ],
      "metadata": {
        "id": "sCkln1PU6WbQ"
      }
    },
    {
      "cell_type": "code",
      "source": [
        "scores = cross_val_score(GridSearchCV(SVC(), param_grid=param_grid, cv=5),\n",
        "                iris.data, iris.target, cv=5)"
      ],
      "metadata": {
        "id": "H6QDD2pw0rUo"
      },
      "execution_count": 116,
      "outputs": []
    },
    {
      "cell_type": "code",
      "source": [
        "scores"
      ],
      "metadata": {
        "colab": {
          "base_uri": "https://localhost:8080/"
        },
        "id": "Hg4AXIJf6D59",
        "outputId": "b6bb5b61-2156-49f1-98df-e325468213d1"
      },
      "execution_count": 117,
      "outputs": [
        {
          "output_type": "execute_result",
          "data": {
            "text/plain": [
              "array([0.96666667, 1.        , 0.96666667, 0.96666667, 1.        ])"
            ]
          },
          "metadata": {},
          "execution_count": 117
        }
      ]
    },
    {
      "cell_type": "code",
      "source": [
        "scores.mean()"
      ],
      "metadata": {
        "colab": {
          "base_uri": "https://localhost:8080/"
        },
        "id": "SxFa_5ny-kUQ",
        "outputId": "f0a01e38-f95f-457e-c1fa-584bb2becf1b"
      },
      "execution_count": 118,
      "outputs": [
        {
          "output_type": "execute_result",
          "data": {
            "text/plain": [
              "0.9800000000000001"
            ]
          },
          "metadata": {},
          "execution_count": 118
        }
      ]
    },
    {
      "cell_type": "markdown",
      "source": [
        "## **Evaluation Metrics and Scoring**\n",
        "\n",
        "Jusqu'à présent, nous avons évalué les performances de classification en utilisant la précision (la fraction de\n",
        "échantillons correctement classés) et les performances de régression en utilisant R 2 . Cependant, ce sont\n",
        "seulement deux des nombreuses façons possibles de résumer les performances d'un modèle supervisé sur un ensemble de données donné. En pratique, ces métriques d'évaluation peuvent ne pas être appropriées pour votre application, et il est important de choisir la bonne métrique lors de la sélection\n",
        "entre les modèles et les paramètres de réglage.\n",
        "\n",
        "#### **Keep the End Goal in Mind**\n",
        "\n",
        "Lors de la sélection d'une métrique, vous devez toujours avoir à l'esprit l'objectif final de l'application d'apprentissage automatique. En pratique, nous sommes généralement intéressés non seulement à faire\n",
        "prévisions exactes, mais en utilisant ces prévisions dans le cadre d'un processus décisionnel plus large. Avant de choisir une métrique de machine learning, vous devez réfléchir à\n",
        "l'objectif de haut niveau de l'application, souvent appelé **métrique métier(metric business)**.\n",
        "\n",
        "Les conséquances de choisir un algo de machine learning sont appelés:\n",
        "**Business impact**\n",
        "\n",
        "\n",
        "### **Metrics for Binaray Classification**\n",
        "\n"
      ],
      "metadata": {
        "id": "_6OhJfogCmMU"
      }
    },
    {
      "cell_type": "code",
      "source": [
        "from sklearn.datasets import load_digits"
      ],
      "metadata": {
        "id": "_Dm7bHpi-nLj"
      },
      "execution_count": 1,
      "outputs": []
    },
    {
      "cell_type": "code",
      "source": [
        "digits = load_digits()"
      ],
      "metadata": {
        "id": "2po75NGgfK-L"
      },
      "execution_count": 3,
      "outputs": []
    },
    {
      "cell_type": "code",
      "source": [
        "import matplotlib.pyplot as plt, pandas as pd, numpy as np\n",
        "\n",
        "plt.imshow(digits.images[0])"
      ],
      "metadata": {
        "colab": {
          "base_uri": "https://localhost:8080/",
          "height": 282
        },
        "id": "AfCio6bkfMsK",
        "outputId": "4f8ec4e4-b162-46af-f21d-55a3d04600d7"
      },
      "execution_count": 6,
      "outputs": [
        {
          "output_type": "execute_result",
          "data": {
            "text/plain": [
              "<matplotlib.image.AxesImage at 0x7fd611c48710>"
            ]
          },
          "metadata": {},
          "execution_count": 6
        },
        {
          "output_type": "display_data",
          "data": {
            "image/png": "[encoded data removed]",
            "text/plain": [
              "<Figure size 432x288 with 1 Axes>"
            ]
          },
          "metadata": {
            "needs_background": "light"
          }
        }
      ]
    },
    {
      "cell_type": "code",
      "source": [
        "!pip install mglearn"
      ],
      "metadata": {
        "colab": {
          "base_uri": "https://localhost:8080/"
        },
        "id": "44kTTSR8fRMS",
        "outputId": "05dacac1-4475-4dde-e0a3-fa092e3f3409"
      },
      "execution_count": 7,
      "outputs": [
        {
          "output_type": "stream",
          "name": "stdout",
          "text": [
            "Collecting mglearn\n",
            "  Downloading mglearn-0.1.9.tar.gz (540 kB)\n",
            "\u001b[K     |████████████████████████████████| 540 kB 4.2 MB/s \n",
            "\u001b[?25hRequirement already satisfied: numpy in /usr/local/lib/python3.7/dist-packages (from mglearn) (1.21.5)\n",
            "Requirement already satisfied: matplotlib in /usr/local/lib/python3.7/dist-packages (from mglearn) (3.2.2)\n",
            "Requirement already satisfied: scikit-learn in /usr/local/lib/python3.7/dist-packages (from mglearn) (1.0.2)\n",
            "Requirement already satisfied: pandas in /usr/local/lib/python3.7/dist-packages (from mglearn) (1.3.5)\n",
            "Requirement already satisfied: pillow in /usr/local/lib/python3.7/dist-packages (from mglearn) (7.1.2)\n",
            "Requirement already satisfied: cycler in /usr/local/lib/python3.7/dist-packages (from mglearn) (0.11.0)\n",
            "Requirement already satisfied: imageio in /usr/local/lib/python3.7/dist-packages (from mglearn) (2.4.1)\n",
            "Requirement already satisfied: joblib in /usr/local/lib/python3.7/dist-packages (from mglearn) (1.1.0)\n",
            "Requirement already satisfied: pyparsing!=2.0.4,!=2.1.2,!=2.1.6,>=2.0.1 in /usr/local/lib/python3.7/dist-packages (from matplotlib->mglearn) (3.0.7)\n",
            "Requirement already satisfied: python-dateutil>=2.1 in /usr/local/lib/python3.7/dist-packages (from matplotlib->mglearn) (2.8.2)\n",
            "Requirement already satisfied: kiwisolver>=1.0.1 in /usr/local/lib/python3.7/dist-packages (from matplotlib->mglearn) (1.3.2)\n",
            "Requirement already satisfied: six>=1.5 in /usr/local/lib/python3.7/dist-packages (from python-dateutil>=2.1->matplotlib->mglearn) (1.15.0)\n",
            "Requirement already satisfied: pytz>=2017.3 in /usr/local/lib/python3.7/dist-packages (from pandas->mglearn) (2018.9)\n",
            "Requirement already satisfied: threadpoolctl>=2.0.0 in /usr/local/lib/python3.7/dist-packages (from scikit-learn->mglearn) (3.1.0)\n",
            "Requirement already satisfied: scipy>=1.1.0 in /usr/local/lib/python3.7/dist-packages (from scikit-learn->mglearn) (1.4.1)\n",
            "Building wheels for collected packages: mglearn\n",
            "  Building wheel for mglearn (setup.py) ... \u001b[?25l\u001b[?25hdone\n",
            "  Created wheel for mglearn: filename=mglearn-0.1.9-py2.py3-none-any.whl size=582639 sha256=2a0ace0fa98a4c4193d94b1be1bbadf89b9fbf38b204ebb6ab954b4efe774ad3\n",
            "  Stored in directory: /root/.cache/pip/wheels/f1/17/e1/1720d6dcd70187b6b6c3750cb3508798f2b1d57c9d3214b08b\n",
            "Successfully built mglearn\n",
            "Installing collected packages: mglearn\n",
            "Successfully installed mglearn-0.1.9\n"
          ]
        }
      ]
    },
    {
      "cell_type": "code",
      "source": [
        "digits.target"
      ],
      "metadata": {
        "colab": {
          "base_uri": "https://localhost:8080/"
        },
        "id": "SmGk6rFdflVT",
        "outputId": "77519871-5aa8-4219-8723-d3181ef42441"
      },
      "execution_count": 8,
      "outputs": [
        {
          "output_type": "execute_result",
          "data": {
            "text/plain": [
              "array([0, 1, 2, ..., 8, 9, 8])"
            ]
          },
          "metadata": {},
          "execution_count": 8
        }
      ]
    },
    {
      "cell_type": "code",
      "source": [
        "y = digits.target == 9\n",
        "y"
      ],
      "metadata": {
        "colab": {
          "base_uri": "https://localhost:8080/"
        },
        "id": "xUTw7b7NfrtB",
        "outputId": "5de38764-998b-4be0-9235-3bebf68b59b3"
      },
      "execution_count": 10,
      "outputs": [
        {
          "output_type": "execute_result",
          "data": {
            "text/plain": [
              "array([False, False, False, ..., False,  True, False])"
            ]
          },
          "metadata": {},
          "execution_count": 10
        }
      ]
    },
    {
      "cell_type": "code",
      "source": [
        "from sklearn.model_selection import train_test_split\n",
        "\n",
        "X_train, X_test, y_train, y_test = train_test_split(digits.data, y, random_state=0)"
      ],
      "metadata": {
        "id": "NyKjAdXPfzlE"
      },
      "execution_count": 12,
      "outputs": []
    },
    {
      "cell_type": "markdown",
      "source": [
        "On va à présent utiliser l'algorithme **DummyClassifier** Pour classer la classe la plus majoritaire"
      ],
      "metadata": {
        "id": "ytbYQKBsgX_t"
      }
    },
    {
      "cell_type": "code",
      "source": [
        "from sklearn.dummy import DummyClassifier"
      ],
      "metadata": {
        "id": "S86o5UnvgGnu"
      },
      "execution_count": 13,
      "outputs": []
    },
    {
      "cell_type": "code",
      "source": [
        "dummy_majority = DummyClassifier(strategy='most_frequent').fit(X_train, y_train)\n",
        "\n",
        "pred_most_frequent = dummy_majority.predict(X_test)"
      ],
      "metadata": {
        "id": "SoFp5bjWgqP0"
      },
      "execution_count": 16,
      "outputs": []
    },
    {
      "cell_type": "code",
      "source": [
        "np.unique(pred_most_frequent)"
      ],
      "metadata": {
        "colab": {
          "base_uri": "https://localhost:8080/"
        },
        "id": "HLx457NhhkgV",
        "outputId": "9d87afb4-1fcd-4228-b4cf-1ae39d055c16"
      },
      "execution_count": 17,
      "outputs": [
        {
          "output_type": "execute_result",
          "data": {
            "text/plain": [
              "array([False])"
            ]
          },
          "metadata": {},
          "execution_count": 17
        }
      ]
    },
    {
      "cell_type": "code",
      "source": [
        "print(\"Test score\", dummy_majority.score(X_test, y_test))"
      ],
      "metadata": {
        "colab": {
          "base_uri": "https://localhost:8080/"
        },
        "id": "sEWiUw-5htRn",
        "outputId": "be223d7d-a7c2-4bb9-d6c3-fffdd9d3acf2"
      },
      "execution_count": 18,
      "outputs": [
        {
          "output_type": "stream",
          "name": "stdout",
          "text": [
            "Test score 0.8955555555555555\n"
          ]
        }
      ]
    },
    {
      "cell_type": "code",
      "source": [
        "#Compare with other Classifier\n",
        "from sklearn.tree import DecisionTreeClassifier"
      ],
      "metadata": {
        "id": "epMxCGXoh3Pi"
      },
      "execution_count": 20,
      "outputs": []
    },
    {
      "cell_type": "code",
      "source": [
        "tree = DecisionTreeClassifier(max_depth=2).fit(X_train, y_train)"
      ],
      "metadata": {
        "id": "lYI8EfbUiMv8"
      },
      "execution_count": 21,
      "outputs": []
    },
    {
      "cell_type": "code",
      "source": [
        "pred_tree = tree.predict(X_test)"
      ],
      "metadata": {
        "id": "67cWKM8ziVlx"
      },
      "execution_count": 22,
      "outputs": []
    },
    {
      "cell_type": "code",
      "source": [
        "print(\"Test score with tree: \", tree.score(X_test, y_test))"
      ],
      "metadata": {
        "colab": {
          "base_uri": "https://localhost:8080/"
        },
        "id": "eE1BgAariaBD",
        "outputId": "fa216521-32d2-4de8-b52d-f8d0f121637a"
      },
      "execution_count": 23,
      "outputs": [
        {
          "output_type": "stream",
          "name": "stdout",
          "text": [
            "Test score with tree:  0.9177777777777778\n"
          ]
        }
      ]
    },
    {
      "cell_type": "code",
      "source": [
        "# comparing with linear model\n",
        "from sklearn.linear_model import LogisticRegression"
      ],
      "metadata": {
        "id": "IK55bK2mihMd"
      },
      "execution_count": 24,
      "outputs": []
    },
    {
      "cell_type": "code",
      "source": [
        "dummy = DummyClassifier().fit(X_train, y_train)\n",
        "pred_dummy = dummy.predict(X_test)\n",
        "print(\"dummy score: \", dummy.score(X_test, y_test))\n",
        "\n",
        "logreg = LogisticRegression(max_iter=1000).fit(X_train, y_train)\n",
        "pred_logreg = logreg.predict(X_test)\n",
        "print(\"logreg score:\", logreg.score(X_test, y_test))"
      ],
      "metadata": {
        "colab": {
          "base_uri": "https://localhost:8080/"
        },
        "id": "rhzgJXgHi-Ae",
        "outputId": "57c1ba70-a5db-41f9-8273-255762ebdf5f"
      },
      "execution_count": 27,
      "outputs": [
        {
          "output_type": "stream",
          "name": "stdout",
          "text": [
            "dummy score:  0.8955555555555555\n",
            "logreg score: 0.98\n"
          ]
        }
      ]
    },
    {
      "cell_type": "markdown",
      "source": [
        "###### **Matrices de confusion**\n",
        "\n",
        "L'une des façons les plus complètes de représenter le résultat de l'évaluation de la classification binaire consiste à utiliser des matrices de confusion. Inspectons les prédictions de LogisticRegres\n",
        "sion de la section précédente à l'aide de la fonction **confusion_matrix**. Nous avons déjà\n",
        "stocké les prédictions sur le jeu de test dans pred_logreg :"
      ],
      "metadata": {
        "id": "q0mIwpick4Dq"
      }
    },
    {
      "cell_type": "code",
      "source": [
        ""
      ],
      "metadata": {
        "id": "scec938JjLgV"
      },
      "execution_count": 30,
      "outputs": []
    },
    {
      "cell_type": "code",
      "source": [
        ""
      ],
      "metadata": {
        "id": "Vh-yt8b9na1B"
      },
      "execution_count": null,
      "outputs": []
    }
  ],
  "metadata": {
    "colab": {
      "name": "ModelEvaluation.ipynb",
      "provenance": [],
      "collapsed_sections": [],
      "include_colab_link": true
    },
    "kernelspec": {
      "display_name": "Python 3",
      "language": "python",
      "name": "python3"
    },
    "language_info": {
      "codemirror_mode": {
        "name": "ipython",
        "version": 3
      },
      "file_extension": ".py",
      "mimetype": "text/x-python",
      "name": "python",
      "nbconvert_exporter": "python",
      "pygments_lexer": "ipython3",
      "version": "3.8.10"
    }
  },
  "nbformat": 4,
  "nbformat_minor": 0
}