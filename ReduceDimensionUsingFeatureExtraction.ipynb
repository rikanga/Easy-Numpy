{
  "nbformat": 4,
  "nbformat_minor": 0,
  "metadata": {
    "colab": {
      "name": "ReduceDimensionUsingFeatureExtraction",
      "provenance": [],
      "authorship_tag": "ABX9TyM5rNfadlnUc68pgu+hEglV",
      "include_colab_link": true
    },
    "kernelspec": {
      "name": "python3",
      "display_name": "Python 3"
    },
    "language_info": {
      "name": "python"
    }
  },
  "cells": [
    {
      "cell_type": "markdown",
      "metadata": {
        "id": "view-in-github",
        "colab_type": "text"
      },
      "source": [
        "<a href=\"https://colab.research.google.com/github/rikanga/Easy-Numpy/blob/main/ReduceDimensionUsingFeatureExtraction.ipynb\" target=\"_parent\"><img src=\"https://colab.research.google.com/assets/colab-badge.svg\" alt=\"Open In Colab\"/></a>"
      ]
    },
    {
      "cell_type": "markdown",
      "source": [
        "# **Dimensionality Reducction Using Feature Extraction**\n",
        "\n",
        "\n",
        "## 9.1 Reducing Features Using Principal Components\n",
        "\n",
        "**Probelm**\n",
        "\n",
        "Étant donné un ensemble de fonctionnalités, vous souhaitez réduire le nombre de fonctionnalités tout en conservant le\n",
        "variance dans les données.\n",
        "\n",
        "**Solution**\n",
        " Nous allons utiliser **Principal Component Analysis** du module **sklearn.decomposition**"
      ],
      "metadata": {
        "id": "wRcHD1J1mBBu"
      }
    },
    {
      "cell_type": "code",
      "execution_count": 1,
      "metadata": {
        "id": "rRm2mWnEldTO"
      },
      "outputs": [],
      "source": [
        "# Load libraries\n",
        "import numpy as np, pandas as pd, matplotlib.pyplot as plt"
      ]
    },
    {
      "cell_type": "code",
      "source": [
        "# Load other libraries\n",
        "from sklearn.preprocessing import StandardScaler\n",
        "from sklearn.decomposition import PCA\n",
        "from sklearn import datasets"
      ],
      "metadata": {
        "id": "p0QHHMTYm4hh"
      },
      "execution_count": 2,
      "outputs": []
    },
    {
      "cell_type": "code",
      "source": [
        "# Load data\n",
        "digits = datasets.load_digits()"
      ],
      "metadata": {
        "id": "LuQC8d_Qna6Y"
      },
      "execution_count": 3,
      "outputs": []
    },
    {
      "cell_type": "code",
      "source": [
        "# Standardize the data\n",
        "features = StandardScaler().fit_transform(digits.data)"
      ],
      "metadata": {
        "id": "qzD3tivRn9hv"
      },
      "execution_count": 4,
      "outputs": []
    },
    {
      "cell_type": "code",
      "source": [
        "# Create a PCA will retain 99% of variance\n",
        "pca = PCA(n_components=0.99, whiten=True)"
      ],
      "metadata": {
        "id": "K48OQLLnoP45"
      },
      "execution_count": 6,
      "outputs": []
    },
    {
      "cell_type": "code",
      "source": [
        "# Conduct PCA\n",
        "features_pca = pca.fit_transform(features)"
      ],
      "metadata": {
        "id": "2ZYX33DVpBDk"
      },
      "execution_count": 7,
      "outputs": []
    },
    {
      "cell_type": "code",
      "source": [
        "# Show results\n",
        "print(\"Original number of features: {}\".format(features.shape))\n",
        "print(\"Reduced number of features: {}\".format(features_pca.shape))"
      ],
      "metadata": {
        "colab": {
          "base_uri": "https://localhost:8080/"
        },
        "id": "72r-U7M8p4kO",
        "outputId": "1565c580-d888-4278-9c50-6749c762bebd"
      },
      "execution_count": 8,
      "outputs": [
        {
          "output_type": "stream",
          "name": "stdout",
          "text": [
            "Original number of features: (1797, 64)\n",
            "Reduced number of features: (1797, 54)\n"
          ]
        }
      ]
    },
    {
      "cell_type": "code",
      "source": [
        "PCA(n_components=2).fit_transform(features).shape"
      ],
      "metadata": {
        "colab": {
          "base_uri": "https://localhost:8080/"
        },
        "id": "W0VGEN6lqMKt",
        "outputId": "df1285c8-eab2-4fbc-afbe-fca4ef23a91d"
      },
      "execution_count": 15,
      "outputs": [
        {
          "output_type": "execute_result",
          "data": {
            "text/plain": [
              "(1797, 2)"
            ]
          },
          "metadata": {},
          "execution_count": 15
        }
      ]
    },
    {
      "cell_type": "markdown",
      "source": [
        "L'analyse en composantes principales (ACP) est une réduction de dimensionnalité linéaire populaire\n",
        "technique. L'ACP projette des observations sur les composants principaux (espérons-le moins nombreux) de la matrice de caractéristiques qui conservent le plus de variance. PCA est un\n",
        "technique, ce qui signifie qu'il n'utilise pas les informations du vecteur cible et\n",
        "à la place, ne considère que la matrice de fonctionnalités.\n",
        "\n",
        "* **whiten=True**: Transform les données pour avoir une moyenne de 0 et une variance de 1 qsur chaque caractéristique"
      ],
      "metadata": {
        "id": "yj406nB5q3kk"
      }
    },
    {
      "cell_type": "markdown",
      "source": [
        "## 9.2 Reducing Features When Data Is Linearly Inseparable\n",
        "\n",
        "**Problem**\n",
        "\n",
        "You suspect you have linearly inseparable data and want to reduce the dimensions.\n",
        "\n",
        "**Solution**\n",
        "\n",
        "Use an extension of principal component analysis that uses kernels to allow for nonlinear dimensionality reduction:"
      ],
      "metadata": {
        "id": "ZpI66RXWv1XA"
      }
    },
    {
      "cell_type": "code",
      "source": [
        "# Load libraries\n",
        "from sklearn.decomposition import KernelPCA\n",
        "from sklearn.datasets import make_circles"
      ],
      "metadata": {
        "id": "jfoK4qiyqXxW"
      },
      "execution_count": 17,
      "outputs": []
    },
    {
      "cell_type": "code",
      "source": [
        "# Create linearly inseparable features\n",
        "features, _ = make_circles(n_samples=1000, random_state=0, noise=0.1, factor=0.1)"
      ],
      "metadata": {
        "id": "LYCeDFqlwQxM"
      },
      "execution_count": 18,
      "outputs": []
    },
    {
      "cell_type": "code",
      "source": [
        "plt.scatter(features[:, 0], features[:, 1]); plt.axis('off'); plt.show()"
      ],
      "metadata": {
        "colab": {
          "base_uri": "https://localhost:8080/",
          "height": 248
        },
        "id": "9vtf9e216lHM",
        "outputId": "a5c475f1-7e07-461a-d928-f05da64d01b3"
      },
      "execution_count": 23,
      "outputs": [
        {
          "output_type": "display_data",
          "data": {
            "text/plain": [
              "<Figure size 432x288 with 1 Axes>"
            ],
            "image/png": "[encoded data removed]"
          },
          "metadata": {
            "needs_background": "light"
          }
        }
      ]
    },
    {
      "cell_type": "code",
      "source": [
        "# Apply PCA with radius basic function (RBF) kernel\n",
        "kpca = KernelPCA(n_components=1, kernel='rbf', gamma=15)"
      ],
      "metadata": {
        "id": "79s75gjKwe0-"
      },
      "execution_count": 19,
      "outputs": []
    },
    {
      "cell_type": "code",
      "source": [
        "# Transform features\n",
        "features_kpca = kpca.fit_transform(features)"
      ],
      "metadata": {
        "id": "94ABRmwuxqTs"
      },
      "execution_count": 20,
      "outputs": []
    },
    {
      "cell_type": "code",
      "source": [
        "# Show output\n",
        "print(\"Originl number of features: {}\".format(features.shape))\n",
        "print(\"Reduced number of features: {}\".format(features_kpca.shape))"
      ],
      "metadata": {
        "colab": {
          "base_uri": "https://localhost:8080/"
        },
        "id": "0JHj6DOF4o2P",
        "outputId": "a09957ec-1bfe-4bac-c91c-24854716b197"
      },
      "execution_count": 21,
      "outputs": [
        {
          "output_type": "stream",
          "name": "stdout",
          "text": [
            "Originl number of features: (1000, 2)\n",
            "Reduced number of features: (1000, 1)\n"
          ]
        }
      ]
    },
    {
      "cell_type": "markdown",
      "source": [
        "## 9.3 Reducing Features by Maximizing Class Separability"
      ],
      "metadata": {
        "id": "uDr9J-bT7kqv"
      }
    },
    {
      "cell_type": "code",
      "source": [
        ""
      ],
      "metadata": {
        "id": "5I1O-dXh6JEr"
      },
      "execution_count": null,
      "outputs": []
    }
  ]
}