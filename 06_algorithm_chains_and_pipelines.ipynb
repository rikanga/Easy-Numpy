{
  "cells": [
    {
      "cell_type": "markdown",
      "metadata": {
        "id": "view-in-github",
        "colab_type": "text"
      },
      "source": [
        "<a href=\"https://colab.research.google.com/github/rikanga/Easy-Numpy/blob/main/06_algorithm_chains_and_pipelines.ipynb\" target=\"_parent\"><img src=\"https://colab.research.google.com/assets/colab-badge.svg\" alt=\"Open In Colab\"/></a>"
      ]
    },
    {
      "cell_type": "code",
      "execution_count": 1,
      "metadata": {
        "hide_input": false,
        "colab": {
          "base_uri": "https://localhost:8080/"
        },
        "id": "kqmWsoYphiN_",
        "outputId": "c9d82b5e-e204-4bb4-d080-0b5534b036da"
      },
      "outputs": [
        {
          "output_type": "stream",
          "name": "stdout",
          "text": [
            "Collecting mglearn\n",
            "  Downloading mglearn-0.1.9.tar.gz (540 kB)\n",
            "\u001b[?25l\r\u001b[K     |▋                               | 10 kB 24.8 MB/s eta 0:00:01\r\u001b[K     |█▏                              | 20 kB 28.9 MB/s eta 0:00:01\r\u001b[K     |█▉                              | 30 kB 31.9 MB/s eta 0:00:01\r\u001b[K     |██▍                             | 40 kB 34.2 MB/s eta 0:00:01\r\u001b[K     |███                             | 51 kB 21.8 MB/s eta 0:00:01\r\u001b[K     |███▋                            | 61 kB 23.6 MB/s eta 0:00:01\r\u001b[K     |████▎                           | 71 kB 24.9 MB/s eta 0:00:01\r\u001b[K     |████▉                           | 81 kB 25.2 MB/s eta 0:00:01\r\u001b[K     |█████▌                          | 92 kB 27.1 MB/s eta 0:00:01\r\u001b[K     |██████                          | 102 kB 26.7 MB/s eta 0:00:01\r\u001b[K     |██████▊                         | 112 kB 26.7 MB/s eta 0:00:01\r\u001b[K     |███████▎                        | 122 kB 26.7 MB/s eta 0:00:01\r\u001b[K     |███████▉                        | 133 kB 26.7 MB/s eta 0:00:01\r\u001b[K     |████████▌                       | 143 kB 26.7 MB/s eta 0:00:01\r\u001b[K     |█████████                       | 153 kB 26.7 MB/s eta 0:00:01\r\u001b[K     |█████████▊                      | 163 kB 26.7 MB/s eta 0:00:01\r\u001b[K     |██████████▎                     | 174 kB 26.7 MB/s eta 0:00:01\r\u001b[K     |███████████                     | 184 kB 26.7 MB/s eta 0:00:01\r\u001b[K     |███████████▌                    | 194 kB 26.7 MB/s eta 0:00:01\r\u001b[K     |████████████▏                   | 204 kB 26.7 MB/s eta 0:00:01\r\u001b[K     |████████████▊                   | 215 kB 26.7 MB/s eta 0:00:01\r\u001b[K     |█████████████▍                  | 225 kB 26.7 MB/s eta 0:00:01\r\u001b[K     |██████████████                  | 235 kB 26.7 MB/s eta 0:00:01\r\u001b[K     |██████████████▋                 | 245 kB 26.7 MB/s eta 0:00:01\r\u001b[K     |███████████████▏                | 256 kB 26.7 MB/s eta 0:00:01\r\u001b[K     |███████████████▊                | 266 kB 26.7 MB/s eta 0:00:01\r\u001b[K     |████████████████▍               | 276 kB 26.7 MB/s eta 0:00:01\r\u001b[K     |█████████████████               | 286 kB 26.7 MB/s eta 0:00:01\r\u001b[K     |█████████████████▋              | 296 kB 26.7 MB/s eta 0:00:01\r\u001b[K     |██████████████████▏             | 307 kB 26.7 MB/s eta 0:00:01\r\u001b[K     |██████████████████▉             | 317 kB 26.7 MB/s eta 0:00:01\r\u001b[K     |███████████████████▍            | 327 kB 26.7 MB/s eta 0:00:01\r\u001b[K     |████████████████████            | 337 kB 26.7 MB/s eta 0:00:01\r\u001b[K     |████████████████████▋           | 348 kB 26.7 MB/s eta 0:00:01\r\u001b[K     |█████████████████████▎          | 358 kB 26.7 MB/s eta 0:00:01\r\u001b[K     |█████████████████████▉          | 368 kB 26.7 MB/s eta 0:00:01\r\u001b[K     |██████████████████████▌         | 378 kB 26.7 MB/s eta 0:00:01\r\u001b[K     |███████████████████████         | 389 kB 26.7 MB/s eta 0:00:01\r\u001b[K     |███████████████████████▋        | 399 kB 26.7 MB/s eta 0:00:01\r\u001b[K     |████████████████████████▎       | 409 kB 26.7 MB/s eta 0:00:01\r\u001b[K     |████████████████████████▉       | 419 kB 26.7 MB/s eta 0:00:01\r\u001b[K     |█████████████████████████▌      | 430 kB 26.7 MB/s eta 0:00:01\r\u001b[K     |██████████████████████████      | 440 kB 26.7 MB/s eta 0:00:01\r\u001b[K     |██████████████████████████▊     | 450 kB 26.7 MB/s eta 0:00:01\r\u001b[K     |███████████████████████████▎    | 460 kB 26.7 MB/s eta 0:00:01\r\u001b[K     |████████████████████████████    | 471 kB 26.7 MB/s eta 0:00:01\r\u001b[K     |████████████████████████████▌   | 481 kB 26.7 MB/s eta 0:00:01\r\u001b[K     |█████████████████████████████▏  | 491 kB 26.7 MB/s eta 0:00:01\r\u001b[K     |█████████████████████████████▊  | 501 kB 26.7 MB/s eta 0:00:01\r\u001b[K     |██████████████████████████████▍ | 512 kB 26.7 MB/s eta 0:00:01\r\u001b[K     |███████████████████████████████ | 522 kB 26.7 MB/s eta 0:00:01\r\u001b[K     |███████████████████████████████▌| 532 kB 26.7 MB/s eta 0:00:01\r\u001b[K     |████████████████████████████████| 540 kB 26.7 MB/s \n",
            "\u001b[?25hRequirement already satisfied: numpy in /usr/local/lib/python3.7/dist-packages (from mglearn) (1.21.5)\n",
            "Requirement already satisfied: matplotlib in /usr/local/lib/python3.7/dist-packages (from mglearn) (3.2.2)\n",
            "Requirement already satisfied: scikit-learn in /usr/local/lib/python3.7/dist-packages (from mglearn) (1.0.2)\n",
            "Requirement already satisfied: pandas in /usr/local/lib/python3.7/dist-packages (from mglearn) (1.3.5)\n",
            "Requirement already satisfied: pillow in /usr/local/lib/python3.7/dist-packages (from mglearn) (7.1.2)\n",
            "Requirement already satisfied: cycler in /usr/local/lib/python3.7/dist-packages (from mglearn) (0.11.0)\n",
            "Requirement already satisfied: imageio in /usr/local/lib/python3.7/dist-packages (from mglearn) (2.4.1)\n",
            "Requirement already satisfied: joblib in /usr/local/lib/python3.7/dist-packages (from mglearn) (1.1.0)\n",
            "Requirement already satisfied: python-dateutil>=2.1 in /usr/local/lib/python3.7/dist-packages (from matplotlib->mglearn) (2.8.2)\n",
            "Requirement already satisfied: kiwisolver>=1.0.1 in /usr/local/lib/python3.7/dist-packages (from matplotlib->mglearn) (1.3.2)\n",
            "Requirement already satisfied: pyparsing!=2.0.4,!=2.1.2,!=2.1.6,>=2.0.1 in /usr/local/lib/python3.7/dist-packages (from matplotlib->mglearn) (3.0.7)\n",
            "Requirement already satisfied: six>=1.5 in /usr/local/lib/python3.7/dist-packages (from python-dateutil>=2.1->matplotlib->mglearn) (1.15.0)\n",
            "Requirement already satisfied: pytz>=2017.3 in /usr/local/lib/python3.7/dist-packages (from pandas->mglearn) (2018.9)\n",
            "Requirement already satisfied: scipy>=1.1.0 in /usr/local/lib/python3.7/dist-packages (from scikit-learn->mglearn) (1.4.1)\n",
            "Requirement already satisfied: threadpoolctl>=2.0.0 in /usr/local/lib/python3.7/dist-packages (from scikit-learn->mglearn) (3.1.0)\n",
            "Building wheels for collected packages: mglearn\n",
            "  Building wheel for mglearn (setup.py) ... \u001b[?25l\u001b[?25hdone\n",
            "  Created wheel for mglearn: filename=mglearn-0.1.9-py2.py3-none-any.whl size=582639 sha256=68f6099cb7c2cf278e7ca63415cdaa26217cd6a4f854c7a127449a04d52af391\n",
            "  Stored in directory: /root/.cache/pip/wheels/f1/17/e1/1720d6dcd70187b6b6c3750cb3508798f2b1d57c9d3214b08b\n",
            "Successfully built mglearn\n",
            "Installing collected packages: mglearn\n",
            "Successfully installed mglearn-0.1.9\n"
          ]
        }
      ],
      "source": [
        "# from preamble import *\n",
        "# %matplotlib inline\n",
        "import numpy as np, pandas as pd, matplotlib.pyplot as plt\n",
        "!pip install mglearn\n",
        "import mglearn"
      ]
    },
    {
      "cell_type": "markdown",
      "metadata": {
        "id": "AVsWcWI-hiOD"
      },
      "source": [
        "## Algorithm Chains and Pipelines"
      ]
    },
    {
      "cell_type": "code",
      "execution_count": 2,
      "metadata": {
        "id": "RzGMKA24hiOI"
      },
      "outputs": [],
      "source": [
        "from sklearn.svm import SVC\n",
        "from sklearn.datasets import load_breast_cancer\n",
        "from sklearn.model_selection import train_test_split\n",
        "from sklearn.preprocessing import MinMaxScaler"
      ]
    },
    {
      "cell_type": "code",
      "execution_count": 3,
      "metadata": {
        "id": "QMt3VgOBhiOK"
      },
      "outputs": [],
      "source": [
        "cancer = load_breast_cancer()"
      ]
    },
    {
      "cell_type": "code",
      "execution_count": 4,
      "metadata": {
        "id": "EvLu-mY1hiON"
      },
      "outputs": [],
      "source": [
        "# split data into train and test set\n",
        "X_train, X_test, y_train, y_test = train_test_split(cancer.data, cancer.target,\n",
        "                                                   random_state=0)"
      ]
    },
    {
      "cell_type": "code",
      "execution_count": 5,
      "metadata": {
        "id": "SlJPGABwhiOR"
      },
      "outputs": [],
      "source": [
        "# compute minimum and maximum in the training set\n",
        "scaler = MinMaxScaler().fit(X_train)"
      ]
    },
    {
      "cell_type": "code",
      "execution_count": 6,
      "metadata": {
        "id": "5spgbI5ghiOS"
      },
      "outputs": [],
      "source": [
        "X_train_scaled = scaler.transform(X_train)\n",
        "X_test_scaled  = scaler.transform(X_test)"
      ]
    },
    {
      "cell_type": "code",
      "execution_count": 7,
      "metadata": {
        "colab": {
          "base_uri": "https://localhost:8080/"
        },
        "id": "i9vncoOfhiOU",
        "outputId": "6a610805-6444-4aa4-ca9b-5bd541cb3dc1"
      },
      "outputs": [
        {
          "output_type": "execute_result",
          "data": {
            "text/plain": [
              "SVC()"
            ]
          },
          "metadata": {},
          "execution_count": 7
        }
      ],
      "source": [
        "# Building the SVC model\n",
        "svc = SVC()\n",
        "svc.fit(X_train_scaled, y_train)"
      ]
    },
    {
      "cell_type": "code",
      "execution_count": 8,
      "metadata": {
        "colab": {
          "base_uri": "https://localhost:8080/"
        },
        "id": "QrjpLPI8hiOZ",
        "outputId": "95c18acf-629b-409b-b435-963072c9b18f"
      },
      "outputs": [
        {
          "output_type": "stream",
          "name": "stdout",
          "text": [
            "Test score: 0.972\n"
          ]
        }
      ],
      "source": [
        "print(\"Test score: {:.3f}\".format(svc.score(X_test_scaled, y_test)))"
      ]
    },
    {
      "cell_type": "markdown",
      "metadata": {
        "id": "6APwTOyohiOc"
      },
      "source": [
        "### **Parameter Selection with Preprocessing**"
      ]
    },
    {
      "cell_type": "code",
      "execution_count": 9,
      "metadata": {
        "id": "T_RuKPBdhiOd"
      },
      "outputs": [],
      "source": [
        "from sklearn.model_selection import GridSearchCV"
      ]
    },
    {
      "cell_type": "code",
      "execution_count": 10,
      "metadata": {
        "id": "XqNhTE1qhiOf"
      },
      "outputs": [],
      "source": [
        "param_grid = {\n",
        "    'C': [0.001, 0.01, 0.1, 1, 10, 100],\n",
        "    'gamma': [0.001, 0.01, 0.1, 1, 10, 100]\n",
        "}"
      ]
    },
    {
      "cell_type": "code",
      "execution_count": 11,
      "metadata": {
        "id": "n-0I3LbDhiOh"
      },
      "outputs": [],
      "source": [
        "grid = GridSearchCV(SVC(), param_grid=param_grid, cv=5)"
      ]
    },
    {
      "cell_type": "code",
      "execution_count": 12,
      "metadata": {
        "colab": {
          "base_uri": "https://localhost:8080/"
        },
        "id": "1Tggb-AVhiOi",
        "outputId": "4f57d74c-cb2b-436b-ed86-3b380e52cf37"
      },
      "outputs": [
        {
          "output_type": "execute_result",
          "data": {
            "text/plain": [
              "GridSearchCV(cv=5, estimator=SVC(),\n",
              "             param_grid={'C': [0.001, 0.01, 0.1, 1, 10, 100],\n",
              "                         'gamma': [0.001, 0.01, 0.1, 1, 10, 100]})"
            ]
          },
          "metadata": {},
          "execution_count": 12
        }
      ],
      "source": [
        "grid.fit(X_train_scaled, y_train)"
      ]
    },
    {
      "cell_type": "code",
      "execution_count": 13,
      "metadata": {
        "colab": {
          "base_uri": "https://localhost:8080/"
        },
        "id": "1IkB7XtfhiOj",
        "outputId": "46376759-e279-4ee1-9656-09a6665d4bd3"
      },
      "outputs": [
        {
          "output_type": "stream",
          "name": "stdout",
          "text": [
            "Best cross-validaton score! 0.981\n",
            "Best set score 0.972\n",
            "Best paramater {'C': 1, 'gamma': 1}\n"
          ]
        }
      ],
      "source": [
        "print(\"Best cross-validaton score! {:.3f}\".format(grid.best_score_))\n",
        "print(\"Best set score {:.3f}\".format(grid.score(X_test_scaled, y_test)))\n",
        "print(\"Best paramater {}\".format(grid.best_params_))"
      ]
    },
    {
      "cell_type": "code",
      "execution_count": 14,
      "metadata": {
        "colab": {
          "base_uri": "https://localhost:8080/",
          "height": 503
        },
        "id": "6EUD7wnGhiOk",
        "outputId": "fdd3c9f6-7994-4074-c313-abc63353d001"
      },
      "outputs": [
        {
          "output_type": "display_data",
          "data": {
            "image/png": "[encoded data removed]",
            "text/plain": [
              "<Figure size 1080x720 with 2 Axes>"
            ]
          },
          "metadata": {}
        }
      ],
      "source": [
        "mglearn.plots.plot_improper_processing()"
      ]
    },
    {
      "cell_type": "markdown",
      "metadata": {
        "id": "RMOhuzB1hiOm"
      },
      "source": [
        "### **Building Pipelines**\n",
        "\n",
        "Le Pipiline est une classe qui permet le collage de plusieurs étapes de traitement des estimateurs sklearn en une seule étape.\n",
        "\n",
        "Il contient aussi les methodes, fit, predict et score.\n",
        "\n",
        "Le principale usage de Pipeline est le pré-traitement de données enchaîné avec le classificateur"
      ]
    },
    {
      "cell_type": "code",
      "execution_count": 15,
      "metadata": {
        "id": "h6Q_2lyXhiOo"
      },
      "outputs": [],
      "source": [
        "from sklearn.pipeline import Pipeline"
      ]
    },
    {
      "cell_type": "code",
      "execution_count": 16,
      "metadata": {
        "id": "r-xW0yG-hiOo"
      },
      "outputs": [],
      "source": [
        "pipe = Pipeline([('scaler', MinMaxScaler()), ('svc', SVC())])"
      ]
    },
    {
      "cell_type": "markdown",
      "metadata": {
        "id": "dXjcP9TYhiOp"
      },
      "source": [
        "Ici nous avons créé deux étapes:\n",
        "* 'scaler' qui est une instance de MinMaxScler et \n",
        "* 'svc' qui est une instance de SVC()"
      ]
    },
    {
      "cell_type": "code",
      "execution_count": 17,
      "metadata": {
        "colab": {
          "base_uri": "https://localhost:8080/"
        },
        "id": "WhRDLZjAhiOq",
        "outputId": "a3161e40-e71e-421b-e1e4-599573d92cc2"
      },
      "outputs": [
        {
          "output_type": "execute_result",
          "data": {
            "text/plain": [
              "Pipeline(steps=[('scaler', MinMaxScaler()), ('svc', SVC())])"
            ]
          },
          "metadata": {},
          "execution_count": 17
        }
      ],
      "source": [
        "pipe.fit(X_train, y_train)"
      ]
    },
    {
      "cell_type": "markdown",
      "metadata": {
        "id": "juXmKwwbhiOr"
      },
      "source": [
        "Ici la methode **fit** est deux fois utilisée:\n",
        "* D'abord pour s'entrainer les données dans **scaler** qui fait donne leur pré-traitement\n",
        "* Et dans dans **svc** qui récoit les données pré-traitées."
      ]
    },
    {
      "cell_type": "code",
      "execution_count": 18,
      "metadata": {
        "colab": {
          "base_uri": "https://localhost:8080/"
        },
        "id": "AyKfMEZhhiOs",
        "outputId": "4cf5d8f7-9da4-458c-afc9-f22d46400290"
      },
      "outputs": [
        {
          "output_type": "stream",
          "name": "stdout",
          "text": [
            "Test score: 0.972\n"
          ]
        }
      ],
      "source": [
        "print(\"Test score: {:.3f}\".format(pipe.score(X_test, y_test)))"
      ]
    },
    {
      "cell_type": "markdown",
      "metadata": {
        "id": "1UiMhWcRhiOt"
      },
      "source": [
        "Ici aussi, en appele la methode **score**, d'abord **scaler** qui fait le pré-traitement de test set et puis on appele enfin la methode **score** de svc qui nous donne sa performance"
      ]
    },
    {
      "cell_type": "markdown",
      "metadata": {
        "id": "8n3kvLmNhiOu"
      },
      "source": [
        "### **Using Pipelines in Grid Searches**"
      ]
    },
    {
      "cell_type": "code",
      "execution_count": 19,
      "metadata": {
        "id": "HhYmvev5hiOu"
      },
      "outputs": [],
      "source": [
        "param_grid = {\n",
        "    \"svc__C\": [0.001, 0.01, 0.1, 1, 10, 100],\n",
        "    \"svc__gamma\": [0.001, 0.01, 0.1, 1, 10, 100]\n",
        "}"
      ]
    },
    {
      "cell_type": "code",
      "execution_count": 20,
      "metadata": {
        "id": "GbbEdJ3PhiOv"
      },
      "outputs": [],
      "source": [
        "grid = GridSearchCV(pipe, param_grid=param_grid, cv=5)"
      ]
    },
    {
      "cell_type": "code",
      "execution_count": 21,
      "metadata": {
        "colab": {
          "base_uri": "https://localhost:8080/"
        },
        "id": "o1eZT2VchiOw",
        "outputId": "6b0e379d-20df-440c-c368-918f388e6195"
      },
      "outputs": [
        {
          "output_type": "execute_result",
          "data": {
            "text/plain": [
              "GridSearchCV(cv=5,\n",
              "             estimator=Pipeline(steps=[('scaler', MinMaxScaler()),\n",
              "                                       ('svc', SVC())]),\n",
              "             param_grid={'svc__C': [0.001, 0.01, 0.1, 1, 10, 100],\n",
              "                         'svc__gamma': [0.001, 0.01, 0.1, 1, 10, 100]})"
            ]
          },
          "metadata": {},
          "execution_count": 21
        }
      ],
      "source": [
        "grid.fit(X_train, y_train)"
      ]
    },
    {
      "cell_type": "code",
      "execution_count": 22,
      "metadata": {
        "colab": {
          "base_uri": "https://localhost:8080/"
        },
        "id": "BF39lCW9hiOw",
        "outputId": "fdfd2199-7d1c-46b0-c421-abef76d3ada3"
      },
      "outputs": [
        {
          "output_type": "stream",
          "name": "stdout",
          "text": [
            "Best cross-validation sccuracy: 0.981\n",
            "Best Test set score: 0.972\n",
            "Best parameter: {'svc__C': 1, 'svc__gamma': 1}\n"
          ]
        }
      ],
      "source": [
        "print(\"Best cross-validation sccuracy: {:.3f}\".format(grid.best_score_))\n",
        "print(\"Best Test set score: {:.3f}\".format(grid.score(X_test, y_test)))\n",
        "print(\"Best parameter: {}\".format(grid.best_params_))"
      ]
    },
    {
      "cell_type": "code",
      "execution_count": 23,
      "metadata": {
        "colab": {
          "base_uri": "https://localhost:8080/",
          "height": 54
        },
        "id": "h1BtA1g8hiOw",
        "outputId": "2495a84d-b6ab-451a-f3ff-144daa063138"
      },
      "outputs": [
        {
          "output_type": "display_data",
          "data": {
            "image/png": "[encoded data removed]",
            "text/plain": [
              "<Figure size 1080x576 with 2 Axes>"
            ]
          },
          "metadata": {}
        }
      ],
      "source": [
        "mglearn.plots.plot_proper_processing()"
      ]
    },
    {
      "cell_type": "markdown",
      "metadata": {
        "id": "0gmvBDEphiOx"
      },
      "source": [
        "### **Illustrating Information Leakage**\n",
        "\n",
        "Fuite d'informations dans la validation croisée.\n",
        "\n",
        "La fuite d'information dans la validation croisée varie en fonction de l'étape de pré-traitement"
      ]
    },
    {
      "cell_type": "code",
      "execution_count": 24,
      "metadata": {
        "id": "AV9KaNURhiOx"
      },
      "outputs": [],
      "source": [
        "rnd = np.random.RandomState(seed=0)"
      ]
    },
    {
      "cell_type": "code",
      "execution_count": 25,
      "metadata": {
        "id": "Hb7SOEz3hiOy"
      },
      "outputs": [],
      "source": [
        "X = rnd.normal(size=(100, 1000))\n",
        "y = rnd.normal(size=(100,))"
      ]
    },
    {
      "cell_type": "markdown",
      "metadata": {
        "id": "NIxmoca2hiOy"
      },
      "source": [
        "**Selecting the most informative features**"
      ]
    },
    {
      "cell_type": "code",
      "execution_count": 26,
      "metadata": {
        "id": "20DYHLP7hiOz"
      },
      "outputs": [],
      "source": [
        "from sklearn.feature_selection import SelectPercentile, f_regression"
      ]
    },
    {
      "cell_type": "code",
      "execution_count": 27,
      "metadata": {
        "id": "x7UWvCUEhiOz"
      },
      "outputs": [],
      "source": [
        "select = SelectPercentile(score_func=f_regression, percentile=5).fit(X, y)"
      ]
    },
    {
      "cell_type": "code",
      "execution_count": 28,
      "metadata": {
        "id": "zrzKXIcDhiO0"
      },
      "outputs": [],
      "source": [
        "from sklearn.model_selection import cross_val_score\n",
        "from sklearn.linear_model import Ridge"
      ]
    },
    {
      "cell_type": "code",
      "execution_count": 29,
      "metadata": {
        "id": "bUq8znrwhiO0"
      },
      "outputs": [],
      "source": [
        "X_selected = select.transform(X)"
      ]
    },
    {
      "cell_type": "code",
      "execution_count": 30,
      "metadata": {
        "colab": {
          "base_uri": "https://localhost:8080/"
        },
        "id": "ZKiRobQihiO0",
        "outputId": "fde48376-f454-4faa-de6d-ddbdae8a3a8a"
      },
      "outputs": [
        {
          "output_type": "execute_result",
          "data": {
            "text/plain": [
              "((100, 50), (100,))"
            ]
          },
          "metadata": {},
          "execution_count": 30
        }
      ],
      "source": [
        "X_selected.shape, y.shape"
      ]
    },
    {
      "cell_type": "code",
      "execution_count": 31,
      "metadata": {
        "colab": {
          "base_uri": "https://localhost:8080/"
        },
        "id": "Lsd6GnL4hiO1",
        "outputId": "29461817-c635-4cb3-8b08-0912d2a9eb72"
      },
      "outputs": [
        {
          "output_type": "execute_result",
          "data": {
            "text/plain": [
              "0.345477308247069"
            ]
          },
          "metadata": {},
          "execution_count": 31
        }
      ],
      "source": [
        "np.mean(cross_val_score(Ridge(), X_selected, y, cv=5))"
      ]
    },
    {
      "cell_type": "code",
      "execution_count": 32,
      "metadata": {
        "id": "KKkTtK_hhiO2"
      },
      "outputs": [],
      "source": [
        "#Test with pipeline\n",
        "pipe = Pipeline([\n",
        "    ('select', SelectPercentile(score_func=f_regression, percentile=5)),\n",
        "    ('riddge', Ridge())\n",
        "])"
      ]
    },
    {
      "cell_type": "code",
      "execution_count": 33,
      "metadata": {
        "colab": {
          "base_uri": "https://localhost:8080/"
        },
        "id": "qqvOxtzGhiO3",
        "outputId": "e0160bae-1692-4f3d-ac12-10ad2849054f"
      },
      "outputs": [
        {
          "output_type": "execute_result",
          "data": {
            "text/plain": [
              "Pipeline(steps=[('select',\n",
              "                 SelectPercentile(percentile=5,\n",
              "                                  score_func=<function f_regression at 0x7f33fbfad320>)),\n",
              "                ('riddge', Ridge())])"
            ]
          },
          "metadata": {},
          "execution_count": 33
        }
      ],
      "source": [
        "pipe.fit(X_selected, y)"
      ]
    },
    {
      "cell_type": "code",
      "execution_count": 34,
      "metadata": {
        "colab": {
          "base_uri": "https://localhost:8080/"
        },
        "id": "F1wjtvoLhiO4",
        "outputId": "98f4aa4e-2cca-4bf3-abce-aa64bd20c3d9"
      },
      "outputs": [
        {
          "output_type": "execute_result",
          "data": {
            "text/plain": [
              "-0.7849991501567429"
            ]
          },
          "metadata": {},
          "execution_count": 34
        }
      ],
      "source": [
        "np.mean(cross_val_score(pipe, X, y, cv=5))"
      ]
    },
    {
      "cell_type": "markdown",
      "metadata": {
        "id": "enoQfnaqhiO5"
      },
      "source": [
        "## **The General Pipeline Interface**"
      ]
    },
    {
      "cell_type": "markdown",
      "metadata": {
        "id": "OGnxht9rhiO5"
      },
      "source": [
        "### **Convenient Pipeline Creation with make_pipeline**\n",
        "\n",
        "**Creation pratique de pipeline avec make_pipeline**\n",
        "\n",
        "C'est une façon un peu plus rapide de créer des pipeline sans toute fois décrire la classe ou le classificateur sauf juste l'instancier.\n",
        "\n",
        "On y arrive grâce à la fonction **make_pipeline** du module sklearn **pipeline**"
      ]
    },
    {
      "cell_type": "code",
      "execution_count": 35,
      "metadata": {
        "id": "hUZZiZ3JhiO6"
      },
      "outputs": [],
      "source": [
        "from sklearn.pipeline import make_pipeline"
      ]
    },
    {
      "cell_type": "code",
      "execution_count": 36,
      "metadata": {
        "id": "AdBq35ZmhiO6"
      },
      "outputs": [],
      "source": [
        "# Standard synthax\n",
        "pipe_long = Pipeline([\n",
        "    ('scaler', MinMaxScaler()),\n",
        "    ('svc', SVC(C=100))\n",
        "])\n",
        "\n",
        "# Abreviated synthax\n",
        "pipe_short = make_pipeline(MinMaxScaler(), SVC(C=100))"
      ]
    },
    {
      "cell_type": "code",
      "execution_count": 37,
      "metadata": {
        "colab": {
          "base_uri": "https://localhost:8080/"
        },
        "id": "B56jGjCPhiO7",
        "outputId": "4431f238-c4d8-4124-b5f6-2e11f734208b"
      },
      "outputs": [
        {
          "output_type": "execute_result",
          "data": {
            "text/plain": [
              "[('scaler', MinMaxScaler()), ('svc', SVC(C=100))]"
            ]
          },
          "metadata": {},
          "execution_count": 37
        }
      ],
      "source": [
        "# steps with Standard synthax\n",
        "pipe_long.steps"
      ]
    },
    {
      "cell_type": "code",
      "execution_count": 38,
      "metadata": {
        "colab": {
          "base_uri": "https://localhost:8080/"
        },
        "id": "YUDq3CNFhiO8",
        "outputId": "85abd508-bddd-4f67-9652-7ba0682bcfb2"
      },
      "outputs": [
        {
          "output_type": "execute_result",
          "data": {
            "text/plain": [
              "[('minmaxscaler', MinMaxScaler()), ('svc', SVC(C=100))]"
            ]
          },
          "metadata": {},
          "execution_count": 38
        }
      ],
      "source": [
        "# steps with Abreviated synthax\n",
        "pipe_short.steps"
      ]
    },
    {
      "cell_type": "markdown",
      "metadata": {
        "id": "DmzzCMB7hiO8"
      },
      "source": [
        "**Multiple steps**"
      ]
    },
    {
      "cell_type": "code",
      "execution_count": 39,
      "metadata": {
        "id": "V79BlgyJhiO9"
      },
      "outputs": [],
      "source": [
        "from sklearn.preprocessing import StandardScaler\n",
        "from sklearn.decomposition import PCA"
      ]
    },
    {
      "cell_type": "code",
      "execution_count": 40,
      "metadata": {
        "colab": {
          "base_uri": "https://localhost:8080/"
        },
        "id": "bpr51__zhiO9",
        "outputId": "25dc2b67-d06d-4409-a49f-91ddb3729220"
      },
      "outputs": [
        {
          "output_type": "execute_result",
          "data": {
            "text/plain": [
              "Pipeline(steps=[('standardscaler-1', StandardScaler()),\n",
              "                ('pca', PCA(n_components=2)),\n",
              "                ('standardscaler-2', StandardScaler())])"
            ]
          },
          "metadata": {},
          "execution_count": 40
        }
      ],
      "source": [
        "pipe = make_pipeline(StandardScaler(), PCA(n_components=2), StandardScaler())\n",
        "pipe.fit(cancer.data)"
      ]
    },
    {
      "cell_type": "code",
      "execution_count": 41,
      "metadata": {
        "colab": {
          "base_uri": "https://localhost:8080/"
        },
        "id": "tnPKrrmKhiO-",
        "outputId": "5a267316-b84c-4aac-f409-3448fb3086e6"
      },
      "outputs": [
        {
          "output_type": "execute_result",
          "data": {
            "text/plain": [
              "[('standardscaler-1', StandardScaler()),\n",
              " ('pca', PCA(n_components=2)),\n",
              " ('standardscaler-2', StandardScaler())]"
            ]
          },
          "metadata": {},
          "execution_count": 41
        }
      ],
      "source": [
        "# Pipe steps\n",
        "pipe.steps"
      ]
    },
    {
      "cell_type": "markdown",
      "metadata": {
        "id": "UWXt0ZgXhiO-"
      },
      "source": [
        "### **Accessing Step Attributes**\n",
        "\n",
        "Pour accèder aux étapes dans le pipeline, on utiliser, l'attribut **named_steps**"
      ]
    },
    {
      "cell_type": "code",
      "execution_count": 42,
      "metadata": {
        "id": "TZn8Erj8hiO_"
      },
      "outputs": [],
      "source": [
        "components = pipe.named_steps[\"pca\"].components_"
      ]
    },
    {
      "cell_type": "code",
      "execution_count": 43,
      "metadata": {
        "colab": {
          "base_uri": "https://localhost:8080/"
        },
        "id": "7sGoyt_BhiPA",
        "outputId": "49c0ec4a-9564-4a48-ebfb-1e1d51b6c979"
      },
      "outputs": [
        {
          "output_type": "stream",
          "name": "stdout",
          "text": [
            "Components.shape (2, 30)\n"
          ]
        }
      ],
      "source": [
        "print(\"Components.shape {}\".format(components.shape))"
      ]
    },
    {
      "cell_type": "code",
      "execution_count": 44,
      "metadata": {
        "colab": {
          "base_uri": "https://localhost:8080/"
        },
        "id": "_8zE6gCwhiPA",
        "outputId": "3d3d6f30-ed65-4fbf-ab2c-1bb14ddbdfc7"
      },
      "outputs": [
        {
          "output_type": "execute_result",
          "data": {
            "text/plain": [
              "(569, 30)"
            ]
          },
          "metadata": {},
          "execution_count": 44
        }
      ],
      "source": [
        "cancer.data.shape"
      ]
    },
    {
      "cell_type": "markdown",
      "metadata": {
        "id": "gkBtfY5dhiPB"
      },
      "source": [
        "### **Accessing Attributes in a Grid-Searched Pipeline**"
      ]
    },
    {
      "cell_type": "code",
      "execution_count": 45,
      "metadata": {
        "id": "mcejjHyihiPB"
      },
      "outputs": [],
      "source": [
        "from sklearn.linear_model import LogisticRegression"
      ]
    },
    {
      "cell_type": "code",
      "execution_count": 46,
      "metadata": {
        "id": "Jidb2JbuhiPC"
      },
      "outputs": [],
      "source": [
        "pipe = make_pipeline(StandardScaler(), LogisticRegression())"
      ]
    },
    {
      "cell_type": "code",
      "execution_count": 47,
      "metadata": {
        "id": "xXLP-ykThiPC"
      },
      "outputs": [],
      "source": [
        "param_grid = {'logisticregression__C':[0.01, 0.1, 1, 10, 100],\n",
        "             'logisticregression__max_iter':[10000]}"
      ]
    },
    {
      "cell_type": "code",
      "execution_count": 48,
      "metadata": {
        "id": "WDHKK52ghiPC"
      },
      "outputs": [],
      "source": [
        "X_train, X_test, y_train, y_test = train_test_split(cancer.data, cancer.target,\n",
        "                                                   random_state=4)"
      ]
    },
    {
      "cell_type": "code",
      "execution_count": 49,
      "metadata": {
        "id": "mvA7q1gLhiPD"
      },
      "outputs": [],
      "source": [
        "grid = GridSearchCV(pipe, param_grid, cv=5)"
      ]
    },
    {
      "cell_type": "code",
      "execution_count": 50,
      "metadata": {
        "colab": {
          "base_uri": "https://localhost:8080/"
        },
        "id": "tyLfmM1jhiPD",
        "outputId": "e18f1ebd-4745-497c-876f-4fab831b585c"
      },
      "outputs": [
        {
          "output_type": "execute_result",
          "data": {
            "text/plain": [
              "GridSearchCV(cv=5,\n",
              "             estimator=Pipeline(steps=[('standardscaler', StandardScaler()),\n",
              "                                       ('logisticregression',\n",
              "                                        LogisticRegression())]),\n",
              "             param_grid={'logisticregression__C': [0.01, 0.1, 1, 10, 100],\n",
              "                         'logisticregression__max_iter': [10000]})"
            ]
          },
          "metadata": {},
          "execution_count": 50
        }
      ],
      "source": [
        "grid.fit(X_train, y_train)"
      ]
    },
    {
      "cell_type": "code",
      "execution_count": 51,
      "metadata": {
        "colab": {
          "base_uri": "https://localhost:8080/"
        },
        "id": "jInAAtYPhiPE",
        "outputId": "f13fad51-552e-4a0b-fe94-c83d32b596db"
      },
      "outputs": [
        {
          "output_type": "stream",
          "name": "stdout",
          "text": [
            "Best estimator: \n",
            "Pipeline(steps=[('standardscaler', StandardScaler()),\n",
            "                ('logisticregression',\n",
            "                 LogisticRegression(C=1, max_iter=10000))])\n"
          ]
        }
      ],
      "source": [
        "print(\"Best estimator: \\n{}\".format(grid.best_estimator_))"
      ]
    },
    {
      "cell_type": "markdown",
      "metadata": {
        "id": "HBeL1b1ThiPE"
      },
      "source": [
        "**Get to pipeline steps**"
      ]
    },
    {
      "cell_type": "code",
      "execution_count": 52,
      "metadata": {
        "colab": {
          "base_uri": "https://localhost:8080/"
        },
        "id": "Ds_Uy4h7hiPF",
        "outputId": "0e9e7ce2-29d2-4a75-d2fa-11526a1bd6c4"
      },
      "outputs": [
        {
          "output_type": "execute_result",
          "data": {
            "text/plain": [
              "array([[-0.43570655, -0.34266946, -0.40809443, -0.5344574 , -0.14971847,\n",
              "         0.61034122, -0.72634347, -0.78538827,  0.03886087,  0.27497198,\n",
              "        -1.29780109,  0.04926005, -0.67336941, -0.93447426, -0.13939555,\n",
              "         0.45032641, -0.13009864, -0.10144273,  0.43432027,  0.71596578,\n",
              "        -1.09068862, -1.09463976, -0.85183755, -1.06406198, -0.74316099,\n",
              "         0.07252425, -0.82323903, -0.65321239, -0.64379499, -0.42026013]])"
            ]
          },
          "metadata": {},
          "execution_count": 52
        }
      ],
      "source": [
        "grid.best_estimator_.named_steps['logisticregression'].coef_"
      ]
    },
    {
      "cell_type": "markdown",
      "metadata": {
        "id": "lfpUtwTOhiPG"
      },
      "source": [
        "### **Grid-Searching Preprocessing Steps and Model Parameters**"
      ]
    },
    {
      "cell_type": "code",
      "execution_count": 53,
      "metadata": {
        "id": "j6Ly2kNJhiPG"
      },
      "outputs": [],
      "source": [
        "from sklearn.datasets import load_boston"
      ]
    },
    {
      "cell_type": "code",
      "execution_count": 54,
      "metadata": {
        "id": "kmVk8ilohiPH"
      },
      "outputs": [],
      "source": [
        "from sklearn.model_selection import train_test_split"
      ]
    },
    {
      "cell_type": "code",
      "execution_count": 55,
      "metadata": {
        "colab": {
          "base_uri": "https://localhost:8080/"
        },
        "id": "NOzFJN7FhiPI",
        "outputId": "50dbf596-4976-4110-c1b6-0e30c9500792"
      },
      "outputs": [
        {
          "output_type": "stream",
          "name": "stderr",
          "text": [
            "/usr/local/lib/python3.7/dist-packages/sklearn/utils/deprecation.py:87: FutureWarning: Function load_boston is deprecated; `load_boston` is deprecated in 1.0 and will be removed in 1.2.\n",
            "\n",
            "    The Boston housing prices dataset has an ethical problem. You can refer to\n",
            "    the documentation of this function for further details.\n",
            "\n",
            "    The scikit-learn maintainers therefore strongly discourage the use of this\n",
            "    dataset unless the purpose of the code is to study and educate about\n",
            "    ethical issues in data science and machine learning.\n",
            "\n",
            "    In this special case, you can fetch the dataset from the original\n",
            "    source::\n",
            "\n",
            "        import pandas as pd\n",
            "        import numpy as np\n",
            "\n",
            "\n",
            "        data_url = \"http://lib.stat.cmu.edu/datasets/boston\"\n",
            "        raw_df = pd.read_csv(data_url, sep=\"\\s+\", skiprows=22, header=None)\n",
            "        data = np.hstack([raw_df.values[::2, :], raw_df.values[1::2, :2]])\n",
            "        target = raw_df.values[1::2, 2]\n",
            "\n",
            "    Alternative datasets include the California housing dataset (i.e.\n",
            "    :func:`~sklearn.datasets.fetch_california_housing`) and the Ames housing\n",
            "    dataset. You can load the datasets as follows::\n",
            "\n",
            "        from sklearn.datasets import fetch_california_housing\n",
            "        housing = fetch_california_housing()\n",
            "\n",
            "    for the California housing dataset and::\n",
            "\n",
            "        from sklearn.datasets import fetch_openml\n",
            "        housing = fetch_openml(name=\"house_prices\", as_frame=True)\n",
            "\n",
            "    for the Ames housing dataset.\n",
            "    \n",
            "  warnings.warn(msg, category=FutureWarning)\n"
          ]
        }
      ],
      "source": [
        "boston = load_boston()"
      ]
    },
    {
      "cell_type": "code",
      "execution_count": 56,
      "metadata": {
        "id": "L-e0SvOEhiPJ"
      },
      "outputs": [],
      "source": [
        "X_train, X_test, y_train, y_test = train_test_split(boston.data, boston.target,\n",
        "                                                  random_state=0)"
      ]
    },
    {
      "cell_type": "code",
      "execution_count": 57,
      "metadata": {
        "id": "J-CLdUy9hiPK"
      },
      "outputs": [],
      "source": [
        "from sklearn.preprocessing import PolynomialFeatures"
      ]
    },
    {
      "cell_type": "code",
      "execution_count": 58,
      "metadata": {
        "id": "WL2bEelmhiPL"
      },
      "outputs": [],
      "source": [
        "pipe = make_pipeline(\n",
        "    StandardScaler(),\n",
        "    PolynomialFeatures(),\n",
        "    Ridge()\n",
        ")"
      ]
    },
    {
      "cell_type": "code",
      "execution_count": 59,
      "metadata": {
        "colab": {
          "base_uri": "https://localhost:8080/"
        },
        "id": "muLYU6JghiPM",
        "outputId": "a5a23adb-7641-413e-97e9-de94469c9225"
      },
      "outputs": [
        {
          "output_type": "execute_result",
          "data": {
            "text/plain": [
              "[('standardscaler', StandardScaler()),\n",
              " ('polynomialfeatures', PolynomialFeatures()),\n",
              " ('ridge', Ridge())]"
            ]
          },
          "metadata": {},
          "execution_count": 59
        }
      ],
      "source": [
        "pipe.steps"
      ]
    },
    {
      "cell_type": "code",
      "execution_count": 60,
      "metadata": {
        "id": "oIBjfWsHhiPN"
      },
      "outputs": [],
      "source": [
        "param_grid = {\n",
        "    'polynomialfeatures__degree':[1, 2, 3],\n",
        "    'ridge__alpha':[0.001, 0.01, 0.1, 1, 10, 100]\n",
        "}"
      ]
    },
    {
      "cell_type": "code",
      "execution_count": 61,
      "metadata": {
        "id": "CkCWbGxjhiPO"
      },
      "outputs": [],
      "source": [
        "grid = GridSearchCV(pipe, param_grid, cv=5, n_jobs=-1)"
      ]
    },
    {
      "cell_type": "code",
      "execution_count": 62,
      "metadata": {
        "colab": {
          "base_uri": "https://localhost:8080/"
        },
        "id": "g6uh_-WPhiPO",
        "outputId": "e12ac499-1d97-4fa8-8b7c-9001e82e202a"
      },
      "outputs": [
        {
          "output_type": "execute_result",
          "data": {
            "text/plain": [
              "GridSearchCV(cv=5,\n",
              "             estimator=Pipeline(steps=[('standardscaler', StandardScaler()),\n",
              "                                       ('polynomialfeatures',\n",
              "                                        PolynomialFeatures()),\n",
              "                                       ('ridge', Ridge())]),\n",
              "             n_jobs=-1,\n",
              "             param_grid={'polynomialfeatures__degree': [1, 2, 3],\n",
              "                         'ridge__alpha': [0.001, 0.01, 0.1, 1, 10, 100]})"
            ]
          },
          "metadata": {},
          "execution_count": 62
        }
      ],
      "source": [
        "grid.fit(X_train, y_train)"
      ]
    },
    {
      "cell_type": "code",
      "execution_count": 63,
      "metadata": {
        "colab": {
          "base_uri": "https://localhost:8080/"
        },
        "id": "VxAGeLNbhiPO",
        "outputId": "fb7be8a5-9810-49df-d651-da3284a8aca0"
      },
      "outputs": [
        {
          "output_type": "execute_result",
          "data": {
            "text/plain": [
              "Pipeline(steps=[('standardscaler', StandardScaler()),\n",
              "                ('polynomialfeatures', PolynomialFeatures()),\n",
              "                ('ridge', Ridge(alpha=10))])"
            ]
          },
          "metadata": {},
          "execution_count": 63
        }
      ],
      "source": [
        "grid.best_estimator_"
      ]
    },
    {
      "cell_type": "markdown",
      "metadata": {
        "id": "sw0f40p6hiPP"
      },
      "source": [
        "**Evaluation de resultats de la validation croisée**\n",
        "\n",
        "Nous allons parcourir l'attribut **cv_results_** qui est un dictionnaire contenant différentes clés"
      ]
    },
    {
      "cell_type": "code",
      "execution_count": 64,
      "metadata": {
        "colab": {
          "base_uri": "https://localhost:8080/"
        },
        "id": "Qh6MAzjDhiPP",
        "outputId": "9d505597-8aae-48df-dbea-5398ea25884f"
      },
      "outputs": [
        {
          "output_type": "execute_result",
          "data": {
            "text/plain": [
              "{'mean_fit_time': array([0.00297532, 0.00273137, 0.00252743, 0.00232849, 0.00343661,\n",
              "        0.00372348, 0.00545402, 0.00457735, 0.00901175, 0.00638561,\n",
              "        0.01114278, 0.01072044, 0.03478675, 0.02282686, 0.01717887,\n",
              "        0.0210073 , 0.01773143, 0.01813784]),\n",
              " 'mean_score_time': array([0.00089002, 0.00088825, 0.00087261, 0.00085778, 0.00129299,\n",
              "        0.00101328, 0.00437632, 0.00385485, 0.00281672, 0.00510955,\n",
              "        0.00276222, 0.0012043 , 0.00520883, 0.00269294, 0.00456419,\n",
              "        0.00190639, 0.00442605, 0.00691066]),\n",
              " 'mean_test_score': array([ 7.21915761e-01,  7.21919281e-01,  7.21954085e-01,  7.22265610e-01,\n",
              "         7.23325945e-01,  7.07951636e-01,  7.60170834e-01,  7.59448408e-01,\n",
              "         7.66651449e-01,  7.94966818e-01,  8.28726141e-01,  8.04832665e-01,\n",
              "        -5.81095202e+02, -1.60898751e+02, -1.31972858e+01, -3.17933469e-02,\n",
              "         6.48340571e-01,  6.54083028e-01]),\n",
              " 'param_polynomialfeatures__degree': masked_array(data=[1, 1, 1, 1, 1, 1, 2, 2, 2, 2, 2, 2, 3, 3, 3, 3, 3, 3],\n",
              "              mask=[False, False, False, False, False, False, False, False,\n",
              "                    False, False, False, False, False, False, False, False,\n",
              "                    False, False],\n",
              "        fill_value='?',\n",
              "             dtype=object),\n",
              " 'param_ridge__alpha': masked_array(data=[0.001, 0.01, 0.1, 1, 10, 100, 0.001, 0.01, 0.1, 1, 10,\n",
              "                    100, 0.001, 0.01, 0.1, 1, 10, 100],\n",
              "              mask=[False, False, False, False, False, False, False, False,\n",
              "                    False, False, False, False, False, False, False, False,\n",
              "                    False, False],\n",
              "        fill_value='?',\n",
              "             dtype=object),\n",
              " 'params': [{'polynomialfeatures__degree': 1, 'ridge__alpha': 0.001},\n",
              "  {'polynomialfeatures__degree': 1, 'ridge__alpha': 0.01},\n",
              "  {'polynomialfeatures__degree': 1, 'ridge__alpha': 0.1},\n",
              "  {'polynomialfeatures__degree': 1, 'ridge__alpha': 1},\n",
              "  {'polynomialfeatures__degree': 1, 'ridge__alpha': 10},\n",
              "  {'polynomialfeatures__degree': 1, 'ridge__alpha': 100},\n",
              "  {'polynomialfeatures__degree': 2, 'ridge__alpha': 0.001},\n",
              "  {'polynomialfeatures__degree': 2, 'ridge__alpha': 0.01},\n",
              "  {'polynomialfeatures__degree': 2, 'ridge__alpha': 0.1},\n",
              "  {'polynomialfeatures__degree': 2, 'ridge__alpha': 1},\n",
              "  {'polynomialfeatures__degree': 2, 'ridge__alpha': 10},\n",
              "  {'polynomialfeatures__degree': 2, 'ridge__alpha': 100},\n",
              "  {'polynomialfeatures__degree': 3, 'ridge__alpha': 0.001},\n",
              "  {'polynomialfeatures__degree': 3, 'ridge__alpha': 0.01},\n",
              "  {'polynomialfeatures__degree': 3, 'ridge__alpha': 0.1},\n",
              "  {'polynomialfeatures__degree': 3, 'ridge__alpha': 1},\n",
              "  {'polynomialfeatures__degree': 3, 'ridge__alpha': 10},\n",
              "  {'polynomialfeatures__degree': 3, 'ridge__alpha': 100}],\n",
              " 'rank_test_score': array([11, 10,  9,  8,  7, 12,  5,  6,  4,  3,  1,  2, 18, 17, 16, 15, 14,\n",
              "        13], dtype=int32),\n",
              " 'split0_test_score': array([ 0.76260222,  0.76261665,  0.7627603 ,  0.76413967,  0.7739672 ,\n",
              "         0.78174746,  0.81319408,  0.81655751,  0.81720435,  0.83190861,\n",
              "         0.86651751,  0.87159488, -1.12627744, -0.38972601,  0.38316677,\n",
              "         0.83129101,  0.91414641,  0.90514853]),\n",
              " 'split1_test_score': array([  0.56955987,   0.56955667,   0.56952475,   0.56921637,\n",
              "          0.56755599,   0.59354407,   0.63972121,   0.63522276,\n",
              "          0.64141056,   0.63106872,   0.61805636,   0.62351896,\n",
              "        -21.17716996,  -7.33048958,  -3.10899122,  -1.26857591,\n",
              "         -0.15315375,   0.26490789]),\n",
              " 'split2_test_score': array([ 7.79352390e-01,  7.79353149e-01,  7.79360488e-01,  7.79410205e-01,\n",
              "         7.78460880e-01,  7.44269496e-01,  6.31638609e-01,  6.28425125e-01,\n",
              "         6.27081638e-01,  7.31637531e-01,  8.77197626e-01,  8.40460609e-01,\n",
              "        -2.88304805e+03, -7.97614091e+02, -6.45889277e+01, -1.33239003e+00,\n",
              "         7.77170416e-01,  3.43448446e-01]),\n",
              " 'split3_test_score': array([0.70774387, 0.70773681, 0.7076662 , 0.70695691, 0.70005382,\n",
              "        0.65417988, 0.81468453, 0.81625154, 0.83096714, 0.86738451,\n",
              "        0.87233538, 0.83698036, 0.26558676, 0.59662212, 0.77337118,\n",
              "        0.81454288, 0.81207918, 0.82449837]),\n",
              " 'split4_test_score': array([ 0.79032046,  0.79033313,  0.79045868,  0.7916049 ,  0.79659183,\n",
              "         0.76601728,  0.90161574,  0.9007851 ,  0.91659356,  0.91283471,\n",
              "         0.90952382,  0.85160852, -0.39010359,  0.24393179,  0.55495176,\n",
              "         0.79616531,  0.89146059,  0.9324119 ]),\n",
              " 'std_fit_time': array([0.00055502, 0.00017479, 0.00010042, 0.00028482, 0.00143718,\n",
              "        0.00165608, 0.00310616, 0.00198815, 0.00216289, 0.00347865,\n",
              "        0.00162367, 0.00247389, 0.01338583, 0.01046129, 0.00467766,\n",
              "        0.00820275, 0.00447929, 0.00923411]),\n",
              " 'std_score_time': array([5.99975984e-05, 7.10446721e-05, 1.74993390e-05, 2.51720344e-05,\n",
              "        7.00983082e-04, 3.39752180e-04, 6.16529350e-03, 5.36514775e-03,\n",
              "        3.11538449e-03, 3.62890074e-03, 3.17950320e-03, 6.58614484e-05,\n",
              "        3.99765178e-03, 1.65995448e-03, 5.48032738e-03, 1.16238973e-04,\n",
              "        5.30292940e-03, 6.45406166e-03]),\n",
              " 'std_test_score': array([8.12978694e-02, 8.13029992e-02, 8.13540016e-02, 8.18355738e-02,\n",
              "        8.45909651e-02, 7.22729859e-02, 1.06600669e-01, 1.08685987e-01,\n",
              "        1.13436988e-01, 1.01365717e-01, 1.06385581e-01, 9.14578119e-02,\n",
              "        1.15100459e+03, 3.18371011e+02, 2.57356039e+01, 1.03613686e+00,\n",
              "        4.03871439e-01, 2.88961368e-01])}"
            ]
          },
          "metadata": {},
          "execution_count": 64
        }
      ],
      "source": [
        "grid.cv_results_"
      ]
    },
    {
      "cell_type": "code",
      "execution_count": 65,
      "metadata": {
        "id": "4yfi5PE6hiPQ"
      },
      "outputs": [],
      "source": [
        "cv_results = grid.cv_results_['mean_test_score']"
      ]
    },
    {
      "cell_type": "code",
      "execution_count": 66,
      "metadata": {
        "colab": {
          "base_uri": "https://localhost:8080/"
        },
        "id": "fRSq4fUzhiPQ",
        "outputId": "e1d1735a-2a91-4d58-e57d-f601e4e4b0e6"
      },
      "outputs": [
        {
          "output_type": "execute_result",
          "data": {
            "text/plain": [
              "array([ 7.21915761e-01,  7.21919281e-01,  7.21954085e-01,  7.22265610e-01,\n",
              "        7.23325945e-01,  7.07951636e-01,  7.60170834e-01,  7.59448408e-01,\n",
              "        7.66651449e-01,  7.94966818e-01,  8.28726141e-01,  8.04832665e-01,\n",
              "       -5.81095202e+02, -1.60898751e+02, -1.31972858e+01, -3.17933469e-02,\n",
              "        6.48340571e-01,  6.54083028e-01])"
            ]
          },
          "metadata": {},
          "execution_count": 66
        }
      ],
      "source": [
        "cv_results"
      ]
    },
    {
      "cell_type": "code",
      "execution_count": 67,
      "metadata": {
        "colab": {
          "base_uri": "https://localhost:8080/"
        },
        "id": "HtRFNgNvhiPR",
        "outputId": "c8d9dc18-0f1f-4266-a947-6d74a4b57caf"
      },
      "outputs": [
        {
          "output_type": "execute_result",
          "data": {
            "text/plain": [
              "(3, 6)"
            ]
          },
          "metadata": {},
          "execution_count": 67
        }
      ],
      "source": [
        "cv_results.reshape(3, -1).shape"
      ]
    },
    {
      "cell_type": "code",
      "execution_count": 68,
      "metadata": {
        "colab": {
          "base_uri": "https://localhost:8080/",
          "height": 260
        },
        "id": "dCkZWDs-hiPR",
        "outputId": "452c14b5-1480-4996-c64f-5ca714ba5afb"
      },
      "outputs": [
        {
          "output_type": "display_data",
          "data": {
            "image/png": "[encoded data removed]",
            "text/plain": [
              "<Figure size 576x288 with 2 Axes>"
            ]
          },
          "metadata": {
            "needs_background": "light"
          }
        }
      ],
      "source": [
        "plt.matshow(cv_results.reshape(3, -1), vmin=0, cmap='viridis')\n",
        "plt.xlabel(\"ridge__alpha\")\n",
        "plt.ylabel(\"polynomial_features\")\n",
        "\n",
        "plt.xticks(range(len(param_grid['ridge__alpha'])),\n",
        "           param_grid['ridge__alpha'])\n",
        "plt.yticks(range(len(param_grid['polynomialfeatures__degree'])),\n",
        "           param_grid['polynomialfeatures__degree'])\n",
        "plt.colorbar()\n",
        "plt.show()"
      ]
    },
    {
      "cell_type": "markdown",
      "metadata": {
        "id": "Ei0hf08YhiPS"
      },
      "source": [
        "On peut voir qu'avec PolynomialFeatures de degré 2 on atteint une bonne performance mais pire performances avec le degré 1 et 3"
      ]
    },
    {
      "cell_type": "code",
      "execution_count": 69,
      "metadata": {
        "colab": {
          "base_uri": "https://localhost:8080/"
        },
        "id": "dby8zUPmhiPS",
        "outputId": "16b7c8c1-655e-42c5-8d17-a90abf64e585"
      },
      "outputs": [
        {
          "output_type": "stream",
          "name": "stdout",
          "text": [
            "Test set score: 0.768\n"
          ]
        }
      ],
      "source": [
        "print(\"Test set score: {:.3f}\".format(grid.score(X_test, y_test)))"
      ]
    },
    {
      "cell_type": "code",
      "execution_count": 70,
      "metadata": {
        "colab": {
          "base_uri": "https://localhost:8080/"
        },
        "id": "GqXcS4IxhiPS",
        "outputId": "94233050-331d-4b25-8bbb-04403c113e58"
      },
      "outputs": [
        {
          "output_type": "stream",
          "name": "stdout",
          "text": [
            "Best parameters: {'polynomialfeatures__degree': 2, 'ridge__alpha': 10}\n"
          ]
        }
      ],
      "source": [
        "print(\"Best parameters: {}\".format(grid.best_params_))"
      ]
    },
    {
      "cell_type": "code",
      "execution_count": 71,
      "metadata": {
        "colab": {
          "base_uri": "https://localhost:8080/"
        },
        "id": "ll3rAfoIhiPT",
        "outputId": "d9969d24-b88a-4615-eb6d-678412ecff78"
      },
      "outputs": [
        {
          "output_type": "stream",
          "name": "stdout",
          "text": [
            "Score without poly features: 0.63\n"
          ]
        }
      ],
      "source": [
        "# Run withour polynomial features\n",
        "param_grid = {'ridge__alpha': [0.001, 0.01, 0.1, 1, 10, 100]}\n",
        "\n",
        "pipe = make_pipeline(StandardScaler(), Ridge())\n",
        "\n",
        "grid = GridSearchCV(pipe, param_grid, cv=5)\n",
        "grid.fit(X_train, y_train)\n",
        "\n",
        "print(\"Score without poly features: {:.2f}\".format(grid.score(X_test, y_test)))"
      ]
    },
    {
      "cell_type": "markdown",
      "metadata": {
        "id": "R0kWtR-uhiPT"
      },
      "source": [
        "On obtient une précision faible contrairement à lorsque l'on utilise **PolynomialFeatures**"
      ]
    },
    {
      "cell_type": "markdown",
      "metadata": {
        "id": "jMEmT31ahiPU"
      },
      "source": [
        "## **Grid-Searching Which Model To Use**"
      ]
    },
    {
      "cell_type": "code",
      "execution_count": 82,
      "metadata": {
        "id": "hZdQa4f2hiPU"
      },
      "outputs": [],
      "source": [
        "pipe  = Pipeline([\n",
        "                  ('preprocessing', StandardScaler()),\n",
        "                  ('classifier', SVC())\n",
        "])"
      ]
    },
    {
      "cell_type": "code",
      "source": [
        "from sklearn.ensemble import RandomForestClassifier"
      ],
      "metadata": {
        "id": "rgmaa6UektBP"
      },
      "execution_count": 83,
      "outputs": []
    },
    {
      "cell_type": "code",
      "source": [
        "RandomForestClassifier?"
      ],
      "metadata": {
        "id": "5hiyQnbJlgM4"
      },
      "execution_count": 84,
      "outputs": []
    },
    {
      "cell_type": "code",
      "source": [
        "param_grid = [\n",
        "{'classifier': [SVC()], 'preprocessing': [StandardScaler(), None],\n",
        "'classifier__gamma': [0.001, 0.01, 0.1, 1, 10, 100],\n",
        "'classifier__C': [0.001, 0.01, 0.1, 1, 10, 100]},\n",
        "\n",
        "{'classifier': [RandomForestClassifier(n_estimators=100)],\n",
        "'preprocessing': [None], 'classifier__max_features': [1, 2, 3]}]"
      ],
      "metadata": {
        "id": "S8c0HJDCislR"
      },
      "execution_count": 85,
      "outputs": []
    },
    {
      "cell_type": "code",
      "source": [
        "X_train, X_test, y_train, y_test = train_test_split(cancer.data, cancer.target,\n",
        "                                                    random_state=0)"
      ],
      "metadata": {
        "id": "suDPm6oQlzGV"
      },
      "execution_count": 86,
      "outputs": []
    },
    {
      "cell_type": "code",
      "source": [
        "grid = GridSearchCV(pipe, param_grid, cv=5)"
      ],
      "metadata": {
        "id": "n1JClxmol-wX"
      },
      "execution_count": 87,
      "outputs": []
    },
    {
      "cell_type": "code",
      "source": [
        "grid.fit(X_train, y_train)"
      ],
      "metadata": {
        "colab": {
          "base_uri": "https://localhost:8080/"
        },
        "id": "TFXj9mNwmKbv",
        "outputId": "33faf25c-33a6-4ae5-a999-e5399b88038d"
      },
      "execution_count": 88,
      "outputs": [
        {
          "output_type": "execute_result",
          "data": {
            "text/plain": [
              "GridSearchCV(cv=5,\n",
              "             estimator=Pipeline(steps=[('preprocessing', StandardScaler()),\n",
              "                                       ('classifier', SVC())]),\n",
              "             param_grid=[{'classifier': [SVC(C=10, gamma=0.01)],\n",
              "                          'classifier__C': [0.001, 0.01, 0.1, 1, 10, 100],\n",
              "                          'classifier__gamma': [0.001, 0.01, 0.1, 1, 10, 100],\n",
              "                          'preprocessing': [StandardScaler(), None]},\n",
              "                         {'classifier': [RandomForestClassifier()],\n",
              "                          'classifier__max_features': [1, 2, 3],\n",
              "                          'preprocessing': [None]}])"
            ]
          },
          "metadata": {},
          "execution_count": 88
        }
      ]
    },
    {
      "cell_type": "code",
      "source": [
        "grid.best_estimator_"
      ],
      "metadata": {
        "colab": {
          "base_uri": "https://localhost:8080/"
        },
        "id": "jfJpYuGnmNnE",
        "outputId": "742c340e-c91b-4c7a-965d-cc44dcbec529"
      },
      "execution_count": 89,
      "outputs": [
        {
          "output_type": "execute_result",
          "data": {
            "text/plain": [
              "Pipeline(steps=[('preprocessing', StandardScaler()),\n",
              "                ('classifier', SVC(C=10, gamma=0.01))])"
            ]
          },
          "metadata": {},
          "execution_count": 89
        }
      ]
    },
    {
      "cell_type": "markdown",
      "source": [
        "Nous voyons que de deux modèle proposés, le modèle qui donnerai de bonne performance est SVC"
      ],
      "metadata": {
        "id": "T-PUrLsrm7Q4"
      }
    },
    {
      "cell_type": "code",
      "source": [
        "grid.score(X_test, y_test)"
      ],
      "metadata": {
        "colab": {
          "base_uri": "https://localhost:8080/"
        },
        "id": "tE7Z6b5kmdfj",
        "outputId": "5af996aa-24fa-48b7-f3bd-0a2a993deef0"
      },
      "execution_count": 90,
      "outputs": [
        {
          "output_type": "execute_result",
          "data": {
            "text/plain": [
              "0.9790209790209791"
            ]
          },
          "metadata": {},
          "execution_count": 90
        }
      ]
    },
    {
      "cell_type": "code",
      "source": [
        ""
      ],
      "metadata": {
        "id": "o6mCk_-knIoP"
      },
      "execution_count": null,
      "outputs": []
    }
  ],
  "metadata": {
    "anaconda-cloud": {},
    "kernelspec": {
      "display_name": "Python 3",
      "language": "python",
      "name": "python3"
    },
    "language_info": {
      "codemirror_mode": {
        "name": "ipython",
        "version": 3
      },
      "file_extension": ".py",
      "mimetype": "text/x-python",
      "name": "python",
      "nbconvert_exporter": "python",
      "pygments_lexer": "ipython3",
      "version": "3.8.10"
    },
    "colab": {
      "name": "06-algorithm-chains-and-pipelines.ipynb",
      "provenance": [],
      "include_colab_link": true
    }
  },
  "nbformat": 4,
  "nbformat_minor": 0
}