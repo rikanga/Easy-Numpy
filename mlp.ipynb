{
  "cells": [
    {
      "cell_type": "markdown",
      "metadata": {
        "id": "view-in-github",
        "colab_type": "text"
      },
      "source": [
        "<a href=\"https://colab.research.google.com/github/rikanga/Easy-Numpy/blob/main/mlp.ipynb\" target=\"_parent\"><img src=\"https://colab.research.google.com/assets/colab-badge.svg\" alt=\"Open In Colab\"/></a>"
      ]
    },
    {
      "cell_type": "markdown",
      "metadata": {
        "id": "x9vpRAxyB9Cu"
      },
      "source": [
        "# DEEP LEARNING"
      ]
    },
    {
      "cell_type": "markdown",
      "metadata": {
        "id": "L7fsvwm0B9C6"
      },
      "source": [
        "## Perceptrons  multiples"
      ]
    },
    {
      "cell_type": "code",
      "execution_count": 26,
      "metadata": {
        "id": "86ZKK4ebB9C8"
      },
      "outputs": [],
      "source": [
        "import matplotlib.pyplot as plt, pandas as pd, seaborn as sns, numpy as np, mglearn"
      ]
    },
    {
      "cell_type": "markdown",
      "metadata": {
        "id": "iAUldsT7B9DA"
      },
      "source": [
        "Les perceptrons multi-couches sont comme une généralisation des modèles linéaires avec plusieurs étapes pour prendre une décision de prédiction.\n",
        "\n",
        "Les modèles linaires développés grâce à la formule:\n",
        "\n",
        "```txt\n",
        "    ŷ = w[0] * x[0] + w[1] * x[1] + ... + w[p] * x[p] + b\n",
        "```\n",
        "\n",
        "qui est une somme pondérée d'entrée x[0] à x[p] pondérée par les coéfficients w[0] à w[p].\n",
        "\n",
        "On peut Illustrer le **modèle linéaire** comme présenté dans la figure ci-bas:"
      ]
    },
    {
      "cell_type": "code",
      "source": [
        "!pip install graphviz && pip install mglearn"
      ],
      "metadata": {
        "colab": {
          "base_uri": "https://localhost:8080/"
        },
        "id": "sjEk7NhtELYG",
        "outputId": "eef74543-5908-4881-8d8a-fd5adba2d6b2"
      },
      "execution_count": 27,
      "outputs": [
        {
          "output_type": "stream",
          "name": "stdout",
          "text": [
            "Requirement already satisfied: graphviz in /usr/local/lib/python3.7/dist-packages (0.10.1)\n",
            "Requirement already satisfied: mglearn in /usr/local/lib/python3.7/dist-packages (0.1.9)\n",
            "Requirement already satisfied: joblib in /usr/local/lib/python3.7/dist-packages (from mglearn) (1.1.0)\n",
            "Requirement already satisfied: matplotlib in /usr/local/lib/python3.7/dist-packages (from mglearn) (3.2.2)\n",
            "Requirement already satisfied: imageio in /usr/local/lib/python3.7/dist-packages (from mglearn) (2.4.1)\n",
            "Requirement already satisfied: cycler in /usr/local/lib/python3.7/dist-packages (from mglearn) (0.11.0)\n",
            "Requirement already satisfied: numpy in /usr/local/lib/python3.7/dist-packages (from mglearn) (1.21.5)\n",
            "Requirement already satisfied: pandas in /usr/local/lib/python3.7/dist-packages (from mglearn) (1.3.5)\n",
            "Requirement already satisfied: scikit-learn in /usr/local/lib/python3.7/dist-packages (from mglearn) (1.0.2)\n",
            "Requirement already satisfied: pillow in /usr/local/lib/python3.7/dist-packages (from mglearn) (7.1.2)\n",
            "Requirement already satisfied: python-dateutil>=2.1 in /usr/local/lib/python3.7/dist-packages (from matplotlib->mglearn) (2.8.2)\n",
            "Requirement already satisfied: kiwisolver>=1.0.1 in /usr/local/lib/python3.7/dist-packages (from matplotlib->mglearn) (1.3.2)\n",
            "Requirement already satisfied: pyparsing!=2.0.4,!=2.1.2,!=2.1.6,>=2.0.1 in /usr/local/lib/python3.7/dist-packages (from matplotlib->mglearn) (3.0.7)\n",
            "Requirement already satisfied: six>=1.5 in /usr/local/lib/python3.7/dist-packages (from python-dateutil>=2.1->matplotlib->mglearn) (1.15.0)\n",
            "Requirement already satisfied: pytz>=2017.3 in /usr/local/lib/python3.7/dist-packages (from pandas->mglearn) (2018.9)\n",
            "Requirement already satisfied: threadpoolctl>=2.0.0 in /usr/local/lib/python3.7/dist-packages (from scikit-learn->mglearn) (3.1.0)\n",
            "Requirement already satisfied: scipy>=1.1.0 in /usr/local/lib/python3.7/dist-packages (from scikit-learn->mglearn) (1.4.1)\n"
          ]
        }
      ]
    },
    {
      "cell_type": "code",
      "source": [
        "import mglearn"
      ],
      "metadata": {
        "id": "w-8PMr_vEoyb"
      },
      "execution_count": 28,
      "outputs": []
    },
    {
      "cell_type": "markdown",
      "source": [
        "**Illustrate the Linear model**"
      ],
      "metadata": {
        "id": "bT4qnhWnE2OF"
      }
    },
    {
      "cell_type": "code",
      "execution_count": 29,
      "metadata": {
        "colab": {
          "base_uri": "https://localhost:8080/",
          "height": 369
        },
        "id": "qM-vgR0oB9DD",
        "outputId": "9358e548-2737-47ed-e7a9-82297aef635e"
      },
      "outputs": [
        {
          "output_type": "execute_result",
          "data": {
            "text/plain": [
              "<graphviz.dot.Digraph at 0x7f1eb4630b90>"
            ],
            "image/svg+xml": "<?xml version=\"1.0\" encoding=\"UTF-8\" standalone=\"no\"?>\n<!DOCTYPE svg PUBLIC \"-//W3C//DTD SVG 1.1//EN\"\n \"http://www.w3.org/Graphics/SVG/1.1/DTD/svg11.dtd\">\n<!-- Generated by graphviz version 2.40.1 (20161225.0304)\n -->\n<!-- Title: %3 Pages: 1 -->\n<svg width=\"177pt\" height=\"261pt\"\n viewBox=\"0.00 0.00 177.00 261.00\" xmlns=\"http://www.w3.org/2000/svg\" xmlns:xlink=\"http://www.w3.org/1999/xlink\">\n<g id=\"graph0\" class=\"graph\" transform=\"scale(1 1) rotate(0) translate(4 257)\">\n<title>%3</title>\n<polygon fill=\"#ffffff\" stroke=\"transparent\" points=\"-4,4 -4,-257 173,-257 173,4 -4,4\"/>\n<g id=\"clust1\" class=\"cluster\">\n<title>cluster_0</title>\n<polygon fill=\"none\" stroke=\"#ffffff\" points=\"8,-8 8,-245 60,-245 60,-8 8,-8\"/>\n<text text-anchor=\"middle\" x=\"34\" y=\"-229.8\" font-family=\"Times,serif\" font-size=\"14.00\" fill=\"#000000\">inputs</text>\n</g>\n<g id=\"clust2\" class=\"cluster\">\n<title>cluster_2</title>\n<polygon fill=\"none\" stroke=\"#ffffff\" points=\"108,-89 108,-164 162,-164 162,-89 108,-89\"/>\n<text text-anchor=\"middle\" x=\"135\" y=\"-148.8\" font-family=\"Times,serif\" font-size=\"14.00\" fill=\"#000000\">output</text>\n</g>\n<!-- x[0] -->\n<g id=\"node1\" class=\"node\">\n<title>x[0]</title>\n<ellipse fill=\"none\" stroke=\"#000000\" cx=\"34\" cy=\"-196\" rx=\"18\" ry=\"18\"/>\n<text text-anchor=\"middle\" x=\"34\" y=\"-192.3\" font-family=\"Times,serif\" font-size=\"14.00\" fill=\"#000000\">x[0]</text>\n</g>\n<!-- y -->\n<g id=\"node5\" class=\"node\">\n<title>y</title>\n<ellipse fill=\"none\" stroke=\"#000000\" cx=\"135\" cy=\"-115\" rx=\"18\" ry=\"18\"/>\n<text text-anchor=\"middle\" x=\"135\" y=\"-111.3\" font-family=\"Times,serif\" font-size=\"14.00\" fill=\"#000000\">y</text>\n</g>\n<!-- x[0]&#45;&gt;y -->\n<g id=\"edge1\" class=\"edge\">\n<title>x[0]&#45;&gt;y</title>\n<path fill=\"none\" stroke=\"#000000\" d=\"M48.0436,-184.7373C64.8331,-171.2725 93.1341,-148.5756 112.8732,-132.7453\"/>\n<polygon fill=\"#000000\" stroke=\"#000000\" points=\"115.1386,-135.415 120.7501,-126.4282 110.7591,-129.9542 115.1386,-135.415\"/>\n<text text-anchor=\"middle\" x=\"84\" y=\"-171.8\" font-family=\"Times,serif\" font-size=\"14.00\" fill=\"#000000\">w[0]</text>\n</g>\n<!-- x[1] -->\n<g id=\"node2\" class=\"node\">\n<title>x[1]</title>\n<ellipse fill=\"none\" stroke=\"#000000\" cx=\"34\" cy=\"-142\" rx=\"18\" ry=\"18\"/>\n<text text-anchor=\"middle\" x=\"34\" y=\"-138.3\" font-family=\"Times,serif\" font-size=\"14.00\" fill=\"#000000\">x[1]</text>\n</g>\n<!-- x[1]&#45;&gt;y -->\n<g id=\"edge2\" class=\"edge\">\n<title>x[1]&#45;&gt;y</title>\n<path fill=\"none\" stroke=\"#000000\" d=\"M51.5929,-137.297C67.0894,-133.1543 89.9083,-127.0542 107.7628,-122.2812\"/>\n<polygon fill=\"#000000\" stroke=\"#000000\" points=\"108.8519,-125.6131 117.6087,-119.6491 107.0441,-118.8505 108.8519,-125.6131\"/>\n<text text-anchor=\"middle\" x=\"84\" y=\"-134.8\" font-family=\"Times,serif\" font-size=\"14.00\" fill=\"#000000\">w[1]</text>\n</g>\n<!-- x[2] -->\n<g id=\"node3\" class=\"node\">\n<title>x[2]</title>\n<ellipse fill=\"none\" stroke=\"#000000\" cx=\"34\" cy=\"-88\" rx=\"18\" ry=\"18\"/>\n<text text-anchor=\"middle\" x=\"34\" y=\"-84.3\" font-family=\"Times,serif\" font-size=\"14.00\" fill=\"#000000\">x[2]</text>\n</g>\n<!-- x[2]&#45;&gt;y -->\n<g id=\"edge3\" class=\"edge\">\n<title>x[2]&#45;&gt;y</title>\n<path fill=\"none\" stroke=\"#000000\" d=\"M51.5929,-92.703C67.0894,-96.8457 89.9083,-102.9458 107.7628,-107.7188\"/>\n<polygon fill=\"#000000\" stroke=\"#000000\" points=\"107.0441,-111.1495 117.6087,-110.3509 108.8519,-104.3869 107.0441,-111.1495\"/>\n<text text-anchor=\"middle\" x=\"84\" y=\"-107.8\" font-family=\"Times,serif\" font-size=\"14.00\" fill=\"#000000\">w[2]</text>\n</g>\n<!-- x[3] -->\n<g id=\"node4\" class=\"node\">\n<title>x[3]</title>\n<ellipse fill=\"none\" stroke=\"#000000\" cx=\"34\" cy=\"-34\" rx=\"18\" ry=\"18\"/>\n<text text-anchor=\"middle\" x=\"34\" y=\"-30.3\" font-family=\"Times,serif\" font-size=\"14.00\" fill=\"#000000\">x[3]</text>\n</g>\n<!-- x[3]&#45;&gt;y -->\n<g id=\"edge4\" class=\"edge\">\n<title>x[3]&#45;&gt;y</title>\n<path fill=\"none\" stroke=\"#000000\" d=\"M48.0436,-45.2627C64.8331,-58.7275 93.1341,-81.4244 112.8732,-97.2547\"/>\n<polygon fill=\"#000000\" stroke=\"#000000\" points=\"110.7591,-100.0458 120.7501,-103.5718 115.1386,-94.585 110.7591,-100.0458\"/>\n<text text-anchor=\"middle\" x=\"84\" y=\"-82.8\" font-family=\"Times,serif\" font-size=\"14.00\" fill=\"#000000\">w[3]</text>\n</g>\n</g>\n</svg>\n"
          },
          "metadata": {},
          "execution_count": 29
        }
      ],
      "source": [
        "mglearn.plots.plot_logistic_regression_graph()"
      ]
    },
    {
      "cell_type": "markdown",
      "source": [
        "**Illustrate de MLp model**"
      ],
      "metadata": {
        "id": "xzPAosUcE8K3"
      }
    },
    {
      "cell_type": "code",
      "execution_count": 30,
      "metadata": {
        "colab": {
          "base_uri": "https://localhost:8080/",
          "height": 369
        },
        "id": "8Jl9i86bB9DE",
        "outputId": "71c8566b-c49d-4f11-ffa5-f0a421771a4c"
      },
      "outputs": [
        {
          "output_type": "execute_result",
          "data": {
            "text/plain": [
              "<graphviz.dot.Digraph at 0x7f1eb1bbc9d0>"
            ],
            "image/svg+xml": "<?xml version=\"1.0\" encoding=\"UTF-8\" standalone=\"no\"?>\n<!DOCTYPE svg PUBLIC \"-//W3C//DTD SVG 1.1//EN\"\n \"http://www.w3.org/Graphics/SVG/1.1/DTD/svg11.dtd\">\n<!-- Generated by graphviz version 2.40.1 (20161225.0304)\n -->\n<!-- Title: %3 Pages: 1 -->\n<svg width=\"257pt\" height=\"261pt\"\n viewBox=\"0.00 0.00 257.00 261.00\" xmlns=\"http://www.w3.org/2000/svg\" xmlns:xlink=\"http://www.w3.org/1999/xlink\">\n<g id=\"graph0\" class=\"graph\" transform=\"scale(1 1) rotate(0) translate(4 257)\">\n<title>%3</title>\n<polygon fill=\"#ffffff\" stroke=\"transparent\" points=\"-4,4 -4,-257 253,-257 253,4 -4,4\"/>\n<g id=\"clust1\" class=\"cluster\">\n<title>cluster_0</title>\n<polygon fill=\"none\" stroke=\"#ffffff\" points=\"8,-8 8,-245 60,-245 60,-8 8,-8\"/>\n<text text-anchor=\"middle\" x=\"34\" y=\"-229.8\" font-family=\"Times,serif\" font-size=\"14.00\" fill=\"#000000\">inputs</text>\n</g>\n<g id=\"clust2\" class=\"cluster\">\n<title>cluster_1</title>\n<polygon fill=\"none\" stroke=\"#ffffff\" points=\"80,-35 80,-218 168,-218 168,-35 80,-35\"/>\n<text text-anchor=\"middle\" x=\"124\" y=\"-202.8\" font-family=\"Times,serif\" font-size=\"14.00\" fill=\"#000000\">hidden layer</text>\n</g>\n<g id=\"clust3\" class=\"cluster\">\n<title>cluster_2</title>\n<polygon fill=\"none\" stroke=\"#ffffff\" points=\"188,-89 188,-164 242,-164 242,-89 188,-89\"/>\n<text text-anchor=\"middle\" x=\"215\" y=\"-148.8\" font-family=\"Times,serif\" font-size=\"14.00\" fill=\"#000000\">output</text>\n</g>\n<!-- x[0] -->\n<g id=\"node1\" class=\"node\">\n<title>x[0]</title>\n<ellipse fill=\"none\" stroke=\"#000000\" cx=\"34\" cy=\"-196\" rx=\"18\" ry=\"18\"/>\n<text text-anchor=\"middle\" x=\"34\" y=\"-192.3\" font-family=\"Times,serif\" font-size=\"14.00\" fill=\"#000000\">x[0]</text>\n</g>\n<!-- h0 -->\n<g id=\"node5\" class=\"node\">\n<title>h0</title>\n<ellipse fill=\"none\" stroke=\"#000000\" cx=\"124\" cy=\"-61\" rx=\"18\" ry=\"18\"/>\n<text text-anchor=\"middle\" x=\"124\" y=\"-57.3\" font-family=\"Times,serif\" font-size=\"14.00\" fill=\"#000000\">h[0]</text>\n</g>\n<!-- x[0]&#45;&gt;h0 -->\n<g id=\"edge1\" class=\"edge\">\n<title>x[0]&#45;&gt;h0</title>\n<path fill=\"none\" stroke=\"#000000\" d=\"M44.1492,-180.7762C59.7464,-157.3804 89.7362,-112.3958 108.1948,-84.7078\"/>\n<polygon fill=\"#000000\" stroke=\"#000000\" points=\"111.1149,-86.6373 113.7498,-76.3753 105.2906,-82.7543 111.1149,-86.6373\"/>\n</g>\n<!-- h1 -->\n<g id=\"node6\" class=\"node\">\n<title>h1</title>\n<ellipse fill=\"none\" stroke=\"#000000\" cx=\"124\" cy=\"-169\" rx=\"18\" ry=\"18\"/>\n<text text-anchor=\"middle\" x=\"124\" y=\"-165.3\" font-family=\"Times,serif\" font-size=\"14.00\" fill=\"#000000\">h[1]</text>\n</g>\n<!-- x[0]&#45;&gt;h1 -->\n<g id=\"edge2\" class=\"edge\">\n<title>x[0]&#45;&gt;h1</title>\n<path fill=\"none\" stroke=\"#000000\" d=\"M51.3529,-190.7941C64.3017,-186.9095 82.2369,-181.5289 97.0466,-177.086\"/>\n<polygon fill=\"#000000\" stroke=\"#000000\" points=\"98.1278,-180.4158 106.7004,-174.1899 96.1164,-173.711 98.1278,-180.4158\"/>\n</g>\n<!-- h2 -->\n<g id=\"node7\" class=\"node\">\n<title>h2</title>\n<ellipse fill=\"none\" stroke=\"#000000\" cx=\"124\" cy=\"-115\" rx=\"18\" ry=\"18\"/>\n<text text-anchor=\"middle\" x=\"124\" y=\"-111.3\" font-family=\"Times,serif\" font-size=\"14.00\" fill=\"#000000\">h[2]</text>\n</g>\n<!-- x[0]&#45;&gt;h2 -->\n<g id=\"edge3\" class=\"edge\">\n<title>x[0]&#45;&gt;h2</title>\n<path fill=\"none\" stroke=\"#000000\" d=\"M47.6691,-183.6978C62.2907,-170.5384 85.6735,-149.4939 102.7099,-134.1611\"/>\n<polygon fill=\"#000000\" stroke=\"#000000\" points=\"105.4056,-136.4437 110.4972,-127.1525 100.7228,-131.2407 105.4056,-136.4437\"/>\n</g>\n<!-- x[1] -->\n<g id=\"node2\" class=\"node\">\n<title>x[1]</title>\n<ellipse fill=\"none\" stroke=\"#000000\" cx=\"34\" cy=\"-142\" rx=\"18\" ry=\"18\"/>\n<text text-anchor=\"middle\" x=\"34\" y=\"-138.3\" font-family=\"Times,serif\" font-size=\"14.00\" fill=\"#000000\">x[1]</text>\n</g>\n<!-- x[1]&#45;&gt;h0 -->\n<g id=\"edge4\" class=\"edge\">\n<title>x[1]&#45;&gt;h0</title>\n<path fill=\"none\" stroke=\"#000000\" d=\"M47.6691,-129.6978C62.2907,-116.5384 85.6735,-95.4939 102.7099,-80.1611\"/>\n<polygon fill=\"#000000\" stroke=\"#000000\" points=\"105.4056,-82.4437 110.4972,-73.1525 100.7228,-77.2407 105.4056,-82.4437\"/>\n</g>\n<!-- x[1]&#45;&gt;h1 -->\n<g id=\"edge5\" class=\"edge\">\n<title>x[1]&#45;&gt;h1</title>\n<path fill=\"none\" stroke=\"#000000\" d=\"M51.3529,-147.2059C64.3017,-151.0905 82.2369,-156.4711 97.0466,-160.914\"/>\n<polygon fill=\"#000000\" stroke=\"#000000\" points=\"96.1164,-164.289 106.7004,-163.8101 98.1278,-157.5842 96.1164,-164.289\"/>\n</g>\n<!-- x[1]&#45;&gt;h2 -->\n<g id=\"edge6\" class=\"edge\">\n<title>x[1]&#45;&gt;h2</title>\n<path fill=\"none\" stroke=\"#000000\" d=\"M51.3529,-136.7941C64.3017,-132.9095 82.2369,-127.5289 97.0466,-123.086\"/>\n<polygon fill=\"#000000\" stroke=\"#000000\" points=\"98.1278,-126.4158 106.7004,-120.1899 96.1164,-119.711 98.1278,-126.4158\"/>\n</g>\n<!-- x[2] -->\n<g id=\"node3\" class=\"node\">\n<title>x[2]</title>\n<ellipse fill=\"none\" stroke=\"#000000\" cx=\"34\" cy=\"-88\" rx=\"18\" ry=\"18\"/>\n<text text-anchor=\"middle\" x=\"34\" y=\"-84.3\" font-family=\"Times,serif\" font-size=\"14.00\" fill=\"#000000\">x[2]</text>\n</g>\n<!-- x[2]&#45;&gt;h0 -->\n<g id=\"edge7\" class=\"edge\">\n<title>x[2]&#45;&gt;h0</title>\n<path fill=\"none\" stroke=\"#000000\" d=\"M51.3529,-82.7941C64.3017,-78.9095 82.2369,-73.5289 97.0466,-69.086\"/>\n<polygon fill=\"#000000\" stroke=\"#000000\" points=\"98.1278,-72.4158 106.7004,-66.1899 96.1164,-65.711 98.1278,-72.4158\"/>\n</g>\n<!-- x[2]&#45;&gt;h1 -->\n<g id=\"edge8\" class=\"edge\">\n<title>x[2]&#45;&gt;h1</title>\n<path fill=\"none\" stroke=\"#000000\" d=\"M47.6691,-100.3022C62.2907,-113.4616 85.6735,-134.5061 102.7099,-149.8389\"/>\n<polygon fill=\"#000000\" stroke=\"#000000\" points=\"100.7228,-152.7593 110.4972,-156.8475 105.4056,-147.5563 100.7228,-152.7593\"/>\n</g>\n<!-- x[2]&#45;&gt;h2 -->\n<g id=\"edge9\" class=\"edge\">\n<title>x[2]&#45;&gt;h2</title>\n<path fill=\"none\" stroke=\"#000000\" d=\"M51.3529,-93.2059C64.3017,-97.0905 82.2369,-102.4711 97.0466,-106.914\"/>\n<polygon fill=\"#000000\" stroke=\"#000000\" points=\"96.1164,-110.289 106.7004,-109.8101 98.1278,-103.5842 96.1164,-110.289\"/>\n</g>\n<!-- x[3] -->\n<g id=\"node4\" class=\"node\">\n<title>x[3]</title>\n<ellipse fill=\"none\" stroke=\"#000000\" cx=\"34\" cy=\"-34\" rx=\"18\" ry=\"18\"/>\n<text text-anchor=\"middle\" x=\"34\" y=\"-30.3\" font-family=\"Times,serif\" font-size=\"14.00\" fill=\"#000000\">x[3]</text>\n</g>\n<!-- x[3]&#45;&gt;h0 -->\n<g id=\"edge10\" class=\"edge\">\n<title>x[3]&#45;&gt;h0</title>\n<path fill=\"none\" stroke=\"#000000\" d=\"M51.3529,-39.2059C64.3017,-43.0905 82.2369,-48.4711 97.0466,-52.914\"/>\n<polygon fill=\"#000000\" stroke=\"#000000\" points=\"96.1164,-56.289 106.7004,-55.8101 98.1278,-49.5842 96.1164,-56.289\"/>\n</g>\n<!-- x[3]&#45;&gt;h1 -->\n<g id=\"edge11\" class=\"edge\">\n<title>x[3]&#45;&gt;h1</title>\n<path fill=\"none\" stroke=\"#000000\" d=\"M44.1492,-49.2238C59.7464,-72.6196 89.7362,-117.6042 108.1948,-145.2922\"/>\n<polygon fill=\"#000000\" stroke=\"#000000\" points=\"105.2906,-147.2457 113.7498,-153.6247 111.1149,-143.3627 105.2906,-147.2457\"/>\n</g>\n<!-- x[3]&#45;&gt;h2 -->\n<g id=\"edge12\" class=\"edge\">\n<title>x[3]&#45;&gt;h2</title>\n<path fill=\"none\" stroke=\"#000000\" d=\"M47.6691,-46.3022C62.2907,-59.4616 85.6735,-80.5061 102.7099,-95.8389\"/>\n<polygon fill=\"#000000\" stroke=\"#000000\" points=\"100.7228,-98.7593 110.4972,-102.8475 105.4056,-93.5563 100.7228,-98.7593\"/>\n</g>\n<!-- y -->\n<g id=\"node8\" class=\"node\">\n<title>y</title>\n<ellipse fill=\"none\" stroke=\"#000000\" cx=\"215\" cy=\"-115\" rx=\"18\" ry=\"18\"/>\n<text text-anchor=\"middle\" x=\"215\" y=\"-111.3\" font-family=\"Times,serif\" font-size=\"14.00\" fill=\"#000000\">y</text>\n</g>\n<!-- h0&#45;&gt;y -->\n<g id=\"edge13\" class=\"edge\">\n<title>h0&#45;&gt;y</title>\n<path fill=\"none\" stroke=\"#000000\" d=\"M139.851,-70.4061C153.8132,-78.6913 174.3728,-90.8916 190.4596,-100.4375\"/>\n<polygon fill=\"#000000\" stroke=\"#000000\" points=\"188.9447,-103.6084 199.3307,-105.7017 192.5169,-97.5885 188.9447,-103.6084\"/>\n</g>\n<!-- h1&#45;&gt;y -->\n<g id=\"edge14\" class=\"edge\">\n<title>h1&#45;&gt;y</title>\n<path fill=\"none\" stroke=\"#000000\" d=\"M139.851,-159.5939C153.8132,-151.3087 174.3728,-139.1084 190.4596,-129.5625\"/>\n<polygon fill=\"#000000\" stroke=\"#000000\" points=\"192.5169,-132.4115 199.3307,-124.2983 188.9447,-126.3916 192.5169,-132.4115\"/>\n</g>\n<!-- h2&#45;&gt;y -->\n<g id=\"edge15\" class=\"edge\">\n<title>h2&#45;&gt;y</title>\n<path fill=\"none\" stroke=\"#000000\" d=\"M142.4152,-115C155.0791,-115 172.1442,-115 186.5459,-115\"/>\n<polygon fill=\"#000000\" stroke=\"#000000\" points=\"186.9228,-118.5001 196.9227,-115 186.9227,-111.5001 186.9228,-118.5001\"/>\n</g>\n</g>\n</svg>\n"
          },
          "metadata": {},
          "execution_count": 30
        }
      ],
      "source": [
        "mglearn.plots.plot_single_hidden_layer_graph()"
      ]
    },
    {
      "cell_type": "markdown",
      "source": [
        "#### **Application des fonctions**"
      ],
      "metadata": {
        "id": "vpsyNjW1Hkpg"
      }
    },
    {
      "cell_type": "code",
      "source": [
        "import numpy as np, matplotlib.pyplot as plt"
      ],
      "metadata": {
        "id": "NGOUGatmFFiV"
      },
      "execution_count": 31,
      "outputs": []
    },
    {
      "cell_type": "code",
      "source": [
        "line = np.linspace(-3, 3, 100)\n",
        "plt.plot(line, np.tanh(line), label='tanh')\n",
        "plt.plot(line, np.maximum(line, 0), label='relu')\n",
        "plt.legend(loc='best')\n",
        "plt.xlabel('x')\n",
        "plt.ylabel('relu(x), tanh(x)')"
      ],
      "metadata": {
        "colab": {
          "base_uri": "https://localhost:8080/",
          "height": 296
        },
        "id": "pJqWX__AHrF-",
        "outputId": "9bcd5236-232d-4345-a392-fd0d594308fb"
      },
      "execution_count": 32,
      "outputs": [
        {
          "output_type": "execute_result",
          "data": {
            "text/plain": [
              "Text(0, 0.5, 'relu(x), tanh(x)')"
            ]
          },
          "metadata": {},
          "execution_count": 32
        },
        {
          "output_type": "display_data",
          "data": {
            "image/png": "[encoded data removed]",
            "text/plain": [
              "<Figure size 432x288 with 1 Axes>"
            ]
          },
          "metadata": {
            "needs_background": "light"
          }
        }
      ]
    },
    {
      "cell_type": "code",
      "source": [
        "line = np.linspace(-3, 3, 100)\n",
        "plt.plot(line, np.tanh(line), label='tanh')\n",
        "plt.plot(line, np.maximum(line, 1), label='relu') # maximum à partir de 1\n",
        "plt.legend(loc='best')\n",
        "plt.xlabel('x')\n",
        "plt.ylabel('relu(x), tanh(x)')"
      ],
      "metadata": {
        "colab": {
          "base_uri": "https://localhost:8080/",
          "height": 296
        },
        "id": "TNaLWwW0ICPK",
        "outputId": "b3c1f81d-e393-47a6-9225-227617b545d1"
      },
      "execution_count": 33,
      "outputs": [
        {
          "output_type": "execute_result",
          "data": {
            "text/plain": [
              "Text(0, 0.5, 'relu(x), tanh(x)')"
            ]
          },
          "metadata": {},
          "execution_count": 33
        },
        {
          "output_type": "display_data",
          "data": {
            "image/png": "[encoded data removed]",
            "text/plain": [
              "<Figure size 432x288 with 1 Axes>"
            ]
          },
          "metadata": {
            "needs_background": "light"
          }
        }
      ]
    },
    {
      "cell_type": "code",
      "source": [
        "np.maximum(line, 2)"
      ],
      "metadata": {
        "colab": {
          "base_uri": "https://localhost:8080/"
        },
        "id": "VbZJjKtgItFs",
        "outputId": "2fd7f4a2-dafb-43d2-b07c-fbf1092c420f"
      },
      "execution_count": 34,
      "outputs": [
        {
          "output_type": "execute_result",
          "data": {
            "text/plain": [
              "array([2.        , 2.        , 2.        , 2.        , 2.        ,\n",
              "       2.        , 2.        , 2.        , 2.        , 2.        ,\n",
              "       2.        , 2.        , 2.        , 2.        , 2.        ,\n",
              "       2.        , 2.        , 2.        , 2.        , 2.        ,\n",
              "       2.        , 2.        , 2.        , 2.        , 2.        ,\n",
              "       2.        , 2.        , 2.        , 2.        , 2.        ,\n",
              "       2.        , 2.        , 2.        , 2.        , 2.        ,\n",
              "       2.        , 2.        , 2.        , 2.        , 2.        ,\n",
              "       2.        , 2.        , 2.        , 2.        , 2.        ,\n",
              "       2.        , 2.        , 2.        , 2.        , 2.        ,\n",
              "       2.        , 2.        , 2.        , 2.        , 2.        ,\n",
              "       2.        , 2.        , 2.        , 2.        , 2.        ,\n",
              "       2.        , 2.        , 2.        , 2.        , 2.        ,\n",
              "       2.        , 2.        , 2.        , 2.        , 2.        ,\n",
              "       2.        , 2.        , 2.        , 2.        , 2.        ,\n",
              "       2.        , 2.        , 2.        , 2.        , 2.        ,\n",
              "       2.        , 2.        , 2.        , 2.03030303, 2.09090909,\n",
              "       2.15151515, 2.21212121, 2.27272727, 2.33333333, 2.39393939,\n",
              "       2.45454545, 2.51515152, 2.57575758, 2.63636364, 2.6969697 ,\n",
              "       2.75757576, 2.81818182, 2.87878788, 2.93939394, 3.        ])"
            ]
          },
          "metadata": {},
          "execution_count": 34
        }
      ]
    },
    {
      "cell_type": "markdown",
      "source": [
        "**Illustrate MLP model with two hidden layer**"
      ],
      "metadata": {
        "id": "_mWmUs5TM2_R"
      }
    },
    {
      "cell_type": "code",
      "source": [
        "mglearn.plots.plot_two_hidden_layer_graph()"
      ],
      "metadata": {
        "colab": {
          "base_uri": "https://localhost:8080/",
          "height": 369
        },
        "id": "IpHOt1UrIz7o",
        "outputId": "0a07b518-a50c-4004-fa59-20bfdf58e9a5"
      },
      "execution_count": 35,
      "outputs": [
        {
          "output_type": "execute_result",
          "data": {
            "text/plain": [
              "<graphviz.dot.Digraph at 0x7f1eb1b07b10>"
            ],
            "image/svg+xml": "<?xml version=\"1.0\" encoding=\"UTF-8\" standalone=\"no\"?>\n<!DOCTYPE svg PUBLIC \"-//W3C//DTD SVG 1.1//EN\"\n \"http://www.w3.org/Graphics/SVG/1.1/DTD/svg11.dtd\">\n<!-- Generated by graphviz version 2.40.1 (20161225.0304)\n -->\n<!-- Title: %3 Pages: 1 -->\n<svg width=\"387pt\" height=\"261pt\"\n viewBox=\"0.00 0.00 387.00 261.00\" xmlns=\"http://www.w3.org/2000/svg\" xmlns:xlink=\"http://www.w3.org/1999/xlink\">\n<g id=\"graph0\" class=\"graph\" transform=\"scale(1 1) rotate(0) translate(4 257)\">\n<title>%3</title>\n<polygon fill=\"#ffffff\" stroke=\"transparent\" points=\"-4,4 -4,-257 383,-257 383,4 -4,4\"/>\n<g id=\"clust1\" class=\"cluster\">\n<title>cluster_0</title>\n<polygon fill=\"none\" stroke=\"#ffffff\" points=\"8,-8 8,-245 60,-245 60,-8 8,-8\"/>\n<text text-anchor=\"middle\" x=\"34\" y=\"-229.8\" font-family=\"Times,serif\" font-size=\"14.00\" fill=\"#000000\">inputs</text>\n</g>\n<g id=\"clust2\" class=\"cluster\">\n<title>cluster_1</title>\n<polygon fill=\"none\" stroke=\"#ffffff\" points=\"80,-35 80,-218 179,-218 179,-35 80,-35\"/>\n<text text-anchor=\"middle\" x=\"129.5\" y=\"-202.8\" font-family=\"Times,serif\" font-size=\"14.00\" fill=\"#000000\">hidden layer 1</text>\n</g>\n<g id=\"clust3\" class=\"cluster\">\n<title>cluster_2</title>\n<polygon fill=\"none\" stroke=\"#ffffff\" points=\"199,-35 199,-218 298,-218 298,-35 199,-35\"/>\n<text text-anchor=\"middle\" x=\"248.5\" y=\"-202.8\" font-family=\"Times,serif\" font-size=\"14.00\" fill=\"#000000\">hidden layer 2</text>\n</g>\n<g id=\"clust4\" class=\"cluster\">\n<title>cluster_3</title>\n<polygon fill=\"none\" stroke=\"#ffffff\" points=\"318,-89 318,-164 372,-164 372,-89 318,-89\"/>\n<text text-anchor=\"middle\" x=\"345\" y=\"-148.8\" font-family=\"Times,serif\" font-size=\"14.00\" fill=\"#000000\">output</text>\n</g>\n<!-- x[0] -->\n<g id=\"node1\" class=\"node\">\n<title>x[0]</title>\n<ellipse fill=\"none\" stroke=\"#000000\" cx=\"34\" cy=\"-196\" rx=\"18\" ry=\"18\"/>\n<text text-anchor=\"middle\" x=\"34\" y=\"-192.3\" font-family=\"Times,serif\" font-size=\"14.00\" fill=\"#000000\">x[0]</text>\n</g>\n<!-- h1[0] -->\n<g id=\"node5\" class=\"node\">\n<title>h1[0]</title>\n<ellipse fill=\"none\" stroke=\"#000000\" cx=\"129\" cy=\"-61\" rx=\"18\" ry=\"18\"/>\n<text text-anchor=\"middle\" x=\"129\" y=\"-57.3\" font-family=\"Times,serif\" font-size=\"14.00\" fill=\"#000000\">h1[0]</text>\n</g>\n<!-- x[0]&#45;&gt;h1[0] -->\n<g id=\"edge1\" class=\"edge\">\n<title>x[0]&#45;&gt;h1[0]</title>\n<path fill=\"none\" stroke=\"#000000\" d=\"M44.5296,-181.0368C61.0073,-157.6212 93.0186,-112.1314 112.5543,-84.3702\"/>\n<polygon fill=\"#000000\" stroke=\"#000000\" points=\"115.5306,-86.2225 118.4232,-76.0302 109.8059,-82.194 115.5306,-86.2225\"/>\n</g>\n<!-- h1[1] -->\n<g id=\"node6\" class=\"node\">\n<title>h1[1]</title>\n<ellipse fill=\"none\" stroke=\"#000000\" cx=\"129\" cy=\"-169\" rx=\"18\" ry=\"18\"/>\n<text text-anchor=\"middle\" x=\"129\" y=\"-165.3\" font-family=\"Times,serif\" font-size=\"14.00\" fill=\"#000000\">h1[1]</text>\n</g>\n<!-- x[0]&#45;&gt;h1[1] -->\n<g id=\"edge2\" class=\"edge\">\n<title>x[0]&#45;&gt;h1[1]</title>\n<path fill=\"none\" stroke=\"#000000\" d=\"M51.4245,-191.0478C65.3976,-187.0765 85.2695,-181.4287 101.4023,-176.8436\"/>\n<polygon fill=\"#000000\" stroke=\"#000000\" points=\"102.7021,-180.1128 111.3643,-174.0123 100.7884,-173.3795 102.7021,-180.1128\"/>\n</g>\n<!-- h1[2] -->\n<g id=\"node7\" class=\"node\">\n<title>h1[2]</title>\n<ellipse fill=\"none\" stroke=\"#000000\" cx=\"129\" cy=\"-115\" rx=\"18\" ry=\"18\"/>\n<text text-anchor=\"middle\" x=\"129\" y=\"-111.3\" font-family=\"Times,serif\" font-size=\"14.00\" fill=\"#000000\">h1[2]</text>\n</g>\n<!-- x[0]&#45;&gt;h1[2] -->\n<g id=\"edge3\" class=\"edge\">\n<title>x[0]&#45;&gt;h1[2]</title>\n<path fill=\"none\" stroke=\"#000000\" d=\"M48.0176,-184.0482C63.6829,-170.6914 89.2339,-148.9059 107.4449,-133.3785\"/>\n<polygon fill=\"#000000\" stroke=\"#000000\" points=\"109.8951,-135.889 115.2338,-126.7375 105.3534,-130.5623 109.8951,-135.889\"/>\n</g>\n<!-- x[1] -->\n<g id=\"node2\" class=\"node\">\n<title>x[1]</title>\n<ellipse fill=\"none\" stroke=\"#000000\" cx=\"34\" cy=\"-142\" rx=\"18\" ry=\"18\"/>\n<text text-anchor=\"middle\" x=\"34\" y=\"-138.3\" font-family=\"Times,serif\" font-size=\"14.00\" fill=\"#000000\">x[1]</text>\n</g>\n<!-- x[1]&#45;&gt;h1[0] -->\n<g id=\"edge4\" class=\"edge\">\n<title>x[1]&#45;&gt;h1[0]</title>\n<path fill=\"none\" stroke=\"#000000\" d=\"M48.0176,-130.0482C63.6829,-116.6914 89.2339,-94.9059 107.4449,-79.3785\"/>\n<polygon fill=\"#000000\" stroke=\"#000000\" points=\"109.8951,-81.889 115.2338,-72.7375 105.3534,-76.5623 109.8951,-81.889\"/>\n</g>\n<!-- x[1]&#45;&gt;h1[1] -->\n<g id=\"edge5\" class=\"edge\">\n<title>x[1]&#45;&gt;h1[1]</title>\n<path fill=\"none\" stroke=\"#000000\" d=\"M51.4245,-146.9522C65.3976,-150.9235 85.2695,-156.5713 101.4023,-161.1564\"/>\n<polygon fill=\"#000000\" stroke=\"#000000\" points=\"100.7884,-164.6205 111.3643,-163.9877 102.7021,-157.8872 100.7884,-164.6205\"/>\n</g>\n<!-- x[1]&#45;&gt;h1[2] -->\n<g id=\"edge6\" class=\"edge\">\n<title>x[1]&#45;&gt;h1[2]</title>\n<path fill=\"none\" stroke=\"#000000\" d=\"M51.4245,-137.0478C65.3976,-133.0765 85.2695,-127.4287 101.4023,-122.8436\"/>\n<polygon fill=\"#000000\" stroke=\"#000000\" points=\"102.7021,-126.1128 111.3643,-120.0123 100.7884,-119.3795 102.7021,-126.1128\"/>\n</g>\n<!-- x[2] -->\n<g id=\"node3\" class=\"node\">\n<title>x[2]</title>\n<ellipse fill=\"none\" stroke=\"#000000\" cx=\"34\" cy=\"-88\" rx=\"18\" ry=\"18\"/>\n<text text-anchor=\"middle\" x=\"34\" y=\"-84.3\" font-family=\"Times,serif\" font-size=\"14.00\" fill=\"#000000\">x[2]</text>\n</g>\n<!-- x[2]&#45;&gt;h1[0] -->\n<g id=\"edge7\" class=\"edge\">\n<title>x[2]&#45;&gt;h1[0]</title>\n<path fill=\"none\" stroke=\"#000000\" d=\"M51.4245,-83.0478C65.3976,-79.0765 85.2695,-73.4287 101.4023,-68.8436\"/>\n<polygon fill=\"#000000\" stroke=\"#000000\" points=\"102.7021,-72.1128 111.3643,-66.0123 100.7884,-65.3795 102.7021,-72.1128\"/>\n</g>\n<!-- x[2]&#45;&gt;h1[1] -->\n<g id=\"edge8\" class=\"edge\">\n<title>x[2]&#45;&gt;h1[1]</title>\n<path fill=\"none\" stroke=\"#000000\" d=\"M48.0176,-99.9518C63.6829,-113.3086 89.2339,-135.0941 107.4449,-150.6215\"/>\n<polygon fill=\"#000000\" stroke=\"#000000\" points=\"105.3534,-153.4377 115.2338,-157.2625 109.8951,-148.111 105.3534,-153.4377\"/>\n</g>\n<!-- x[2]&#45;&gt;h1[2] -->\n<g id=\"edge9\" class=\"edge\">\n<title>x[2]&#45;&gt;h1[2]</title>\n<path fill=\"none\" stroke=\"#000000\" d=\"M51.4245,-92.9522C65.3976,-96.9235 85.2695,-102.5713 101.4023,-107.1564\"/>\n<polygon fill=\"#000000\" stroke=\"#000000\" points=\"100.7884,-110.6205 111.3643,-109.9877 102.7021,-103.8872 100.7884,-110.6205\"/>\n</g>\n<!-- x[3] -->\n<g id=\"node4\" class=\"node\">\n<title>x[3]</title>\n<ellipse fill=\"none\" stroke=\"#000000\" cx=\"34\" cy=\"-34\" rx=\"18\" ry=\"18\"/>\n<text text-anchor=\"middle\" x=\"34\" y=\"-30.3\" font-family=\"Times,serif\" font-size=\"14.00\" fill=\"#000000\">x[3]</text>\n</g>\n<!-- x[3]&#45;&gt;h1[0] -->\n<g id=\"edge10\" class=\"edge\">\n<title>x[3]&#45;&gt;h1[0]</title>\n<path fill=\"none\" stroke=\"#000000\" d=\"M51.4245,-38.9522C65.3976,-42.9235 85.2695,-48.5713 101.4023,-53.1564\"/>\n<polygon fill=\"#000000\" stroke=\"#000000\" points=\"100.7884,-56.6205 111.3643,-55.9877 102.7021,-49.8872 100.7884,-56.6205\"/>\n</g>\n<!-- x[3]&#45;&gt;h1[1] -->\n<g id=\"edge11\" class=\"edge\">\n<title>x[3]&#45;&gt;h1[1]</title>\n<path fill=\"none\" stroke=\"#000000\" d=\"M44.5296,-48.9632C61.0073,-72.3788 93.0186,-117.8686 112.5543,-145.6298\"/>\n<polygon fill=\"#000000\" stroke=\"#000000\" points=\"109.8059,-147.806 118.4232,-153.9698 115.5306,-143.7775 109.8059,-147.806\"/>\n</g>\n<!-- x[3]&#45;&gt;h1[2] -->\n<g id=\"edge12\" class=\"edge\">\n<title>x[3]&#45;&gt;h1[2]</title>\n<path fill=\"none\" stroke=\"#000000\" d=\"M48.0176,-45.9518C63.6829,-59.3086 89.2339,-81.0941 107.4449,-96.6215\"/>\n<polygon fill=\"#000000\" stroke=\"#000000\" points=\"105.3534,-99.4377 115.2338,-103.2625 109.8951,-94.111 105.3534,-99.4377\"/>\n</g>\n<!-- h2[0] -->\n<g id=\"node8\" class=\"node\">\n<title>h2[0]</title>\n<ellipse fill=\"none\" stroke=\"#000000\" cx=\"248\" cy=\"-61\" rx=\"18\" ry=\"18\"/>\n<text text-anchor=\"middle\" x=\"248\" y=\"-57.3\" font-family=\"Times,serif\" font-size=\"14.00\" fill=\"#000000\">h2[0]</text>\n</g>\n<!-- h1[0]&#45;&gt;h2[0] -->\n<g id=\"edge13\" class=\"edge\">\n<title>h1[0]&#45;&gt;h2[0]</title>\n<path fill=\"none\" stroke=\"#000000\" d=\"M147.0735,-61C166.2949,-61 196.9668,-61 219.4583,-61\"/>\n<polygon fill=\"#000000\" stroke=\"#000000\" points=\"219.7564,-64.5001 229.7564,-61 219.7563,-57.5001 219.7564,-64.5001\"/>\n</g>\n<!-- h2[1] -->\n<g id=\"node9\" class=\"node\">\n<title>h2[1]</title>\n<ellipse fill=\"none\" stroke=\"#000000\" cx=\"248\" cy=\"-169\" rx=\"18\" ry=\"18\"/>\n<text text-anchor=\"middle\" x=\"248\" y=\"-165.3\" font-family=\"Times,serif\" font-size=\"14.00\" fill=\"#000000\">h2[1]</text>\n</g>\n<!-- h1[0]&#45;&gt;h2[1] -->\n<g id=\"edge14\" class=\"edge\">\n<title>h1[0]&#45;&gt;h2[1]</title>\n<path fill=\"none\" stroke=\"#000000\" d=\"M142.6508,-73.389C163.2742,-92.106 202.5443,-127.7461 226.8774,-149.8299\"/>\n<polygon fill=\"#000000\" stroke=\"#000000\" points=\"224.7511,-152.6267 234.5084,-156.7555 229.4555,-147.4432 224.7511,-152.6267\"/>\n</g>\n<!-- h2[2] -->\n<g id=\"node10\" class=\"node\">\n<title>h2[2]</title>\n<ellipse fill=\"none\" stroke=\"#000000\" cx=\"248\" cy=\"-115\" rx=\"18\" ry=\"18\"/>\n<text text-anchor=\"middle\" x=\"248\" y=\"-111.3\" font-family=\"Times,serif\" font-size=\"14.00\" fill=\"#000000\">h2[2]</text>\n</g>\n<!-- h1[0]&#45;&gt;h2[2] -->\n<g id=\"edge15\" class=\"edge\">\n<title>h1[0]&#45;&gt;h2[2]</title>\n<path fill=\"none\" stroke=\"#000000\" d=\"M145.5464,-68.5085C165.4398,-77.5357 199.05,-92.7874 222.323,-103.3482\"/>\n<polygon fill=\"#000000\" stroke=\"#000000\" points=\"221.0415,-106.6102 231.5941,-107.5553 223.9341,-100.2358 221.0415,-106.6102\"/>\n</g>\n<!-- h1[1]&#45;&gt;h2[0] -->\n<g id=\"edge16\" class=\"edge\">\n<title>h1[1]&#45;&gt;h2[0]</title>\n<path fill=\"none\" stroke=\"#000000\" d=\"M142.6508,-156.611C163.2742,-137.894 202.5443,-102.2539 226.8774,-80.1701\"/>\n<polygon fill=\"#000000\" stroke=\"#000000\" points=\"229.4555,-82.5568 234.5084,-73.2445 224.7511,-77.3733 229.4555,-82.5568\"/>\n</g>\n<!-- h1[1]&#45;&gt;h2[1] -->\n<g id=\"edge17\" class=\"edge\">\n<title>h1[1]&#45;&gt;h2[1]</title>\n<path fill=\"none\" stroke=\"#000000\" d=\"M147.0735,-169C166.2949,-169 196.9668,-169 219.4583,-169\"/>\n<polygon fill=\"#000000\" stroke=\"#000000\" points=\"219.7564,-172.5001 229.7564,-169 219.7563,-165.5001 219.7564,-172.5001\"/>\n</g>\n<!-- h1[1]&#45;&gt;h2[2] -->\n<g id=\"edge18\" class=\"edge\">\n<title>h1[1]&#45;&gt;h2[2]</title>\n<path fill=\"none\" stroke=\"#000000\" d=\"M145.5464,-161.4915C165.4398,-152.4643 199.05,-137.2126 222.323,-126.6518\"/>\n<polygon fill=\"#000000\" stroke=\"#000000\" points=\"223.9341,-129.7642 231.5941,-122.4447 221.0415,-123.3898 223.9341,-129.7642\"/>\n</g>\n<!-- h1[2]&#45;&gt;h2[0] -->\n<g id=\"edge19\" class=\"edge\">\n<title>h1[2]&#45;&gt;h2[0]</title>\n<path fill=\"none\" stroke=\"#000000\" d=\"M145.5464,-107.4915C165.4398,-98.4643 199.05,-83.2126 222.323,-72.6518\"/>\n<polygon fill=\"#000000\" stroke=\"#000000\" points=\"223.9341,-75.7642 231.5941,-68.4447 221.0415,-69.3898 223.9341,-75.7642\"/>\n</g>\n<!-- h1[2]&#45;&gt;h2[1] -->\n<g id=\"edge20\" class=\"edge\">\n<title>h1[2]&#45;&gt;h2[1]</title>\n<path fill=\"none\" stroke=\"#000000\" d=\"M145.5464,-122.5085C165.4398,-131.5357 199.05,-146.7874 222.323,-157.3482\"/>\n<polygon fill=\"#000000\" stroke=\"#000000\" points=\"221.0415,-160.6102 231.5941,-161.5553 223.9341,-154.2358 221.0415,-160.6102\"/>\n</g>\n<!-- h1[2]&#45;&gt;h2[2] -->\n<g id=\"edge21\" class=\"edge\">\n<title>h1[2]&#45;&gt;h2[2]</title>\n<path fill=\"none\" stroke=\"#000000\" d=\"M147.0735,-115C166.2949,-115 196.9668,-115 219.4583,-115\"/>\n<polygon fill=\"#000000\" stroke=\"#000000\" points=\"219.7564,-118.5001 229.7564,-115 219.7563,-111.5001 219.7564,-118.5001\"/>\n</g>\n<!-- y -->\n<g id=\"node11\" class=\"node\">\n<title>y</title>\n<ellipse fill=\"none\" stroke=\"#000000\" cx=\"345\" cy=\"-115\" rx=\"18\" ry=\"18\"/>\n<text text-anchor=\"middle\" x=\"345\" y=\"-111.3\" font-family=\"Times,serif\" font-size=\"14.00\" fill=\"#000000\">y</text>\n</g>\n<!-- h2[0]&#45;&gt;y -->\n<g id=\"edge22\" class=\"edge\">\n<title>h2[0]&#45;&gt;y</title>\n<path fill=\"none\" stroke=\"#000000\" d=\"M264.0176,-69.917C279.1819,-78.359 302.1871,-91.166 319.8075,-100.9753\"/>\n<polygon fill=\"#000000\" stroke=\"#000000\" points=\"318.5189,-104.2637 328.9586,-106.0698 321.9237,-98.1476 318.5189,-104.2637\"/>\n</g>\n<!-- h2[1]&#45;&gt;y -->\n<g id=\"edge23\" class=\"edge\">\n<title>h2[1]&#45;&gt;y</title>\n<path fill=\"none\" stroke=\"#000000\" d=\"M264.0176,-160.083C279.1819,-151.641 302.1871,-138.834 319.8075,-129.0247\"/>\n<polygon fill=\"#000000\" stroke=\"#000000\" points=\"321.9237,-131.8524 328.9586,-123.9302 318.5189,-125.7363 321.9237,-131.8524\"/>\n</g>\n<!-- h2[2]&#45;&gt;y -->\n<g id=\"edge24\" class=\"edge\">\n<title>h2[2]&#45;&gt;y</title>\n<path fill=\"none\" stroke=\"#000000\" d=\"M266.245,-115C280.4709,-115 300.479,-115 316.7679,-115\"/>\n<polygon fill=\"#000000\" stroke=\"#000000\" points=\"316.8369,-118.5001 326.8369,-115 316.8368,-111.5001 316.8369,-118.5001\"/>\n</g>\n</g>\n</svg>\n"
          },
          "metadata": {},
          "execution_count": 35
        }
      ]
    },
    {
      "cell_type": "markdown",
      "source": [
        "## **Model**"
      ],
      "metadata": {
        "id": "c33e0GsjPXxl"
      }
    },
    {
      "cell_type": "code",
      "source": [
        "from sklearn.neural_network import MLPClassifier\n",
        "from sklearn.datasets import make_moons"
      ],
      "metadata": {
        "id": "hMwpCFc8NBlk"
      },
      "execution_count": 36,
      "outputs": []
    },
    {
      "cell_type": "code",
      "source": [
        "X, y = make_moons(n_samples=100, noise=0.25, random_state=3)"
      ],
      "metadata": {
        "id": "bmV22nxzPlP6"
      },
      "execution_count": 37,
      "outputs": []
    },
    {
      "cell_type": "markdown",
      "source": [
        "**Split data**"
      ],
      "metadata": {
        "id": "W_7_xXSYP6KE"
      }
    },
    {
      "cell_type": "code",
      "source": [
        "from sklearn.model_selection import train_test_split"
      ],
      "metadata": {
        "id": "Pjf-0NGrP3rD"
      },
      "execution_count": 38,
      "outputs": []
    },
    {
      "cell_type": "code",
      "source": [
        "X_train, X_test, y_train, y_test = train_test_split(X, y, stratify=y, random_state=42)"
      ],
      "metadata": {
        "id": "VKtDKDM8QBJb"
      },
      "execution_count": 39,
      "outputs": []
    },
    {
      "cell_type": "markdown",
      "source": [
        "**Instance the model**"
      ],
      "metadata": {
        "id": "bFlrIemiQLY1"
      }
    },
    {
      "cell_type": "code",
      "source": [
        "mlp = MLPClassifier(solver='lbfgs', random_state=0)\n",
        "mlp.fit(X_train, y_train)"
      ],
      "metadata": {
        "colab": {
          "base_uri": "https://localhost:8080/"
        },
        "id": "HASw0uTUQHue",
        "outputId": "db19cc20-7444-45a5-f296-6065fbfe7e27"
      },
      "execution_count": 40,
      "outputs": [
        {
          "output_type": "execute_result",
          "data": {
            "text/plain": [
              "MLPClassifier(random_state=0, solver='lbfgs')"
            ]
          },
          "metadata": {},
          "execution_count": 40
        }
      ]
    },
    {
      "cell_type": "markdown",
      "source": [
        "**Visualize the decision boundary**"
      ],
      "metadata": {
        "id": "Q2UEVAgIQf9S"
      }
    },
    {
      "cell_type": "code",
      "source": [
        "mglearn.plots.plot_2d_separator(mlp, X_train, fill=True, alpha=.3)\n",
        "mglearn.discrete_scatter(X_train[:, 0], X_train[:, 1], y_train)\n",
        "plt.xlabel('Feature 0')\n",
        "plt.ylabel('Feature 1')"
      ],
      "metadata": {
        "colab": {
          "base_uri": "https://localhost:8080/",
          "height": 279
        },
        "id": "fAKuBtbqQaUS",
        "outputId": "525f90bb-b331-4812-f61f-0921a8e077f0"
      },
      "execution_count": 41,
      "outputs": [
        {
          "output_type": "execute_result",
          "data": {
            "text/plain": [
              "Text(0, 0.5, 'Feature 1')"
            ]
          },
          "metadata": {},
          "execution_count": 41
        },
        {
          "output_type": "display_data",
          "data": {
            "image/png": "[encoded data removed]",
            "text/plain": [
              "<Figure size 432x288 with 1 Axes>"
            ]
          },
          "metadata": {}
        }
      ]
    },
    {
      "cell_type": "code",
      "source": [
        ""
      ],
      "metadata": {
        "id": "eNSAZGzYQ0KV"
      },
      "execution_count": 41,
      "outputs": []
    }
  ],
  "metadata": {
    "kernelspec": {
      "display_name": "Python 3",
      "language": "python",
      "name": "python3"
    },
    "language_info": {
      "codemirror_mode": {
        "name": "ipython",
        "version": 3
      },
      "file_extension": ".py",
      "mimetype": "text/x-python",
      "name": "python",
      "nbconvert_exporter": "python",
      "pygments_lexer": "ipython3",
      "version": "3.8.10"
    },
    "colab": {
      "name": "mlp.ipynb",
      "provenance": [],
      "include_colab_link": true
    }
  },
  "nbformat": 4,
  "nbformat_minor": 0
}